{
  "nbformat": 4,
  "nbformat_minor": 0,
  "metadata": {
    "colab": {
      "provenance": [],
      "toc_visible": true,
      "authorship_tag": "ABX9TyOnlsOugUdpwCkdPbg7PG0E",
      "include_colab_link": true
    },
    "kernelspec": {
      "name": "python3",
      "display_name": "Python 3"
    },
    "language_info": {
      "name": "python"
    }
  },
  "cells": [
    {
      "cell_type": "markdown",
      "metadata": {
        "id": "view-in-github",
        "colab_type": "text"
      },
      "source": [
        "<a href=\"https://colab.research.google.com/github/Udinkosd/Data-Mining-2024/blob/main/Business_Understanding_A2_Abdul.ipynb\" target=\"_parent\"><img src=\"https://colab.research.google.com/assets/colab-badge.svg\" alt=\"Open In Colab\"/></a>"
      ]
    },
    {
      "cell_type": "markdown",
      "source": [
        "# Prediksi Gaji Mahasiswa"
      ],
      "metadata": {
        "id": "kWmpEG1iR7Pf"
      }
    },
    {
      "cell_type": "markdown",
      "source": [
        "## Business Understanding"
      ],
      "metadata": {
        "id": "Qwkz7a8ZSegr"
      }
    },
    {
      "cell_type": "markdown",
      "source": [
        "### Business Objective\n",
        "Tujuan bisnis dari analisis dataset ini adalah untuk memperoleh wawasan tentang faktor-faktor yang memengaruhi gaji karyawan dalam perusahaan. Dengan memeriksa hubungan antara berbagai atribut seperti usia, jenis kelamin, tingkat pendidikan, jabatan pekerjaan, dan tahun pengalaman dengan gaji, perusahaan bertujuan untuk membuat keputusan yang berbasis informasi mengenai strategi kompensasi, akuisisi bakat, dan retensi karyawan.\n",
        "\n",
        "### Assess Situation\n",
        "Perusahaan perlu memahami faktor-faktor yang berkontribusi terhadap gaji karyawan untuk memastikan praktik kompensasi yang adil, mengidentifikasi area yang perlu ditingkatkan dalam struktur gaji, dan mengatasi potensi disparitas atau bias yang mungkin ada dalam organisasi.\n",
        "\n",
        "### Data Mining Goals\n",
        "1. Mengidentifikasi faktor-faktor kunci yang memengaruhi gaji karyawan.\n",
        "2. Menjelajahi hubungan antara berbagai atribut seperti usia, jenis kelamin, tingkat pendidikan, jabatan pekerjaan, dan tahun pengalaman dengan gaji.\n",
        "3. Mendeteksi pola atau tren dalam distribusi gaji di dalam perusahaan.\n",
        "4. Mengembangkan model prediktif untuk memperkirakan rentang gaji berdasarkan karakteristik karyawan.\n",
        "\n",
        "\n",
        "### Project Plan\n",
        "1. Pengumpulan Data: Mengumpulkan dataset yang berisi informasi tentang gaji karyawan, termasuk usia, jenis kelamin, tingkat pendidikan, jabatan pekerjaan, tahun pengalaman, dan gaji.\n",
        "2. Pra-Pemrosesan Data: Membersihkan data dengan menangani nilai yang hilang, mengkodekan variabel kategorikal, dan menstandarisasi fitur numerik jika diperlukan.\n",
        "3. Analisis Data Eksploratif (EDA): Melakukan analisis eksploratif untuk memahami distribusi variabel, mengidentifikasi pencilan, dan memvisualisasikan hubungan antara berbagai atribut dengan gaji.\n",
        "4. Rekayasa Fitur: Membuat fitur baru atau mentransformasi yang ada untuk meningkatkan kekuatan prediktif model.\n",
        "5. Pengembangan Model: Membangun model prediktif seperti regresi linear, pohon keputusan, atau hutan acak untuk memprediksi gaji karyawan berdasarkan berbagai atribut.\n",
        "6. Evaluasi Model: Mengevaluasi kinerja model menggunakan metrik yang sesuai dan menyetelnya untuk meningkatkan akurasi dan generalisasi.\n",
        "7. Interpretasi dan Wawasan: Menginterpretasikan hasil untuk mendapatkan wawasan yang dapat diambil tentang faktor-faktor yang memengaruhi gaji karyawan dan menyampaikan temuan kepada pemangku kepentingan yang relevan untuk tujuan pengambilan keputusan."
      ],
      "metadata": {
        "id": "t9jh3dOhSmCT"
      }
    }
  ]
}