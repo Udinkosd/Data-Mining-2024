{
  "nbformat": 4,
  "nbformat_minor": 0,
  "metadata": {
    "colab": {
      "provenance": [],
      "collapsed_sections": [
        "Qwkz7a8ZSegr",
        "ip3RJHJ47r0G",
        "q3Up51pm796L",
        "sJmdqDAf0B-5",
        "q5hGWQv32-7e",
        "RHI4J21Z4CER",
        "VNMz6JBO4YC_",
        "-N1z5Cu_4bNy",
        "uis-vBRvIv_9",
        "gLjlDulknsMk"
      ],
      "mount_file_id": "1tBLqGpc5Ys8XD8UFAXW5mK1ghalohMsK",
      "authorship_tag": "ABX9TyPLf6tO15Pi06cGQx3r070E",
      "include_colab_link": true
    },
    "kernelspec": {
      "name": "python3",
      "display_name": "Python 3"
    },
    "language_info": {
      "name": "python"
    }
  },
  "cells": [
    {
      "cell_type": "markdown",
      "metadata": {
        "id": "view-in-github",
        "colab_type": "text"
      },
      "source": [
        "<a href=\"https://colab.research.google.com/github/Udinkosd/Data-Mining-2024/blob/main/Salary_Data_Final.ipynb\" target=\"_parent\"><img src=\"https://colab.research.google.com/assets/colab-badge.svg\" alt=\"Open In Colab\"/></a>"
      ]
    },
    {
      "cell_type": "markdown",
      "source": [
        "# Prediksi Gaji Mahasiswa"
      ],
      "metadata": {
        "id": "kWmpEG1iR7Pf"
      }
    },
    {
      "cell_type": "markdown",
      "source": [
        "#**IMPORT LIBRARY**"
      ],
      "metadata": {
        "id": "f7qy__gcADoU"
      }
    },
    {
      "cell_type": "code",
      "source": [
        "import pandas as pd\n",
        "import matplotlib.pyplot as plt\n",
        "import numpy as np\n",
        "import matplotlib.ticker as mtick\n",
        "import matplotlib.gridspec as gridspec\n",
        "import plotly.express as px\n",
        "import seaborn as sns\n",
        "\n",
        "from sklearn.preprocessing import StandardScaler\n",
        "from tabulate import tabulate\n",
        "from sklearn.model_selection import train_test_split\n",
        "from sklearn.preprocessing import MinMaxScaler\n",
        "from sklearn.cluster import KMeans\n",
        "from sklearn.cluster import AgglomerativeClustering\n",
        "from scipy.cluster import hierarchy\n",
        "from sklearn.impute import SimpleImputer\n",
        "from sklearn.cluster import KMeans, AgglomerativeClustering\n",
        "from sklearn.model_selection import KFold"
      ],
      "metadata": {
        "id": "5879BOiqAGDt"
      },
      "execution_count": 81,
      "outputs": []
    },
    {
      "cell_type": "markdown",
      "source": [
        "#**BUSINESS UNDERSTANDING**"
      ],
      "metadata": {
        "id": "Qwkz7a8ZSegr"
      }
    },
    {
      "cell_type": "markdown",
      "source": [
        "##**Business Objective**"
      ],
      "metadata": {
        "id": "48Y69K1H7OpS"
      }
    },
    {
      "cell_type": "markdown",
      "source": [
        "Tujuan bisnis dari analisis dataset ini adalah untuk memperoleh wawasan tentang faktor-faktor yang memengaruhi gaji karyawan dalam perusahaan. Dengan memeriksa hubungan antara berbagai atribut seperti usia, jenis kelamin, tingkat pendidikan, jabatan pekerjaan, dan tahun pengalaman dengan gaji, perusahaan bertujuan untuk membuat keputusan yang berbasis informasi mengenai strategi kompensasi, akuisisi bakat, dan retensi karyawan."
      ],
      "metadata": {
        "id": "t9jh3dOhSmCT"
      }
    },
    {
      "cell_type": "markdown",
      "source": [
        "##**Assess Situation**"
      ],
      "metadata": {
        "id": "UZo_NZJJ7fTs"
      }
    },
    {
      "cell_type": "markdown",
      "source": [
        "Perusahaan perlu memahami faktor-faktor yang berkontribusi terhadap gaji karyawan untuk memastikan praktik kompensasi yang adil, mengidentifikasi area yang perlu ditingkatkan dalam struktur gaji, dan mengatasi potensi disparitas atau bias yang mungkin ada dalam organisasi."
      ],
      "metadata": {
        "id": "rALAMQbY7hnV"
      }
    },
    {
      "cell_type": "markdown",
      "source": [
        "##**Data Mining Goals**"
      ],
      "metadata": {
        "id": "Pkt54CSp7mMx"
      }
    },
    {
      "cell_type": "markdown",
      "source": [
        "1. Mengidentifikasi faktor-faktor kunci yang memengaruhi gaji karyawan.\n",
        "2. Menjelajahi hubungan antara berbagai atribut seperti usia, jenis kelamin, tingkat pendidikan, jabatan pekerjaan, dan tahun pengalaman dengan gaji.\n",
        "3. Mendeteksi pola atau tren dalam distribusi gaji di dalam perusahaan.\n",
        "4. Mengembangkan model prediktif untuk memperkirakan rentang gaji berdasarkan karakteristik karyawan."
      ],
      "metadata": {
        "id": "5etpYdBB7or_"
      }
    },
    {
      "cell_type": "markdown",
      "source": [
        "##**Project Plan**"
      ],
      "metadata": {
        "id": "ip3RJHJ47r0G"
      }
    },
    {
      "cell_type": "markdown",
      "source": [
        "1. Pengumpulan Data: Mengumpulkan dataset yang berisi informasi tentang gaji karyawan, termasuk usia, jenis kelamin, tingkat pendidikan, jabatan pekerjaan, tahun pengalaman, dan gaji.\n",
        "2. Pra-Pemrosesan Data: Membersihkan data dengan menangani nilai yang hilang, mengkodekan variabel kategorikal, dan menstandarisasi fitur numerik jika diperlukan.\n",
        "3. Analisis Data Eksploratif (EDA): Melakukan analisis eksploratif untuk memahami distribusi variabel, mengidentifikasi pencilan, dan memvisualisasikan hubungan antara berbagai atribut dengan gaji.\n",
        "4. Interpretasi dan Wawasan: Menginterpretasikan hasil untuk mendapatkan wawasan yang dapat diambil tentang faktor-faktor yang memengaruhi gaji karyawan dan menyampaikan temuan kepada pemangku kepentingan yang relevan untuk tujuan pengambilan keputusan."
      ],
      "metadata": {
        "id": "OkIpR8N77wwQ"
      }
    },
    {
      "cell_type": "markdown",
      "source": [
        "#**DATA UNDERSTANDING**"
      ],
      "metadata": {
        "id": "R_Zdrs6o74F_"
      }
    },
    {
      "cell_type": "markdown",
      "source": [
        "##**Collect Initial Data**"
      ],
      "metadata": {
        "id": "iS7ovZo377Nc"
      }
    },
    {
      "cell_type": "code",
      "source": [
        "url = 'https://raw.githubusercontent.com/Udinkosd/Data-Mining-2024/main/Salary%20Dataset.csv'\n",
        "df = pd.read_csv(url)"
      ],
      "metadata": {
        "id": "RRbHZ8bi9Bwx"
      },
      "execution_count": 82,
      "outputs": []
    },
    {
      "cell_type": "markdown",
      "source": [
        "Sumber data ini merupakan platform Kaggle, dapat diakses melalui tautan berikut: https://www.kaggle.com/datasets/rkiattisak/salaly-prediction-for-beginer/data"
      ],
      "metadata": {
        "id": "89aOSgDrCAkj"
      }
    },
    {
      "cell_type": "markdown",
      "source": [
        "##**Describe Data**"
      ],
      "metadata": {
        "id": "q3Up51pm796L"
      }
    },
    {
      "cell_type": "markdown",
      "source": [
        "####Informasi Dasar"
      ],
      "metadata": {
        "id": "G0qaD4xJ7_k2"
      }
    },
    {
      "cell_type": "code",
      "source": [
        "print(\"Pratinjau kumpulan data:\")\n",
        "print(tabulate(df.head(), headers='keys', tablefmt='pretty'))\n",
        "\n",
        "row_count, column_count = df.shape\n",
        "print(\"Number of rows:\", row_count)\n",
        "print(\"Number of columns:\", column_count)"
      ],
      "metadata": {
        "colab": {
          "base_uri": "https://localhost:8080/"
        },
        "id": "daJjKLSEAfi_",
        "outputId": "f1b18599-a792-40f1-9960-1ad9d36c1302"
      },
      "execution_count": 83,
      "outputs": [
        {
          "output_type": "stream",
          "name": "stdout",
          "text": [
            "Pratinjau kumpulan data:\n",
            "+---+------+--------+-----------------+-------------------+---------------------+----------+\n",
            "|   | Age  | Gender | Education Level |     Job Title     | Years of Experience |  Salary  |\n",
            "+---+------+--------+-----------------+-------------------+---------------------+----------+\n",
            "| 0 | 32.0 |  Male  |   Bachelor's    | Software Engineer |         5.0         | 90000.0  |\n",
            "| 1 | 28.0 | Female |    Master's     |   Data Analyst    |         3.0         | 65000.0  |\n",
            "| 2 | 45.0 |  Male  |       PhD       |  Senior Manager   |        15.0         | 150000.0 |\n",
            "| 3 | 36.0 | Female |   Bachelor's    |  Sales Associate  |         7.0         | 60000.0  |\n",
            "| 4 | 52.0 |  Male  |    Master's     |     Director      |        20.0         | 200000.0 |\n",
            "+---+------+--------+-----------------+-------------------+---------------------+----------+\n",
            "Number of rows: 375\n",
            "Number of columns: 6\n"
          ]
        }
      ]
    },
    {
      "cell_type": "markdown",
      "source": [
        "Dataset ini menampilkan beberapa atribut seperti usia, jenis kelamin, tingkat pendidikan, judul pekerjaan, tahun pengalaman, dan gaji.\n",
        "Terdapat 375 baris data dan 6 kolom atribut."
      ],
      "metadata": {
        "id": "qPIov5rJESHA"
      }
    },
    {
      "cell_type": "markdown",
      "source": [
        "####Informasi Lanjutan"
      ],
      "metadata": {
        "id": "1YO1omps8IdN"
      }
    },
    {
      "cell_type": "code",
      "source": [
        "# Pratinjau data\n",
        "print(\"Informasi lengkap tentang dataset:\")\n",
        "print(df.info())\n",
        "print()\n",
        "\n",
        "# Tampilkan jumlah responden untuk setiap tingkat pendidikan dan gender\n",
        "gender_education_counts = df.groupby(['Gender', 'Education Level']).size()\n",
        "print(\"Jumlah responden untuk setiap tingkat pendidikan dan gender:\")\n",
        "print(gender_education_counts)\n",
        "print()\n",
        "\n",
        "# Gaji tertinggi, terendah, dan rata-rata serta umur tertua\n",
        "max_salary = df['Salary'].max()\n",
        "min_salary = df['Salary'].min()\n",
        "avg_salary = df['Salary'].mean()\n",
        "max_age = df['Age'].max()\n",
        "min_age = df['Age'].min()\n",
        "avg_age = df['Age'].mean()\n",
        "max_experience = df['Years of Experience'].max()\n",
        "min_experience = df['Years of Experience'].min()\n",
        "avg_experience = df['Years of Experience'].mean()\n",
        "\n",
        "max_salary_str = '{:,.0f}'.format(max_salary)\n",
        "min_salary_str = '{:,.0f}'.format(min_salary)\n",
        "avg_salary_str = '{:,.0f}'.format(avg_salary)\n",
        "max_age_str = int(max_age)\n",
        "min_age_str = int(min_age)\n",
        "avg_age_str = int(avg_age)\n",
        "max_experience_str = '{:,.0f}'.format(max_experience)\n",
        "min_experience_str = '{:,.0f}'.format(min_experience)\n",
        "avg_experience_str = '{:,.2f}'.format(avg_experience)\n",
        "\n",
        "print(\"Umur tertua:\", max_age_str)\n",
        "print(\"Umur termuda:\", min_age_str)\n",
        "print(\"Umur rata-rata:\", avg_age_str)\n",
        "print()\n",
        "print(\"Gaji tertinggi:\", max_salary_str)\n",
        "print(\"Gaji terendah:\", min_salary_str)\n",
        "print(\"Gaji rata-rata:\", avg_salary_str)\n",
        "print()\n",
        "print(\"Pengalaman kerja tertinggi:\", max_experience_str)\n",
        "print(\"Pengalaman kerja terendah:\", min_experience_str)\n",
        "print(\"Rata-rata pengalaman kerja:\", avg_experience_str)"
      ],
      "metadata": {
        "id": "irU4_StBEvWk",
        "colab": {
          "base_uri": "https://localhost:8080/"
        },
        "outputId": "1c520bf7-108d-4d99-fd57-3caa1d0cfd1e"
      },
      "execution_count": 84,
      "outputs": [
        {
          "output_type": "stream",
          "name": "stdout",
          "text": [
            "Informasi lengkap tentang dataset:\n",
            "<class 'pandas.core.frame.DataFrame'>\n",
            "RangeIndex: 375 entries, 0 to 374\n",
            "Data columns (total 6 columns):\n",
            " #   Column               Non-Null Count  Dtype  \n",
            "---  ------               --------------  -----  \n",
            " 0   Age                  373 non-null    float64\n",
            " 1   Gender               373 non-null    object \n",
            " 2   Education Level      373 non-null    object \n",
            " 3   Job Title            373 non-null    object \n",
            " 4   Years of Experience  373 non-null    float64\n",
            " 5   Salary               373 non-null    float64\n",
            "dtypes: float64(3), object(3)\n",
            "memory usage: 17.7+ KB\n",
            "None\n",
            "\n",
            "Jumlah responden untuk setiap tingkat pendidikan dan gender:\n",
            "Gender  Education Level\n",
            "Female  Bachelor's         103\n",
            "        Master's            50\n",
            "        PhD                 26\n",
            "Male    Bachelor's         121\n",
            "        Master's            48\n",
            "        PhD                 25\n",
            "dtype: int64\n",
            "\n",
            "Umur tertua: 53\n",
            "Umur termuda: 23\n",
            "Umur rata-rata: 37\n",
            "\n",
            "Gaji tertinggi: 250,000\n",
            "Gaji terendah: 350\n",
            "Gaji rata-rata: 100,577\n",
            "\n",
            "Pengalaman kerja tertinggi: 25\n",
            "Pengalaman kerja terendah: 0\n",
            "Rata-rata pengalaman kerja: 10.03\n"
          ]
        }
      ]
    },
    {
      "cell_type": "markdown",
      "source": [
        "1. Age: Menunjukkan usia responden. Ada 373 nilai non-null yang berupa bilangan pecahan (float64).\n",
        "2. Gender: Menggambarkan jenis kelamin responden. Ada 373 nilai non-null yang berupa objek (string atau teks).\n",
        "3. Education Level: Merupakan tingkat pendidikan responden. Terdapat 373 nilai non-null yang berupa objek (string).\n",
        "4. Job Title: Menyatakan judul pekerjaan dari responden. Terdapat 373 nilai non-null yang berupa objek (string).\n",
        "5. Years of Experience: Menunjukkan tahun-tahun pengalaman kerja responden. Ada 373 nilai non-null yang berupa bilangan pecahan (float64).\n",
        "6. Salary: Merupakan gaji responden. Terdapat 373 nilai non-null yang berupa bilangan pecahan (float64).\n",
        "\n",
        "Terdapat dua jenis informasi dalam dataset ini. Pertama, jumlah responden untuk setiap tingkat pendidikan dan gender, yang menunjukkan distribusi jumlah responden berdasarkan tingkat pendidikan dan jenis kelamin. Misalnya, ada 103 wanita dengan gelar sarjana dan 121 pria dengan gelar sarjana.\n",
        "\n",
        "Kedua, statistik tentang umur, gaji, dan pengalaman kerja dari seluruh dataset. Umur tertua responden adalah 53 tahun dan termuda adalah 23 tahun, dengan umur rata-rata sekitar 37 tahun. Gaji tertinggi mencapai USD250,000  dan yang terendah hanya USD350, dengan rata-rata sekitar USD100,577. Pengalaman kerja tertinggi adalah 25 tahun, terendah 0 tahun atau tanpa pengalaman kerja, dan rata-ratanya adalah sekitar 10.3 tahun."
      ],
      "metadata": {
        "id": "K18zHmeDEUB0"
      }
    },
    {
      "cell_type": "markdown",
      "source": [
        "####Informasi Statistik Deskriptif"
      ],
      "metadata": {
        "id": "YYNWeBdo8KEV"
      }
    },
    {
      "cell_type": "code",
      "source": [
        "# Menampilkan statistik deskriptif dari kolom numerik\n",
        "print(df.describe())\n",
        "print()"
      ],
      "metadata": {
        "colab": {
          "base_uri": "https://localhost:8080/"
        },
        "id": "C3s_67kuFS-U",
        "outputId": "0f1d9ac6-ac80-44fb-aed3-803d26fc3f04"
      },
      "execution_count": 85,
      "outputs": [
        {
          "output_type": "stream",
          "name": "stdout",
          "text": [
            "              Age  Years of Experience         Salary\n",
            "count  373.000000           373.000000     373.000000\n",
            "mean    37.431635            10.030831  100577.345845\n",
            "std      7.069073             6.557007   48240.013482\n",
            "min     23.000000             0.000000     350.000000\n",
            "25%     31.000000             4.000000   55000.000000\n",
            "50%     36.000000             9.000000   95000.000000\n",
            "75%     44.000000            15.000000  140000.000000\n",
            "max     53.000000            25.000000  250000.000000\n",
            "\n"
          ]
        }
      ]
    },
    {
      "cell_type": "markdown",
      "source": [
        "Statistik deskriptif ini memberikan gambaran tentang distribusi data dalam kolom-kolom numerik pada dataset. Berikut adalah penjelasan untuk setiap statistik:\n",
        "\n",
        "1. Count: Menunjukkan jumlah total data yang kita miliki untuk setiap kolom.\n",
        "2. Mean: Merupakan rata-rata usia, pengalaman kerja, dan gaji dari seluruh data.\n",
        "3. Std(Standard Deviation): Menunjukkan seberapa jauh rata-rata usia, pengalaman kerja, dan gaji berbeda dari nilai-nilai individu dalam setiap kolom.\n",
        "4. Min: Merupakan nilai minimum dari usia, pengalaman kerja, dan gaji yang ada dalam data.\n",
        "5. 25% (Q1): Menunjukkan nilai usia, pengalaman kerja, dan gaji di bawahnya terdapat 25% dari data.\n",
        "6. 50% (Q2): Merupakan median usia, pengalaman kerja, dan gaji, yang berarti 50% data berada di atasnya dan 50% di bawahnya.\n",
        "7. 75% (Q3): Menunjukkan nilai usia, pengalaman kerja, dan gaji di bawahnya terdapat 75% dari data.\n",
        "8. Max: Merupakan nilai maksimum dari usia, pengalaman kerja, dan gaji yang ada dalam data.\n",
        "\n",
        "Dari data tersebut, kita dapat melihat bahwa usia rata-rata responden adalah sekitar 37 tahun, dengan usia termuda 23 tahun dan tertua 53 tahun. Pendidikan responden bervariasi, dengan mayoritas memiliki gelar sarjana atau gelar master. Jabatan responden juga bervariasi, mulai dari Software Engineer, Data Analyst, hingga Director. Rata-rata pengalaman kerja responden adalah sekitar 10 tahun, dan rata-rata gaji adalah sekitar USD100,577, dengan sebagian besar responden memiliki gaji antara USD55,000 dan USD140,000."
      ],
      "metadata": {
        "id": "Tea4Y1ZDFcm7"
      }
    },
    {
      "cell_type": "markdown",
      "source": [
        "##**Exploratory Data Analysis**"
      ],
      "metadata": {
        "id": "U_RRcmcCJa4D"
      }
    },
    {
      "cell_type": "markdown",
      "source": [
        "####Informasi Statistik Visual Gender dalam Dataset"
      ],
      "metadata": {
        "id": "pJuu6a7TPDvT"
      }
    },
    {
      "cell_type": "code",
      "source": [
        "# Menghitung jumlah gender\n",
        "gender_counts = df['Gender'].value_counts()\n",
        "colors = ['#f89f57', '#3eb1c2']\n",
        "explode = (0.1, 0)\n",
        "plt.figure(figsize=(8, 8))\n",
        "gender_counts.plot(kind='pie', autopct='%1.1f%%', startangle=140, colors=colors, explode=explode)\n",
        "plt.title('Perbandingan Jumlah Laki-laki dan Perempuan')\n",
        "\n",
        "plt.show()"
      ],
      "metadata": {
        "colab": {
          "base_uri": "https://localhost:8080/",
          "height": 675
        },
        "id": "mlvR3R-yPH22",
        "outputId": "8545c7cd-5ea1-4eb5-f092-7c419e88ee80"
      },
      "execution_count": 86,
      "outputs": [
        {
          "output_type": "display_data",
          "data": {
            "text/plain": [
              "<Figure size 800x800 with 1 Axes>"
            ],
            "image/png": "[encoded data removed]"
          },
          "metadata": {}
        }
      ]
    },
    {
      "cell_type": "markdown",
      "source": [
        "Dalam data tersebut, terlihat bahwa proporsi responden lulusan laki-laki dan perempuan memiliki perbedaan sekitar 4%. Persentase lulusan laki-laki sebesar 52%, sedangkan persentase lulusan perempuan sebesar 48%. Hal ini mencerminkan variasi gender dalam data, yang meliputi lulusan sarjana maupun gelar master, serta beragam tingkat pengalaman."
      ],
      "metadata": {
        "id": "8gZvpM85Lp9B"
      }
    },
    {
      "cell_type": "markdown",
      "source": [
        "####Informasi Statistik Visual Tingkat Pendidikan dalam Dataset"
      ],
      "metadata": {
        "id": "JL2xW1q-Pe4M"
      }
    },
    {
      "cell_type": "code",
      "source": [
        "# Hitung jumlah responden berdasarkan tingkat pendidikan dan gender\n",
        "gender_education_counts = df.groupby(['Education Level', 'Gender']).size().unstack()\n",
        "ax = gender_education_counts.plot(kind='bar', figsize=(10, 6), width=0.8, color=['#46b0c1', '#f5a15b'])\n",
        "\n",
        "# Atur label dan judul\n",
        "plt.title('Distribusi Gender Berdasarkan Tingkat Pendidikan', fontsize=16)\n",
        "plt.xlabel('Tingkat Pendidikan', fontsize=14)\n",
        "plt.ylabel('Jumlah Responden', fontsize=14)\n",
        "\n",
        "# Atur label sumbu x agar horizontal\n",
        "plt.xticks(rotation=0, fontsize=12)\n",
        "\n",
        "# Atur label sumbu y agar lebih jelas\n",
        "plt.yticks(np.arange(0, gender_education_counts.max().max() + 10, 10), fontsize=12)\n",
        "\n",
        "# Tambahkan legend\n",
        "plt.legend(title='Gender', fontsize=12)\n",
        "\n",
        "# Atur layout\n",
        "plt.tight_layout()\n",
        "\n",
        "# Tampilkan plot\n",
        "plt.show()"
      ],
      "metadata": {
        "colab": {
          "base_uri": "https://localhost:8080/",
          "height": 607
        },
        "id": "Plc2kX0EXgyl",
        "outputId": "c3fa5ea3-eda0-4f0c-e9ab-d7cc1cf5ee54"
      },
      "execution_count": 87,
      "outputs": [
        {
          "output_type": "display_data",
          "data": {
            "text/plain": [
              "<Figure size 1000x600 with 1 Axes>"
            ],
            "image/png": "[encoded data removed]"
          },
          "metadata": {}
        }
      ]
    },
    {
      "cell_type": "markdown",
      "source": [
        "Berdasarkan visualisasi data distribusi jenis kelamin, terlihat bahwa tidak terdapat perbedaan yang signifikan antara jumlah laki-laki dan perempuan dalam dataset. Dari pie chart, terlihat bahwa sekitar 52% responden adalah laki-laki, sedangkan 48% sisanya adalah perempuan.\n",
        "\n",
        "Selanjutnya, ketika melihat distribusi berdasarkan tingkat pendidikan, terlihat bahwa mayoritas responden memiliki gelar sarjana (Bachelor's), diikuti oleh gelar master (Master's) dan gelar doktor (PhD). Meskipun demikian, terdapat perbedaan kecil antara jumlah laki-laki dan perempuan dalam setiap tingkat pendidikan. Pada tingkat pendidikan sarjana, terdapat sedikit lebih banyak laki-laki daripada perempuan, sementara pada tingkat pendidikan master dan doktor, jumlah perempuan sedikit lebih banyak daripada laki-laki."
      ],
      "metadata": {
        "id": "aATmuv28bfzO"
      }
    },
    {
      "cell_type": "markdown",
      "source": [
        "####Informasi Statistik Visual Gaji berdasarkan Jenis Kelamin dalam Dataset"
      ],
      "metadata": {
        "id": "oGqI--uUSa0v"
      }
    },
    {
      "cell_type": "code",
      "source": [
        "avg_salary = df.groupby(['Gender', 'Years of Experience'])['Salary'].mean().unstack()\n",
        "\n",
        "# Plot the data\n",
        "plt.figure(figsize=(12, 8))\n",
        "\n",
        "male_data = avg_salary.loc['Male']\n",
        "plt.plot(male_data.index, male_data, marker='o', label='Male')\n",
        "\n",
        "female_data = avg_salary.loc['Female']\n",
        "plt.plot(female_data.index, female_data, marker='o', label='Female')\n",
        "\n",
        "plt.title('Average Salary by Gender and Years of Experience')\n",
        "plt.xlabel('Years of Experience')\n",
        "plt.ylabel('Average Salary ($)')\n",
        "plt.legend()\n",
        "plt.grid(True)\n",
        "plt.xticks(rotation=45)\n",
        "plt.gca().yaxis.set_major_formatter(mtick.StrMethodFormatter('${x:,.0f}'))\n",
        "\n",
        "plt.show()"
      ],
      "metadata": {
        "colab": {
          "base_uri": "https://localhost:8080/",
          "height": 726
        },
        "id": "L9nQoyBBSZ8j",
        "outputId": "865107ad-79b4-4f62-9e1e-da920c6c697a"
      },
      "execution_count": 88,
      "outputs": [
        {
          "output_type": "display_data",
          "data": {
            "text/plain": [
              "<Figure size 1200x800 with 1 Axes>"
            ],
            "image/png": "[encoded data removed]"
          },
          "metadata": {}
        }
      ]
    },
    {
      "cell_type": "markdown",
      "source": [
        "Pada data di atas, terlihat bahwa rata-rata gaji berdasarkan pengalaman kerja menunjukkan variasi yang signifikan. Gaji tertinggi mencapai USD250,000 pertahun, sementara yang terendah berada di bawah USD50,000 pertahun. Data ini menunjukkan bahwa semakin tinggi pengalaman kerja seseorang, semakin tinggi pula gaji yang diterima, baik untuk perempuan maupun laki-laki.\n",
        "\n",
        "Selain itu, tidak terdapat perbedaan gaji yang signifikan antara jenis kelamin dalam dataset ini. Namun, perlu diperhatikan bahwa meskipun terlihat perbedaan gaji meski memiliki pengalaman yang sama, hal itu dipengaruhi oleh perbedaan posisi yang dipegang oleh responden di perusahaan masing-masing. Sebagai contoh, dalam data tersebut, terlihat bahwa laki-laki memiliki gaji lebih tinggi dibandingkan dengan perempuan. Perbedaan ini dipengaruhi oleh faktor seperti gelar lulusan dan posisi dalam perusahaan, di mana laki-laki mungkin menduduki posisi CEO sedangkan perempuan adalah Direktur."
      ],
      "metadata": {
        "id": "jPpz9HpWW0fr"
      }
    },
    {
      "cell_type": "markdown",
      "source": [
        "####Informasi Statistik Visual Gaji berdasarkan Tingkat Pendidikan dan Pengalaman Kerja dalam Dataset"
      ],
      "metadata": {
        "id": "3foJsczkYqvG"
      }
    },
    {
      "cell_type": "code",
      "source": [
        "plt.figure(figsize=(12, 8))\n",
        "sns.barplot(x='Education Level', y='Salary', hue='Years of Experience', data=df, ci=None)\n",
        "plt.title('Informasi Statistik Visual Gaji berdasarkan Tingkat Pendidikan dan Pengalaman Kerja')\n",
        "plt.xlabel('Tingkat Pendidikan')\n",
        "plt.ylabel('Rata-Rata Gaji (USD)')\n",
        "plt.xticks(rotation=45)\n",
        "plt.gca().yaxis.set_major_formatter(mtick.StrMethodFormatter('${x:,.0f}'))\n",
        "plt.legend(title='Pengalaman Kerja')\n",
        "plt.show()\n"
      ],
      "metadata": {
        "id": "QgfCNvnhawtY",
        "colab": {
          "base_uri": "https://localhost:8080/",
          "height": 887
        },
        "outputId": "95bb82a4-efad-4500-8d75-fe3af6175853"
      },
      "execution_count": 89,
      "outputs": [
        {
          "output_type": "stream",
          "name": "stderr",
          "text": [
            "<ipython-input-89-f71f4d272b14>:2: FutureWarning:\n",
            "\n",
            "\n",
            "\n",
            "The `ci` parameter is deprecated. Use `errorbar=None` for the same effect.\n",
            "\n",
            "\n"
          ]
        },
        {
          "output_type": "display_data",
          "data": {
            "text/plain": [
              "<Figure size 1200x800 with 1 Axes>"
            ],
            "image/png": "[encoded data removed]"
          },
          "metadata": {}
        }
      ]
    },
    {
      "cell_type": "markdown",
      "source": [
        "Berdasarkan data tersebut, kita dapat melihat bahwa setiap tingkat gelar memiliki pengaruh terhadap peringkat gaji bagi para lulusannya. Pertama-tama, mari kita perhatikan lulusan sarjana. Dengan pengalaman kerja antara 1 hingga 5 tahun, gaji rata-rata mereka mendekati USD50,000 per tahun. Namun, bagi mereka dengan pengalaman kerja lebih dari 6 tahun, gaji rata-rata sudah mencapai sekitar USD90,000 per tahun. Gaji tertinggi untuk lulusan sarjana adalah USD170,000 per tahun.\n",
        "\n",
        "Selanjutnya, lulusan magister dan doktor memiliki gaji per tahun yang tidak terlalu berbeda secara signifikan dengan tingkat pengalaman kerja yang sama. Meskipun demikian, terdapat beberapa responden yang telah mencapai gaji USD250,000 per tahun dengan gelar doktor dan waktu pengalaman kerja yang setara dengan gelar lainnya.\n",
        "\n",
        "Selain itu, tidak terlihat bahwa ada doktor dengan pengalaman di bawah 6 tahun dan tidak ada pula lulusan yang memiliki pengalaman lebih dari 25 tahun. Adapun kesimpulannya, semakin tinggi gelar yang dimiliki, semakin tinggi pula gaji yang mereka terima, meskipun tidak terdapat perbedaan yang signifikan."
      ],
      "metadata": {
        "id": "rKs0lxxLyW0u"
      }
    },
    {
      "cell_type": "markdown",
      "source": [
        "####Informasi Statistik Visual Korelasi antara Kolom Data dalam Dataset"
      ],
      "metadata": {
        "id": "_BdK5e_SY02N"
      }
    },
    {
      "cell_type": "code",
      "source": [
        "correlation_matrix = df.corr()\n",
        "plt.figure(figsize=(10, 8))\n",
        "sns.heatmap(correlation_matrix, annot=True, cmap='coolwarm', fmt=\".2f\", linewidths=0.5)\n",
        "plt.title('Korelasi antara Kolom Data')\n",
        "plt.show()"
      ],
      "metadata": {
        "id": "e29Pw79ztXwB",
        "colab": {
          "base_uri": "https://localhost:8080/",
          "height": 768
        },
        "outputId": "bcb14c96-775f-4940-fb73-d06414f8057e"
      },
      "execution_count": 90,
      "outputs": [
        {
          "output_type": "stream",
          "name": "stderr",
          "text": [
            "<ipython-input-90-a718eafea1d2>:1: FutureWarning:\n",
            "\n",
            "The default value of numeric_only in DataFrame.corr is deprecated. In a future version, it will default to False. Select only valid columns or specify the value of numeric_only to silence this warning.\n",
            "\n"
          ]
        },
        {
          "output_type": "display_data",
          "data": {
            "text/plain": [
              "<Figure size 1000x800 with 2 Axes>"
            ],
            "image/png": "[encoded data removed]"
          },
          "metadata": {}
        }
      ]
    },
    {
      "cell_type": "markdown",
      "source": [
        "Berdasarkan korelasi yang diamati dalam data tersebut, dapat disimpulkan bahwa terdapat hubungan yang kuat antara beberapa variabel utama. Pertama, terdapat korelasi yang sangat tinggi antara usia seseorang dan jumlah tahun pengalaman kerja yang dimiliki. Hal ini menunjukkan bahwa semakin tua seseorang, semakin banyak pengalaman kerja yang mereka miliki.\n",
        "\n",
        "Selanjutnya, terdapat korelasi yang kuat antara usia dan tingkat gaji yang diterima seseorang. Artinya, semakin tua seseorang, cenderung semakin tinggi pula gaji yang mereka terima. Selain itu, korelasi antara jumlah tahun pengalaman kerja dan tingkat gaji juga cukup signifikan. Semakin lama seseorang memiliki pengalaman kerja, semakin besar kemungkinan mereka mendapatkan gaji yang lebih tinggi.\n",
        "\n",
        "Dengan demikian, dari korelasi ini dapat disimpulkan bahwa usia, tahun pengalaman, dan gaji saling terkait secara positif, dimana semakin tua dan berpengalaman seseorang, cenderung mendapatkan gaji yang lebih tinggi."
      ],
      "metadata": {
        "id": "SIZRtE2H1fL2"
      }
    },
    {
      "cell_type": "markdown",
      "source": [
        "##**Verify Data Quality**"
      ],
      "metadata": {
        "id": "eRStvZN88L3h"
      }
    },
    {
      "cell_type": "markdown",
      "source": [
        "####Missing Values"
      ],
      "metadata": {
        "id": "VBFSqN4i8Z28"
      }
    },
    {
      "cell_type": "code",
      "source": [
        "# Mengecek apakah ada nilai kosong pada tiap kolom\n",
        "missing_values = df.isnull().sum()\n",
        "print(\"Kolom dengan nilai kosong:\")\n",
        "print(missing_values[missing_values > 0])"
      ],
      "metadata": {
        "id": "VvEFZm8i6Ppd",
        "colab": {
          "base_uri": "https://localhost:8080/"
        },
        "outputId": "3690984c-5b17-411c-c34b-44ff6b616615"
      },
      "execution_count": 91,
      "outputs": [
        {
          "output_type": "stream",
          "name": "stdout",
          "text": [
            "Kolom dengan nilai kosong:\n",
            "Age                    2\n",
            "Gender                 2\n",
            "Education Level        2\n",
            "Job Title              2\n",
            "Years of Experience    2\n",
            "Salary                 2\n",
            "dtype: int64\n"
          ]
        }
      ]
    },
    {
      "cell_type": "markdown",
      "source": [
        "Dari hasil pengecekan nilai kosong, terdapat beberapa kolom dalam dataset yang memiliki nilai kosong. Kolom-kolom tersebut meliputi usia responden, jenis kelamin, tingkat pendidikan, jabatan, tahun pengalaman kerja, gaji, dan interval pengalaman. Kehadiran nilai kosong dalam kolom-kolom ini bisa berdampak pada analisis yang bergantung pada informasi tersebut. Misalnya, ketiadaan nilai pada kolom usia atau gaji dapat memengaruhi pemahaman tentang demografi responden atau analisis kompensasi."
      ],
      "metadata": {
        "id": "jyFZVUNI7evX"
      }
    },
    {
      "cell_type": "markdown",
      "source": [
        "####Outliers Values"
      ],
      "metadata": {
        "id": "Te7DeFJ38bOy"
      }
    },
    {
      "cell_type": "code",
      "source": [
        "# Pilih kolom-kolom numerik\n",
        "numeric_columns = df.select_dtypes(include=['int', 'float']).columns\n",
        "\n",
        "# Menghitung IQR untuk setiap kolom numerik\n",
        "Q1 = df[numeric_columns].quantile(0.25)\n",
        "Q3 = df[numeric_columns].quantile(0.75)\n",
        "IQR = Q3 - Q1\n",
        "\n",
        "# Menentukan batas bawah dan atas untuk outlier values\n",
        "lower_bound = Q1 - 1.5 * IQR\n",
        "upper_bound = Q3 + 1.5 * IQR\n",
        "\n",
        "# Mencari outlier values untuk setiap kolom numerik\n",
        "outliers = (df[numeric_columns] < lower_bound) | (df[numeric_columns] > upper_bound)\n",
        "\n",
        "# Menampilkan outlier values untuk setiap kolom\n",
        "print(\"Outlier Values:\")\n",
        "print(outliers.sum())"
      ],
      "metadata": {
        "id": "4SUqgHAF8DKc",
        "colab": {
          "base_uri": "https://localhost:8080/"
        },
        "outputId": "953f18fa-b84f-4886-979b-041942d17b13"
      },
      "execution_count": 92,
      "outputs": [
        {
          "output_type": "stream",
          "name": "stdout",
          "text": [
            "Outlier Values:\n",
            "Age                    0\n",
            "Years of Experience    0\n",
            "Salary                 0\n",
            "dtype: int64\n"
          ]
        }
      ]
    },
    {
      "cell_type": "markdown",
      "source": [
        "Dalam dataset tersebut, tidak ditemukan outlier values dalam kolom Age, Years of Experience, dan Salary. Ini menunjukkan bahwa tidak ada nilai ekstrim atau tidak biasa dalam data untuk ketiga kolom tersebut."
      ],
      "metadata": {
        "id": "LbTUcYib8x_A"
      }
    },
    {
      "cell_type": "markdown",
      "source": [
        "####Duplicated Values"
      ],
      "metadata": {
        "id": "tUtkkGjZ8dFC"
      }
    },
    {
      "cell_type": "code",
      "source": [
        "# Mencari nilai-nilai yang diduplikasi dalam dataset\n",
        "duplicated_values = df[df.duplicated()]\n",
        "\n",
        "# Menampilkan nilai-nilai yang diduplikasi\n",
        "print(\"Duplicated Values:\")\n",
        "print(duplicated_values)"
      ],
      "metadata": {
        "id": "1vrv9_jp9LZs",
        "colab": {
          "base_uri": "https://localhost:8080/"
        },
        "outputId": "cd25e92e-c5c6-4309-cdaf-687d4acf27c5"
      },
      "execution_count": 93,
      "outputs": [
        {
          "output_type": "stream",
          "name": "stdout",
          "text": [
            "Duplicated Values:\n",
            "      Age  Gender Education Level                              Job Title  \\\n",
            "195  28.0    Male      Bachelor's                Junior Business Analyst   \n",
            "250  30.0  Female      Bachelor's           Junior Marketing Coordinator   \n",
            "251  38.0    Male        Master's                   Senior IT Consultant   \n",
            "252  45.0  Female             PhD                Senior Product Designer   \n",
            "253  28.0    Male      Bachelor's  Junior Business Development Associate   \n",
            "254  35.0  Female      Bachelor's               Senior Marketing Analyst   \n",
            "255  44.0    Male      Bachelor's               Senior Software Engineer   \n",
            "256  34.0  Female        Master's               Senior Financial Advisor   \n",
            "257  35.0    Male      Bachelor's             Senior Project Coordinator   \n",
            "258  50.0  Female             PhD                 Director of Operations   \n",
            "260   NaN     NaN             NaN                                    NaN   \n",
            "262  46.0    Male             PhD                  Senior Data Scientist   \n",
            "281  41.0  Female      Bachelor's             Senior Project Coordinator   \n",
            "287  35.0  Female      Bachelor's               Senior Marketing Analyst   \n",
            "303  45.0    Male             PhD                   Senior Data Engineer   \n",
            "306  49.0  Female        Master's                  Director of Marketing   \n",
            "307  31.0    Male      Bachelor's              Junior Operations Analyst   \n",
            "309  47.0    Male        Master's                  Director of Marketing   \n",
            "310  29.0  Female      Bachelor's  Junior Business Development Associate   \n",
            "311  35.0    Male      Bachelor's               Senior Financial Manager   \n",
            "312  44.0  Female             PhD                Senior Product Designer   \n",
            "313  33.0    Male      Bachelor's                Junior Business Analyst   \n",
            "314  35.0  Female      Bachelor's               Senior Marketing Analyst   \n",
            "315  44.0    Male      Bachelor's               Senior Software Engineer   \n",
            "317  36.0    Male      Bachelor's            Senior Marketing Specialist   \n",
            "328  38.0  Female      Bachelor's                Senior Business Analyst   \n",
            "345  33.0    Male      Bachelor's                Junior Business Analyst   \n",
            "346  35.0  Female      Bachelor's               Senior Marketing Analyst   \n",
            "352  38.0  Female      Bachelor's                Senior Business Analyst   \n",
            "353  48.0    Male        Master's                  Director of Marketing   \n",
            "354  31.0  Female      Bachelor's  Junior Business Development Associate   \n",
            "355  40.0    Male      Bachelor's               Senior Financial Analyst   \n",
            "356  45.0  Female             PhD                     Senior UX Designer   \n",
            "357  33.0    Male      Bachelor's                 Junior Product Manager   \n",
            "358  36.0  Female      Bachelor's               Senior Marketing Manager   \n",
            "359  47.0    Male        Master's                 Director of Operations   \n",
            "360  29.0  Female      Bachelor's                 Junior Project Manager   \n",
            "361  34.0    Male      Bachelor's          Senior Operations Coordinator   \n",
            "362  44.0  Female             PhD                Senior Business Analyst   \n",
            "363  33.0    Male      Bachelor's            Junior Marketing Specialist   \n",
            "364  35.0  Female      Bachelor's               Senior Financial Manager   \n",
            "365  43.0    Male        Master's                  Director of Marketing   \n",
            "366  31.0  Female      Bachelor's               Junior Financial Analyst   \n",
            "367  41.0    Male      Bachelor's                 Senior Product Manager   \n",
            "368  44.0  Female             PhD                   Senior Data Engineer   \n",
            "369  33.0    Male      Bachelor's                Junior Business Analyst   \n",
            "370  35.0  Female      Bachelor's               Senior Marketing Analyst   \n",
            "372  29.0  Female      Bachelor's                 Junior Project Manager   \n",
            "373  34.0    Male      Bachelor's          Senior Operations Coordinator   \n",
            "374  44.0  Female             PhD                Senior Business Analyst   \n",
            "\n",
            "     Years of Experience    Salary  \n",
            "195                  2.0   40000.0  \n",
            "250                  2.0   40000.0  \n",
            "251                  9.0  110000.0  \n",
            "252                 15.0  150000.0  \n",
            "253                  2.0   40000.0  \n",
            "254                  8.0   85000.0  \n",
            "255                 14.0  130000.0  \n",
            "256                  6.0  100000.0  \n",
            "257                  9.0   95000.0  \n",
            "258                 22.0  180000.0  \n",
            "260                  NaN       NaN  \n",
            "262                 18.0  160000.0  \n",
            "281                 11.0   95000.0  \n",
            "287                  8.0   85000.0  \n",
            "303                 16.0  150000.0  \n",
            "306                 21.0  180000.0  \n",
            "307                  3.0   50000.0  \n",
            "309                 19.0  170000.0  \n",
            "310                  1.5   35000.0  \n",
            "311                  9.0  100000.0  \n",
            "312                 15.0  150000.0  \n",
            "313                  4.0   60000.0  \n",
            "314                  8.0   85000.0  \n",
            "315                 13.0  130000.0  \n",
            "317                  8.0   95000.0  \n",
            "328                 10.0  110000.0  \n",
            "345                  4.0   60000.0  \n",
            "346                  8.0   85000.0  \n",
            "352                 10.0  110000.0  \n",
            "353                 21.0  180000.0  \n",
            "354                  3.0   50000.0  \n",
            "355                 12.0  130000.0  \n",
            "356                 16.0  160000.0  \n",
            "357                  4.0   60000.0  \n",
            "358                  8.0   95000.0  \n",
            "359                 19.0  170000.0  \n",
            "360                  2.0   40000.0  \n",
            "361                  7.0   90000.0  \n",
            "362                 15.0  150000.0  \n",
            "363                  5.0   70000.0  \n",
            "364                  8.0   90000.0  \n",
            "365                 18.0  170000.0  \n",
            "366                  3.0   50000.0  \n",
            "367                 14.0  150000.0  \n",
            "368                 16.0  160000.0  \n",
            "369                  4.0   60000.0  \n",
            "370                  8.0   85000.0  \n",
            "372                  2.0   40000.0  \n",
            "373                  7.0   90000.0  \n",
            "374                 15.0  150000.0  \n"
          ]
        }
      ]
    },
    {
      "cell_type": "markdown",
      "source": [
        "Berdasarkan hasil pengecekan nilai duplikat dalam dataset, ditemukan bahwa beberapa baris memiliki nilai yang sama untuk setiap kolom, khususnya pada atribut yang berkaitan langsung dengan analisis gaji seperti 'Job Title', 'Years of Experience', dan 'Salary'. Dalam konteks dataset yang menunjukkan informasi gaji para lulusan, adanya duplikasi data seperti ini diharapkan dan tidak dianggap sebagai masalah yang mengganggu analisis."
      ],
      "metadata": {
        "id": "AO2Y3siO9Za9"
      }
    },
    {
      "cell_type": "markdown",
      "source": [
        "####Inconsistent Values / Noise (Optional)"
      ],
      "metadata": {
        "id": "hUHx-0WO8fOm"
      }
    },
    {
      "cell_type": "markdown",
      "source": [
        "# **DATA PREPARATION**"
      ],
      "metadata": {
        "id": "6Amqn7kwzIrA"
      }
    },
    {
      "cell_type": "markdown",
      "source": [
        "##**DATA CLEANING**"
      ],
      "metadata": {
        "id": "iaXCxgonZI_0"
      }
    },
    {
      "cell_type": "markdown",
      "source": [
        "###**Penanganan Missing Values**"
      ],
      "metadata": {
        "id": "6YTG1zJ2z7WY"
      }
    },
    {
      "cell_type": "markdown",
      "source": [
        "#####**Pengecekkan Missing Values**"
      ],
      "metadata": {
        "id": "sJmdqDAf0B-5"
      }
    },
    {
      "cell_type": "code",
      "source": [
        "print((df.isna().sum() / len(df)) * 100)"
      ],
      "metadata": {
        "id": "vPKtjUAw0KjH",
        "colab": {
          "base_uri": "https://localhost:8080/"
        },
        "outputId": "2540ebde-8889-4a5e-966a-3c29f637a2db"
      },
      "execution_count": 94,
      "outputs": [
        {
          "output_type": "stream",
          "name": "stdout",
          "text": [
            "Age                    0.533333\n",
            "Gender                 0.533333\n",
            "Education Level        0.533333\n",
            "Job Title              0.533333\n",
            "Years of Experience    0.533333\n",
            "Salary                 0.533333\n",
            "dtype: float64\n"
          ]
        }
      ]
    },
    {
      "cell_type": "code",
      "source": [
        "df[df['Age'].isnull()]\n",
        "df[df['Gender'].isnull()]\n",
        "df[df['Education Level'].isnull()]"
      ],
      "metadata": {
        "id": "Cs1lCpoO16qb",
        "colab": {
          "base_uri": "https://localhost:8080/",
          "height": 0
        },
        "outputId": "ace43d4b-39c8-44f6-d168-03496a679931"
      },
      "execution_count": 95,
      "outputs": [
        {
          "output_type": "execute_result",
          "data": {
            "text/plain": [
              "     Age Gender Education Level Job Title  Years of Experience  Salary\n",
              "172  NaN    NaN             NaN       NaN                  NaN     NaN\n",
              "260  NaN    NaN             NaN       NaN                  NaN     NaN"
            ],
            "text/html": [
              "\n",
              "  <div id=\"df-4881ff26-9e99-446a-99f8-35ef79ac062f\" class=\"colab-df-container\">\n",
              "    <div>\n",
              "<style scoped>\n",
              "    .dataframe tbody tr th:only-of-type {\n",
              "        vertical-align: middle;\n",
              "    }\n",
              "\n",
              "    .dataframe tbody tr th {\n",
              "        vertical-align: top;\n",
              "    }\n",
              "\n",
              "    .dataframe thead th {\n",
              "        text-align: right;\n",
              "    }\n",
              "</style>\n",
              "<table border=\"1\" class=\"dataframe\">\n",
              "  <thead>\n",
              "    <tr style=\"text-align: right;\">\n",
              "      <th></th>\n",
              "      <th>Age</th>\n",
              "      <th>Gender</th>\n",
              "      <th>Education Level</th>\n",
              "      <th>Job Title</th>\n",
              "      <th>Years of Experience</th>\n",
              "      <th>Salary</th>\n",
              "    </tr>\n",
              "  </thead>\n",
              "  <tbody>\n",
              "    <tr>\n",
              "      <th>172</th>\n",
              "      <td>NaN</td>\n",
              "      <td>NaN</td>\n",
              "      <td>NaN</td>\n",
              "      <td>NaN</td>\n",
              "      <td>NaN</td>\n",
              "      <td>NaN</td>\n",
              "    </tr>\n",
              "    <tr>\n",
              "      <th>260</th>\n",
              "      <td>NaN</td>\n",
              "      <td>NaN</td>\n",
              "      <td>NaN</td>\n",
              "      <td>NaN</td>\n",
              "      <td>NaN</td>\n",
              "      <td>NaN</td>\n",
              "    </tr>\n",
              "  </tbody>\n",
              "</table>\n",
              "</div>\n",
              "    <div class=\"colab-df-buttons\">\n",
              "\n",
              "  <div class=\"colab-df-container\">\n",
              "    <button class=\"colab-df-convert\" onclick=\"convertToInteractive('df-4881ff26-9e99-446a-99f8-35ef79ac062f')\"\n",
              "            title=\"Convert this dataframe to an interactive table.\"\n",
              "            style=\"display:none;\">\n",
              "\n",
              "  <svg xmlns=\"http://www.w3.org/2000/svg\" height=\"24px\" viewBox=\"0 -960 960 960\">\n",
              "    <path d=\"M120-120v-720h720v720H120Zm60-500h600v-160H180v160Zm220 220h160v-160H400v160Zm0 220h160v-160H400v160ZM180-400h160v-160H180v160Zm440 0h160v-160H620v160ZM180-180h160v-160H180v160Zm440 0h160v-160H620v160Z\"/>\n",
              "  </svg>\n",
              "    </button>\n",
              "\n",
              "  <style>\n",
              "    .colab-df-container {\n",
              "      display:flex;\n",
              "      gap: 12px;\n",
              "    }\n",
              "\n",
              "    .colab-df-convert {\n",
              "      background-color: #E8F0FE;\n",
              "      border: none;\n",
              "      border-radius: 50%;\n",
              "      cursor: pointer;\n",
              "      display: none;\n",
              "      fill: #1967D2;\n",
              "      height: 32px;\n",
              "      padding: 0 0 0 0;\n",
              "      width: 32px;\n",
              "    }\n",
              "\n",
              "    .colab-df-convert:hover {\n",
              "      background-color: #E2EBFA;\n",
              "      box-shadow: 0px 1px 2px rgba(60, 64, 67, 0.3), 0px 1px 3px 1px rgba(60, 64, 67, 0.15);\n",
              "      fill: #174EA6;\n",
              "    }\n",
              "\n",
              "    .colab-df-buttons div {\n",
              "      margin-bottom: 4px;\n",
              "    }\n",
              "\n",
              "    [theme=dark] .colab-df-convert {\n",
              "      background-color: #3B4455;\n",
              "      fill: #D2E3FC;\n",
              "    }\n",
              "\n",
              "    [theme=dark] .colab-df-convert:hover {\n",
              "      background-color: #434B5C;\n",
              "      box-shadow: 0px 1px 3px 1px rgba(0, 0, 0, 0.15);\n",
              "      filter: drop-shadow(0px 1px 2px rgba(0, 0, 0, 0.3));\n",
              "      fill: #FFFFFF;\n",
              "    }\n",
              "  </style>\n",
              "\n",
              "    <script>\n",
              "      const buttonEl =\n",
              "        document.querySelector('#df-4881ff26-9e99-446a-99f8-35ef79ac062f button.colab-df-convert');\n",
              "      buttonEl.style.display =\n",
              "        google.colab.kernel.accessAllowed ? 'block' : 'none';\n",
              "\n",
              "      async function convertToInteractive(key) {\n",
              "        const element = document.querySelector('#df-4881ff26-9e99-446a-99f8-35ef79ac062f');\n",
              "        const dataTable =\n",
              "          await google.colab.kernel.invokeFunction('convertToInteractive',\n",
              "                                                    [key], {});\n",
              "        if (!dataTable) return;\n",
              "\n",
              "        const docLinkHtml = 'Like what you see? Visit the ' +\n",
              "          '<a target=\"_blank\" href=https://colab.research.google.com/notebooks/data_table.ipynb>data table notebook</a>'\n",
              "          + ' to learn more about interactive tables.';\n",
              "        element.innerHTML = '';\n",
              "        dataTable['output_type'] = 'display_data';\n",
              "        await google.colab.output.renderOutput(dataTable, element);\n",
              "        const docLink = document.createElement('div');\n",
              "        docLink.innerHTML = docLinkHtml;\n",
              "        element.appendChild(docLink);\n",
              "      }\n",
              "    </script>\n",
              "  </div>\n",
              "\n",
              "\n",
              "<div id=\"df-c0bba7f9-53ae-49a1-8231-9907647a25b4\">\n",
              "  <button class=\"colab-df-quickchart\" onclick=\"quickchart('df-c0bba7f9-53ae-49a1-8231-9907647a25b4')\"\n",
              "            title=\"Suggest charts\"\n",
              "            style=\"display:none;\">\n",
              "\n",
              "<svg xmlns=\"http://www.w3.org/2000/svg\" height=\"24px\"viewBox=\"0 0 24 24\"\n",
              "     width=\"24px\">\n",
              "    <g>\n",
              "        <path d=\"M19 3H5c-1.1 0-2 .9-2 2v14c0 1.1.9 2 2 2h14c1.1 0 2-.9 2-2V5c0-1.1-.9-2-2-2zM9 17H7v-7h2v7zm4 0h-2V7h2v10zm4 0h-2v-4h2v4z\"/>\n",
              "    </g>\n",
              "</svg>\n",
              "  </button>\n",
              "\n",
              "<style>\n",
              "  .colab-df-quickchart {\n",
              "      --bg-color: #E8F0FE;\n",
              "      --fill-color: #1967D2;\n",
              "      --hover-bg-color: #E2EBFA;\n",
              "      --hover-fill-color: #174EA6;\n",
              "      --disabled-fill-color: #AAA;\n",
              "      --disabled-bg-color: #DDD;\n",
              "  }\n",
              "\n",
              "  [theme=dark] .colab-df-quickchart {\n",
              "      --bg-color: #3B4455;\n",
              "      --fill-color: #D2E3FC;\n",
              "      --hover-bg-color: #434B5C;\n",
              "      --hover-fill-color: #FFFFFF;\n",
              "      --disabled-bg-color: #3B4455;\n",
              "      --disabled-fill-color: #666;\n",
              "  }\n",
              "\n",
              "  .colab-df-quickchart {\n",
              "    background-color: var(--bg-color);\n",
              "    border: none;\n",
              "    border-radius: 50%;\n",
              "    cursor: pointer;\n",
              "    display: none;\n",
              "    fill: var(--fill-color);\n",
              "    height: 32px;\n",
              "    padding: 0;\n",
              "    width: 32px;\n",
              "  }\n",
              "\n",
              "  .colab-df-quickchart:hover {\n",
              "    background-color: var(--hover-bg-color);\n",
              "    box-shadow: 0 1px 2px rgba(60, 64, 67, 0.3), 0 1px 3px 1px rgba(60, 64, 67, 0.15);\n",
              "    fill: var(--button-hover-fill-color);\n",
              "  }\n",
              "\n",
              "  .colab-df-quickchart-complete:disabled,\n",
              "  .colab-df-quickchart-complete:disabled:hover {\n",
              "    background-color: var(--disabled-bg-color);\n",
              "    fill: var(--disabled-fill-color);\n",
              "    box-shadow: none;\n",
              "  }\n",
              "\n",
              "  .colab-df-spinner {\n",
              "    border: 2px solid var(--fill-color);\n",
              "    border-color: transparent;\n",
              "    border-bottom-color: var(--fill-color);\n",
              "    animation:\n",
              "      spin 1s steps(1) infinite;\n",
              "  }\n",
              "\n",
              "  @keyframes spin {\n",
              "    0% {\n",
              "      border-color: transparent;\n",
              "      border-bottom-color: var(--fill-color);\n",
              "      border-left-color: var(--fill-color);\n",
              "    }\n",
              "    20% {\n",
              "      border-color: transparent;\n",
              "      border-left-color: var(--fill-color);\n",
              "      border-top-color: var(--fill-color);\n",
              "    }\n",
              "    30% {\n",
              "      border-color: transparent;\n",
              "      border-left-color: var(--fill-color);\n",
              "      border-top-color: var(--fill-color);\n",
              "      border-right-color: var(--fill-color);\n",
              "    }\n",
              "    40% {\n",
              "      border-color: transparent;\n",
              "      border-right-color: var(--fill-color);\n",
              "      border-top-color: var(--fill-color);\n",
              "    }\n",
              "    60% {\n",
              "      border-color: transparent;\n",
              "      border-right-color: var(--fill-color);\n",
              "    }\n",
              "    80% {\n",
              "      border-color: transparent;\n",
              "      border-right-color: var(--fill-color);\n",
              "      border-bottom-color: var(--fill-color);\n",
              "    }\n",
              "    90% {\n",
              "      border-color: transparent;\n",
              "      border-bottom-color: var(--fill-color);\n",
              "    }\n",
              "  }\n",
              "</style>\n",
              "\n",
              "  <script>\n",
              "    async function quickchart(key) {\n",
              "      const quickchartButtonEl =\n",
              "        document.querySelector('#' + key + ' button');\n",
              "      quickchartButtonEl.disabled = true;  // To prevent multiple clicks.\n",
              "      quickchartButtonEl.classList.add('colab-df-spinner');\n",
              "      try {\n",
              "        const charts = await google.colab.kernel.invokeFunction(\n",
              "            'suggestCharts', [key], {});\n",
              "      } catch (error) {\n",
              "        console.error('Error during call to suggestCharts:', error);\n",
              "      }\n",
              "      quickchartButtonEl.classList.remove('colab-df-spinner');\n",
              "      quickchartButtonEl.classList.add('colab-df-quickchart-complete');\n",
              "    }\n",
              "    (() => {\n",
              "      let quickchartButtonEl =\n",
              "        document.querySelector('#df-c0bba7f9-53ae-49a1-8231-9907647a25b4 button');\n",
              "      quickchartButtonEl.style.display =\n",
              "        google.colab.kernel.accessAllowed ? 'block' : 'none';\n",
              "    })();\n",
              "  </script>\n",
              "</div>\n",
              "    </div>\n",
              "  </div>\n"
            ],
            "application/vnd.google.colaboratory.intrinsic+json": {
              "type": "dataframe",
              "repr_error": "0"
            }
          },
          "metadata": {},
          "execution_count": 95
        }
      ]
    },
    {
      "cell_type": "markdown",
      "source": [
        "Dalam pengecekan tersebut, ditemukan missing value sebesar 53.33% atau kurang dari 70%, maka langkah yang diambil adalah melakukan imputasi terhadap missing value tersebut. Adapun langkahnya adalah sebagai berikut ini."
      ],
      "metadata": {
        "id": "J2KwweKsAtrP"
      }
    },
    {
      "cell_type": "markdown",
      "source": [
        "#####**Imputasi Missing Values**"
      ],
      "metadata": {
        "id": "q5hGWQv32-7e"
      }
    },
    {
      "cell_type": "code",
      "source": [
        "mode_education = df['Education Level'].mode()[0]\n",
        "df['Education Level'].fillna(mode_education, inplace=True)"
      ],
      "metadata": {
        "id": "PRhY20xO3Bcy"
      },
      "execution_count": 96,
      "outputs": []
    },
    {
      "cell_type": "code",
      "source": [
        "mean_age = df['Age'].mean()\n",
        "df['Age'].fillna(mean_age, inplace=True)\n",
        "\n",
        "mean_experience = df['Years of Experience'].mean()\n",
        "df['Years of Experience'].fillna(mean_experience, inplace=True)\n",
        "\n",
        "mean_salary = df['Salary'].mean()\n",
        "df['Salary'].fillna(mean_salary, inplace=True)"
      ],
      "metadata": {
        "id": "G7GK2psN316N"
      },
      "execution_count": 97,
      "outputs": []
    },
    {
      "cell_type": "markdown",
      "source": [
        "Disini kita akan melakukan imputasi missing value dengan menggunakan mean / nilai rata-rata, yaitu:\n",
        "\n",
        "Mode (Modus) untuk 'Education Level': Digunakan untuk mengisi nilai yang hilang dalam kolom 'Education Level'. Yaitu dengan mencari nilai modus pada kolom Education Level.\n",
        "\n",
        "Mean (Rata-rata) untuk 'Age', 'Years of Experience', dan 'Salary': Digunakan untuk mengisi nilai yang hilang dalam kolom 'Age', 'Years of Experience', dan 'Salary'. Rata-rata adalah jumlah dari semua nilai dalam suatu kolom dibagi dengan jumlah total nilai. Cara ini adalah pendekatan umum untuk mengisi nilai yang hilang ketika data terdistribusi secara normal."
      ],
      "metadata": {
        "id": "lUiXrTKpBM0i"
      }
    },
    {
      "cell_type": "markdown",
      "source": [
        "#####**Pengecekkan Ulang**"
      ],
      "metadata": {
        "id": "RHI4J21Z4CER"
      }
    },
    {
      "cell_type": "code",
      "source": [
        "pd.DataFrame(df.isna().sum() / len(df) * 100, columns=['Null Ratio %'])"
      ],
      "metadata": {
        "id": "-vHMtxK44Bs6",
        "colab": {
          "base_uri": "https://localhost:8080/",
          "height": 0
        },
        "outputId": "a536b428-2c59-4053-e6a7-10220fe278ab"
      },
      "execution_count": 98,
      "outputs": [
        {
          "output_type": "execute_result",
          "data": {
            "text/plain": [
              "                     Null Ratio %\n",
              "Age                      0.000000\n",
              "Gender                   0.533333\n",
              "Education Level          0.000000\n",
              "Job Title                0.533333\n",
              "Years of Experience      0.000000\n",
              "Salary                   0.000000"
            ],
            "text/html": [
              "\n",
              "  <div id=\"df-faca56fe-ae50-4978-9fbe-217065516148\" class=\"colab-df-container\">\n",
              "    <div>\n",
              "<style scoped>\n",
              "    .dataframe tbody tr th:only-of-type {\n",
              "        vertical-align: middle;\n",
              "    }\n",
              "\n",
              "    .dataframe tbody tr th {\n",
              "        vertical-align: top;\n",
              "    }\n",
              "\n",
              "    .dataframe thead th {\n",
              "        text-align: right;\n",
              "    }\n",
              "</style>\n",
              "<table border=\"1\" class=\"dataframe\">\n",
              "  <thead>\n",
              "    <tr style=\"text-align: right;\">\n",
              "      <th></th>\n",
              "      <th>Null Ratio %</th>\n",
              "    </tr>\n",
              "  </thead>\n",
              "  <tbody>\n",
              "    <tr>\n",
              "      <th>Age</th>\n",
              "      <td>0.000000</td>\n",
              "    </tr>\n",
              "    <tr>\n",
              "      <th>Gender</th>\n",
              "      <td>0.533333</td>\n",
              "    </tr>\n",
              "    <tr>\n",
              "      <th>Education Level</th>\n",
              "      <td>0.000000</td>\n",
              "    </tr>\n",
              "    <tr>\n",
              "      <th>Job Title</th>\n",
              "      <td>0.533333</td>\n",
              "    </tr>\n",
              "    <tr>\n",
              "      <th>Years of Experience</th>\n",
              "      <td>0.000000</td>\n",
              "    </tr>\n",
              "    <tr>\n",
              "      <th>Salary</th>\n",
              "      <td>0.000000</td>\n",
              "    </tr>\n",
              "  </tbody>\n",
              "</table>\n",
              "</div>\n",
              "    <div class=\"colab-df-buttons\">\n",
              "\n",
              "  <div class=\"colab-df-container\">\n",
              "    <button class=\"colab-df-convert\" onclick=\"convertToInteractive('df-faca56fe-ae50-4978-9fbe-217065516148')\"\n",
              "            title=\"Convert this dataframe to an interactive table.\"\n",
              "            style=\"display:none;\">\n",
              "\n",
              "  <svg xmlns=\"http://www.w3.org/2000/svg\" height=\"24px\" viewBox=\"0 -960 960 960\">\n",
              "    <path d=\"M120-120v-720h720v720H120Zm60-500h600v-160H180v160Zm220 220h160v-160H400v160Zm0 220h160v-160H400v160ZM180-400h160v-160H180v160Zm440 0h160v-160H620v160ZM180-180h160v-160H180v160Zm440 0h160v-160H620v160Z\"/>\n",
              "  </svg>\n",
              "    </button>\n",
              "\n",
              "  <style>\n",
              "    .colab-df-container {\n",
              "      display:flex;\n",
              "      gap: 12px;\n",
              "    }\n",
              "\n",
              "    .colab-df-convert {\n",
              "      background-color: #E8F0FE;\n",
              "      border: none;\n",
              "      border-radius: 50%;\n",
              "      cursor: pointer;\n",
              "      display: none;\n",
              "      fill: #1967D2;\n",
              "      height: 32px;\n",
              "      padding: 0 0 0 0;\n",
              "      width: 32px;\n",
              "    }\n",
              "\n",
              "    .colab-df-convert:hover {\n",
              "      background-color: #E2EBFA;\n",
              "      box-shadow: 0px 1px 2px rgba(60, 64, 67, 0.3), 0px 1px 3px 1px rgba(60, 64, 67, 0.15);\n",
              "      fill: #174EA6;\n",
              "    }\n",
              "\n",
              "    .colab-df-buttons div {\n",
              "      margin-bottom: 4px;\n",
              "    }\n",
              "\n",
              "    [theme=dark] .colab-df-convert {\n",
              "      background-color: #3B4455;\n",
              "      fill: #D2E3FC;\n",
              "    }\n",
              "\n",
              "    [theme=dark] .colab-df-convert:hover {\n",
              "      background-color: #434B5C;\n",
              "      box-shadow: 0px 1px 3px 1px rgba(0, 0, 0, 0.15);\n",
              "      filter: drop-shadow(0px 1px 2px rgba(0, 0, 0, 0.3));\n",
              "      fill: #FFFFFF;\n",
              "    }\n",
              "  </style>\n",
              "\n",
              "    <script>\n",
              "      const buttonEl =\n",
              "        document.querySelector('#df-faca56fe-ae50-4978-9fbe-217065516148 button.colab-df-convert');\n",
              "      buttonEl.style.display =\n",
              "        google.colab.kernel.accessAllowed ? 'block' : 'none';\n",
              "\n",
              "      async function convertToInteractive(key) {\n",
              "        const element = document.querySelector('#df-faca56fe-ae50-4978-9fbe-217065516148');\n",
              "        const dataTable =\n",
              "          await google.colab.kernel.invokeFunction('convertToInteractive',\n",
              "                                                    [key], {});\n",
              "        if (!dataTable) return;\n",
              "\n",
              "        const docLinkHtml = 'Like what you see? Visit the ' +\n",
              "          '<a target=\"_blank\" href=https://colab.research.google.com/notebooks/data_table.ipynb>data table notebook</a>'\n",
              "          + ' to learn more about interactive tables.';\n",
              "        element.innerHTML = '';\n",
              "        dataTable['output_type'] = 'display_data';\n",
              "        await google.colab.output.renderOutput(dataTable, element);\n",
              "        const docLink = document.createElement('div');\n",
              "        docLink.innerHTML = docLinkHtml;\n",
              "        element.appendChild(docLink);\n",
              "      }\n",
              "    </script>\n",
              "  </div>\n",
              "\n",
              "\n",
              "<div id=\"df-df1def64-a030-4684-9110-773404b11c88\">\n",
              "  <button class=\"colab-df-quickchart\" onclick=\"quickchart('df-df1def64-a030-4684-9110-773404b11c88')\"\n",
              "            title=\"Suggest charts\"\n",
              "            style=\"display:none;\">\n",
              "\n",
              "<svg xmlns=\"http://www.w3.org/2000/svg\" height=\"24px\"viewBox=\"0 0 24 24\"\n",
              "     width=\"24px\">\n",
              "    <g>\n",
              "        <path d=\"M19 3H5c-1.1 0-2 .9-2 2v14c0 1.1.9 2 2 2h14c1.1 0 2-.9 2-2V5c0-1.1-.9-2-2-2zM9 17H7v-7h2v7zm4 0h-2V7h2v10zm4 0h-2v-4h2v4z\"/>\n",
              "    </g>\n",
              "</svg>\n",
              "  </button>\n",
              "\n",
              "<style>\n",
              "  .colab-df-quickchart {\n",
              "      --bg-color: #E8F0FE;\n",
              "      --fill-color: #1967D2;\n",
              "      --hover-bg-color: #E2EBFA;\n",
              "      --hover-fill-color: #174EA6;\n",
              "      --disabled-fill-color: #AAA;\n",
              "      --disabled-bg-color: #DDD;\n",
              "  }\n",
              "\n",
              "  [theme=dark] .colab-df-quickchart {\n",
              "      --bg-color: #3B4455;\n",
              "      --fill-color: #D2E3FC;\n",
              "      --hover-bg-color: #434B5C;\n",
              "      --hover-fill-color: #FFFFFF;\n",
              "      --disabled-bg-color: #3B4455;\n",
              "      --disabled-fill-color: #666;\n",
              "  }\n",
              "\n",
              "  .colab-df-quickchart {\n",
              "    background-color: var(--bg-color);\n",
              "    border: none;\n",
              "    border-radius: 50%;\n",
              "    cursor: pointer;\n",
              "    display: none;\n",
              "    fill: var(--fill-color);\n",
              "    height: 32px;\n",
              "    padding: 0;\n",
              "    width: 32px;\n",
              "  }\n",
              "\n",
              "  .colab-df-quickchart:hover {\n",
              "    background-color: var(--hover-bg-color);\n",
              "    box-shadow: 0 1px 2px rgba(60, 64, 67, 0.3), 0 1px 3px 1px rgba(60, 64, 67, 0.15);\n",
              "    fill: var(--button-hover-fill-color);\n",
              "  }\n",
              "\n",
              "  .colab-df-quickchart-complete:disabled,\n",
              "  .colab-df-quickchart-complete:disabled:hover {\n",
              "    background-color: var(--disabled-bg-color);\n",
              "    fill: var(--disabled-fill-color);\n",
              "    box-shadow: none;\n",
              "  }\n",
              "\n",
              "  .colab-df-spinner {\n",
              "    border: 2px solid var(--fill-color);\n",
              "    border-color: transparent;\n",
              "    border-bottom-color: var(--fill-color);\n",
              "    animation:\n",
              "      spin 1s steps(1) infinite;\n",
              "  }\n",
              "\n",
              "  @keyframes spin {\n",
              "    0% {\n",
              "      border-color: transparent;\n",
              "      border-bottom-color: var(--fill-color);\n",
              "      border-left-color: var(--fill-color);\n",
              "    }\n",
              "    20% {\n",
              "      border-color: transparent;\n",
              "      border-left-color: var(--fill-color);\n",
              "      border-top-color: var(--fill-color);\n",
              "    }\n",
              "    30% {\n",
              "      border-color: transparent;\n",
              "      border-left-color: var(--fill-color);\n",
              "      border-top-color: var(--fill-color);\n",
              "      border-right-color: var(--fill-color);\n",
              "    }\n",
              "    40% {\n",
              "      border-color: transparent;\n",
              "      border-right-color: var(--fill-color);\n",
              "      border-top-color: var(--fill-color);\n",
              "    }\n",
              "    60% {\n",
              "      border-color: transparent;\n",
              "      border-right-color: var(--fill-color);\n",
              "    }\n",
              "    80% {\n",
              "      border-color: transparent;\n",
              "      border-right-color: var(--fill-color);\n",
              "      border-bottom-color: var(--fill-color);\n",
              "    }\n",
              "    90% {\n",
              "      border-color: transparent;\n",
              "      border-bottom-color: var(--fill-color);\n",
              "    }\n",
              "  }\n",
              "</style>\n",
              "\n",
              "  <script>\n",
              "    async function quickchart(key) {\n",
              "      const quickchartButtonEl =\n",
              "        document.querySelector('#' + key + ' button');\n",
              "      quickchartButtonEl.disabled = true;  // To prevent multiple clicks.\n",
              "      quickchartButtonEl.classList.add('colab-df-spinner');\n",
              "      try {\n",
              "        const charts = await google.colab.kernel.invokeFunction(\n",
              "            'suggestCharts', [key], {});\n",
              "      } catch (error) {\n",
              "        console.error('Error during call to suggestCharts:', error);\n",
              "      }\n",
              "      quickchartButtonEl.classList.remove('colab-df-spinner');\n",
              "      quickchartButtonEl.classList.add('colab-df-quickchart-complete');\n",
              "    }\n",
              "    (() => {\n",
              "      let quickchartButtonEl =\n",
              "        document.querySelector('#df-df1def64-a030-4684-9110-773404b11c88 button');\n",
              "      quickchartButtonEl.style.display =\n",
              "        google.colab.kernel.accessAllowed ? 'block' : 'none';\n",
              "    })();\n",
              "  </script>\n",
              "</div>\n",
              "    </div>\n",
              "  </div>\n"
            ],
            "application/vnd.google.colaboratory.intrinsic+json": {
              "type": "dataframe",
              "summary": "{\n  \"name\": \"pd\",\n  \"rows\": 6,\n  \"fields\": [\n    {\n      \"column\": \"Null Ratio %\",\n      \"properties\": {\n        \"dtype\": \"number\",\n        \"std\": 0.27541214906363853,\n        \"min\": 0.0,\n        \"max\": 0.5333333333333333,\n        \"num_unique_values\": 2,\n        \"samples\": [\n          0.5333333333333333,\n          0.0\n        ],\n        \"semantic_type\": \"\",\n        \"description\": \"\"\n      }\n    }\n  ]\n}"
            }
          },
          "metadata": {},
          "execution_count": 98
        }
      ]
    },
    {
      "cell_type": "markdown",
      "source": [
        "Output tersebut menunjukkan persentase nilai yang hilang (missing values) dalam setiap kolom DataFrame, diukur sebagai persentase dari total jumlah baris DataFrame.\n",
        "\n",
        "Age: Tidak ada nilai yang hilang (0.0000%)\n",
        "Gender dan Job Title: Masing-masing memiliki 0.5333% nilai yang hilang.\n",
        "Education Level, Years of Experience, dan Salary: Tidak ada nilai yang hilang (0.0000%).\n",
        "\n",
        "secara umum, persentase nilai yang hilang sekitar 0.5333% masih dapat diterima. Meskipun keputusan akhir kembali kepada tujuan penelitian data."
      ],
      "metadata": {
        "id": "mE3UopkIDRLS"
      }
    },
    {
      "cell_type": "markdown",
      "source": [
        "###**Penanganan Duplicated Values**"
      ],
      "metadata": {
        "id": "VNMz6JBO4YC_"
      }
    },
    {
      "cell_type": "markdown",
      "source": [
        "#####**Pengecekkan Nilai Duplikat**"
      ],
      "metadata": {
        "id": "-N1z5Cu_4bNy"
      }
    },
    {
      "cell_type": "code",
      "source": [
        "duplicate_rows = df[df.duplicated()]\n",
        "print(\"Duplicate Rows except first occurrence based on all columns:\")\n",
        "print(duplicate_rows)"
      ],
      "metadata": {
        "id": "Du-s7TmE4dRB",
        "colab": {
          "base_uri": "https://localhost:8080/"
        },
        "outputId": "ca34fcc1-ac83-4368-b351-b9a02cb7802b"
      },
      "execution_count": 99,
      "outputs": [
        {
          "output_type": "stream",
          "name": "stdout",
          "text": [
            "Duplicate Rows except first occurrence based on all columns:\n",
            "           Age  Gender Education Level                              Job Title  \\\n",
            "195  28.000000    Male      Bachelor's                Junior Business Analyst   \n",
            "250  30.000000  Female      Bachelor's           Junior Marketing Coordinator   \n",
            "251  38.000000    Male        Master's                   Senior IT Consultant   \n",
            "252  45.000000  Female             PhD                Senior Product Designer   \n",
            "253  28.000000    Male      Bachelor's  Junior Business Development Associate   \n",
            "254  35.000000  Female      Bachelor's               Senior Marketing Analyst   \n",
            "255  44.000000    Male      Bachelor's               Senior Software Engineer   \n",
            "256  34.000000  Female        Master's               Senior Financial Advisor   \n",
            "257  35.000000    Male      Bachelor's             Senior Project Coordinator   \n",
            "258  50.000000  Female             PhD                 Director of Operations   \n",
            "260  37.431635     NaN      Bachelor's                                    NaN   \n",
            "262  46.000000    Male             PhD                  Senior Data Scientist   \n",
            "281  41.000000  Female      Bachelor's             Senior Project Coordinator   \n",
            "287  35.000000  Female      Bachelor's               Senior Marketing Analyst   \n",
            "303  45.000000    Male             PhD                   Senior Data Engineer   \n",
            "306  49.000000  Female        Master's                  Director of Marketing   \n",
            "307  31.000000    Male      Bachelor's              Junior Operations Analyst   \n",
            "309  47.000000    Male        Master's                  Director of Marketing   \n",
            "310  29.000000  Female      Bachelor's  Junior Business Development Associate   \n",
            "311  35.000000    Male      Bachelor's               Senior Financial Manager   \n",
            "312  44.000000  Female             PhD                Senior Product Designer   \n",
            "313  33.000000    Male      Bachelor's                Junior Business Analyst   \n",
            "314  35.000000  Female      Bachelor's               Senior Marketing Analyst   \n",
            "315  44.000000    Male      Bachelor's               Senior Software Engineer   \n",
            "317  36.000000    Male      Bachelor's            Senior Marketing Specialist   \n",
            "328  38.000000  Female      Bachelor's                Senior Business Analyst   \n",
            "345  33.000000    Male      Bachelor's                Junior Business Analyst   \n",
            "346  35.000000  Female      Bachelor's               Senior Marketing Analyst   \n",
            "352  38.000000  Female      Bachelor's                Senior Business Analyst   \n",
            "353  48.000000    Male        Master's                  Director of Marketing   \n",
            "354  31.000000  Female      Bachelor's  Junior Business Development Associate   \n",
            "355  40.000000    Male      Bachelor's               Senior Financial Analyst   \n",
            "356  45.000000  Female             PhD                     Senior UX Designer   \n",
            "357  33.000000    Male      Bachelor's                 Junior Product Manager   \n",
            "358  36.000000  Female      Bachelor's               Senior Marketing Manager   \n",
            "359  47.000000    Male        Master's                 Director of Operations   \n",
            "360  29.000000  Female      Bachelor's                 Junior Project Manager   \n",
            "361  34.000000    Male      Bachelor's          Senior Operations Coordinator   \n",
            "362  44.000000  Female             PhD                Senior Business Analyst   \n",
            "363  33.000000    Male      Bachelor's            Junior Marketing Specialist   \n",
            "364  35.000000  Female      Bachelor's               Senior Financial Manager   \n",
            "365  43.000000    Male        Master's                  Director of Marketing   \n",
            "366  31.000000  Female      Bachelor's               Junior Financial Analyst   \n",
            "367  41.000000    Male      Bachelor's                 Senior Product Manager   \n",
            "368  44.000000  Female             PhD                   Senior Data Engineer   \n",
            "369  33.000000    Male      Bachelor's                Junior Business Analyst   \n",
            "370  35.000000  Female      Bachelor's               Senior Marketing Analyst   \n",
            "372  29.000000  Female      Bachelor's                 Junior Project Manager   \n",
            "373  34.000000    Male      Bachelor's          Senior Operations Coordinator   \n",
            "374  44.000000  Female             PhD                Senior Business Analyst   \n",
            "\n",
            "     Years of Experience         Salary  \n",
            "195             2.000000   40000.000000  \n",
            "250             2.000000   40000.000000  \n",
            "251             9.000000  110000.000000  \n",
            "252            15.000000  150000.000000  \n",
            "253             2.000000   40000.000000  \n",
            "254             8.000000   85000.000000  \n",
            "255            14.000000  130000.000000  \n",
            "256             6.000000  100000.000000  \n",
            "257             9.000000   95000.000000  \n",
            "258            22.000000  180000.000000  \n",
            "260            10.030831  100577.345845  \n",
            "262            18.000000  160000.000000  \n",
            "281            11.000000   95000.000000  \n",
            "287             8.000000   85000.000000  \n",
            "303            16.000000  150000.000000  \n",
            "306            21.000000  180000.000000  \n",
            "307             3.000000   50000.000000  \n",
            "309            19.000000  170000.000000  \n",
            "310             1.500000   35000.000000  \n",
            "311             9.000000  100000.000000  \n",
            "312            15.000000  150000.000000  \n",
            "313             4.000000   60000.000000  \n",
            "314             8.000000   85000.000000  \n",
            "315            13.000000  130000.000000  \n",
            "317             8.000000   95000.000000  \n",
            "328            10.000000  110000.000000  \n",
            "345             4.000000   60000.000000  \n",
            "346             8.000000   85000.000000  \n",
            "352            10.000000  110000.000000  \n",
            "353            21.000000  180000.000000  \n",
            "354             3.000000   50000.000000  \n",
            "355            12.000000  130000.000000  \n",
            "356            16.000000  160000.000000  \n",
            "357             4.000000   60000.000000  \n",
            "358             8.000000   95000.000000  \n",
            "359            19.000000  170000.000000  \n",
            "360             2.000000   40000.000000  \n",
            "361             7.000000   90000.000000  \n",
            "362            15.000000  150000.000000  \n",
            "363             5.000000   70000.000000  \n",
            "364             8.000000   90000.000000  \n",
            "365            18.000000  170000.000000  \n",
            "366             3.000000   50000.000000  \n",
            "367            14.000000  150000.000000  \n",
            "368            16.000000  160000.000000  \n",
            "369             4.000000   60000.000000  \n",
            "370             8.000000   85000.000000  \n",
            "372             2.000000   40000.000000  \n",
            "373             7.000000   90000.000000  \n",
            "374            15.000000  150000.000000  \n"
          ]
        }
      ]
    },
    {
      "cell_type": "markdown",
      "source": [
        "Berdasarkan hasil pengecekan nilai duplikat dalam dataset, ditemukan bahwa beberapa baris memiliki nilai yang sama untuk setiap kolom, khususnya pada atribut yang berkaitan langsung dengan analisis gaji seperti 'Job Title', 'Years of Experience', dan 'Salary'. Dalam konteks dataset yang menunjukkan informasi gaji para lulusan, adanya duplikasi data seperti ini diharapkan dan tidak dianggap sebagai masalah yang mengganggu analisis. Sehingga langkah ini dapat dilewati."
      ],
      "metadata": {
        "id": "WH97z7tg-8Mz"
      }
    },
    {
      "cell_type": "markdown",
      "source": [
        "###**Penanganan Outliers**"
      ],
      "metadata": {
        "id": "6IjpatDO5GIw"
      }
    },
    {
      "cell_type": "markdown",
      "source": [
        "#####**Pengecekkan Outliers**"
      ],
      "metadata": {
        "id": "pvKbkPIX5HtG"
      }
    },
    {
      "cell_type": "code",
      "source": [
        "results = []\n",
        "\n",
        "cols = df.select_dtypes(include=['float64', 'int64'])\n",
        "\n",
        "for col in cols:\n",
        "  q1 = df[col].quantile(0.25)\n",
        "  q3 = df[col].quantile(0.75)\n",
        "  iqr = q3 - q1\n",
        "  lower_bound = q1 - 1.5*iqr\n",
        "  upper_bound = q3 + 1.5*iqr\n",
        "  outliers = df[(df[col] < lower_bound) | (df[col] > upper_bound)]\n",
        "  percent_outliers = (len(outliers)/len(df))*100\n",
        "  results.append({'Kolom': col, 'Persentase Outliers': percent_outliers})\n",
        "\n",
        "# Dataframe dari list hasil\n",
        "results_df = pd.DataFrame(results)\n",
        "results_df.set_index('Kolom', inplace=True)\n",
        "results_df = results_df.rename_axis(None, axis=0).rename_axis('Kolom', axis=1)\n",
        "\n",
        "# Tampilkan dataframe\n",
        "display(results_df)"
      ],
      "metadata": {
        "id": "KghMW8qV5PJ8",
        "colab": {
          "base_uri": "https://localhost:8080/",
          "height": 143
        },
        "outputId": "40123c25-6cba-4a11-ffa0-26b661cbeb8a"
      },
      "execution_count": 100,
      "outputs": [
        {
          "output_type": "display_data",
          "data": {
            "text/plain": [
              "Kolom                Persentase Outliers\n",
              "Age                                  0.0\n",
              "Years of Experience                  0.0\n",
              "Salary                               0.0"
            ],
            "text/html": [
              "\n",
              "  <div id=\"df-7bdea96c-a0c4-4ccf-b710-56758b41b263\" class=\"colab-df-container\">\n",
              "    <div>\n",
              "<style scoped>\n",
              "    .dataframe tbody tr th:only-of-type {\n",
              "        vertical-align: middle;\n",
              "    }\n",
              "\n",
              "    .dataframe tbody tr th {\n",
              "        vertical-align: top;\n",
              "    }\n",
              "\n",
              "    .dataframe thead th {\n",
              "        text-align: right;\n",
              "    }\n",
              "</style>\n",
              "<table border=\"1\" class=\"dataframe\">\n",
              "  <thead>\n",
              "    <tr style=\"text-align: right;\">\n",
              "      <th>Kolom</th>\n",
              "      <th>Persentase Outliers</th>\n",
              "    </tr>\n",
              "  </thead>\n",
              "  <tbody>\n",
              "    <tr>\n",
              "      <th>Age</th>\n",
              "      <td>0.0</td>\n",
              "    </tr>\n",
              "    <tr>\n",
              "      <th>Years of Experience</th>\n",
              "      <td>0.0</td>\n",
              "    </tr>\n",
              "    <tr>\n",
              "      <th>Salary</th>\n",
              "      <td>0.0</td>\n",
              "    </tr>\n",
              "  </tbody>\n",
              "</table>\n",
              "</div>\n",
              "    <div class=\"colab-df-buttons\">\n",
              "\n",
              "  <div class=\"colab-df-container\">\n",
              "    <button class=\"colab-df-convert\" onclick=\"convertToInteractive('df-7bdea96c-a0c4-4ccf-b710-56758b41b263')\"\n",
              "            title=\"Convert this dataframe to an interactive table.\"\n",
              "            style=\"display:none;\">\n",
              "\n",
              "  <svg xmlns=\"http://www.w3.org/2000/svg\" height=\"24px\" viewBox=\"0 -960 960 960\">\n",
              "    <path d=\"M120-120v-720h720v720H120Zm60-500h600v-160H180v160Zm220 220h160v-160H400v160Zm0 220h160v-160H400v160ZM180-400h160v-160H180v160Zm440 0h160v-160H620v160ZM180-180h160v-160H180v160Zm440 0h160v-160H620v160Z\"/>\n",
              "  </svg>\n",
              "    </button>\n",
              "\n",
              "  <style>\n",
              "    .colab-df-container {\n",
              "      display:flex;\n",
              "      gap: 12px;\n",
              "    }\n",
              "\n",
              "    .colab-df-convert {\n",
              "      background-color: #E8F0FE;\n",
              "      border: none;\n",
              "      border-radius: 50%;\n",
              "      cursor: pointer;\n",
              "      display: none;\n",
              "      fill: #1967D2;\n",
              "      height: 32px;\n",
              "      padding: 0 0 0 0;\n",
              "      width: 32px;\n",
              "    }\n",
              "\n",
              "    .colab-df-convert:hover {\n",
              "      background-color: #E2EBFA;\n",
              "      box-shadow: 0px 1px 2px rgba(60, 64, 67, 0.3), 0px 1px 3px 1px rgba(60, 64, 67, 0.15);\n",
              "      fill: #174EA6;\n",
              "    }\n",
              "\n",
              "    .colab-df-buttons div {\n",
              "      margin-bottom: 4px;\n",
              "    }\n",
              "\n",
              "    [theme=dark] .colab-df-convert {\n",
              "      background-color: #3B4455;\n",
              "      fill: #D2E3FC;\n",
              "    }\n",
              "\n",
              "    [theme=dark] .colab-df-convert:hover {\n",
              "      background-color: #434B5C;\n",
              "      box-shadow: 0px 1px 3px 1px rgba(0, 0, 0, 0.15);\n",
              "      filter: drop-shadow(0px 1px 2px rgba(0, 0, 0, 0.3));\n",
              "      fill: #FFFFFF;\n",
              "    }\n",
              "  </style>\n",
              "\n",
              "    <script>\n",
              "      const buttonEl =\n",
              "        document.querySelector('#df-7bdea96c-a0c4-4ccf-b710-56758b41b263 button.colab-df-convert');\n",
              "      buttonEl.style.display =\n",
              "        google.colab.kernel.accessAllowed ? 'block' : 'none';\n",
              "\n",
              "      async function convertToInteractive(key) {\n",
              "        const element = document.querySelector('#df-7bdea96c-a0c4-4ccf-b710-56758b41b263');\n",
              "        const dataTable =\n",
              "          await google.colab.kernel.invokeFunction('convertToInteractive',\n",
              "                                                    [key], {});\n",
              "        if (!dataTable) return;\n",
              "\n",
              "        const docLinkHtml = 'Like what you see? Visit the ' +\n",
              "          '<a target=\"_blank\" href=https://colab.research.google.com/notebooks/data_table.ipynb>data table notebook</a>'\n",
              "          + ' to learn more about interactive tables.';\n",
              "        element.innerHTML = '';\n",
              "        dataTable['output_type'] = 'display_data';\n",
              "        await google.colab.output.renderOutput(dataTable, element);\n",
              "        const docLink = document.createElement('div');\n",
              "        docLink.innerHTML = docLinkHtml;\n",
              "        element.appendChild(docLink);\n",
              "      }\n",
              "    </script>\n",
              "  </div>\n",
              "\n",
              "\n",
              "<div id=\"df-776838b5-9d27-4bba-80dd-b68b1d2c09f0\">\n",
              "  <button class=\"colab-df-quickchart\" onclick=\"quickchart('df-776838b5-9d27-4bba-80dd-b68b1d2c09f0')\"\n",
              "            title=\"Suggest charts\"\n",
              "            style=\"display:none;\">\n",
              "\n",
              "<svg xmlns=\"http://www.w3.org/2000/svg\" height=\"24px\"viewBox=\"0 0 24 24\"\n",
              "     width=\"24px\">\n",
              "    <g>\n",
              "        <path d=\"M19 3H5c-1.1 0-2 .9-2 2v14c0 1.1.9 2 2 2h14c1.1 0 2-.9 2-2V5c0-1.1-.9-2-2-2zM9 17H7v-7h2v7zm4 0h-2V7h2v10zm4 0h-2v-4h2v4z\"/>\n",
              "    </g>\n",
              "</svg>\n",
              "  </button>\n",
              "\n",
              "<style>\n",
              "  .colab-df-quickchart {\n",
              "      --bg-color: #E8F0FE;\n",
              "      --fill-color: #1967D2;\n",
              "      --hover-bg-color: #E2EBFA;\n",
              "      --hover-fill-color: #174EA6;\n",
              "      --disabled-fill-color: #AAA;\n",
              "      --disabled-bg-color: #DDD;\n",
              "  }\n",
              "\n",
              "  [theme=dark] .colab-df-quickchart {\n",
              "      --bg-color: #3B4455;\n",
              "      --fill-color: #D2E3FC;\n",
              "      --hover-bg-color: #434B5C;\n",
              "      --hover-fill-color: #FFFFFF;\n",
              "      --disabled-bg-color: #3B4455;\n",
              "      --disabled-fill-color: #666;\n",
              "  }\n",
              "\n",
              "  .colab-df-quickchart {\n",
              "    background-color: var(--bg-color);\n",
              "    border: none;\n",
              "    border-radius: 50%;\n",
              "    cursor: pointer;\n",
              "    display: none;\n",
              "    fill: var(--fill-color);\n",
              "    height: 32px;\n",
              "    padding: 0;\n",
              "    width: 32px;\n",
              "  }\n",
              "\n",
              "  .colab-df-quickchart:hover {\n",
              "    background-color: var(--hover-bg-color);\n",
              "    box-shadow: 0 1px 2px rgba(60, 64, 67, 0.3), 0 1px 3px 1px rgba(60, 64, 67, 0.15);\n",
              "    fill: var(--button-hover-fill-color);\n",
              "  }\n",
              "\n",
              "  .colab-df-quickchart-complete:disabled,\n",
              "  .colab-df-quickchart-complete:disabled:hover {\n",
              "    background-color: var(--disabled-bg-color);\n",
              "    fill: var(--disabled-fill-color);\n",
              "    box-shadow: none;\n",
              "  }\n",
              "\n",
              "  .colab-df-spinner {\n",
              "    border: 2px solid var(--fill-color);\n",
              "    border-color: transparent;\n",
              "    border-bottom-color: var(--fill-color);\n",
              "    animation:\n",
              "      spin 1s steps(1) infinite;\n",
              "  }\n",
              "\n",
              "  @keyframes spin {\n",
              "    0% {\n",
              "      border-color: transparent;\n",
              "      border-bottom-color: var(--fill-color);\n",
              "      border-left-color: var(--fill-color);\n",
              "    }\n",
              "    20% {\n",
              "      border-color: transparent;\n",
              "      border-left-color: var(--fill-color);\n",
              "      border-top-color: var(--fill-color);\n",
              "    }\n",
              "    30% {\n",
              "      border-color: transparent;\n",
              "      border-left-color: var(--fill-color);\n",
              "      border-top-color: var(--fill-color);\n",
              "      border-right-color: var(--fill-color);\n",
              "    }\n",
              "    40% {\n",
              "      border-color: transparent;\n",
              "      border-right-color: var(--fill-color);\n",
              "      border-top-color: var(--fill-color);\n",
              "    }\n",
              "    60% {\n",
              "      border-color: transparent;\n",
              "      border-right-color: var(--fill-color);\n",
              "    }\n",
              "    80% {\n",
              "      border-color: transparent;\n",
              "      border-right-color: var(--fill-color);\n",
              "      border-bottom-color: var(--fill-color);\n",
              "    }\n",
              "    90% {\n",
              "      border-color: transparent;\n",
              "      border-bottom-color: var(--fill-color);\n",
              "    }\n",
              "  }\n",
              "</style>\n",
              "\n",
              "  <script>\n",
              "    async function quickchart(key) {\n",
              "      const quickchartButtonEl =\n",
              "        document.querySelector('#' + key + ' button');\n",
              "      quickchartButtonEl.disabled = true;  // To prevent multiple clicks.\n",
              "      quickchartButtonEl.classList.add('colab-df-spinner');\n",
              "      try {\n",
              "        const charts = await google.colab.kernel.invokeFunction(\n",
              "            'suggestCharts', [key], {});\n",
              "      } catch (error) {\n",
              "        console.error('Error during call to suggestCharts:', error);\n",
              "      }\n",
              "      quickchartButtonEl.classList.remove('colab-df-spinner');\n",
              "      quickchartButtonEl.classList.add('colab-df-quickchart-complete');\n",
              "    }\n",
              "    (() => {\n",
              "      let quickchartButtonEl =\n",
              "        document.querySelector('#df-776838b5-9d27-4bba-80dd-b68b1d2c09f0 button');\n",
              "      quickchartButtonEl.style.display =\n",
              "        google.colab.kernel.accessAllowed ? 'block' : 'none';\n",
              "    })();\n",
              "  </script>\n",
              "</div>\n",
              "    </div>\n",
              "  </div>\n"
            ],
            "application/vnd.google.colaboratory.intrinsic+json": {
              "type": "dataframe",
              "variable_name": "results_df",
              "summary": "{\n  \"name\": \"results_df\",\n  \"rows\": 3,\n  \"fields\": [\n    {\n      \"column\": \"Persentase Outliers\",\n      \"properties\": {\n        \"dtype\": \"number\",\n        \"std\": 0.0,\n        \"min\": 0.0,\n        \"max\": 0.0,\n        \"num_unique_values\": 1,\n        \"samples\": [\n          0.0\n        ],\n        \"semantic_type\": \"\",\n        \"description\": \"\"\n      }\n    }\n  ]\n}"
            }
          },
          "metadata": {}
        }
      ]
    },
    {
      "cell_type": "markdown",
      "source": [
        "Dalam dataset tersebut, tidak ditemukan outlier values dalam kolom Age, Years of Experience, dan Salary. Ini menunjukkan bahwa tidak ada nilai ekstrim atau tidak biasa dalam data untuk ketiga kolom tersebut. Sehingga langkah ini dapat dilewati."
      ],
      "metadata": {
        "id": "-pXzTF8yEPpU"
      }
    },
    {
      "cell_type": "markdown",
      "source": [
        "##**CONSTRUCT DATA**"
      ],
      "metadata": {
        "id": "3jtXTUqG5r8I"
      }
    },
    {
      "cell_type": "markdown",
      "source": [
        "###**Melakukan Rekayasa Fitur (Feature Engineering)**"
      ],
      "metadata": {
        "id": "3w2Kz5gb5zg-"
      }
    },
    {
      "cell_type": "code",
      "source": [
        "df.head()"
      ],
      "metadata": {
        "id": "7mkuPggZKSCj",
        "colab": {
          "base_uri": "https://localhost:8080/",
          "height": 206
        },
        "outputId": "0656147e-0f55-4390-ad19-6bb386f2662b"
      },
      "execution_count": 101,
      "outputs": [
        {
          "output_type": "execute_result",
          "data": {
            "text/plain": [
              "    Age  Gender Education Level          Job Title  Years of Experience  \\\n",
              "0  32.0    Male      Bachelor's  Software Engineer                  5.0   \n",
              "1  28.0  Female        Master's       Data Analyst                  3.0   \n",
              "2  45.0    Male             PhD     Senior Manager                 15.0   \n",
              "3  36.0  Female      Bachelor's    Sales Associate                  7.0   \n",
              "4  52.0    Male        Master's           Director                 20.0   \n",
              "\n",
              "     Salary  \n",
              "0   90000.0  \n",
              "1   65000.0  \n",
              "2  150000.0  \n",
              "3   60000.0  \n",
              "4  200000.0  "
            ],
            "text/html": [
              "\n",
              "  <div id=\"df-9ecfd7f5-c59c-4757-a701-8e4db3025089\" class=\"colab-df-container\">\n",
              "    <div>\n",
              "<style scoped>\n",
              "    .dataframe tbody tr th:only-of-type {\n",
              "        vertical-align: middle;\n",
              "    }\n",
              "\n",
              "    .dataframe tbody tr th {\n",
              "        vertical-align: top;\n",
              "    }\n",
              "\n",
              "    .dataframe thead th {\n",
              "        text-align: right;\n",
              "    }\n",
              "</style>\n",
              "<table border=\"1\" class=\"dataframe\">\n",
              "  <thead>\n",
              "    <tr style=\"text-align: right;\">\n",
              "      <th></th>\n",
              "      <th>Age</th>\n",
              "      <th>Gender</th>\n",
              "      <th>Education Level</th>\n",
              "      <th>Job Title</th>\n",
              "      <th>Years of Experience</th>\n",
              "      <th>Salary</th>\n",
              "    </tr>\n",
              "  </thead>\n",
              "  <tbody>\n",
              "    <tr>\n",
              "      <th>0</th>\n",
              "      <td>32.0</td>\n",
              "      <td>Male</td>\n",
              "      <td>Bachelor's</td>\n",
              "      <td>Software Engineer</td>\n",
              "      <td>5.0</td>\n",
              "      <td>90000.0</td>\n",
              "    </tr>\n",
              "    <tr>\n",
              "      <th>1</th>\n",
              "      <td>28.0</td>\n",
              "      <td>Female</td>\n",
              "      <td>Master's</td>\n",
              "      <td>Data Analyst</td>\n",
              "      <td>3.0</td>\n",
              "      <td>65000.0</td>\n",
              "    </tr>\n",
              "    <tr>\n",
              "      <th>2</th>\n",
              "      <td>45.0</td>\n",
              "      <td>Male</td>\n",
              "      <td>PhD</td>\n",
              "      <td>Senior Manager</td>\n",
              "      <td>15.0</td>\n",
              "      <td>150000.0</td>\n",
              "    </tr>\n",
              "    <tr>\n",
              "      <th>3</th>\n",
              "      <td>36.0</td>\n",
              "      <td>Female</td>\n",
              "      <td>Bachelor's</td>\n",
              "      <td>Sales Associate</td>\n",
              "      <td>7.0</td>\n",
              "      <td>60000.0</td>\n",
              "    </tr>\n",
              "    <tr>\n",
              "      <th>4</th>\n",
              "      <td>52.0</td>\n",
              "      <td>Male</td>\n",
              "      <td>Master's</td>\n",
              "      <td>Director</td>\n",
              "      <td>20.0</td>\n",
              "      <td>200000.0</td>\n",
              "    </tr>\n",
              "  </tbody>\n",
              "</table>\n",
              "</div>\n",
              "    <div class=\"colab-df-buttons\">\n",
              "\n",
              "  <div class=\"colab-df-container\">\n",
              "    <button class=\"colab-df-convert\" onclick=\"convertToInteractive('df-9ecfd7f5-c59c-4757-a701-8e4db3025089')\"\n",
              "            title=\"Convert this dataframe to an interactive table.\"\n",
              "            style=\"display:none;\">\n",
              "\n",
              "  <svg xmlns=\"http://www.w3.org/2000/svg\" height=\"24px\" viewBox=\"0 -960 960 960\">\n",
              "    <path d=\"M120-120v-720h720v720H120Zm60-500h600v-160H180v160Zm220 220h160v-160H400v160Zm0 220h160v-160H400v160ZM180-400h160v-160H180v160Zm440 0h160v-160H620v160ZM180-180h160v-160H180v160Zm440 0h160v-160H620v160Z\"/>\n",
              "  </svg>\n",
              "    </button>\n",
              "\n",
              "  <style>\n",
              "    .colab-df-container {\n",
              "      display:flex;\n",
              "      gap: 12px;\n",
              "    }\n",
              "\n",
              "    .colab-df-convert {\n",
              "      background-color: #E8F0FE;\n",
              "      border: none;\n",
              "      border-radius: 50%;\n",
              "      cursor: pointer;\n",
              "      display: none;\n",
              "      fill: #1967D2;\n",
              "      height: 32px;\n",
              "      padding: 0 0 0 0;\n",
              "      width: 32px;\n",
              "    }\n",
              "\n",
              "    .colab-df-convert:hover {\n",
              "      background-color: #E2EBFA;\n",
              "      box-shadow: 0px 1px 2px rgba(60, 64, 67, 0.3), 0px 1px 3px 1px rgba(60, 64, 67, 0.15);\n",
              "      fill: #174EA6;\n",
              "    }\n",
              "\n",
              "    .colab-df-buttons div {\n",
              "      margin-bottom: 4px;\n",
              "    }\n",
              "\n",
              "    [theme=dark] .colab-df-convert {\n",
              "      background-color: #3B4455;\n",
              "      fill: #D2E3FC;\n",
              "    }\n",
              "\n",
              "    [theme=dark] .colab-df-convert:hover {\n",
              "      background-color: #434B5C;\n",
              "      box-shadow: 0px 1px 3px 1px rgba(0, 0, 0, 0.15);\n",
              "      filter: drop-shadow(0px 1px 2px rgba(0, 0, 0, 0.3));\n",
              "      fill: #FFFFFF;\n",
              "    }\n",
              "  </style>\n",
              "\n",
              "    <script>\n",
              "      const buttonEl =\n",
              "        document.querySelector('#df-9ecfd7f5-c59c-4757-a701-8e4db3025089 button.colab-df-convert');\n",
              "      buttonEl.style.display =\n",
              "        google.colab.kernel.accessAllowed ? 'block' : 'none';\n",
              "\n",
              "      async function convertToInteractive(key) {\n",
              "        const element = document.querySelector('#df-9ecfd7f5-c59c-4757-a701-8e4db3025089');\n",
              "        const dataTable =\n",
              "          await google.colab.kernel.invokeFunction('convertToInteractive',\n",
              "                                                    [key], {});\n",
              "        if (!dataTable) return;\n",
              "\n",
              "        const docLinkHtml = 'Like what you see? Visit the ' +\n",
              "          '<a target=\"_blank\" href=https://colab.research.google.com/notebooks/data_table.ipynb>data table notebook</a>'\n",
              "          + ' to learn more about interactive tables.';\n",
              "        element.innerHTML = '';\n",
              "        dataTable['output_type'] = 'display_data';\n",
              "        await google.colab.output.renderOutput(dataTable, element);\n",
              "        const docLink = document.createElement('div');\n",
              "        docLink.innerHTML = docLinkHtml;\n",
              "        element.appendChild(docLink);\n",
              "      }\n",
              "    </script>\n",
              "  </div>\n",
              "\n",
              "\n",
              "<div id=\"df-5b78e04c-12df-4e4a-914f-5ad00e3bab5c\">\n",
              "  <button class=\"colab-df-quickchart\" onclick=\"quickchart('df-5b78e04c-12df-4e4a-914f-5ad00e3bab5c')\"\n",
              "            title=\"Suggest charts\"\n",
              "            style=\"display:none;\">\n",
              "\n",
              "<svg xmlns=\"http://www.w3.org/2000/svg\" height=\"24px\"viewBox=\"0 0 24 24\"\n",
              "     width=\"24px\">\n",
              "    <g>\n",
              "        <path d=\"M19 3H5c-1.1 0-2 .9-2 2v14c0 1.1.9 2 2 2h14c1.1 0 2-.9 2-2V5c0-1.1-.9-2-2-2zM9 17H7v-7h2v7zm4 0h-2V7h2v10zm4 0h-2v-4h2v4z\"/>\n",
              "    </g>\n",
              "</svg>\n",
              "  </button>\n",
              "\n",
              "<style>\n",
              "  .colab-df-quickchart {\n",
              "      --bg-color: #E8F0FE;\n",
              "      --fill-color: #1967D2;\n",
              "      --hover-bg-color: #E2EBFA;\n",
              "      --hover-fill-color: #174EA6;\n",
              "      --disabled-fill-color: #AAA;\n",
              "      --disabled-bg-color: #DDD;\n",
              "  }\n",
              "\n",
              "  [theme=dark] .colab-df-quickchart {\n",
              "      --bg-color: #3B4455;\n",
              "      --fill-color: #D2E3FC;\n",
              "      --hover-bg-color: #434B5C;\n",
              "      --hover-fill-color: #FFFFFF;\n",
              "      --disabled-bg-color: #3B4455;\n",
              "      --disabled-fill-color: #666;\n",
              "  }\n",
              "\n",
              "  .colab-df-quickchart {\n",
              "    background-color: var(--bg-color);\n",
              "    border: none;\n",
              "    border-radius: 50%;\n",
              "    cursor: pointer;\n",
              "    display: none;\n",
              "    fill: var(--fill-color);\n",
              "    height: 32px;\n",
              "    padding: 0;\n",
              "    width: 32px;\n",
              "  }\n",
              "\n",
              "  .colab-df-quickchart:hover {\n",
              "    background-color: var(--hover-bg-color);\n",
              "    box-shadow: 0 1px 2px rgba(60, 64, 67, 0.3), 0 1px 3px 1px rgba(60, 64, 67, 0.15);\n",
              "    fill: var(--button-hover-fill-color);\n",
              "  }\n",
              "\n",
              "  .colab-df-quickchart-complete:disabled,\n",
              "  .colab-df-quickchart-complete:disabled:hover {\n",
              "    background-color: var(--disabled-bg-color);\n",
              "    fill: var(--disabled-fill-color);\n",
              "    box-shadow: none;\n",
              "  }\n",
              "\n",
              "  .colab-df-spinner {\n",
              "    border: 2px solid var(--fill-color);\n",
              "    border-color: transparent;\n",
              "    border-bottom-color: var(--fill-color);\n",
              "    animation:\n",
              "      spin 1s steps(1) infinite;\n",
              "  }\n",
              "\n",
              "  @keyframes spin {\n",
              "    0% {\n",
              "      border-color: transparent;\n",
              "      border-bottom-color: var(--fill-color);\n",
              "      border-left-color: var(--fill-color);\n",
              "    }\n",
              "    20% {\n",
              "      border-color: transparent;\n",
              "      border-left-color: var(--fill-color);\n",
              "      border-top-color: var(--fill-color);\n",
              "    }\n",
              "    30% {\n",
              "      border-color: transparent;\n",
              "      border-left-color: var(--fill-color);\n",
              "      border-top-color: var(--fill-color);\n",
              "      border-right-color: var(--fill-color);\n",
              "    }\n",
              "    40% {\n",
              "      border-color: transparent;\n",
              "      border-right-color: var(--fill-color);\n",
              "      border-top-color: var(--fill-color);\n",
              "    }\n",
              "    60% {\n",
              "      border-color: transparent;\n",
              "      border-right-color: var(--fill-color);\n",
              "    }\n",
              "    80% {\n",
              "      border-color: transparent;\n",
              "      border-right-color: var(--fill-color);\n",
              "      border-bottom-color: var(--fill-color);\n",
              "    }\n",
              "    90% {\n",
              "      border-color: transparent;\n",
              "      border-bottom-color: var(--fill-color);\n",
              "    }\n",
              "  }\n",
              "</style>\n",
              "\n",
              "  <script>\n",
              "    async function quickchart(key) {\n",
              "      const quickchartButtonEl =\n",
              "        document.querySelector('#' + key + ' button');\n",
              "      quickchartButtonEl.disabled = true;  // To prevent multiple clicks.\n",
              "      quickchartButtonEl.classList.add('colab-df-spinner');\n",
              "      try {\n",
              "        const charts = await google.colab.kernel.invokeFunction(\n",
              "            'suggestCharts', [key], {});\n",
              "      } catch (error) {\n",
              "        console.error('Error during call to suggestCharts:', error);\n",
              "      }\n",
              "      quickchartButtonEl.classList.remove('colab-df-spinner');\n",
              "      quickchartButtonEl.classList.add('colab-df-quickchart-complete');\n",
              "    }\n",
              "    (() => {\n",
              "      let quickchartButtonEl =\n",
              "        document.querySelector('#df-5b78e04c-12df-4e4a-914f-5ad00e3bab5c button');\n",
              "      quickchartButtonEl.style.display =\n",
              "        google.colab.kernel.accessAllowed ? 'block' : 'none';\n",
              "    })();\n",
              "  </script>\n",
              "</div>\n",
              "    </div>\n",
              "  </div>\n"
            ],
            "application/vnd.google.colaboratory.intrinsic+json": {
              "type": "dataframe",
              "variable_name": "df",
              "summary": "{\n  \"name\": \"df\",\n  \"rows\": 375,\n  \"fields\": [\n    {\n      \"column\": \"Age\",\n      \"properties\": {\n        \"dtype\": \"number\",\n        \"std\": 7.050146337164603,\n        \"min\": 23.0,\n        \"max\": 53.0,\n        \"num_unique_values\": 32,\n        \"samples\": [\n          23.0,\n          33.0,\n          24.0\n        ],\n        \"semantic_type\": \"\",\n        \"description\": \"\"\n      }\n    },\n    {\n      \"column\": \"Gender\",\n      \"properties\": {\n        \"dtype\": \"category\",\n        \"num_unique_values\": 2,\n        \"samples\": [\n          \"Female\",\n          \"Male\"\n        ],\n        \"semantic_type\": \"\",\n        \"description\": \"\"\n      }\n    },\n    {\n      \"column\": \"Education Level\",\n      \"properties\": {\n        \"dtype\": \"category\",\n        \"num_unique_values\": 3,\n        \"samples\": [\n          \"Bachelor's\",\n          \"Master's\"\n        ],\n        \"semantic_type\": \"\",\n        \"description\": \"\"\n      }\n    },\n    {\n      \"column\": \"Job Title\",\n      \"properties\": {\n        \"dtype\": \"category\",\n        \"num_unique_values\": 174,\n        \"samples\": [\n          \"Junior Advertising Coordinator\",\n          \"Junior Product Manager\"\n        ],\n        \"semantic_type\": \"\",\n        \"description\": \"\"\n      }\n    },\n    {\n      \"column\": \"Years of Experience\",\n      \"properties\": {\n        \"dtype\": \"number\",\n        \"std\": 6.539451530248433,\n        \"min\": 0.0,\n        \"max\": 25.0,\n        \"num_unique_values\": 29,\n        \"samples\": [\n          1.5,\n          19.0\n        ],\n        \"semantic_type\": \"\",\n        \"description\": \"\"\n      }\n    },\n    {\n      \"column\": \"Salary\",\n      \"properties\": {\n        \"dtype\": \"number\",\n        \"std\": 48110.85658750964,\n        \"min\": 350.0,\n        \"max\": 250000.0,\n        \"num_unique_values\": 37,\n        \"samples\": [\n          180000.0,\n          40000.0\n        ],\n        \"semantic_type\": \"\",\n        \"description\": \"\"\n      }\n    }\n  ]\n}"
            }
          },
          "metadata": {},
          "execution_count": 101
        }
      ]
    },
    {
      "cell_type": "code",
      "source": [
        "# Melihat seluruh Job Title\n",
        "job_titles = df['Job Title'].unique()\n",
        "print(\"Seluruh Job Titles:\")\n",
        "print(job_titles)\n",
        "\n",
        "# Menghitung jumlah duplikat untuk setiap Job Title\n",
        "duplicate_counts = df['Job Title'].value_counts()\n",
        "print(\"\\nJumlah duplikat untuk setiap Job Title:\")\n",
        "print(duplicate_counts)"
      ],
      "metadata": {
        "id": "7QuJP7IbVbmX",
        "colab": {
          "base_uri": "https://localhost:8080/"
        },
        "outputId": "b73c8994-69e0-4330-994d-c9cadea57de6"
      },
      "execution_count": 102,
      "outputs": [
        {
          "output_type": "stream",
          "name": "stdout",
          "text": [
            "Seluruh Job Titles:\n",
            "['Software Engineer' 'Data Analyst' 'Senior Manager' 'Sales Associate'\n",
            " 'Director' 'Marketing Analyst' 'Product Manager' 'Sales Manager'\n",
            " 'Marketing Coordinator' 'Senior Scientist' 'Software Developer'\n",
            " 'HR Manager' 'Financial Analyst' 'Project Manager' 'Customer Service Rep'\n",
            " 'Operations Manager' 'Marketing Manager' 'Senior Engineer'\n",
            " 'Data Entry Clerk' 'Sales Director' 'Business Analyst' 'VP of Operations'\n",
            " 'IT Support' 'Recruiter' 'Financial Manager' 'Social Media Specialist'\n",
            " 'Software Manager' 'Junior Developer' 'Senior Consultant'\n",
            " 'Product Designer' 'CEO' 'Accountant' 'Data Scientist'\n",
            " 'Marketing Specialist' 'Technical Writer' 'HR Generalist'\n",
            " 'Project Engineer' 'Customer Success Rep' 'Sales Executive' 'UX Designer'\n",
            " 'Operations Director' 'Network Engineer' 'Administrative Assistant'\n",
            " 'Strategy Consultant' 'Copywriter' 'Account Manager'\n",
            " 'Director of Marketing' 'Help Desk Analyst' 'Customer Service Manager'\n",
            " 'Business Intelligence Analyst' 'Event Coordinator' 'VP of Finance'\n",
            " 'Graphic Designer' 'UX Researcher' 'Social Media Manager'\n",
            " 'Director of Operations' 'Senior Data Scientist' 'Junior Accountant'\n",
            " 'Digital Marketing Manager' 'IT Manager'\n",
            " 'Customer Service Representative' 'Business Development Manager'\n",
            " 'Senior Financial Analyst' 'Web Developer' 'Research Director'\n",
            " 'Technical Support Specialist' 'Creative Director'\n",
            " 'Senior Software Engineer' 'Human Resources Director'\n",
            " 'Content Marketing Manager' 'Technical Recruiter' 'Sales Representative'\n",
            " 'Chief Technology Officer' 'Junior Designer' 'Financial Advisor'\n",
            " 'Junior Account Manager' 'Senior Project Manager' 'Principal Scientist'\n",
            " 'Supply Chain Manager' 'Senior Marketing Manager' 'Training Specialist'\n",
            " 'Research Scientist' 'Junior Software Developer'\n",
            " 'Public Relations Manager' 'Operations Analyst'\n",
            " 'Product Marketing Manager' 'Senior HR Manager' 'Junior Web Developer'\n",
            " 'Senior Project Coordinator' 'Chief Data Officer'\n",
            " 'Digital Content Producer' 'IT Support Specialist'\n",
            " 'Senior Marketing Analyst' 'Customer Success Manager'\n",
            " 'Senior Graphic Designer' 'Software Project Manager'\n",
            " 'Supply Chain Analyst' 'Senior Business Analyst'\n",
            " 'Junior Marketing Analyst' 'Office Manager' 'Principal Engineer'\n",
            " 'Junior HR Generalist' 'Senior Product Manager'\n",
            " 'Junior Operations Analyst' 'Senior HR Generalist'\n",
            " 'Sales Operations Manager' 'Senior Software Developer'\n",
            " 'Junior Web Designer' 'Senior Training Specialist'\n",
            " 'Senior Research Scientist' 'Junior Sales Representative'\n",
            " 'Junior Marketing Manager' 'Junior Data Analyst'\n",
            " 'Senior Product Marketing Manager' 'Junior Business Analyst'\n",
            " 'Senior Sales Manager' 'Junior Marketing Specialist'\n",
            " 'Junior Project Manager' 'Senior Accountant' 'Director of Sales'\n",
            " 'Junior Recruiter' 'Senior Business Development Manager'\n",
            " 'Senior Product Designer' 'Junior Customer Support Specialist'\n",
            " 'Senior IT Support Specialist' 'Junior Financial Analyst'\n",
            " 'Senior Operations Manager' 'Director of Human Resources'\n",
            " 'Junior Software Engineer' 'Senior Sales Representative'\n",
            " 'Director of Product Management' 'Junior Copywriter'\n",
            " 'Senior Marketing Coordinator' 'Senior Human Resources Manager'\n",
            " 'Junior Business Development Associate' 'Senior Account Manager'\n",
            " 'Senior Researcher' 'Junior HR Coordinator' 'Director of Finance'\n",
            " 'Junior Marketing Coordinator' nan 'Junior Data Scientist'\n",
            " 'Senior Operations Analyst' 'Senior Human Resources Coordinator'\n",
            " 'Senior UX Designer' 'Junior Product Manager'\n",
            " 'Senior Marketing Specialist' 'Senior IT Project Manager'\n",
            " 'Senior Quality Assurance Analyst' 'Director of Sales and Marketing'\n",
            " 'Senior Account Executive' 'Director of Business Development'\n",
            " 'Junior Social Media Manager' 'Senior Human Resources Specialist'\n",
            " 'Senior Data Analyst' 'Director of Human Capital'\n",
            " 'Junior Advertising Coordinator' 'Junior UX Designer'\n",
            " 'Senior Marketing Director' 'Senior IT Consultant'\n",
            " 'Senior Financial Advisor' 'Junior Business Operations Analyst'\n",
            " 'Junior Social Media Specialist' 'Senior Product Development Manager'\n",
            " 'Junior Operations Manager' 'Senior Software Architect'\n",
            " 'Junior Research Scientist' 'Senior Financial Manager'\n",
            " 'Senior HR Specialist' 'Senior Data Engineer'\n",
            " 'Junior Operations Coordinator' 'Director of HR'\n",
            " 'Senior Operations Coordinator' 'Junior Financial Advisor'\n",
            " 'Director of Engineering']\n",
            "\n",
            "Jumlah duplikat untuk setiap Job Title:\n",
            "Director of Marketing              12\n",
            "Director of Operations             11\n",
            "Senior Business Analyst            10\n",
            "Senior Marketing Analyst            9\n",
            "Senior Marketing Manager            9\n",
            "                                   ..\n",
            "Business Development Manager        1\n",
            "Customer Service Representative     1\n",
            "IT Manager                          1\n",
            "Digital Marketing Manager           1\n",
            "Junior Web Developer                1\n",
            "Name: Job Title, Length: 174, dtype: int64\n"
          ]
        }
      ]
    },
    {
      "cell_type": "code",
      "source": [
        "def categorize_job_title(title):\n",
        "    engineering_titles = ['Software Engineer', 'Data Analyst', 'Software Developer', 'IT Support', 'Network Engineer', 'Web Developer']\n",
        "    management_titles = ['Senior Manager', 'Director', 'Product Manager', 'Operations Manager', 'Project Manager', 'Business Analyst', 'Business Development Manager', 'Marketing Manager']\n",
        "    finance_titles = ['Financial Analyst', 'Accountant', 'Financial Manager', 'Chief Financial Officer (CFO)']\n",
        "    marketing_titles = ['Marketing Coordinator', 'Social Media Specialist', 'Graphic Designer', 'Copywriter', 'Content Marketing Manager']\n",
        "    hr_customer_service_titles = ['HR Manager', 'Recruiter', 'Customer Service Representative', 'Customer Service Manager', 'Customer Success Manager']\n",
        "\n",
        "    if title in engineering_titles:\n",
        "        return 'Engineering'\n",
        "    elif title in management_titles:\n",
        "        return 'Management'\n",
        "    elif title in finance_titles:\n",
        "        return 'Finance'\n",
        "    elif title in marketing_titles:\n",
        "        return 'Marketing'\n",
        "    elif title in hr_customer_service_titles:\n",
        "        return 'HR & Customer Service'\n",
        "    else:\n",
        "        return 'Other'\n",
        "\n",
        "df['JobCategory'] = df['Job Title'].apply(categorize_job_title)"
      ],
      "metadata": {
        "id": "TxJw1OKaWOza"
      },
      "execution_count": 103,
      "outputs": []
    },
    {
      "cell_type": "markdown",
      "source": [
        "Di sini, kita akan mengelompokkan 'Job Title' / pekerjaan ke dalam 6 jenis, yaitu:\n",
        "\n",
        "1. Engineering & IT: Termasuk Software Engineer, Data Analyst, Software 2.Developer, IT Support, Network Engineer, Web Developer, dll.\n",
        "2. Manajemen dan Bisnis: Meliputi Senior Manager, Director, Product Manager, Operations Manager, Project Manager, Business Analyst, Business Development Manager, Marketing Manager, dll.\n",
        "3. Keuangan dan Akuntansi: Seperti Financial Analyst, Accountant, Financial\n",
        "4. Manager, Chief Financial Officer (CFO), dll.\n",
        "Pemasaran dan Kreativitas: Contohnya Marketing Coordinator, Social Media Specialist, Graphic Designer, Copywriter, Content Marketing Manager, dll.\n",
        "5. Sumber Daya Manusia (HR) dan Layanan Pelanggan: Termasuk HR Manager, Recruiter, Customer Service Representative, Customer Success Manager, dll.\n",
        "6. Other jika tidak disebutkan."
      ],
      "metadata": {
        "id": "uaFpJZINVfx3"
      }
    },
    {
      "cell_type": "code",
      "source": [
        "def categorize_age(age):\n",
        "    if age < 18:\n",
        "        return 'Child'\n",
        "    elif 18 <= age < 60:\n",
        "        return 'Adult'\n",
        "    else:\n",
        "        return 'Elderly'\n",
        "\n",
        "df['AgeCategory'] = df['Age'].apply(categorize_age)"
      ],
      "metadata": {
        "id": "Q0D0NAto50-_"
      },
      "execution_count": 104,
      "outputs": []
    },
    {
      "cell_type": "markdown",
      "source": [
        "Pada tahap ini, kita akan melakukan pengkategorian usia ke dalam tiga kategori: 'Child', 'Adult', dan 'Elderly'. Karena dataset ini memiliki banyak data, pembagian usia ini akan membantu dalam analisis lebih lanjut."
      ],
      "metadata": {
        "id": "43Wob0QNKdlg"
      }
    },
    {
      "cell_type": "markdown",
      "source": [
        "###**Pengecekkan Hasil**"
      ],
      "metadata": {
        "id": "VXUI3Ejm6ApZ"
      }
    },
    {
      "cell_type": "code",
      "source": [
        "df.head()"
      ],
      "metadata": {
        "id": "VBQG84rT6AcT",
        "colab": {
          "base_uri": "https://localhost:8080/",
          "height": 206
        },
        "outputId": "2b454173-dd95-4da2-f99a-88b9b9c7dcab"
      },
      "execution_count": 105,
      "outputs": [
        {
          "output_type": "execute_result",
          "data": {
            "text/plain": [
              "    Age  Gender Education Level          Job Title  Years of Experience  \\\n",
              "0  32.0    Male      Bachelor's  Software Engineer                  5.0   \n",
              "1  28.0  Female        Master's       Data Analyst                  3.0   \n",
              "2  45.0    Male             PhD     Senior Manager                 15.0   \n",
              "3  36.0  Female      Bachelor's    Sales Associate                  7.0   \n",
              "4  52.0    Male        Master's           Director                 20.0   \n",
              "\n",
              "     Salary  JobCategory AgeCategory  \n",
              "0   90000.0  Engineering       Adult  \n",
              "1   65000.0  Engineering       Adult  \n",
              "2  150000.0   Management       Adult  \n",
              "3   60000.0        Other       Adult  \n",
              "4  200000.0   Management       Adult  "
            ],
            "text/html": [
              "\n",
              "  <div id=\"df-27eeff7b-7219-45b1-aba0-5aa4ea304d2f\" class=\"colab-df-container\">\n",
              "    <div>\n",
              "<style scoped>\n",
              "    .dataframe tbody tr th:only-of-type {\n",
              "        vertical-align: middle;\n",
              "    }\n",
              "\n",
              "    .dataframe tbody tr th {\n",
              "        vertical-align: top;\n",
              "    }\n",
              "\n",
              "    .dataframe thead th {\n",
              "        text-align: right;\n",
              "    }\n",
              "</style>\n",
              "<table border=\"1\" class=\"dataframe\">\n",
              "  <thead>\n",
              "    <tr style=\"text-align: right;\">\n",
              "      <th></th>\n",
              "      <th>Age</th>\n",
              "      <th>Gender</th>\n",
              "      <th>Education Level</th>\n",
              "      <th>Job Title</th>\n",
              "      <th>Years of Experience</th>\n",
              "      <th>Salary</th>\n",
              "      <th>JobCategory</th>\n",
              "      <th>AgeCategory</th>\n",
              "    </tr>\n",
              "  </thead>\n",
              "  <tbody>\n",
              "    <tr>\n",
              "      <th>0</th>\n",
              "      <td>32.0</td>\n",
              "      <td>Male</td>\n",
              "      <td>Bachelor's</td>\n",
              "      <td>Software Engineer</td>\n",
              "      <td>5.0</td>\n",
              "      <td>90000.0</td>\n",
              "      <td>Engineering</td>\n",
              "      <td>Adult</td>\n",
              "    </tr>\n",
              "    <tr>\n",
              "      <th>1</th>\n",
              "      <td>28.0</td>\n",
              "      <td>Female</td>\n",
              "      <td>Master's</td>\n",
              "      <td>Data Analyst</td>\n",
              "      <td>3.0</td>\n",
              "      <td>65000.0</td>\n",
              "      <td>Engineering</td>\n",
              "      <td>Adult</td>\n",
              "    </tr>\n",
              "    <tr>\n",
              "      <th>2</th>\n",
              "      <td>45.0</td>\n",
              "      <td>Male</td>\n",
              "      <td>PhD</td>\n",
              "      <td>Senior Manager</td>\n",
              "      <td>15.0</td>\n",
              "      <td>150000.0</td>\n",
              "      <td>Management</td>\n",
              "      <td>Adult</td>\n",
              "    </tr>\n",
              "    <tr>\n",
              "      <th>3</th>\n",
              "      <td>36.0</td>\n",
              "      <td>Female</td>\n",
              "      <td>Bachelor's</td>\n",
              "      <td>Sales Associate</td>\n",
              "      <td>7.0</td>\n",
              "      <td>60000.0</td>\n",
              "      <td>Other</td>\n",
              "      <td>Adult</td>\n",
              "    </tr>\n",
              "    <tr>\n",
              "      <th>4</th>\n",
              "      <td>52.0</td>\n",
              "      <td>Male</td>\n",
              "      <td>Master's</td>\n",
              "      <td>Director</td>\n",
              "      <td>20.0</td>\n",
              "      <td>200000.0</td>\n",
              "      <td>Management</td>\n",
              "      <td>Adult</td>\n",
              "    </tr>\n",
              "  </tbody>\n",
              "</table>\n",
              "</div>\n",
              "    <div class=\"colab-df-buttons\">\n",
              "\n",
              "  <div class=\"colab-df-container\">\n",
              "    <button class=\"colab-df-convert\" onclick=\"convertToInteractive('df-27eeff7b-7219-45b1-aba0-5aa4ea304d2f')\"\n",
              "            title=\"Convert this dataframe to an interactive table.\"\n",
              "            style=\"display:none;\">\n",
              "\n",
              "  <svg xmlns=\"http://www.w3.org/2000/svg\" height=\"24px\" viewBox=\"0 -960 960 960\">\n",
              "    <path d=\"M120-120v-720h720v720H120Zm60-500h600v-160H180v160Zm220 220h160v-160H400v160Zm0 220h160v-160H400v160ZM180-400h160v-160H180v160Zm440 0h160v-160H620v160ZM180-180h160v-160H180v160Zm440 0h160v-160H620v160Z\"/>\n",
              "  </svg>\n",
              "    </button>\n",
              "\n",
              "  <style>\n",
              "    .colab-df-container {\n",
              "      display:flex;\n",
              "      gap: 12px;\n",
              "    }\n",
              "\n",
              "    .colab-df-convert {\n",
              "      background-color: #E8F0FE;\n",
              "      border: none;\n",
              "      border-radius: 50%;\n",
              "      cursor: pointer;\n",
              "      display: none;\n",
              "      fill: #1967D2;\n",
              "      height: 32px;\n",
              "      padding: 0 0 0 0;\n",
              "      width: 32px;\n",
              "    }\n",
              "\n",
              "    .colab-df-convert:hover {\n",
              "      background-color: #E2EBFA;\n",
              "      box-shadow: 0px 1px 2px rgba(60, 64, 67, 0.3), 0px 1px 3px 1px rgba(60, 64, 67, 0.15);\n",
              "      fill: #174EA6;\n",
              "    }\n",
              "\n",
              "    .colab-df-buttons div {\n",
              "      margin-bottom: 4px;\n",
              "    }\n",
              "\n",
              "    [theme=dark] .colab-df-convert {\n",
              "      background-color: #3B4455;\n",
              "      fill: #D2E3FC;\n",
              "    }\n",
              "\n",
              "    [theme=dark] .colab-df-convert:hover {\n",
              "      background-color: #434B5C;\n",
              "      box-shadow: 0px 1px 3px 1px rgba(0, 0, 0, 0.15);\n",
              "      filter: drop-shadow(0px 1px 2px rgba(0, 0, 0, 0.3));\n",
              "      fill: #FFFFFF;\n",
              "    }\n",
              "  </style>\n",
              "\n",
              "    <script>\n",
              "      const buttonEl =\n",
              "        document.querySelector('#df-27eeff7b-7219-45b1-aba0-5aa4ea304d2f button.colab-df-convert');\n",
              "      buttonEl.style.display =\n",
              "        google.colab.kernel.accessAllowed ? 'block' : 'none';\n",
              "\n",
              "      async function convertToInteractive(key) {\n",
              "        const element = document.querySelector('#df-27eeff7b-7219-45b1-aba0-5aa4ea304d2f');\n",
              "        const dataTable =\n",
              "          await google.colab.kernel.invokeFunction('convertToInteractive',\n",
              "                                                    [key], {});\n",
              "        if (!dataTable) return;\n",
              "\n",
              "        const docLinkHtml = 'Like what you see? Visit the ' +\n",
              "          '<a target=\"_blank\" href=https://colab.research.google.com/notebooks/data_table.ipynb>data table notebook</a>'\n",
              "          + ' to learn more about interactive tables.';\n",
              "        element.innerHTML = '';\n",
              "        dataTable['output_type'] = 'display_data';\n",
              "        await google.colab.output.renderOutput(dataTable, element);\n",
              "        const docLink = document.createElement('div');\n",
              "        docLink.innerHTML = docLinkHtml;\n",
              "        element.appendChild(docLink);\n",
              "      }\n",
              "    </script>\n",
              "  </div>\n",
              "\n",
              "\n",
              "<div id=\"df-e0e6445d-d87d-4bd1-9ffc-94bcedeed4c2\">\n",
              "  <button class=\"colab-df-quickchart\" onclick=\"quickchart('df-e0e6445d-d87d-4bd1-9ffc-94bcedeed4c2')\"\n",
              "            title=\"Suggest charts\"\n",
              "            style=\"display:none;\">\n",
              "\n",
              "<svg xmlns=\"http://www.w3.org/2000/svg\" height=\"24px\"viewBox=\"0 0 24 24\"\n",
              "     width=\"24px\">\n",
              "    <g>\n",
              "        <path d=\"M19 3H5c-1.1 0-2 .9-2 2v14c0 1.1.9 2 2 2h14c1.1 0 2-.9 2-2V5c0-1.1-.9-2-2-2zM9 17H7v-7h2v7zm4 0h-2V7h2v10zm4 0h-2v-4h2v4z\"/>\n",
              "    </g>\n",
              "</svg>\n",
              "  </button>\n",
              "\n",
              "<style>\n",
              "  .colab-df-quickchart {\n",
              "      --bg-color: #E8F0FE;\n",
              "      --fill-color: #1967D2;\n",
              "      --hover-bg-color: #E2EBFA;\n",
              "      --hover-fill-color: #174EA6;\n",
              "      --disabled-fill-color: #AAA;\n",
              "      --disabled-bg-color: #DDD;\n",
              "  }\n",
              "\n",
              "  [theme=dark] .colab-df-quickchart {\n",
              "      --bg-color: #3B4455;\n",
              "      --fill-color: #D2E3FC;\n",
              "      --hover-bg-color: #434B5C;\n",
              "      --hover-fill-color: #FFFFFF;\n",
              "      --disabled-bg-color: #3B4455;\n",
              "      --disabled-fill-color: #666;\n",
              "  }\n",
              "\n",
              "  .colab-df-quickchart {\n",
              "    background-color: var(--bg-color);\n",
              "    border: none;\n",
              "    border-radius: 50%;\n",
              "    cursor: pointer;\n",
              "    display: none;\n",
              "    fill: var(--fill-color);\n",
              "    height: 32px;\n",
              "    padding: 0;\n",
              "    width: 32px;\n",
              "  }\n",
              "\n",
              "  .colab-df-quickchart:hover {\n",
              "    background-color: var(--hover-bg-color);\n",
              "    box-shadow: 0 1px 2px rgba(60, 64, 67, 0.3), 0 1px 3px 1px rgba(60, 64, 67, 0.15);\n",
              "    fill: var(--button-hover-fill-color);\n",
              "  }\n",
              "\n",
              "  .colab-df-quickchart-complete:disabled,\n",
              "  .colab-df-quickchart-complete:disabled:hover {\n",
              "    background-color: var(--disabled-bg-color);\n",
              "    fill: var(--disabled-fill-color);\n",
              "    box-shadow: none;\n",
              "  }\n",
              "\n",
              "  .colab-df-spinner {\n",
              "    border: 2px solid var(--fill-color);\n",
              "    border-color: transparent;\n",
              "    border-bottom-color: var(--fill-color);\n",
              "    animation:\n",
              "      spin 1s steps(1) infinite;\n",
              "  }\n",
              "\n",
              "  @keyframes spin {\n",
              "    0% {\n",
              "      border-color: transparent;\n",
              "      border-bottom-color: var(--fill-color);\n",
              "      border-left-color: var(--fill-color);\n",
              "    }\n",
              "    20% {\n",
              "      border-color: transparent;\n",
              "      border-left-color: var(--fill-color);\n",
              "      border-top-color: var(--fill-color);\n",
              "    }\n",
              "    30% {\n",
              "      border-color: transparent;\n",
              "      border-left-color: var(--fill-color);\n",
              "      border-top-color: var(--fill-color);\n",
              "      border-right-color: var(--fill-color);\n",
              "    }\n",
              "    40% {\n",
              "      border-color: transparent;\n",
              "      border-right-color: var(--fill-color);\n",
              "      border-top-color: var(--fill-color);\n",
              "    }\n",
              "    60% {\n",
              "      border-color: transparent;\n",
              "      border-right-color: var(--fill-color);\n",
              "    }\n",
              "    80% {\n",
              "      border-color: transparent;\n",
              "      border-right-color: var(--fill-color);\n",
              "      border-bottom-color: var(--fill-color);\n",
              "    }\n",
              "    90% {\n",
              "      border-color: transparent;\n",
              "      border-bottom-color: var(--fill-color);\n",
              "    }\n",
              "  }\n",
              "</style>\n",
              "\n",
              "  <script>\n",
              "    async function quickchart(key) {\n",
              "      const quickchartButtonEl =\n",
              "        document.querySelector('#' + key + ' button');\n",
              "      quickchartButtonEl.disabled = true;  // To prevent multiple clicks.\n",
              "      quickchartButtonEl.classList.add('colab-df-spinner');\n",
              "      try {\n",
              "        const charts = await google.colab.kernel.invokeFunction(\n",
              "            'suggestCharts', [key], {});\n",
              "      } catch (error) {\n",
              "        console.error('Error during call to suggestCharts:', error);\n",
              "      }\n",
              "      quickchartButtonEl.classList.remove('colab-df-spinner');\n",
              "      quickchartButtonEl.classList.add('colab-df-quickchart-complete');\n",
              "    }\n",
              "    (() => {\n",
              "      let quickchartButtonEl =\n",
              "        document.querySelector('#df-e0e6445d-d87d-4bd1-9ffc-94bcedeed4c2 button');\n",
              "      quickchartButtonEl.style.display =\n",
              "        google.colab.kernel.accessAllowed ? 'block' : 'none';\n",
              "    })();\n",
              "  </script>\n",
              "</div>\n",
              "    </div>\n",
              "  </div>\n"
            ],
            "application/vnd.google.colaboratory.intrinsic+json": {
              "type": "dataframe",
              "variable_name": "df",
              "summary": "{\n  \"name\": \"df\",\n  \"rows\": 375,\n  \"fields\": [\n    {\n      \"column\": \"Age\",\n      \"properties\": {\n        \"dtype\": \"number\",\n        \"std\": 7.050146337164603,\n        \"min\": 23.0,\n        \"max\": 53.0,\n        \"num_unique_values\": 32,\n        \"samples\": [\n          23.0,\n          33.0,\n          24.0\n        ],\n        \"semantic_type\": \"\",\n        \"description\": \"\"\n      }\n    },\n    {\n      \"column\": \"Gender\",\n      \"properties\": {\n        \"dtype\": \"category\",\n        \"num_unique_values\": 2,\n        \"samples\": [\n          \"Female\",\n          \"Male\"\n        ],\n        \"semantic_type\": \"\",\n        \"description\": \"\"\n      }\n    },\n    {\n      \"column\": \"Education Level\",\n      \"properties\": {\n        \"dtype\": \"category\",\n        \"num_unique_values\": 3,\n        \"samples\": [\n          \"Bachelor's\",\n          \"Master's\"\n        ],\n        \"semantic_type\": \"\",\n        \"description\": \"\"\n      }\n    },\n    {\n      \"column\": \"Job Title\",\n      \"properties\": {\n        \"dtype\": \"category\",\n        \"num_unique_values\": 174,\n        \"samples\": [\n          \"Junior Advertising Coordinator\",\n          \"Junior Product Manager\"\n        ],\n        \"semantic_type\": \"\",\n        \"description\": \"\"\n      }\n    },\n    {\n      \"column\": \"Years of Experience\",\n      \"properties\": {\n        \"dtype\": \"number\",\n        \"std\": 6.539451530248433,\n        \"min\": 0.0,\n        \"max\": 25.0,\n        \"num_unique_values\": 29,\n        \"samples\": [\n          1.5,\n          19.0\n        ],\n        \"semantic_type\": \"\",\n        \"description\": \"\"\n      }\n    },\n    {\n      \"column\": \"Salary\",\n      \"properties\": {\n        \"dtype\": \"number\",\n        \"std\": 48110.85658750964,\n        \"min\": 350.0,\n        \"max\": 250000.0,\n        \"num_unique_values\": 37,\n        \"samples\": [\n          180000.0,\n          40000.0\n        ],\n        \"semantic_type\": \"\",\n        \"description\": \"\"\n      }\n    },\n    {\n      \"column\": \"JobCategory\",\n      \"properties\": {\n        \"dtype\": \"category\",\n        \"num_unique_values\": 6,\n        \"samples\": [\n          \"Engineering\",\n          \"Management\"\n        ],\n        \"semantic_type\": \"\",\n        \"description\": \"\"\n      }\n    },\n    {\n      \"column\": \"AgeCategory\",\n      \"properties\": {\n        \"dtype\": \"category\",\n        \"num_unique_values\": 1,\n        \"samples\": [\n          \"Adult\"\n        ],\n        \"semantic_type\": \"\",\n        \"description\": \"\"\n      }\n    }\n  ]\n}"
            }
          },
          "metadata": {},
          "execution_count": 105
        }
      ]
    },
    {
      "cell_type": "code",
      "source": [
        "df['AgeCategory'].value_counts()\n",
        "df['JobCategory'].value_counts()"
      ],
      "metadata": {
        "id": "QnCNXYwsMKD7",
        "colab": {
          "base_uri": "https://localhost:8080/"
        },
        "outputId": "101d2f99-3cad-4d54-a78d-4db0d868bc5d"
      },
      "execution_count": 106,
      "outputs": [
        {
          "output_type": "execute_result",
          "data": {
            "text/plain": [
              "Other                    337\n",
              "Management                13\n",
              "HR & Customer Service      8\n",
              "Engineering                7\n",
              "Marketing                  7\n",
              "Finance                    3\n",
              "Name: JobCategory, dtype: int64"
            ]
          },
          "metadata": {},
          "execution_count": 106
        }
      ]
    },
    {
      "cell_type": "markdown",
      "source": [
        "Hasil ini menunjukkan bahwa tidak terdapat kategori selain 'Adult' dan 'Elderly' yang artinya rata-rata usianya adalah 18 hingga 60 tahun lebih."
      ],
      "metadata": {
        "id": "EIgBSCkbMPaY"
      }
    },
    {
      "cell_type": "markdown",
      "source": [
        "##**DATA REDUCTION**"
      ],
      "metadata": {
        "id": "XxP4LBeS6Uhn"
      }
    },
    {
      "cell_type": "markdown",
      "source": [
        "###**Mengurangi Fitur - Fitur Yang Kurang Relevan**"
      ],
      "metadata": {
        "id": "TAaF5WZW6XHP"
      }
    },
    {
      "cell_type": "code",
      "source": [
        "df_corr = df.corr(numeric_only=True)\n",
        "px.imshow(df_corr)"
      ],
      "metadata": {
        "id": "34qJiehQ6ciH",
        "colab": {
          "base_uri": "https://localhost:8080/",
          "height": 542
        },
        "outputId": "96d3a5e3-8ca9-4d1a-83c9-c5ee12e137ec"
      },
      "execution_count": 107,
      "outputs": [
        {
          "output_type": "display_data",
          "data": {
            "text/html": [
              "<html>\n",
              "<head><meta charset=\"utf-8\" /></head>\n",
              "<body>\n",
              "    <div>            <script src=\"https://cdnjs.cloudflare.com/ajax/libs/mathjax/2.7.5/MathJax.js?config=TeX-AMS-MML_SVG\"></script><script type=\"text/javascript\">if (window.MathJax && window.MathJax.Hub && window.MathJax.Hub.Config) {window.MathJax.Hub.Config({SVG: {font: \"STIX-Web\"}});}</script>                <script type=\"text/javascript\">window.PlotlyConfig = {MathJaxConfig: 'local'};</script>\n",
              "        <script charset=\"utf-8\" src=\"https://cdn.plot.ly/plotly-2.24.1.min.js\"></script>                <div id=\"8a681c15-befa-4937-8b17-a5f9a7e2f15c\" class=\"plotly-graph-div\" style=\"height:525px; width:100%;\"></div>            <script type=\"text/javascript\">                                    window.PLOTLYENV=window.PLOTLYENV || {};                                    if (document.getElementById(\"8a681c15-befa-4937-8b17-a5f9a7e2f15c\")) {                    Plotly.newPlot(                        \"8a681c15-befa-4937-8b17-a5f9a7e2f15c\",                        [{\"coloraxis\":\"coloraxis\",\"name\":\"0\",\"x\":[\"Age\",\"Years of Experience\",\"Salary\"],\"y\":[\"Age\",\"Years of Experience\",\"Salary\"],\"z\":[[1.0,0.9791280503527505,0.9223352439166438],[0.9791280503527505,1.0,0.9303377227618355],[0.9223352439166438,0.9303377227618355,1.0]],\"type\":\"heatmap\",\"xaxis\":\"x\",\"yaxis\":\"y\",\"hovertemplate\":\"x: %{x}\\u003cbr\\u003ey: %{y}\\u003cbr\\u003ecolor: %{z}\\u003cextra\\u003e\\u003c\\u002fextra\\u003e\"}],                        {\"template\":{\"data\":{\"histogram2dcontour\":[{\"type\":\"histogram2dcontour\",\"colorbar\":{\"outlinewidth\":0,\"ticks\":\"\"},\"colorscale\":[[0.0,\"#0d0887\"],[0.1111111111111111,\"#46039f\"],[0.2222222222222222,\"#7201a8\"],[0.3333333333333333,\"#9c179e\"],[0.4444444444444444,\"#bd3786\"],[0.5555555555555556,\"#d8576b\"],[0.6666666666666666,\"#ed7953\"],[0.7777777777777778,\"#fb9f3a\"],[0.8888888888888888,\"#fdca26\"],[1.0,\"#f0f921\"]]}],\"choropleth\":[{\"type\":\"choropleth\",\"colorbar\":{\"outlinewidth\":0,\"ticks\":\"\"}}],\"histogram2d\":[{\"type\":\"histogram2d\",\"colorbar\":{\"outlinewidth\":0,\"ticks\":\"\"},\"colorscale\":[[0.0,\"#0d0887\"],[0.1111111111111111,\"#46039f\"],[0.2222222222222222,\"#7201a8\"],[0.3333333333333333,\"#9c179e\"],[0.4444444444444444,\"#bd3786\"],[0.5555555555555556,\"#d8576b\"],[0.6666666666666666,\"#ed7953\"],[0.7777777777777778,\"#fb9f3a\"],[0.8888888888888888,\"#fdca26\"],[1.0,\"#f0f921\"]]}],\"heatmap\":[{\"type\":\"heatmap\",\"colorbar\":{\"outlinewidth\":0,\"ticks\":\"\"},\"colorscale\":[[0.0,\"#0d0887\"],[0.1111111111111111,\"#46039f\"],[0.2222222222222222,\"#7201a8\"],[0.3333333333333333,\"#9c179e\"],[0.4444444444444444,\"#bd3786\"],[0.5555555555555556,\"#d8576b\"],[0.6666666666666666,\"#ed7953\"],[0.7777777777777778,\"#fb9f3a\"],[0.8888888888888888,\"#fdca26\"],[1.0,\"#f0f921\"]]}],\"heatmapgl\":[{\"type\":\"heatmapgl\",\"colorbar\":{\"outlinewidth\":0,\"ticks\":\"\"},\"colorscale\":[[0.0,\"#0d0887\"],[0.1111111111111111,\"#46039f\"],[0.2222222222222222,\"#7201a8\"],[0.3333333333333333,\"#9c179e\"],[0.4444444444444444,\"#bd3786\"],[0.5555555555555556,\"#d8576b\"],[0.6666666666666666,\"#ed7953\"],[0.7777777777777778,\"#fb9f3a\"],[0.8888888888888888,\"#fdca26\"],[1.0,\"#f0f921\"]]}],\"contourcarpet\":[{\"type\":\"contourcarpet\",\"colorbar\":{\"outlinewidth\":0,\"ticks\":\"\"}}],\"contour\":[{\"type\":\"contour\",\"colorbar\":{\"outlinewidth\":0,\"ticks\":\"\"},\"colorscale\":[[0.0,\"#0d0887\"],[0.1111111111111111,\"#46039f\"],[0.2222222222222222,\"#7201a8\"],[0.3333333333333333,\"#9c179e\"],[0.4444444444444444,\"#bd3786\"],[0.5555555555555556,\"#d8576b\"],[0.6666666666666666,\"#ed7953\"],[0.7777777777777778,\"#fb9f3a\"],[0.8888888888888888,\"#fdca26\"],[1.0,\"#f0f921\"]]}],\"surface\":[{\"type\":\"surface\",\"colorbar\":{\"outlinewidth\":0,\"ticks\":\"\"},\"colorscale\":[[0.0,\"#0d0887\"],[0.1111111111111111,\"#46039f\"],[0.2222222222222222,\"#7201a8\"],[0.3333333333333333,\"#9c179e\"],[0.4444444444444444,\"#bd3786\"],[0.5555555555555556,\"#d8576b\"],[0.6666666666666666,\"#ed7953\"],[0.7777777777777778,\"#fb9f3a\"],[0.8888888888888888,\"#fdca26\"],[1.0,\"#f0f921\"]]}],\"mesh3d\":[{\"type\":\"mesh3d\",\"colorbar\":{\"outlinewidth\":0,\"ticks\":\"\"}}],\"scatter\":[{\"fillpattern\":{\"fillmode\":\"overlay\",\"size\":10,\"solidity\":0.2},\"type\":\"scatter\"}],\"parcoords\":[{\"type\":\"parcoords\",\"line\":{\"colorbar\":{\"outlinewidth\":0,\"ticks\":\"\"}}}],\"scatterpolargl\":[{\"type\":\"scatterpolargl\",\"marker\":{\"colorbar\":{\"outlinewidth\":0,\"ticks\":\"\"}}}],\"bar\":[{\"error_x\":{\"color\":\"#2a3f5f\"},\"error_y\":{\"color\":\"#2a3f5f\"},\"marker\":{\"line\":{\"color\":\"#E5ECF6\",\"width\":0.5},\"pattern\":{\"fillmode\":\"overlay\",\"size\":10,\"solidity\":0.2}},\"type\":\"bar\"}],\"scattergeo\":[{\"type\":\"scattergeo\",\"marker\":{\"colorbar\":{\"outlinewidth\":0,\"ticks\":\"\"}}}],\"scatterpolar\":[{\"type\":\"scatterpolar\",\"marker\":{\"colorbar\":{\"outlinewidth\":0,\"ticks\":\"\"}}}],\"histogram\":[{\"marker\":{\"pattern\":{\"fillmode\":\"overlay\",\"size\":10,\"solidity\":0.2}},\"type\":\"histogram\"}],\"scattergl\":[{\"type\":\"scattergl\",\"marker\":{\"colorbar\":{\"outlinewidth\":0,\"ticks\":\"\"}}}],\"scatter3d\":[{\"type\":\"scatter3d\",\"line\":{\"colorbar\":{\"outlinewidth\":0,\"ticks\":\"\"}},\"marker\":{\"colorbar\":{\"outlinewidth\":0,\"ticks\":\"\"}}}],\"scattermapbox\":[{\"type\":\"scattermapbox\",\"marker\":{\"colorbar\":{\"outlinewidth\":0,\"ticks\":\"\"}}}],\"scatterternary\":[{\"type\":\"scatterternary\",\"marker\":{\"colorbar\":{\"outlinewidth\":0,\"ticks\":\"\"}}}],\"scattercarpet\":[{\"type\":\"scattercarpet\",\"marker\":{\"colorbar\":{\"outlinewidth\":0,\"ticks\":\"\"}}}],\"carpet\":[{\"aaxis\":{\"endlinecolor\":\"#2a3f5f\",\"gridcolor\":\"white\",\"linecolor\":\"white\",\"minorgridcolor\":\"white\",\"startlinecolor\":\"#2a3f5f\"},\"baxis\":{\"endlinecolor\":\"#2a3f5f\",\"gridcolor\":\"white\",\"linecolor\":\"white\",\"minorgridcolor\":\"white\",\"startlinecolor\":\"#2a3f5f\"},\"type\":\"carpet\"}],\"table\":[{\"cells\":{\"fill\":{\"color\":\"#EBF0F8\"},\"line\":{\"color\":\"white\"}},\"header\":{\"fill\":{\"color\":\"#C8D4E3\"},\"line\":{\"color\":\"white\"}},\"type\":\"table\"}],\"barpolar\":[{\"marker\":{\"line\":{\"color\":\"#E5ECF6\",\"width\":0.5},\"pattern\":{\"fillmode\":\"overlay\",\"size\":10,\"solidity\":0.2}},\"type\":\"barpolar\"}],\"pie\":[{\"automargin\":true,\"type\":\"pie\"}]},\"layout\":{\"autotypenumbers\":\"strict\",\"colorway\":[\"#636efa\",\"#EF553B\",\"#00cc96\",\"#ab63fa\",\"#FFA15A\",\"#19d3f3\",\"#FF6692\",\"#B6E880\",\"#FF97FF\",\"#FECB52\"],\"font\":{\"color\":\"#2a3f5f\"},\"hovermode\":\"closest\",\"hoverlabel\":{\"align\":\"left\"},\"paper_bgcolor\":\"white\",\"plot_bgcolor\":\"#E5ECF6\",\"polar\":{\"bgcolor\":\"#E5ECF6\",\"angularaxis\":{\"gridcolor\":\"white\",\"linecolor\":\"white\",\"ticks\":\"\"},\"radialaxis\":{\"gridcolor\":\"white\",\"linecolor\":\"white\",\"ticks\":\"\"}},\"ternary\":{\"bgcolor\":\"#E5ECF6\",\"aaxis\":{\"gridcolor\":\"white\",\"linecolor\":\"white\",\"ticks\":\"\"},\"baxis\":{\"gridcolor\":\"white\",\"linecolor\":\"white\",\"ticks\":\"\"},\"caxis\":{\"gridcolor\":\"white\",\"linecolor\":\"white\",\"ticks\":\"\"}},\"coloraxis\":{\"colorbar\":{\"outlinewidth\":0,\"ticks\":\"\"}},\"colorscale\":{\"sequential\":[[0.0,\"#0d0887\"],[0.1111111111111111,\"#46039f\"],[0.2222222222222222,\"#7201a8\"],[0.3333333333333333,\"#9c179e\"],[0.4444444444444444,\"#bd3786\"],[0.5555555555555556,\"#d8576b\"],[0.6666666666666666,\"#ed7953\"],[0.7777777777777778,\"#fb9f3a\"],[0.8888888888888888,\"#fdca26\"],[1.0,\"#f0f921\"]],\"sequentialminus\":[[0.0,\"#0d0887\"],[0.1111111111111111,\"#46039f\"],[0.2222222222222222,\"#7201a8\"],[0.3333333333333333,\"#9c179e\"],[0.4444444444444444,\"#bd3786\"],[0.5555555555555556,\"#d8576b\"],[0.6666666666666666,\"#ed7953\"],[0.7777777777777778,\"#fb9f3a\"],[0.8888888888888888,\"#fdca26\"],[1.0,\"#f0f921\"]],\"diverging\":[[0,\"#8e0152\"],[0.1,\"#c51b7d\"],[0.2,\"#de77ae\"],[0.3,\"#f1b6da\"],[0.4,\"#fde0ef\"],[0.5,\"#f7f7f7\"],[0.6,\"#e6f5d0\"],[0.7,\"#b8e186\"],[0.8,\"#7fbc41\"],[0.9,\"#4d9221\"],[1,\"#276419\"]]},\"xaxis\":{\"gridcolor\":\"white\",\"linecolor\":\"white\",\"ticks\":\"\",\"title\":{\"standoff\":15},\"zerolinecolor\":\"white\",\"automargin\":true,\"zerolinewidth\":2},\"yaxis\":{\"gridcolor\":\"white\",\"linecolor\":\"white\",\"ticks\":\"\",\"title\":{\"standoff\":15},\"zerolinecolor\":\"white\",\"automargin\":true,\"zerolinewidth\":2},\"scene\":{\"xaxis\":{\"backgroundcolor\":\"#E5ECF6\",\"gridcolor\":\"white\",\"linecolor\":\"white\",\"showbackground\":true,\"ticks\":\"\",\"zerolinecolor\":\"white\",\"gridwidth\":2},\"yaxis\":{\"backgroundcolor\":\"#E5ECF6\",\"gridcolor\":\"white\",\"linecolor\":\"white\",\"showbackground\":true,\"ticks\":\"\",\"zerolinecolor\":\"white\",\"gridwidth\":2},\"zaxis\":{\"backgroundcolor\":\"#E5ECF6\",\"gridcolor\":\"white\",\"linecolor\":\"white\",\"showbackground\":true,\"ticks\":\"\",\"zerolinecolor\":\"white\",\"gridwidth\":2}},\"shapedefaults\":{\"line\":{\"color\":\"#2a3f5f\"}},\"annotationdefaults\":{\"arrowcolor\":\"#2a3f5f\",\"arrowhead\":0,\"arrowwidth\":1},\"geo\":{\"bgcolor\":\"white\",\"landcolor\":\"#E5ECF6\",\"subunitcolor\":\"white\",\"showland\":true,\"showlakes\":true,\"lakecolor\":\"white\"},\"title\":{\"x\":0.05},\"mapbox\":{\"style\":\"light\"}}},\"xaxis\":{\"anchor\":\"y\",\"domain\":[0.0,1.0],\"scaleanchor\":\"y\",\"constrain\":\"domain\"},\"yaxis\":{\"anchor\":\"x\",\"domain\":[0.0,1.0],\"autorange\":\"reversed\",\"constrain\":\"domain\"},\"coloraxis\":{\"colorscale\":[[0.0,\"#0d0887\"],[0.1111111111111111,\"#46039f\"],[0.2222222222222222,\"#7201a8\"],[0.3333333333333333,\"#9c179e\"],[0.4444444444444444,\"#bd3786\"],[0.5555555555555556,\"#d8576b\"],[0.6666666666666666,\"#ed7953\"],[0.7777777777777778,\"#fb9f3a\"],[0.8888888888888888,\"#fdca26\"],[1.0,\"#f0f921\"]]},\"margin\":{\"t\":60}},                        {\"responsive\": true}                    ).then(function(){\n",
              "                            \n",
              "var gd = document.getElementById('8a681c15-befa-4937-8b17-a5f9a7e2f15c');\n",
              "var x = new MutationObserver(function (mutations, observer) {{\n",
              "        var display = window.getComputedStyle(gd).display;\n",
              "        if (!display || display === 'none') {{\n",
              "            console.log([gd, 'removed!']);\n",
              "            Plotly.purge(gd);\n",
              "            observer.disconnect();\n",
              "        }}\n",
              "}});\n",
              "\n",
              "// Listen for the removal of the full notebook cells\n",
              "var notebookContainer = gd.closest('#notebook-container');\n",
              "if (notebookContainer) {{\n",
              "    x.observe(notebookContainer, {childList: true});\n",
              "}}\n",
              "\n",
              "// Listen for the clearing of the current output cell\n",
              "var outputEl = gd.closest('.output');\n",
              "if (outputEl) {{\n",
              "    x.observe(outputEl, {childList: true});\n",
              "}}\n",
              "\n",
              "                        })                };                            </script>        </div>\n",
              "</body>\n",
              "</html>"
            ]
          },
          "metadata": {}
        }
      ]
    },
    {
      "cell_type": "markdown",
      "source": [
        "Pada tahap pengurangan fitur ini, kita dapat melewatinya karena tidak ada fitur yang dianggap tidak relevan. Semua fitur, mulai dari Age, Gender, Education, Job Title, Years of Experience, hingga Salary, dianggap penting dan relevan untuk analisis. Oleh karena itu, tidak perlu melakukan pengurangan fitur. Semua informasi yang tersedia dapat dimanfaatkan sepenuhnya dalam pemodelan atau analisis yang akan dilakukan. Selanjutnya, kita dapat melanjutkan ke tahap berikutnya dalam proses analisis data."
      ],
      "metadata": {
        "id": "iYU9J68UH8lO"
      }
    },
    {
      "cell_type": "markdown",
      "source": [
        "###**Mapping**"
      ],
      "metadata": {
        "id": "ixNsSxwR7Qdg"
      }
    },
    {
      "cell_type": "code",
      "source": [
        "df['AgeCategory'] = df['AgeCategory'].map({'Child': 0, 'Adult': 1, 'Elder': 2}).fillna(1).astype(int)"
      ],
      "metadata": {
        "id": "sWWbTcDe7TI7"
      },
      "execution_count": 108,
      "outputs": []
    },
    {
      "cell_type": "code",
      "source": [
        "df['JobCategory'] = df['JobCategory'].map({'Engineering': 0, 'Management': 1, 'Finance': 2, 'Marketing': 3, 'HR & Customer Service': 4, 'Other': 5}).fillna(5).astype(int)"
      ],
      "metadata": {
        "id": "roFfNlNXXEDO"
      },
      "execution_count": 109,
      "outputs": []
    },
    {
      "cell_type": "code",
      "source": [
        "df.head()"
      ],
      "metadata": {
        "id": "3W9byxXa7o8-",
        "colab": {
          "base_uri": "https://localhost:8080/",
          "height": 206
        },
        "outputId": "f274b926-d03d-4688-884f-4142cd213ec4"
      },
      "execution_count": 110,
      "outputs": [
        {
          "output_type": "execute_result",
          "data": {
            "text/plain": [
              "    Age  Gender Education Level          Job Title  Years of Experience  \\\n",
              "0  32.0    Male      Bachelor's  Software Engineer                  5.0   \n",
              "1  28.0  Female        Master's       Data Analyst                  3.0   \n",
              "2  45.0    Male             PhD     Senior Manager                 15.0   \n",
              "3  36.0  Female      Bachelor's    Sales Associate                  7.0   \n",
              "4  52.0    Male        Master's           Director                 20.0   \n",
              "\n",
              "     Salary  JobCategory  AgeCategory  \n",
              "0   90000.0            0            1  \n",
              "1   65000.0            0            1  \n",
              "2  150000.0            1            1  \n",
              "3   60000.0            5            1  \n",
              "4  200000.0            1            1  "
            ],
            "text/html": [
              "\n",
              "  <div id=\"df-4eadbf4f-adc9-4caa-b337-5089845395c1\" class=\"colab-df-container\">\n",
              "    <div>\n",
              "<style scoped>\n",
              "    .dataframe tbody tr th:only-of-type {\n",
              "        vertical-align: middle;\n",
              "    }\n",
              "\n",
              "    .dataframe tbody tr th {\n",
              "        vertical-align: top;\n",
              "    }\n",
              "\n",
              "    .dataframe thead th {\n",
              "        text-align: right;\n",
              "    }\n",
              "</style>\n",
              "<table border=\"1\" class=\"dataframe\">\n",
              "  <thead>\n",
              "    <tr style=\"text-align: right;\">\n",
              "      <th></th>\n",
              "      <th>Age</th>\n",
              "      <th>Gender</th>\n",
              "      <th>Education Level</th>\n",
              "      <th>Job Title</th>\n",
              "      <th>Years of Experience</th>\n",
              "      <th>Salary</th>\n",
              "      <th>JobCategory</th>\n",
              "      <th>AgeCategory</th>\n",
              "    </tr>\n",
              "  </thead>\n",
              "  <tbody>\n",
              "    <tr>\n",
              "      <th>0</th>\n",
              "      <td>32.0</td>\n",
              "      <td>Male</td>\n",
              "      <td>Bachelor's</td>\n",
              "      <td>Software Engineer</td>\n",
              "      <td>5.0</td>\n",
              "      <td>90000.0</td>\n",
              "      <td>0</td>\n",
              "      <td>1</td>\n",
              "    </tr>\n",
              "    <tr>\n",
              "      <th>1</th>\n",
              "      <td>28.0</td>\n",
              "      <td>Female</td>\n",
              "      <td>Master's</td>\n",
              "      <td>Data Analyst</td>\n",
              "      <td>3.0</td>\n",
              "      <td>65000.0</td>\n",
              "      <td>0</td>\n",
              "      <td>1</td>\n",
              "    </tr>\n",
              "    <tr>\n",
              "      <th>2</th>\n",
              "      <td>45.0</td>\n",
              "      <td>Male</td>\n",
              "      <td>PhD</td>\n",
              "      <td>Senior Manager</td>\n",
              "      <td>15.0</td>\n",
              "      <td>150000.0</td>\n",
              "      <td>1</td>\n",
              "      <td>1</td>\n",
              "    </tr>\n",
              "    <tr>\n",
              "      <th>3</th>\n",
              "      <td>36.0</td>\n",
              "      <td>Female</td>\n",
              "      <td>Bachelor's</td>\n",
              "      <td>Sales Associate</td>\n",
              "      <td>7.0</td>\n",
              "      <td>60000.0</td>\n",
              "      <td>5</td>\n",
              "      <td>1</td>\n",
              "    </tr>\n",
              "    <tr>\n",
              "      <th>4</th>\n",
              "      <td>52.0</td>\n",
              "      <td>Male</td>\n",
              "      <td>Master's</td>\n",
              "      <td>Director</td>\n",
              "      <td>20.0</td>\n",
              "      <td>200000.0</td>\n",
              "      <td>1</td>\n",
              "      <td>1</td>\n",
              "    </tr>\n",
              "  </tbody>\n",
              "</table>\n",
              "</div>\n",
              "    <div class=\"colab-df-buttons\">\n",
              "\n",
              "  <div class=\"colab-df-container\">\n",
              "    <button class=\"colab-df-convert\" onclick=\"convertToInteractive('df-4eadbf4f-adc9-4caa-b337-5089845395c1')\"\n",
              "            title=\"Convert this dataframe to an interactive table.\"\n",
              "            style=\"display:none;\">\n",
              "\n",
              "  <svg xmlns=\"http://www.w3.org/2000/svg\" height=\"24px\" viewBox=\"0 -960 960 960\">\n",
              "    <path d=\"M120-120v-720h720v720H120Zm60-500h600v-160H180v160Zm220 220h160v-160H400v160Zm0 220h160v-160H400v160ZM180-400h160v-160H180v160Zm440 0h160v-160H620v160ZM180-180h160v-160H180v160Zm440 0h160v-160H620v160Z\"/>\n",
              "  </svg>\n",
              "    </button>\n",
              "\n",
              "  <style>\n",
              "    .colab-df-container {\n",
              "      display:flex;\n",
              "      gap: 12px;\n",
              "    }\n",
              "\n",
              "    .colab-df-convert {\n",
              "      background-color: #E8F0FE;\n",
              "      border: none;\n",
              "      border-radius: 50%;\n",
              "      cursor: pointer;\n",
              "      display: none;\n",
              "      fill: #1967D2;\n",
              "      height: 32px;\n",
              "      padding: 0 0 0 0;\n",
              "      width: 32px;\n",
              "    }\n",
              "\n",
              "    .colab-df-convert:hover {\n",
              "      background-color: #E2EBFA;\n",
              "      box-shadow: 0px 1px 2px rgba(60, 64, 67, 0.3), 0px 1px 3px 1px rgba(60, 64, 67, 0.15);\n",
              "      fill: #174EA6;\n",
              "    }\n",
              "\n",
              "    .colab-df-buttons div {\n",
              "      margin-bottom: 4px;\n",
              "    }\n",
              "\n",
              "    [theme=dark] .colab-df-convert {\n",
              "      background-color: #3B4455;\n",
              "      fill: #D2E3FC;\n",
              "    }\n",
              "\n",
              "    [theme=dark] .colab-df-convert:hover {\n",
              "      background-color: #434B5C;\n",
              "      box-shadow: 0px 1px 3px 1px rgba(0, 0, 0, 0.15);\n",
              "      filter: drop-shadow(0px 1px 2px rgba(0, 0, 0, 0.3));\n",
              "      fill: #FFFFFF;\n",
              "    }\n",
              "  </style>\n",
              "\n",
              "    <script>\n",
              "      const buttonEl =\n",
              "        document.querySelector('#df-4eadbf4f-adc9-4caa-b337-5089845395c1 button.colab-df-convert');\n",
              "      buttonEl.style.display =\n",
              "        google.colab.kernel.accessAllowed ? 'block' : 'none';\n",
              "\n",
              "      async function convertToInteractive(key) {\n",
              "        const element = document.querySelector('#df-4eadbf4f-adc9-4caa-b337-5089845395c1');\n",
              "        const dataTable =\n",
              "          await google.colab.kernel.invokeFunction('convertToInteractive',\n",
              "                                                    [key], {});\n",
              "        if (!dataTable) return;\n",
              "\n",
              "        const docLinkHtml = 'Like what you see? Visit the ' +\n",
              "          '<a target=\"_blank\" href=https://colab.research.google.com/notebooks/data_table.ipynb>data table notebook</a>'\n",
              "          + ' to learn more about interactive tables.';\n",
              "        element.innerHTML = '';\n",
              "        dataTable['output_type'] = 'display_data';\n",
              "        await google.colab.output.renderOutput(dataTable, element);\n",
              "        const docLink = document.createElement('div');\n",
              "        docLink.innerHTML = docLinkHtml;\n",
              "        element.appendChild(docLink);\n",
              "      }\n",
              "    </script>\n",
              "  </div>\n",
              "\n",
              "\n",
              "<div id=\"df-4c61ae5c-dc30-4e6d-8dbc-fb80103dd44e\">\n",
              "  <button class=\"colab-df-quickchart\" onclick=\"quickchart('df-4c61ae5c-dc30-4e6d-8dbc-fb80103dd44e')\"\n",
              "            title=\"Suggest charts\"\n",
              "            style=\"display:none;\">\n",
              "\n",
              "<svg xmlns=\"http://www.w3.org/2000/svg\" height=\"24px\"viewBox=\"0 0 24 24\"\n",
              "     width=\"24px\">\n",
              "    <g>\n",
              "        <path d=\"M19 3H5c-1.1 0-2 .9-2 2v14c0 1.1.9 2 2 2h14c1.1 0 2-.9 2-2V5c0-1.1-.9-2-2-2zM9 17H7v-7h2v7zm4 0h-2V7h2v10zm4 0h-2v-4h2v4z\"/>\n",
              "    </g>\n",
              "</svg>\n",
              "  </button>\n",
              "\n",
              "<style>\n",
              "  .colab-df-quickchart {\n",
              "      --bg-color: #E8F0FE;\n",
              "      --fill-color: #1967D2;\n",
              "      --hover-bg-color: #E2EBFA;\n",
              "      --hover-fill-color: #174EA6;\n",
              "      --disabled-fill-color: #AAA;\n",
              "      --disabled-bg-color: #DDD;\n",
              "  }\n",
              "\n",
              "  [theme=dark] .colab-df-quickchart {\n",
              "      --bg-color: #3B4455;\n",
              "      --fill-color: #D2E3FC;\n",
              "      --hover-bg-color: #434B5C;\n",
              "      --hover-fill-color: #FFFFFF;\n",
              "      --disabled-bg-color: #3B4455;\n",
              "      --disabled-fill-color: #666;\n",
              "  }\n",
              "\n",
              "  .colab-df-quickchart {\n",
              "    background-color: var(--bg-color);\n",
              "    border: none;\n",
              "    border-radius: 50%;\n",
              "    cursor: pointer;\n",
              "    display: none;\n",
              "    fill: var(--fill-color);\n",
              "    height: 32px;\n",
              "    padding: 0;\n",
              "    width: 32px;\n",
              "  }\n",
              "\n",
              "  .colab-df-quickchart:hover {\n",
              "    background-color: var(--hover-bg-color);\n",
              "    box-shadow: 0 1px 2px rgba(60, 64, 67, 0.3), 0 1px 3px 1px rgba(60, 64, 67, 0.15);\n",
              "    fill: var(--button-hover-fill-color);\n",
              "  }\n",
              "\n",
              "  .colab-df-quickchart-complete:disabled,\n",
              "  .colab-df-quickchart-complete:disabled:hover {\n",
              "    background-color: var(--disabled-bg-color);\n",
              "    fill: var(--disabled-fill-color);\n",
              "    box-shadow: none;\n",
              "  }\n",
              "\n",
              "  .colab-df-spinner {\n",
              "    border: 2px solid var(--fill-color);\n",
              "    border-color: transparent;\n",
              "    border-bottom-color: var(--fill-color);\n",
              "    animation:\n",
              "      spin 1s steps(1) infinite;\n",
              "  }\n",
              "\n",
              "  @keyframes spin {\n",
              "    0% {\n",
              "      border-color: transparent;\n",
              "      border-bottom-color: var(--fill-color);\n",
              "      border-left-color: var(--fill-color);\n",
              "    }\n",
              "    20% {\n",
              "      border-color: transparent;\n",
              "      border-left-color: var(--fill-color);\n",
              "      border-top-color: var(--fill-color);\n",
              "    }\n",
              "    30% {\n",
              "      border-color: transparent;\n",
              "      border-left-color: var(--fill-color);\n",
              "      border-top-color: var(--fill-color);\n",
              "      border-right-color: var(--fill-color);\n",
              "    }\n",
              "    40% {\n",
              "      border-color: transparent;\n",
              "      border-right-color: var(--fill-color);\n",
              "      border-top-color: var(--fill-color);\n",
              "    }\n",
              "    60% {\n",
              "      border-color: transparent;\n",
              "      border-right-color: var(--fill-color);\n",
              "    }\n",
              "    80% {\n",
              "      border-color: transparent;\n",
              "      border-right-color: var(--fill-color);\n",
              "      border-bottom-color: var(--fill-color);\n",
              "    }\n",
              "    90% {\n",
              "      border-color: transparent;\n",
              "      border-bottom-color: var(--fill-color);\n",
              "    }\n",
              "  }\n",
              "</style>\n",
              "\n",
              "  <script>\n",
              "    async function quickchart(key) {\n",
              "      const quickchartButtonEl =\n",
              "        document.querySelector('#' + key + ' button');\n",
              "      quickchartButtonEl.disabled = true;  // To prevent multiple clicks.\n",
              "      quickchartButtonEl.classList.add('colab-df-spinner');\n",
              "      try {\n",
              "        const charts = await google.colab.kernel.invokeFunction(\n",
              "            'suggestCharts', [key], {});\n",
              "      } catch (error) {\n",
              "        console.error('Error during call to suggestCharts:', error);\n",
              "      }\n",
              "      quickchartButtonEl.classList.remove('colab-df-spinner');\n",
              "      quickchartButtonEl.classList.add('colab-df-quickchart-complete');\n",
              "    }\n",
              "    (() => {\n",
              "      let quickchartButtonEl =\n",
              "        document.querySelector('#df-4c61ae5c-dc30-4e6d-8dbc-fb80103dd44e button');\n",
              "      quickchartButtonEl.style.display =\n",
              "        google.colab.kernel.accessAllowed ? 'block' : 'none';\n",
              "    })();\n",
              "  </script>\n",
              "</div>\n",
              "    </div>\n",
              "  </div>\n"
            ],
            "application/vnd.google.colaboratory.intrinsic+json": {
              "type": "dataframe",
              "variable_name": "df",
              "summary": "{\n  \"name\": \"df\",\n  \"rows\": 375,\n  \"fields\": [\n    {\n      \"column\": \"Age\",\n      \"properties\": {\n        \"dtype\": \"number\",\n        \"std\": 7.050146337164603,\n        \"min\": 23.0,\n        \"max\": 53.0,\n        \"num_unique_values\": 32,\n        \"samples\": [\n          23.0,\n          33.0,\n          24.0\n        ],\n        \"semantic_type\": \"\",\n        \"description\": \"\"\n      }\n    },\n    {\n      \"column\": \"Gender\",\n      \"properties\": {\n        \"dtype\": \"category\",\n        \"num_unique_values\": 2,\n        \"samples\": [\n          \"Female\",\n          \"Male\"\n        ],\n        \"semantic_type\": \"\",\n        \"description\": \"\"\n      }\n    },\n    {\n      \"column\": \"Education Level\",\n      \"properties\": {\n        \"dtype\": \"category\",\n        \"num_unique_values\": 3,\n        \"samples\": [\n          \"Bachelor's\",\n          \"Master's\"\n        ],\n        \"semantic_type\": \"\",\n        \"description\": \"\"\n      }\n    },\n    {\n      \"column\": \"Job Title\",\n      \"properties\": {\n        \"dtype\": \"category\",\n        \"num_unique_values\": 174,\n        \"samples\": [\n          \"Junior Advertising Coordinator\",\n          \"Junior Product Manager\"\n        ],\n        \"semantic_type\": \"\",\n        \"description\": \"\"\n      }\n    },\n    {\n      \"column\": \"Years of Experience\",\n      \"properties\": {\n        \"dtype\": \"number\",\n        \"std\": 6.539451530248433,\n        \"min\": 0.0,\n        \"max\": 25.0,\n        \"num_unique_values\": 29,\n        \"samples\": [\n          1.5,\n          19.0\n        ],\n        \"semantic_type\": \"\",\n        \"description\": \"\"\n      }\n    },\n    {\n      \"column\": \"Salary\",\n      \"properties\": {\n        \"dtype\": \"number\",\n        \"std\": 48110.85658750964,\n        \"min\": 350.0,\n        \"max\": 250000.0,\n        \"num_unique_values\": 37,\n        \"samples\": [\n          180000.0,\n          40000.0\n        ],\n        \"semantic_type\": \"\",\n        \"description\": \"\"\n      }\n    },\n    {\n      \"column\": \"JobCategory\",\n      \"properties\": {\n        \"dtype\": \"number\",\n        \"std\": 1,\n        \"min\": 0,\n        \"max\": 5,\n        \"num_unique_values\": 6,\n        \"samples\": [\n          0,\n          1\n        ],\n        \"semantic_type\": \"\",\n        \"description\": \"\"\n      }\n    },\n    {\n      \"column\": \"AgeCategory\",\n      \"properties\": {\n        \"dtype\": \"number\",\n        \"std\": 0,\n        \"min\": 1,\n        \"max\": 1,\n        \"num_unique_values\": 1,\n        \"samples\": [\n          1\n        ],\n        \"semantic_type\": \"\",\n        \"description\": \"\"\n      }\n    }\n  ]\n}"
            }
          },
          "metadata": {},
          "execution_count": 110
        }
      ]
    },
    {
      "cell_type": "markdown",
      "source": [
        "Ini adalah penambahan kolom baru dalam dataframe yang menunjukkan kategori usia berdasarkan nilai 'Child', 'Adult', dan 'Elder' pada kolom 'AgeCategory', serta kategori pekerjaan berdasarkan berbagai judul pekerjaan pada kolom 'JobCategory'.\n",
        "\n",
        "Selanjutnya, kolom tersebut dipecah menjadi beberapa kolom biner untuk setiap kategori usia, misalnya 'AgeCategory_1' untuk kategori 'Child', 'AgeCategory_2' untuk kategori 'Adult', dan 'AgeCategory_3' untuk kategori 'Elder'. Kolom-kolom biner ini menunjukkan apakah suatu data berada dalam kategori usia tertentu atau tidak.\n",
        "\n",
        "Dan Kolom 'JobCategory' juga dipecah menjadi kolom biner untuk setiap kategori pekerjaan, seperti 'JobCategory_0' untuk kategori 'Engineering', 'JobCategory_1' untuk kategori 'Management', dan seterusnya. Hal ini memudahkan dalam analisis data dengan mempertimbangkan peran pekerjaan dalam pemodelan data dan pengambilan keputusan."
      ],
      "metadata": {
        "id": "ZQB1TwUqM4tx"
      }
    },
    {
      "cell_type": "markdown",
      "source": [
        "##**DATA TRANSFORMATION**"
      ],
      "metadata": {
        "id": "uis-vBRvIv_9"
      }
    },
    {
      "cell_type": "markdown",
      "source": [
        "###**Mapping**"
      ],
      "metadata": {
        "id": "Fd1_z5haIUAf"
      }
    },
    {
      "cell_type": "code",
      "source": [
        "# Melakukan one-hot encoding pada kolom 'Age'\n",
        "df = pd.concat([df, pd.get_dummies(df['AgeCategory'], prefix='AgeCategory')], axis=1)"
      ],
      "metadata": {
        "id": "Ky5akktwIZwZ"
      },
      "execution_count": 111,
      "outputs": []
    },
    {
      "cell_type": "code",
      "source": [
        "# Melakukan one-hot encoding pada kolom 'Gender'\n",
        "df = pd.concat([df, pd.get_dummies(df['Gender'], prefix='Gender')], axis=1)"
      ],
      "metadata": {
        "id": "yHFUCXdJJR0r"
      },
      "execution_count": 112,
      "outputs": []
    },
    {
      "cell_type": "code",
      "source": [
        "# Melakukan one-hot encoding pada kolom 'Job'\n",
        "df = pd.concat([df, pd.get_dummies(df['JobCategory'], prefix='JobCategory')], axis=1)"
      ],
      "metadata": {
        "id": "o9J2TDetXcJU"
      },
      "execution_count": 113,
      "outputs": []
    },
    {
      "cell_type": "code",
      "source": [
        "df"
      ],
      "metadata": {
        "id": "LVakpJteI-av",
        "colab": {
          "base_uri": "https://localhost:8080/",
          "height": 580
        },
        "outputId": "22d41a1b-7eaf-4ca9-df84-2caf9de4327b"
      },
      "execution_count": 114,
      "outputs": [
        {
          "output_type": "execute_result",
          "data": {
            "text/plain": [
              "      Age  Gender Education Level                      Job Title  \\\n",
              "0    32.0    Male      Bachelor's              Software Engineer   \n",
              "1    28.0  Female        Master's                   Data Analyst   \n",
              "2    45.0    Male             PhD                 Senior Manager   \n",
              "3    36.0  Female      Bachelor's                Sales Associate   \n",
              "4    52.0    Male        Master's                       Director   \n",
              "..    ...     ...             ...                            ...   \n",
              "370  35.0  Female      Bachelor's       Senior Marketing Analyst   \n",
              "371  43.0    Male        Master's         Director of Operations   \n",
              "372  29.0  Female      Bachelor's         Junior Project Manager   \n",
              "373  34.0    Male      Bachelor's  Senior Operations Coordinator   \n",
              "374  44.0  Female             PhD        Senior Business Analyst   \n",
              "\n",
              "     Years of Experience    Salary  JobCategory  AgeCategory  AgeCategory_1  \\\n",
              "0                    5.0   90000.0            0            1              1   \n",
              "1                    3.0   65000.0            0            1              1   \n",
              "2                   15.0  150000.0            1            1              1   \n",
              "3                    7.0   60000.0            5            1              1   \n",
              "4                   20.0  200000.0            1            1              1   \n",
              "..                   ...       ...          ...          ...            ...   \n",
              "370                  8.0   85000.0            5            1              1   \n",
              "371                 19.0  170000.0            5            1              1   \n",
              "372                  2.0   40000.0            5            1              1   \n",
              "373                  7.0   90000.0            5            1              1   \n",
              "374                 15.0  150000.0            5            1              1   \n",
              "\n",
              "     Gender_Female  Gender_Male  JobCategory_0  JobCategory_1  JobCategory_2  \\\n",
              "0                0            1              1              0              0   \n",
              "1                1            0              1              0              0   \n",
              "2                0            1              0              1              0   \n",
              "3                1            0              0              0              0   \n",
              "4                0            1              0              1              0   \n",
              "..             ...          ...            ...            ...            ...   \n",
              "370              1            0              0              0              0   \n",
              "371              0            1              0              0              0   \n",
              "372              1            0              0              0              0   \n",
              "373              0            1              0              0              0   \n",
              "374              1            0              0              0              0   \n",
              "\n",
              "     JobCategory_3  JobCategory_4  JobCategory_5  \n",
              "0                0              0              0  \n",
              "1                0              0              0  \n",
              "2                0              0              0  \n",
              "3                0              0              1  \n",
              "4                0              0              0  \n",
              "..             ...            ...            ...  \n",
              "370              0              0              1  \n",
              "371              0              0              1  \n",
              "372              0              0              1  \n",
              "373              0              0              1  \n",
              "374              0              0              1  \n",
              "\n",
              "[375 rows x 17 columns]"
            ],
            "text/html": [
              "\n",
              "  <div id=\"df-aa7c34a9-e095-4790-810f-8fb4ee8cfc24\" class=\"colab-df-container\">\n",
              "    <div>\n",
              "<style scoped>\n",
              "    .dataframe tbody tr th:only-of-type {\n",
              "        vertical-align: middle;\n",
              "    }\n",
              "\n",
              "    .dataframe tbody tr th {\n",
              "        vertical-align: top;\n",
              "    }\n",
              "\n",
              "    .dataframe thead th {\n",
              "        text-align: right;\n",
              "    }\n",
              "</style>\n",
              "<table border=\"1\" class=\"dataframe\">\n",
              "  <thead>\n",
              "    <tr style=\"text-align: right;\">\n",
              "      <th></th>\n",
              "      <th>Age</th>\n",
              "      <th>Gender</th>\n",
              "      <th>Education Level</th>\n",
              "      <th>Job Title</th>\n",
              "      <th>Years of Experience</th>\n",
              "      <th>Salary</th>\n",
              "      <th>JobCategory</th>\n",
              "      <th>AgeCategory</th>\n",
              "      <th>AgeCategory_1</th>\n",
              "      <th>Gender_Female</th>\n",
              "      <th>Gender_Male</th>\n",
              "      <th>JobCategory_0</th>\n",
              "      <th>JobCategory_1</th>\n",
              "      <th>JobCategory_2</th>\n",
              "      <th>JobCategory_3</th>\n",
              "      <th>JobCategory_4</th>\n",
              "      <th>JobCategory_5</th>\n",
              "    </tr>\n",
              "  </thead>\n",
              "  <tbody>\n",
              "    <tr>\n",
              "      <th>0</th>\n",
              "      <td>32.0</td>\n",
              "      <td>Male</td>\n",
              "      <td>Bachelor's</td>\n",
              "      <td>Software Engineer</td>\n",
              "      <td>5.0</td>\n",
              "      <td>90000.0</td>\n",
              "      <td>0</td>\n",
              "      <td>1</td>\n",
              "      <td>1</td>\n",
              "      <td>0</td>\n",
              "      <td>1</td>\n",
              "      <td>1</td>\n",
              "      <td>0</td>\n",
              "      <td>0</td>\n",
              "      <td>0</td>\n",
              "      <td>0</td>\n",
              "      <td>0</td>\n",
              "    </tr>\n",
              "    <tr>\n",
              "      <th>1</th>\n",
              "      <td>28.0</td>\n",
              "      <td>Female</td>\n",
              "      <td>Master's</td>\n",
              "      <td>Data Analyst</td>\n",
              "      <td>3.0</td>\n",
              "      <td>65000.0</td>\n",
              "      <td>0</td>\n",
              "      <td>1</td>\n",
              "      <td>1</td>\n",
              "      <td>1</td>\n",
              "      <td>0</td>\n",
              "      <td>1</td>\n",
              "      <td>0</td>\n",
              "      <td>0</td>\n",
              "      <td>0</td>\n",
              "      <td>0</td>\n",
              "      <td>0</td>\n",
              "    </tr>\n",
              "    <tr>\n",
              "      <th>2</th>\n",
              "      <td>45.0</td>\n",
              "      <td>Male</td>\n",
              "      <td>PhD</td>\n",
              "      <td>Senior Manager</td>\n",
              "      <td>15.0</td>\n",
              "      <td>150000.0</td>\n",
              "      <td>1</td>\n",
              "      <td>1</td>\n",
              "      <td>1</td>\n",
              "      <td>0</td>\n",
              "      <td>1</td>\n",
              "      <td>0</td>\n",
              "      <td>1</td>\n",
              "      <td>0</td>\n",
              "      <td>0</td>\n",
              "      <td>0</td>\n",
              "      <td>0</td>\n",
              "    </tr>\n",
              "    <tr>\n",
              "      <th>3</th>\n",
              "      <td>36.0</td>\n",
              "      <td>Female</td>\n",
              "      <td>Bachelor's</td>\n",
              "      <td>Sales Associate</td>\n",
              "      <td>7.0</td>\n",
              "      <td>60000.0</td>\n",
              "      <td>5</td>\n",
              "      <td>1</td>\n",
              "      <td>1</td>\n",
              "      <td>1</td>\n",
              "      <td>0</td>\n",
              "      <td>0</td>\n",
              "      <td>0</td>\n",
              "      <td>0</td>\n",
              "      <td>0</td>\n",
              "      <td>0</td>\n",
              "      <td>1</td>\n",
              "    </tr>\n",
              "    <tr>\n",
              "      <th>4</th>\n",
              "      <td>52.0</td>\n",
              "      <td>Male</td>\n",
              "      <td>Master's</td>\n",
              "      <td>Director</td>\n",
              "      <td>20.0</td>\n",
              "      <td>200000.0</td>\n",
              "      <td>1</td>\n",
              "      <td>1</td>\n",
              "      <td>1</td>\n",
              "      <td>0</td>\n",
              "      <td>1</td>\n",
              "      <td>0</td>\n",
              "      <td>1</td>\n",
              "      <td>0</td>\n",
              "      <td>0</td>\n",
              "      <td>0</td>\n",
              "      <td>0</td>\n",
              "    </tr>\n",
              "    <tr>\n",
              "      <th>...</th>\n",
              "      <td>...</td>\n",
              "      <td>...</td>\n",
              "      <td>...</td>\n",
              "      <td>...</td>\n",
              "      <td>...</td>\n",
              "      <td>...</td>\n",
              "      <td>...</td>\n",
              "      <td>...</td>\n",
              "      <td>...</td>\n",
              "      <td>...</td>\n",
              "      <td>...</td>\n",
              "      <td>...</td>\n",
              "      <td>...</td>\n",
              "      <td>...</td>\n",
              "      <td>...</td>\n",
              "      <td>...</td>\n",
              "      <td>...</td>\n",
              "    </tr>\n",
              "    <tr>\n",
              "      <th>370</th>\n",
              "      <td>35.0</td>\n",
              "      <td>Female</td>\n",
              "      <td>Bachelor's</td>\n",
              "      <td>Senior Marketing Analyst</td>\n",
              "      <td>8.0</td>\n",
              "      <td>85000.0</td>\n",
              "      <td>5</td>\n",
              "      <td>1</td>\n",
              "      <td>1</td>\n",
              "      <td>1</td>\n",
              "      <td>0</td>\n",
              "      <td>0</td>\n",
              "      <td>0</td>\n",
              "      <td>0</td>\n",
              "      <td>0</td>\n",
              "      <td>0</td>\n",
              "      <td>1</td>\n",
              "    </tr>\n",
              "    <tr>\n",
              "      <th>371</th>\n",
              "      <td>43.0</td>\n",
              "      <td>Male</td>\n",
              "      <td>Master's</td>\n",
              "      <td>Director of Operations</td>\n",
              "      <td>19.0</td>\n",
              "      <td>170000.0</td>\n",
              "      <td>5</td>\n",
              "      <td>1</td>\n",
              "      <td>1</td>\n",
              "      <td>0</td>\n",
              "      <td>1</td>\n",
              "      <td>0</td>\n",
              "      <td>0</td>\n",
              "      <td>0</td>\n",
              "      <td>0</td>\n",
              "      <td>0</td>\n",
              "      <td>1</td>\n",
              "    </tr>\n",
              "    <tr>\n",
              "      <th>372</th>\n",
              "      <td>29.0</td>\n",
              "      <td>Female</td>\n",
              "      <td>Bachelor's</td>\n",
              "      <td>Junior Project Manager</td>\n",
              "      <td>2.0</td>\n",
              "      <td>40000.0</td>\n",
              "      <td>5</td>\n",
              "      <td>1</td>\n",
              "      <td>1</td>\n",
              "      <td>1</td>\n",
              "      <td>0</td>\n",
              "      <td>0</td>\n",
              "      <td>0</td>\n",
              "      <td>0</td>\n",
              "      <td>0</td>\n",
              "      <td>0</td>\n",
              "      <td>1</td>\n",
              "    </tr>\n",
              "    <tr>\n",
              "      <th>373</th>\n",
              "      <td>34.0</td>\n",
              "      <td>Male</td>\n",
              "      <td>Bachelor's</td>\n",
              "      <td>Senior Operations Coordinator</td>\n",
              "      <td>7.0</td>\n",
              "      <td>90000.0</td>\n",
              "      <td>5</td>\n",
              "      <td>1</td>\n",
              "      <td>1</td>\n",
              "      <td>0</td>\n",
              "      <td>1</td>\n",
              "      <td>0</td>\n",
              "      <td>0</td>\n",
              "      <td>0</td>\n",
              "      <td>0</td>\n",
              "      <td>0</td>\n",
              "      <td>1</td>\n",
              "    </tr>\n",
              "    <tr>\n",
              "      <th>374</th>\n",
              "      <td>44.0</td>\n",
              "      <td>Female</td>\n",
              "      <td>PhD</td>\n",
              "      <td>Senior Business Analyst</td>\n",
              "      <td>15.0</td>\n",
              "      <td>150000.0</td>\n",
              "      <td>5</td>\n",
              "      <td>1</td>\n",
              "      <td>1</td>\n",
              "      <td>1</td>\n",
              "      <td>0</td>\n",
              "      <td>0</td>\n",
              "      <td>0</td>\n",
              "      <td>0</td>\n",
              "      <td>0</td>\n",
              "      <td>0</td>\n",
              "      <td>1</td>\n",
              "    </tr>\n",
              "  </tbody>\n",
              "</table>\n",
              "<p>375 rows × 17 columns</p>\n",
              "</div>\n",
              "    <div class=\"colab-df-buttons\">\n",
              "\n",
              "  <div class=\"colab-df-container\">\n",
              "    <button class=\"colab-df-convert\" onclick=\"convertToInteractive('df-aa7c34a9-e095-4790-810f-8fb4ee8cfc24')\"\n",
              "            title=\"Convert this dataframe to an interactive table.\"\n",
              "            style=\"display:none;\">\n",
              "\n",
              "  <svg xmlns=\"http://www.w3.org/2000/svg\" height=\"24px\" viewBox=\"0 -960 960 960\">\n",
              "    <path d=\"M120-120v-720h720v720H120Zm60-500h600v-160H180v160Zm220 220h160v-160H400v160Zm0 220h160v-160H400v160ZM180-400h160v-160H180v160Zm440 0h160v-160H620v160ZM180-180h160v-160H180v160Zm440 0h160v-160H620v160Z\"/>\n",
              "  </svg>\n",
              "    </button>\n",
              "\n",
              "  <style>\n",
              "    .colab-df-container {\n",
              "      display:flex;\n",
              "      gap: 12px;\n",
              "    }\n",
              "\n",
              "    .colab-df-convert {\n",
              "      background-color: #E8F0FE;\n",
              "      border: none;\n",
              "      border-radius: 50%;\n",
              "      cursor: pointer;\n",
              "      display: none;\n",
              "      fill: #1967D2;\n",
              "      height: 32px;\n",
              "      padding: 0 0 0 0;\n",
              "      width: 32px;\n",
              "    }\n",
              "\n",
              "    .colab-df-convert:hover {\n",
              "      background-color: #E2EBFA;\n",
              "      box-shadow: 0px 1px 2px rgba(60, 64, 67, 0.3), 0px 1px 3px 1px rgba(60, 64, 67, 0.15);\n",
              "      fill: #174EA6;\n",
              "    }\n",
              "\n",
              "    .colab-df-buttons div {\n",
              "      margin-bottom: 4px;\n",
              "    }\n",
              "\n",
              "    [theme=dark] .colab-df-convert {\n",
              "      background-color: #3B4455;\n",
              "      fill: #D2E3FC;\n",
              "    }\n",
              "\n",
              "    [theme=dark] .colab-df-convert:hover {\n",
              "      background-color: #434B5C;\n",
              "      box-shadow: 0px 1px 3px 1px rgba(0, 0, 0, 0.15);\n",
              "      filter: drop-shadow(0px 1px 2px rgba(0, 0, 0, 0.3));\n",
              "      fill: #FFFFFF;\n",
              "    }\n",
              "  </style>\n",
              "\n",
              "    <script>\n",
              "      const buttonEl =\n",
              "        document.querySelector('#df-aa7c34a9-e095-4790-810f-8fb4ee8cfc24 button.colab-df-convert');\n",
              "      buttonEl.style.display =\n",
              "        google.colab.kernel.accessAllowed ? 'block' : 'none';\n",
              "\n",
              "      async function convertToInteractive(key) {\n",
              "        const element = document.querySelector('#df-aa7c34a9-e095-4790-810f-8fb4ee8cfc24');\n",
              "        const dataTable =\n",
              "          await google.colab.kernel.invokeFunction('convertToInteractive',\n",
              "                                                    [key], {});\n",
              "        if (!dataTable) return;\n",
              "\n",
              "        const docLinkHtml = 'Like what you see? Visit the ' +\n",
              "          '<a target=\"_blank\" href=https://colab.research.google.com/notebooks/data_table.ipynb>data table notebook</a>'\n",
              "          + ' to learn more about interactive tables.';\n",
              "        element.innerHTML = '';\n",
              "        dataTable['output_type'] = 'display_data';\n",
              "        await google.colab.output.renderOutput(dataTable, element);\n",
              "        const docLink = document.createElement('div');\n",
              "        docLink.innerHTML = docLinkHtml;\n",
              "        element.appendChild(docLink);\n",
              "      }\n",
              "    </script>\n",
              "  </div>\n",
              "\n",
              "\n",
              "<div id=\"df-9cfd53ab-d237-4df2-baec-a0857a9d0a5c\">\n",
              "  <button class=\"colab-df-quickchart\" onclick=\"quickchart('df-9cfd53ab-d237-4df2-baec-a0857a9d0a5c')\"\n",
              "            title=\"Suggest charts\"\n",
              "            style=\"display:none;\">\n",
              "\n",
              "<svg xmlns=\"http://www.w3.org/2000/svg\" height=\"24px\"viewBox=\"0 0 24 24\"\n",
              "     width=\"24px\">\n",
              "    <g>\n",
              "        <path d=\"M19 3H5c-1.1 0-2 .9-2 2v14c0 1.1.9 2 2 2h14c1.1 0 2-.9 2-2V5c0-1.1-.9-2-2-2zM9 17H7v-7h2v7zm4 0h-2V7h2v10zm4 0h-2v-4h2v4z\"/>\n",
              "    </g>\n",
              "</svg>\n",
              "  </button>\n",
              "\n",
              "<style>\n",
              "  .colab-df-quickchart {\n",
              "      --bg-color: #E8F0FE;\n",
              "      --fill-color: #1967D2;\n",
              "      --hover-bg-color: #E2EBFA;\n",
              "      --hover-fill-color: #174EA6;\n",
              "      --disabled-fill-color: #AAA;\n",
              "      --disabled-bg-color: #DDD;\n",
              "  }\n",
              "\n",
              "  [theme=dark] .colab-df-quickchart {\n",
              "      --bg-color: #3B4455;\n",
              "      --fill-color: #D2E3FC;\n",
              "      --hover-bg-color: #434B5C;\n",
              "      --hover-fill-color: #FFFFFF;\n",
              "      --disabled-bg-color: #3B4455;\n",
              "      --disabled-fill-color: #666;\n",
              "  }\n",
              "\n",
              "  .colab-df-quickchart {\n",
              "    background-color: var(--bg-color);\n",
              "    border: none;\n",
              "    border-radius: 50%;\n",
              "    cursor: pointer;\n",
              "    display: none;\n",
              "    fill: var(--fill-color);\n",
              "    height: 32px;\n",
              "    padding: 0;\n",
              "    width: 32px;\n",
              "  }\n",
              "\n",
              "  .colab-df-quickchart:hover {\n",
              "    background-color: var(--hover-bg-color);\n",
              "    box-shadow: 0 1px 2px rgba(60, 64, 67, 0.3), 0 1px 3px 1px rgba(60, 64, 67, 0.15);\n",
              "    fill: var(--button-hover-fill-color);\n",
              "  }\n",
              "\n",
              "  .colab-df-quickchart-complete:disabled,\n",
              "  .colab-df-quickchart-complete:disabled:hover {\n",
              "    background-color: var(--disabled-bg-color);\n",
              "    fill: var(--disabled-fill-color);\n",
              "    box-shadow: none;\n",
              "  }\n",
              "\n",
              "  .colab-df-spinner {\n",
              "    border: 2px solid var(--fill-color);\n",
              "    border-color: transparent;\n",
              "    border-bottom-color: var(--fill-color);\n",
              "    animation:\n",
              "      spin 1s steps(1) infinite;\n",
              "  }\n",
              "\n",
              "  @keyframes spin {\n",
              "    0% {\n",
              "      border-color: transparent;\n",
              "      border-bottom-color: var(--fill-color);\n",
              "      border-left-color: var(--fill-color);\n",
              "    }\n",
              "    20% {\n",
              "      border-color: transparent;\n",
              "      border-left-color: var(--fill-color);\n",
              "      border-top-color: var(--fill-color);\n",
              "    }\n",
              "    30% {\n",
              "      border-color: transparent;\n",
              "      border-left-color: var(--fill-color);\n",
              "      border-top-color: var(--fill-color);\n",
              "      border-right-color: var(--fill-color);\n",
              "    }\n",
              "    40% {\n",
              "      border-color: transparent;\n",
              "      border-right-color: var(--fill-color);\n",
              "      border-top-color: var(--fill-color);\n",
              "    }\n",
              "    60% {\n",
              "      border-color: transparent;\n",
              "      border-right-color: var(--fill-color);\n",
              "    }\n",
              "    80% {\n",
              "      border-color: transparent;\n",
              "      border-right-color: var(--fill-color);\n",
              "      border-bottom-color: var(--fill-color);\n",
              "    }\n",
              "    90% {\n",
              "      border-color: transparent;\n",
              "      border-bottom-color: var(--fill-color);\n",
              "    }\n",
              "  }\n",
              "</style>\n",
              "\n",
              "  <script>\n",
              "    async function quickchart(key) {\n",
              "      const quickchartButtonEl =\n",
              "        document.querySelector('#' + key + ' button');\n",
              "      quickchartButtonEl.disabled = true;  // To prevent multiple clicks.\n",
              "      quickchartButtonEl.classList.add('colab-df-spinner');\n",
              "      try {\n",
              "        const charts = await google.colab.kernel.invokeFunction(\n",
              "            'suggestCharts', [key], {});\n",
              "      } catch (error) {\n",
              "        console.error('Error during call to suggestCharts:', error);\n",
              "      }\n",
              "      quickchartButtonEl.classList.remove('colab-df-spinner');\n",
              "      quickchartButtonEl.classList.add('colab-df-quickchart-complete');\n",
              "    }\n",
              "    (() => {\n",
              "      let quickchartButtonEl =\n",
              "        document.querySelector('#df-9cfd53ab-d237-4df2-baec-a0857a9d0a5c button');\n",
              "      quickchartButtonEl.style.display =\n",
              "        google.colab.kernel.accessAllowed ? 'block' : 'none';\n",
              "    })();\n",
              "  </script>\n",
              "</div>\n",
              "    </div>\n",
              "  </div>\n"
            ],
            "application/vnd.google.colaboratory.intrinsic+json": {
              "type": "dataframe",
              "variable_name": "df",
              "summary": "{\n  \"name\": \"df\",\n  \"rows\": 375,\n  \"fields\": [\n    {\n      \"column\": \"Age\",\n      \"properties\": {\n        \"dtype\": \"number\",\n        \"std\": 7.050146337164603,\n        \"min\": 23.0,\n        \"max\": 53.0,\n        \"num_unique_values\": 32,\n        \"samples\": [\n          23.0,\n          33.0,\n          24.0\n        ],\n        \"semantic_type\": \"\",\n        \"description\": \"\"\n      }\n    },\n    {\n      \"column\": \"Gender\",\n      \"properties\": {\n        \"dtype\": \"category\",\n        \"num_unique_values\": 2,\n        \"samples\": [\n          \"Female\",\n          \"Male\"\n        ],\n        \"semantic_type\": \"\",\n        \"description\": \"\"\n      }\n    },\n    {\n      \"column\": \"Education Level\",\n      \"properties\": {\n        \"dtype\": \"category\",\n        \"num_unique_values\": 3,\n        \"samples\": [\n          \"Bachelor's\",\n          \"Master's\"\n        ],\n        \"semantic_type\": \"\",\n        \"description\": \"\"\n      }\n    },\n    {\n      \"column\": \"Job Title\",\n      \"properties\": {\n        \"dtype\": \"category\",\n        \"num_unique_values\": 174,\n        \"samples\": [\n          \"Junior Advertising Coordinator\",\n          \"Junior Product Manager\"\n        ],\n        \"semantic_type\": \"\",\n        \"description\": \"\"\n      }\n    },\n    {\n      \"column\": \"Years of Experience\",\n      \"properties\": {\n        \"dtype\": \"number\",\n        \"std\": 6.539451530248433,\n        \"min\": 0.0,\n        \"max\": 25.0,\n        \"num_unique_values\": 29,\n        \"samples\": [\n          1.5,\n          19.0\n        ],\n        \"semantic_type\": \"\",\n        \"description\": \"\"\n      }\n    },\n    {\n      \"column\": \"Salary\",\n      \"properties\": {\n        \"dtype\": \"number\",\n        \"std\": 48110.85658750964,\n        \"min\": 350.0,\n        \"max\": 250000.0,\n        \"num_unique_values\": 37,\n        \"samples\": [\n          180000.0,\n          40000.0\n        ],\n        \"semantic_type\": \"\",\n        \"description\": \"\"\n      }\n    },\n    {\n      \"column\": \"JobCategory\",\n      \"properties\": {\n        \"dtype\": \"number\",\n        \"std\": 1,\n        \"min\": 0,\n        \"max\": 5,\n        \"num_unique_values\": 6,\n        \"samples\": [\n          0,\n          1\n        ],\n        \"semantic_type\": \"\",\n        \"description\": \"\"\n      }\n    },\n    {\n      \"column\": \"AgeCategory\",\n      \"properties\": {\n        \"dtype\": \"number\",\n        \"std\": 0,\n        \"min\": 1,\n        \"max\": 1,\n        \"num_unique_values\": 1,\n        \"samples\": [\n          1\n        ],\n        \"semantic_type\": \"\",\n        \"description\": \"\"\n      }\n    },\n    {\n      \"column\": \"AgeCategory_1\",\n      \"properties\": {\n        \"dtype\": \"uint8\",\n        \"num_unique_values\": 1,\n        \"samples\": [\n          1\n        ],\n        \"semantic_type\": \"\",\n        \"description\": \"\"\n      }\n    },\n    {\n      \"column\": \"Gender_Female\",\n      \"properties\": {\n        \"dtype\": \"uint8\",\n        \"num_unique_values\": 2,\n        \"samples\": [\n          1\n        ],\n        \"semantic_type\": \"\",\n        \"description\": \"\"\n      }\n    },\n    {\n      \"column\": \"Gender_Male\",\n      \"properties\": {\n        \"dtype\": \"uint8\",\n        \"num_unique_values\": 2,\n        \"samples\": [\n          0\n        ],\n        \"semantic_type\": \"\",\n        \"description\": \"\"\n      }\n    },\n    {\n      \"column\": \"JobCategory_0\",\n      \"properties\": {\n        \"dtype\": \"uint8\",\n        \"num_unique_values\": 2,\n        \"samples\": [\n          0\n        ],\n        \"semantic_type\": \"\",\n        \"description\": \"\"\n      }\n    },\n    {\n      \"column\": \"JobCategory_1\",\n      \"properties\": {\n        \"dtype\": \"uint8\",\n        \"num_unique_values\": 2,\n        \"samples\": [\n          1\n        ],\n        \"semantic_type\": \"\",\n        \"description\": \"\"\n      }\n    },\n    {\n      \"column\": \"JobCategory_2\",\n      \"properties\": {\n        \"dtype\": \"uint8\",\n        \"num_unique_values\": 2,\n        \"samples\": [\n          1\n        ],\n        \"semantic_type\": \"\",\n        \"description\": \"\"\n      }\n    },\n    {\n      \"column\": \"JobCategory_3\",\n      \"properties\": {\n        \"dtype\": \"uint8\",\n        \"num_unique_values\": 2,\n        \"samples\": [\n          1\n        ],\n        \"semantic_type\": \"\",\n        \"description\": \"\"\n      }\n    },\n    {\n      \"column\": \"JobCategory_4\",\n      \"properties\": {\n        \"dtype\": \"uint8\",\n        \"num_unique_values\": 2,\n        \"samples\": [\n          1\n        ],\n        \"semantic_type\": \"\",\n        \"description\": \"\"\n      }\n    },\n    {\n      \"column\": \"JobCategory_5\",\n      \"properties\": {\n        \"dtype\": \"uint8\",\n        \"num_unique_values\": 2,\n        \"samples\": [\n          1\n        ],\n        \"semantic_type\": \"\",\n        \"description\": \"\"\n      }\n    }\n  ]\n}"
            }
          },
          "metadata": {},
          "execution_count": 114
        }
      ]
    },
    {
      "cell_type": "markdown",
      "source": [
        "Pada tahap ini, dilakukan proses transformasi data menggunakan one-hot encoding untuk dua kolom, yaitu 'AgeCategory' dan 'Gender'.\n",
        "\n",
        "One-hot encoding pada kolom 'AgeCategory':\n",
        "\n",
        "Dengan menggunakan pd.get_dummies, kolom 'AgeCategory' yang berisi kategori usia (misalnya 'Child', 'Adult', 'Elder') diubah menjadi kolom-kolom baru dengan nilai biner (0 atau 1) yang menunjukkan keanggotaan suatu data dalam setiap kategori usia.\n",
        "Prefix 'AgeCategory_' digunakan untuk memberi nama pada kolom baru yang dihasilkan dari one-hot encoding.\n",
        "\n",
        "Sama seperti pada kolom 'AgeCategory', kolom 'Gender' yang berisi jenis kelamin ('Male' atau 'Female') diubah menjadi kolom-kolom baru dengan nilai biner yang menunjukkan jenis kelamin responden.\n",
        "Prefix 'Gender_' digunakan untuk memberi nama pada kolom baru yang dihasilkan dari one-hot encoding."
      ],
      "metadata": {
        "id": "uhD78ji8NnjE"
      }
    },
    {
      "cell_type": "markdown",
      "source": [
        "###**Encoding**"
      ],
      "metadata": {
        "id": "1DEls9f-868k"
      }
    },
    {
      "cell_type": "code",
      "source": [
        "df = pd.get_dummies(df)"
      ],
      "metadata": {
        "id": "tWyb5cmx88qm"
      },
      "execution_count": 115,
      "outputs": []
    },
    {
      "cell_type": "markdown",
      "source": [
        "###**Pengecekkan Hasil**"
      ],
      "metadata": {
        "id": "zjeXtSoR9C-p"
      }
    },
    {
      "cell_type": "code",
      "source": [
        "df.head()"
      ],
      "metadata": {
        "id": "F2QPHZ2B9Dth",
        "colab": {
          "base_uri": "https://localhost:8080/",
          "height": 308
        },
        "outputId": "44c6044f-169f-4d76-843c-3cc3468f30ac"
      },
      "execution_count": 116,
      "outputs": [
        {
          "output_type": "execute_result",
          "data": {
            "text/plain": [
              "    Age  Years of Experience    Salary  JobCategory  AgeCategory  \\\n",
              "0  32.0                  5.0   90000.0            0            1   \n",
              "1  28.0                  3.0   65000.0            0            1   \n",
              "2  45.0                 15.0  150000.0            1            1   \n",
              "3  36.0                  7.0   60000.0            5            1   \n",
              "4  52.0                 20.0  200000.0            1            1   \n",
              "\n",
              "   AgeCategory_1  Gender_Female  Gender_Male  JobCategory_0  JobCategory_1  \\\n",
              "0              1              0            1              1              0   \n",
              "1              1              1            0              1              0   \n",
              "2              1              0            1              0              1   \n",
              "3              1              1            0              0              0   \n",
              "4              1              0            1              0              1   \n",
              "\n",
              "   ...  Job Title_Supply Chain Manager  Job Title_Technical Recruiter  \\\n",
              "0  ...                               0                              0   \n",
              "1  ...                               0                              0   \n",
              "2  ...                               0                              0   \n",
              "3  ...                               0                              0   \n",
              "4  ...                               0                              0   \n",
              "\n",
              "   Job Title_Technical Support Specialist  Job Title_Technical Writer  \\\n",
              "0                                       0                           0   \n",
              "1                                       0                           0   \n",
              "2                                       0                           0   \n",
              "3                                       0                           0   \n",
              "4                                       0                           0   \n",
              "\n",
              "   Job Title_Training Specialist  Job Title_UX Designer  \\\n",
              "0                              0                      0   \n",
              "1                              0                      0   \n",
              "2                              0                      0   \n",
              "3                              0                      0   \n",
              "4                              0                      0   \n",
              "\n",
              "   Job Title_UX Researcher  Job Title_VP of Finance  \\\n",
              "0                        0                        0   \n",
              "1                        0                        0   \n",
              "2                        0                        0   \n",
              "3                        0                        0   \n",
              "4                        0                        0   \n",
              "\n",
              "   Job Title_VP of Operations  Job Title_Web Developer  \n",
              "0                           0                        0  \n",
              "1                           0                        0  \n",
              "2                           0                        0  \n",
              "3                           0                        0  \n",
              "4                           0                        0  \n",
              "\n",
              "[5 rows x 193 columns]"
            ],
            "text/html": [
              "\n",
              "  <div id=\"df-eea03542-5675-49c0-9a6b-e1a31e7c5efc\" class=\"colab-df-container\">\n",
              "    <div>\n",
              "<style scoped>\n",
              "    .dataframe tbody tr th:only-of-type {\n",
              "        vertical-align: middle;\n",
              "    }\n",
              "\n",
              "    .dataframe tbody tr th {\n",
              "        vertical-align: top;\n",
              "    }\n",
              "\n",
              "    .dataframe thead th {\n",
              "        text-align: right;\n",
              "    }\n",
              "</style>\n",
              "<table border=\"1\" class=\"dataframe\">\n",
              "  <thead>\n",
              "    <tr style=\"text-align: right;\">\n",
              "      <th></th>\n",
              "      <th>Age</th>\n",
              "      <th>Years of Experience</th>\n",
              "      <th>Salary</th>\n",
              "      <th>JobCategory</th>\n",
              "      <th>AgeCategory</th>\n",
              "      <th>AgeCategory_1</th>\n",
              "      <th>Gender_Female</th>\n",
              "      <th>Gender_Male</th>\n",
              "      <th>JobCategory_0</th>\n",
              "      <th>JobCategory_1</th>\n",
              "      <th>...</th>\n",
              "      <th>Job Title_Supply Chain Manager</th>\n",
              "      <th>Job Title_Technical Recruiter</th>\n",
              "      <th>Job Title_Technical Support Specialist</th>\n",
              "      <th>Job Title_Technical Writer</th>\n",
              "      <th>Job Title_Training Specialist</th>\n",
              "      <th>Job Title_UX Designer</th>\n",
              "      <th>Job Title_UX Researcher</th>\n",
              "      <th>Job Title_VP of Finance</th>\n",
              "      <th>Job Title_VP of Operations</th>\n",
              "      <th>Job Title_Web Developer</th>\n",
              "    </tr>\n",
              "  </thead>\n",
              "  <tbody>\n",
              "    <tr>\n",
              "      <th>0</th>\n",
              "      <td>32.0</td>\n",
              "      <td>5.0</td>\n",
              "      <td>90000.0</td>\n",
              "      <td>0</td>\n",
              "      <td>1</td>\n",
              "      <td>1</td>\n",
              "      <td>0</td>\n",
              "      <td>1</td>\n",
              "      <td>1</td>\n",
              "      <td>0</td>\n",
              "      <td>...</td>\n",
              "      <td>0</td>\n",
              "      <td>0</td>\n",
              "      <td>0</td>\n",
              "      <td>0</td>\n",
              "      <td>0</td>\n",
              "      <td>0</td>\n",
              "      <td>0</td>\n",
              "      <td>0</td>\n",
              "      <td>0</td>\n",
              "      <td>0</td>\n",
              "    </tr>\n",
              "    <tr>\n",
              "      <th>1</th>\n",
              "      <td>28.0</td>\n",
              "      <td>3.0</td>\n",
              "      <td>65000.0</td>\n",
              "      <td>0</td>\n",
              "      <td>1</td>\n",
              "      <td>1</td>\n",
              "      <td>1</td>\n",
              "      <td>0</td>\n",
              "      <td>1</td>\n",
              "      <td>0</td>\n",
              "      <td>...</td>\n",
              "      <td>0</td>\n",
              "      <td>0</td>\n",
              "      <td>0</td>\n",
              "      <td>0</td>\n",
              "      <td>0</td>\n",
              "      <td>0</td>\n",
              "      <td>0</td>\n",
              "      <td>0</td>\n",
              "      <td>0</td>\n",
              "      <td>0</td>\n",
              "    </tr>\n",
              "    <tr>\n",
              "      <th>2</th>\n",
              "      <td>45.0</td>\n",
              "      <td>15.0</td>\n",
              "      <td>150000.0</td>\n",
              "      <td>1</td>\n",
              "      <td>1</td>\n",
              "      <td>1</td>\n",
              "      <td>0</td>\n",
              "      <td>1</td>\n",
              "      <td>0</td>\n",
              "      <td>1</td>\n",
              "      <td>...</td>\n",
              "      <td>0</td>\n",
              "      <td>0</td>\n",
              "      <td>0</td>\n",
              "      <td>0</td>\n",
              "      <td>0</td>\n",
              "      <td>0</td>\n",
              "      <td>0</td>\n",
              "      <td>0</td>\n",
              "      <td>0</td>\n",
              "      <td>0</td>\n",
              "    </tr>\n",
              "    <tr>\n",
              "      <th>3</th>\n",
              "      <td>36.0</td>\n",
              "      <td>7.0</td>\n",
              "      <td>60000.0</td>\n",
              "      <td>5</td>\n",
              "      <td>1</td>\n",
              "      <td>1</td>\n",
              "      <td>1</td>\n",
              "      <td>0</td>\n",
              "      <td>0</td>\n",
              "      <td>0</td>\n",
              "      <td>...</td>\n",
              "      <td>0</td>\n",
              "      <td>0</td>\n",
              "      <td>0</td>\n",
              "      <td>0</td>\n",
              "      <td>0</td>\n",
              "      <td>0</td>\n",
              "      <td>0</td>\n",
              "      <td>0</td>\n",
              "      <td>0</td>\n",
              "      <td>0</td>\n",
              "    </tr>\n",
              "    <tr>\n",
              "      <th>4</th>\n",
              "      <td>52.0</td>\n",
              "      <td>20.0</td>\n",
              "      <td>200000.0</td>\n",
              "      <td>1</td>\n",
              "      <td>1</td>\n",
              "      <td>1</td>\n",
              "      <td>0</td>\n",
              "      <td>1</td>\n",
              "      <td>0</td>\n",
              "      <td>1</td>\n",
              "      <td>...</td>\n",
              "      <td>0</td>\n",
              "      <td>0</td>\n",
              "      <td>0</td>\n",
              "      <td>0</td>\n",
              "      <td>0</td>\n",
              "      <td>0</td>\n",
              "      <td>0</td>\n",
              "      <td>0</td>\n",
              "      <td>0</td>\n",
              "      <td>0</td>\n",
              "    </tr>\n",
              "  </tbody>\n",
              "</table>\n",
              "<p>5 rows × 193 columns</p>\n",
              "</div>\n",
              "    <div class=\"colab-df-buttons\">\n",
              "\n",
              "  <div class=\"colab-df-container\">\n",
              "    <button class=\"colab-df-convert\" onclick=\"convertToInteractive('df-eea03542-5675-49c0-9a6b-e1a31e7c5efc')\"\n",
              "            title=\"Convert this dataframe to an interactive table.\"\n",
              "            style=\"display:none;\">\n",
              "\n",
              "  <svg xmlns=\"http://www.w3.org/2000/svg\" height=\"24px\" viewBox=\"0 -960 960 960\">\n",
              "    <path d=\"M120-120v-720h720v720H120Zm60-500h600v-160H180v160Zm220 220h160v-160H400v160Zm0 220h160v-160H400v160ZM180-400h160v-160H180v160Zm440 0h160v-160H620v160ZM180-180h160v-160H180v160Zm440 0h160v-160H620v160Z\"/>\n",
              "  </svg>\n",
              "    </button>\n",
              "\n",
              "  <style>\n",
              "    .colab-df-container {\n",
              "      display:flex;\n",
              "      gap: 12px;\n",
              "    }\n",
              "\n",
              "    .colab-df-convert {\n",
              "      background-color: #E8F0FE;\n",
              "      border: none;\n",
              "      border-radius: 50%;\n",
              "      cursor: pointer;\n",
              "      display: none;\n",
              "      fill: #1967D2;\n",
              "      height: 32px;\n",
              "      padding: 0 0 0 0;\n",
              "      width: 32px;\n",
              "    }\n",
              "\n",
              "    .colab-df-convert:hover {\n",
              "      background-color: #E2EBFA;\n",
              "      box-shadow: 0px 1px 2px rgba(60, 64, 67, 0.3), 0px 1px 3px 1px rgba(60, 64, 67, 0.15);\n",
              "      fill: #174EA6;\n",
              "    }\n",
              "\n",
              "    .colab-df-buttons div {\n",
              "      margin-bottom: 4px;\n",
              "    }\n",
              "\n",
              "    [theme=dark] .colab-df-convert {\n",
              "      background-color: #3B4455;\n",
              "      fill: #D2E3FC;\n",
              "    }\n",
              "\n",
              "    [theme=dark] .colab-df-convert:hover {\n",
              "      background-color: #434B5C;\n",
              "      box-shadow: 0px 1px 3px 1px rgba(0, 0, 0, 0.15);\n",
              "      filter: drop-shadow(0px 1px 2px rgba(0, 0, 0, 0.3));\n",
              "      fill: #FFFFFF;\n",
              "    }\n",
              "  </style>\n",
              "\n",
              "    <script>\n",
              "      const buttonEl =\n",
              "        document.querySelector('#df-eea03542-5675-49c0-9a6b-e1a31e7c5efc button.colab-df-convert');\n",
              "      buttonEl.style.display =\n",
              "        google.colab.kernel.accessAllowed ? 'block' : 'none';\n",
              "\n",
              "      async function convertToInteractive(key) {\n",
              "        const element = document.querySelector('#df-eea03542-5675-49c0-9a6b-e1a31e7c5efc');\n",
              "        const dataTable =\n",
              "          await google.colab.kernel.invokeFunction('convertToInteractive',\n",
              "                                                    [key], {});\n",
              "        if (!dataTable) return;\n",
              "\n",
              "        const docLinkHtml = 'Like what you see? Visit the ' +\n",
              "          '<a target=\"_blank\" href=https://colab.research.google.com/notebooks/data_table.ipynb>data table notebook</a>'\n",
              "          + ' to learn more about interactive tables.';\n",
              "        element.innerHTML = '';\n",
              "        dataTable['output_type'] = 'display_data';\n",
              "        await google.colab.output.renderOutput(dataTable, element);\n",
              "        const docLink = document.createElement('div');\n",
              "        docLink.innerHTML = docLinkHtml;\n",
              "        element.appendChild(docLink);\n",
              "      }\n",
              "    </script>\n",
              "  </div>\n",
              "\n",
              "\n",
              "<div id=\"df-d9c95fac-4ce8-4ed1-a38c-5d2cdbc24ca9\">\n",
              "  <button class=\"colab-df-quickchart\" onclick=\"quickchart('df-d9c95fac-4ce8-4ed1-a38c-5d2cdbc24ca9')\"\n",
              "            title=\"Suggest charts\"\n",
              "            style=\"display:none;\">\n",
              "\n",
              "<svg xmlns=\"http://www.w3.org/2000/svg\" height=\"24px\"viewBox=\"0 0 24 24\"\n",
              "     width=\"24px\">\n",
              "    <g>\n",
              "        <path d=\"M19 3H5c-1.1 0-2 .9-2 2v14c0 1.1.9 2 2 2h14c1.1 0 2-.9 2-2V5c0-1.1-.9-2-2-2zM9 17H7v-7h2v7zm4 0h-2V7h2v10zm4 0h-2v-4h2v4z\"/>\n",
              "    </g>\n",
              "</svg>\n",
              "  </button>\n",
              "\n",
              "<style>\n",
              "  .colab-df-quickchart {\n",
              "      --bg-color: #E8F0FE;\n",
              "      --fill-color: #1967D2;\n",
              "      --hover-bg-color: #E2EBFA;\n",
              "      --hover-fill-color: #174EA6;\n",
              "      --disabled-fill-color: #AAA;\n",
              "      --disabled-bg-color: #DDD;\n",
              "  }\n",
              "\n",
              "  [theme=dark] .colab-df-quickchart {\n",
              "      --bg-color: #3B4455;\n",
              "      --fill-color: #D2E3FC;\n",
              "      --hover-bg-color: #434B5C;\n",
              "      --hover-fill-color: #FFFFFF;\n",
              "      --disabled-bg-color: #3B4455;\n",
              "      --disabled-fill-color: #666;\n",
              "  }\n",
              "\n",
              "  .colab-df-quickchart {\n",
              "    background-color: var(--bg-color);\n",
              "    border: none;\n",
              "    border-radius: 50%;\n",
              "    cursor: pointer;\n",
              "    display: none;\n",
              "    fill: var(--fill-color);\n",
              "    height: 32px;\n",
              "    padding: 0;\n",
              "    width: 32px;\n",
              "  }\n",
              "\n",
              "  .colab-df-quickchart:hover {\n",
              "    background-color: var(--hover-bg-color);\n",
              "    box-shadow: 0 1px 2px rgba(60, 64, 67, 0.3), 0 1px 3px 1px rgba(60, 64, 67, 0.15);\n",
              "    fill: var(--button-hover-fill-color);\n",
              "  }\n",
              "\n",
              "  .colab-df-quickchart-complete:disabled,\n",
              "  .colab-df-quickchart-complete:disabled:hover {\n",
              "    background-color: var(--disabled-bg-color);\n",
              "    fill: var(--disabled-fill-color);\n",
              "    box-shadow: none;\n",
              "  }\n",
              "\n",
              "  .colab-df-spinner {\n",
              "    border: 2px solid var(--fill-color);\n",
              "    border-color: transparent;\n",
              "    border-bottom-color: var(--fill-color);\n",
              "    animation:\n",
              "      spin 1s steps(1) infinite;\n",
              "  }\n",
              "\n",
              "  @keyframes spin {\n",
              "    0% {\n",
              "      border-color: transparent;\n",
              "      border-bottom-color: var(--fill-color);\n",
              "      border-left-color: var(--fill-color);\n",
              "    }\n",
              "    20% {\n",
              "      border-color: transparent;\n",
              "      border-left-color: var(--fill-color);\n",
              "      border-top-color: var(--fill-color);\n",
              "    }\n",
              "    30% {\n",
              "      border-color: transparent;\n",
              "      border-left-color: var(--fill-color);\n",
              "      border-top-color: var(--fill-color);\n",
              "      border-right-color: var(--fill-color);\n",
              "    }\n",
              "    40% {\n",
              "      border-color: transparent;\n",
              "      border-right-color: var(--fill-color);\n",
              "      border-top-color: var(--fill-color);\n",
              "    }\n",
              "    60% {\n",
              "      border-color: transparent;\n",
              "      border-right-color: var(--fill-color);\n",
              "    }\n",
              "    80% {\n",
              "      border-color: transparent;\n",
              "      border-right-color: var(--fill-color);\n",
              "      border-bottom-color: var(--fill-color);\n",
              "    }\n",
              "    90% {\n",
              "      border-color: transparent;\n",
              "      border-bottom-color: var(--fill-color);\n",
              "    }\n",
              "  }\n",
              "</style>\n",
              "\n",
              "  <script>\n",
              "    async function quickchart(key) {\n",
              "      const quickchartButtonEl =\n",
              "        document.querySelector('#' + key + ' button');\n",
              "      quickchartButtonEl.disabled = true;  // To prevent multiple clicks.\n",
              "      quickchartButtonEl.classList.add('colab-df-spinner');\n",
              "      try {\n",
              "        const charts = await google.colab.kernel.invokeFunction(\n",
              "            'suggestCharts', [key], {});\n",
              "      } catch (error) {\n",
              "        console.error('Error during call to suggestCharts:', error);\n",
              "      }\n",
              "      quickchartButtonEl.classList.remove('colab-df-spinner');\n",
              "      quickchartButtonEl.classList.add('colab-df-quickchart-complete');\n",
              "    }\n",
              "    (() => {\n",
              "      let quickchartButtonEl =\n",
              "        document.querySelector('#df-d9c95fac-4ce8-4ed1-a38c-5d2cdbc24ca9 button');\n",
              "      quickchartButtonEl.style.display =\n",
              "        google.colab.kernel.accessAllowed ? 'block' : 'none';\n",
              "    })();\n",
              "  </script>\n",
              "</div>\n",
              "    </div>\n",
              "  </div>\n"
            ],
            "application/vnd.google.colaboratory.intrinsic+json": {
              "type": "dataframe",
              "variable_name": "df"
            }
          },
          "metadata": {},
          "execution_count": 116
        }
      ]
    },
    {
      "cell_type": "markdown",
      "source": [
        "Setelah kedua kolom tersebut di-transformasikan menggunakan one-hot encoding, hasilnya adalah dataframe baru dengan tambahan kolom-kolom biner yang merepresentasikan kategori usia dan jenis kelamin dari setiap responden. Hal ini mempermudah analisis dan pemodelan data, terutama ketika menggunakan algoritma pembelajaran mesin yang memerlukan fitur-fitur dalam bentuk biner."
      ],
      "metadata": {
        "id": "BXMALKl7N57H"
      }
    },
    {
      "cell_type": "markdown",
      "source": [
        "#**MODELLING**"
      ],
      "metadata": {
        "id": "8yAaoYZyIQXQ"
      }
    },
    {
      "cell_type": "markdown",
      "source": [
        "##**Modelling Predict**"
      ],
      "metadata": {
        "id": "aC87H_5_wCJN"
      }
    },
    {
      "cell_type": "markdown",
      "source": [
        "##**Select Modelling Techniques**"
      ],
      "metadata": {
        "id": "IN8KyKq9KYco"
      }
    },
    {
      "cell_type": "markdown",
      "source": [
        "Dalam pemilihan teknik pemodelan, diputuskan untuk menggunakan metode **Clustering** atau **pengelompokan** untuk menganalisis data ini. Teknik ini dipilih berdasarkan pemahaman bisnis bahwa tujuan utama analisis adalah untuk mengidentifikasi pola atau kelompok yang ada dalam data. Dengan fokus pada atribut usia, tahun pengalaman, gaji, dan kategori jabatan, metode clustering dapat membantu mengelompokkan individu ke dalam kategori yang memiliki karakteristik serupa."
      ],
      "metadata": {
        "id": "pnzFSIOGKZny"
      }
    },
    {
      "cell_type": "markdown",
      "source": [
        "### **Algoritma yang dipakai**"
      ],
      "metadata": {
        "id": "DjFcE4XzWsVk"
      }
    },
    {
      "cell_type": "markdown",
      "source": [
        "#### **Algoritma K-Means**"
      ],
      "metadata": {
        "id": "BHOlsNSfW3e-"
      }
    },
    {
      "cell_type": "markdown",
      "source": [
        "Algoritma K-Means adalah salah satu metode clustering yang paling umum digunakan dalam analisis data. Tujuannya adalah untuk membagi dataset menjadi beberapa kelompok atau cluster berdasarkan pola atau kemiripan antar data.\n",
        "\n",
        "Misalnya, dengan menggunakan algoritma K-Means, kita dapat mengelompokkan karyawan berdasarkan karakteristik seperti usia, pengalaman kerja, dan gaji yang diterima."
      ],
      "metadata": {
        "id": "9-tegv58d3lf"
      }
    },
    {
      "cell_type": "markdown",
      "source": [
        "#### **Algoritma Hierarchical Clustering**"
      ],
      "metadata": {
        "id": "i2Iwdt3Mdwav"
      }
    },
    {
      "cell_type": "markdown",
      "source": [
        "Algoritma Hierarchical Clustering dapat digunakan untuk mengelompokkan individu-individu dalam dataset ke dalam struktur hirarkis berdasarkan tingkat kemiripan antara mereka.\n",
        "\n",
        "Misalnya, dengan menggunakan algoritma Hierarchical Clustering, kita dapat membangun pohon dendrogram yang menunjukkan hubungan hierarkis antara kelompok-kelompok karyawan berdasarkan karakteristik seperti usia, pengalaman kerja, dan gaji yang diterima."
      ],
      "metadata": {
        "id": "qzO2qb8fe9Sk"
      }
    },
    {
      "cell_type": "markdown",
      "source": [
        "###**Pre-Processing**"
      ],
      "metadata": {
        "id": "5ZUQ8xw3KrgG"
      }
    },
    {
      "cell_type": "code",
      "source": [
        "url = 'https://raw.githubusercontent.com/Udinkosd/Data-Mining-2024/main/Data%20Cleaned.csv'\n",
        "df2 = pd.read_csv(url)\n",
        "df2"
      ],
      "metadata": {
        "id": "Bv8_jtzjP5ie",
        "colab": {
          "base_uri": "https://localhost:8080/",
          "height": 496
        },
        "outputId": "500a11f5-1192-4a44-c0cf-5e1a3dda1ed6"
      },
      "execution_count": 117,
      "outputs": [
        {
          "output_type": "execute_result",
          "data": {
            "text/plain": [
              "      Age  Years of Experience    Salary  JobCategory  AgeCategory  \\\n",
              "0    32.0                  5.0   90000.0            0            1   \n",
              "1    28.0                  3.0   65000.0            0            1   \n",
              "2    45.0                 15.0  150000.0            1            1   \n",
              "3    36.0                  7.0   60000.0            5            1   \n",
              "4    52.0                 20.0  200000.0            1            1   \n",
              "..    ...                  ...       ...          ...          ...   \n",
              "370  35.0                  8.0   85000.0            5            1   \n",
              "371  43.0                 19.0  170000.0            5            1   \n",
              "372  29.0                  2.0   40000.0            5            1   \n",
              "373  34.0                  7.0   90000.0            5            1   \n",
              "374  44.0                 15.0  150000.0            5            1   \n",
              "\n",
              "     AgeCategory_1  Gender_Female  Gender_Male  JobCategory_0  JobCategory_1  \\\n",
              "0                1              0            1              1              0   \n",
              "1                1              1            0              1              0   \n",
              "2                1              0            1              0              1   \n",
              "3                1              1            0              0              0   \n",
              "4                1              0            1              0              1   \n",
              "..             ...            ...          ...            ...            ...   \n",
              "370              1              1            0              0              0   \n",
              "371              1              0            1              0              0   \n",
              "372              1              1            0              0              0   \n",
              "373              1              0            1              0              0   \n",
              "374              1              1            0              0              0   \n",
              "\n",
              "     ...  Job Title_Supply Chain Manager  Job Title_Technical Recruiter  \\\n",
              "0    ...                               0                              0   \n",
              "1    ...                               0                              0   \n",
              "2    ...                               0                              0   \n",
              "3    ...                               0                              0   \n",
              "4    ...                               0                              0   \n",
              "..   ...                             ...                            ...   \n",
              "370  ...                               0                              0   \n",
              "371  ...                               0                              0   \n",
              "372  ...                               0                              0   \n",
              "373  ...                               0                              0   \n",
              "374  ...                               0                              0   \n",
              "\n",
              "     Job Title_Technical Support Specialist  Job Title_Technical Writer  \\\n",
              "0                                         0                           0   \n",
              "1                                         0                           0   \n",
              "2                                         0                           0   \n",
              "3                                         0                           0   \n",
              "4                                         0                           0   \n",
              "..                                      ...                         ...   \n",
              "370                                       0                           0   \n",
              "371                                       0                           0   \n",
              "372                                       0                           0   \n",
              "373                                       0                           0   \n",
              "374                                       0                           0   \n",
              "\n",
              "     Job Title_Training Specialist  Job Title_UX Designer  \\\n",
              "0                                0                      0   \n",
              "1                                0                      0   \n",
              "2                                0                      0   \n",
              "3                                0                      0   \n",
              "4                                0                      0   \n",
              "..                             ...                    ...   \n",
              "370                              0                      0   \n",
              "371                              0                      0   \n",
              "372                              0                      0   \n",
              "373                              0                      0   \n",
              "374                              0                      0   \n",
              "\n",
              "     Job Title_UX Researcher  Job Title_VP of Finance  \\\n",
              "0                          0                        0   \n",
              "1                          0                        0   \n",
              "2                          0                        0   \n",
              "3                          0                        0   \n",
              "4                          0                        0   \n",
              "..                       ...                      ...   \n",
              "370                        0                        0   \n",
              "371                        0                        0   \n",
              "372                        0                        0   \n",
              "373                        0                        0   \n",
              "374                        0                        0   \n",
              "\n",
              "     Job Title_VP of Operations  Job Title_Web Developer  \n",
              "0                             0                        0  \n",
              "1                             0                        0  \n",
              "2                             0                        0  \n",
              "3                             0                        0  \n",
              "4                             0                        0  \n",
              "..                          ...                      ...  \n",
              "370                           0                        0  \n",
              "371                           0                        0  \n",
              "372                           0                        0  \n",
              "373                           0                        0  \n",
              "374                           0                        0  \n",
              "\n",
              "[375 rows x 193 columns]"
            ],
            "text/html": [
              "\n",
              "  <div id=\"df-cb646772-878d-4e16-9c24-ccce04349b63\" class=\"colab-df-container\">\n",
              "    <div>\n",
              "<style scoped>\n",
              "    .dataframe tbody tr th:only-of-type {\n",
              "        vertical-align: middle;\n",
              "    }\n",
              "\n",
              "    .dataframe tbody tr th {\n",
              "        vertical-align: top;\n",
              "    }\n",
              "\n",
              "    .dataframe thead th {\n",
              "        text-align: right;\n",
              "    }\n",
              "</style>\n",
              "<table border=\"1\" class=\"dataframe\">\n",
              "  <thead>\n",
              "    <tr style=\"text-align: right;\">\n",
              "      <th></th>\n",
              "      <th>Age</th>\n",
              "      <th>Years of Experience</th>\n",
              "      <th>Salary</th>\n",
              "      <th>JobCategory</th>\n",
              "      <th>AgeCategory</th>\n",
              "      <th>AgeCategory_1</th>\n",
              "      <th>Gender_Female</th>\n",
              "      <th>Gender_Male</th>\n",
              "      <th>JobCategory_0</th>\n",
              "      <th>JobCategory_1</th>\n",
              "      <th>...</th>\n",
              "      <th>Job Title_Supply Chain Manager</th>\n",
              "      <th>Job Title_Technical Recruiter</th>\n",
              "      <th>Job Title_Technical Support Specialist</th>\n",
              "      <th>Job Title_Technical Writer</th>\n",
              "      <th>Job Title_Training Specialist</th>\n",
              "      <th>Job Title_UX Designer</th>\n",
              "      <th>Job Title_UX Researcher</th>\n",
              "      <th>Job Title_VP of Finance</th>\n",
              "      <th>Job Title_VP of Operations</th>\n",
              "      <th>Job Title_Web Developer</th>\n",
              "    </tr>\n",
              "  </thead>\n",
              "  <tbody>\n",
              "    <tr>\n",
              "      <th>0</th>\n",
              "      <td>32.0</td>\n",
              "      <td>5.0</td>\n",
              "      <td>90000.0</td>\n",
              "      <td>0</td>\n",
              "      <td>1</td>\n",
              "      <td>1</td>\n",
              "      <td>0</td>\n",
              "      <td>1</td>\n",
              "      <td>1</td>\n",
              "      <td>0</td>\n",
              "      <td>...</td>\n",
              "      <td>0</td>\n",
              "      <td>0</td>\n",
              "      <td>0</td>\n",
              "      <td>0</td>\n",
              "      <td>0</td>\n",
              "      <td>0</td>\n",
              "      <td>0</td>\n",
              "      <td>0</td>\n",
              "      <td>0</td>\n",
              "      <td>0</td>\n",
              "    </tr>\n",
              "    <tr>\n",
              "      <th>1</th>\n",
              "      <td>28.0</td>\n",
              "      <td>3.0</td>\n",
              "      <td>65000.0</td>\n",
              "      <td>0</td>\n",
              "      <td>1</td>\n",
              "      <td>1</td>\n",
              "      <td>1</td>\n",
              "      <td>0</td>\n",
              "      <td>1</td>\n",
              "      <td>0</td>\n",
              "      <td>...</td>\n",
              "      <td>0</td>\n",
              "      <td>0</td>\n",
              "      <td>0</td>\n",
              "      <td>0</td>\n",
              "      <td>0</td>\n",
              "      <td>0</td>\n",
              "      <td>0</td>\n",
              "      <td>0</td>\n",
              "      <td>0</td>\n",
              "      <td>0</td>\n",
              "    </tr>\n",
              "    <tr>\n",
              "      <th>2</th>\n",
              "      <td>45.0</td>\n",
              "      <td>15.0</td>\n",
              "      <td>150000.0</td>\n",
              "      <td>1</td>\n",
              "      <td>1</td>\n",
              "      <td>1</td>\n",
              "      <td>0</td>\n",
              "      <td>1</td>\n",
              "      <td>0</td>\n",
              "      <td>1</td>\n",
              "      <td>...</td>\n",
              "      <td>0</td>\n",
              "      <td>0</td>\n",
              "      <td>0</td>\n",
              "      <td>0</td>\n",
              "      <td>0</td>\n",
              "      <td>0</td>\n",
              "      <td>0</td>\n",
              "      <td>0</td>\n",
              "      <td>0</td>\n",
              "      <td>0</td>\n",
              "    </tr>\n",
              "    <tr>\n",
              "      <th>3</th>\n",
              "      <td>36.0</td>\n",
              "      <td>7.0</td>\n",
              "      <td>60000.0</td>\n",
              "      <td>5</td>\n",
              "      <td>1</td>\n",
              "      <td>1</td>\n",
              "      <td>1</td>\n",
              "      <td>0</td>\n",
              "      <td>0</td>\n",
              "      <td>0</td>\n",
              "      <td>...</td>\n",
              "      <td>0</td>\n",
              "      <td>0</td>\n",
              "      <td>0</td>\n",
              "      <td>0</td>\n",
              "      <td>0</td>\n",
              "      <td>0</td>\n",
              "      <td>0</td>\n",
              "      <td>0</td>\n",
              "      <td>0</td>\n",
              "      <td>0</td>\n",
              "    </tr>\n",
              "    <tr>\n",
              "      <th>4</th>\n",
              "      <td>52.0</td>\n",
              "      <td>20.0</td>\n",
              "      <td>200000.0</td>\n",
              "      <td>1</td>\n",
              "      <td>1</td>\n",
              "      <td>1</td>\n",
              "      <td>0</td>\n",
              "      <td>1</td>\n",
              "      <td>0</td>\n",
              "      <td>1</td>\n",
              "      <td>...</td>\n",
              "      <td>0</td>\n",
              "      <td>0</td>\n",
              "      <td>0</td>\n",
              "      <td>0</td>\n",
              "      <td>0</td>\n",
              "      <td>0</td>\n",
              "      <td>0</td>\n",
              "      <td>0</td>\n",
              "      <td>0</td>\n",
              "      <td>0</td>\n",
              "    </tr>\n",
              "    <tr>\n",
              "      <th>...</th>\n",
              "      <td>...</td>\n",
              "      <td>...</td>\n",
              "      <td>...</td>\n",
              "      <td>...</td>\n",
              "      <td>...</td>\n",
              "      <td>...</td>\n",
              "      <td>...</td>\n",
              "      <td>...</td>\n",
              "      <td>...</td>\n",
              "      <td>...</td>\n",
              "      <td>...</td>\n",
              "      <td>...</td>\n",
              "      <td>...</td>\n",
              "      <td>...</td>\n",
              "      <td>...</td>\n",
              "      <td>...</td>\n",
              "      <td>...</td>\n",
              "      <td>...</td>\n",
              "      <td>...</td>\n",
              "      <td>...</td>\n",
              "      <td>...</td>\n",
              "    </tr>\n",
              "    <tr>\n",
              "      <th>370</th>\n",
              "      <td>35.0</td>\n",
              "      <td>8.0</td>\n",
              "      <td>85000.0</td>\n",
              "      <td>5</td>\n",
              "      <td>1</td>\n",
              "      <td>1</td>\n",
              "      <td>1</td>\n",
              "      <td>0</td>\n",
              "      <td>0</td>\n",
              "      <td>0</td>\n",
              "      <td>...</td>\n",
              "      <td>0</td>\n",
              "      <td>0</td>\n",
              "      <td>0</td>\n",
              "      <td>0</td>\n",
              "      <td>0</td>\n",
              "      <td>0</td>\n",
              "      <td>0</td>\n",
              "      <td>0</td>\n",
              "      <td>0</td>\n",
              "      <td>0</td>\n",
              "    </tr>\n",
              "    <tr>\n",
              "      <th>371</th>\n",
              "      <td>43.0</td>\n",
              "      <td>19.0</td>\n",
              "      <td>170000.0</td>\n",
              "      <td>5</td>\n",
              "      <td>1</td>\n",
              "      <td>1</td>\n",
              "      <td>0</td>\n",
              "      <td>1</td>\n",
              "      <td>0</td>\n",
              "      <td>0</td>\n",
              "      <td>...</td>\n",
              "      <td>0</td>\n",
              "      <td>0</td>\n",
              "      <td>0</td>\n",
              "      <td>0</td>\n",
              "      <td>0</td>\n",
              "      <td>0</td>\n",
              "      <td>0</td>\n",
              "      <td>0</td>\n",
              "      <td>0</td>\n",
              "      <td>0</td>\n",
              "    </tr>\n",
              "    <tr>\n",
              "      <th>372</th>\n",
              "      <td>29.0</td>\n",
              "      <td>2.0</td>\n",
              "      <td>40000.0</td>\n",
              "      <td>5</td>\n",
              "      <td>1</td>\n",
              "      <td>1</td>\n",
              "      <td>1</td>\n",
              "      <td>0</td>\n",
              "      <td>0</td>\n",
              "      <td>0</td>\n",
              "      <td>...</td>\n",
              "      <td>0</td>\n",
              "      <td>0</td>\n",
              "      <td>0</td>\n",
              "      <td>0</td>\n",
              "      <td>0</td>\n",
              "      <td>0</td>\n",
              "      <td>0</td>\n",
              "      <td>0</td>\n",
              "      <td>0</td>\n",
              "      <td>0</td>\n",
              "    </tr>\n",
              "    <tr>\n",
              "      <th>373</th>\n",
              "      <td>34.0</td>\n",
              "      <td>7.0</td>\n",
              "      <td>90000.0</td>\n",
              "      <td>5</td>\n",
              "      <td>1</td>\n",
              "      <td>1</td>\n",
              "      <td>0</td>\n",
              "      <td>1</td>\n",
              "      <td>0</td>\n",
              "      <td>0</td>\n",
              "      <td>...</td>\n",
              "      <td>0</td>\n",
              "      <td>0</td>\n",
              "      <td>0</td>\n",
              "      <td>0</td>\n",
              "      <td>0</td>\n",
              "      <td>0</td>\n",
              "      <td>0</td>\n",
              "      <td>0</td>\n",
              "      <td>0</td>\n",
              "      <td>0</td>\n",
              "    </tr>\n",
              "    <tr>\n",
              "      <th>374</th>\n",
              "      <td>44.0</td>\n",
              "      <td>15.0</td>\n",
              "      <td>150000.0</td>\n",
              "      <td>5</td>\n",
              "      <td>1</td>\n",
              "      <td>1</td>\n",
              "      <td>1</td>\n",
              "      <td>0</td>\n",
              "      <td>0</td>\n",
              "      <td>0</td>\n",
              "      <td>...</td>\n",
              "      <td>0</td>\n",
              "      <td>0</td>\n",
              "      <td>0</td>\n",
              "      <td>0</td>\n",
              "      <td>0</td>\n",
              "      <td>0</td>\n",
              "      <td>0</td>\n",
              "      <td>0</td>\n",
              "      <td>0</td>\n",
              "      <td>0</td>\n",
              "    </tr>\n",
              "  </tbody>\n",
              "</table>\n",
              "<p>375 rows × 193 columns</p>\n",
              "</div>\n",
              "    <div class=\"colab-df-buttons\">\n",
              "\n",
              "  <div class=\"colab-df-container\">\n",
              "    <button class=\"colab-df-convert\" onclick=\"convertToInteractive('df-cb646772-878d-4e16-9c24-ccce04349b63')\"\n",
              "            title=\"Convert this dataframe to an interactive table.\"\n",
              "            style=\"display:none;\">\n",
              "\n",
              "  <svg xmlns=\"http://www.w3.org/2000/svg\" height=\"24px\" viewBox=\"0 -960 960 960\">\n",
              "    <path d=\"M120-120v-720h720v720H120Zm60-500h600v-160H180v160Zm220 220h160v-160H400v160Zm0 220h160v-160H400v160ZM180-400h160v-160H180v160Zm440 0h160v-160H620v160ZM180-180h160v-160H180v160Zm440 0h160v-160H620v160Z\"/>\n",
              "  </svg>\n",
              "    </button>\n",
              "\n",
              "  <style>\n",
              "    .colab-df-container {\n",
              "      display:flex;\n",
              "      gap: 12px;\n",
              "    }\n",
              "\n",
              "    .colab-df-convert {\n",
              "      background-color: #E8F0FE;\n",
              "      border: none;\n",
              "      border-radius: 50%;\n",
              "      cursor: pointer;\n",
              "      display: none;\n",
              "      fill: #1967D2;\n",
              "      height: 32px;\n",
              "      padding: 0 0 0 0;\n",
              "      width: 32px;\n",
              "    }\n",
              "\n",
              "    .colab-df-convert:hover {\n",
              "      background-color: #E2EBFA;\n",
              "      box-shadow: 0px 1px 2px rgba(60, 64, 67, 0.3), 0px 1px 3px 1px rgba(60, 64, 67, 0.15);\n",
              "      fill: #174EA6;\n",
              "    }\n",
              "\n",
              "    .colab-df-buttons div {\n",
              "      margin-bottom: 4px;\n",
              "    }\n",
              "\n",
              "    [theme=dark] .colab-df-convert {\n",
              "      background-color: #3B4455;\n",
              "      fill: #D2E3FC;\n",
              "    }\n",
              "\n",
              "    [theme=dark] .colab-df-convert:hover {\n",
              "      background-color: #434B5C;\n",
              "      box-shadow: 0px 1px 3px 1px rgba(0, 0, 0, 0.15);\n",
              "      filter: drop-shadow(0px 1px 2px rgba(0, 0, 0, 0.3));\n",
              "      fill: #FFFFFF;\n",
              "    }\n",
              "  </style>\n",
              "\n",
              "    <script>\n",
              "      const buttonEl =\n",
              "        document.querySelector('#df-cb646772-878d-4e16-9c24-ccce04349b63 button.colab-df-convert');\n",
              "      buttonEl.style.display =\n",
              "        google.colab.kernel.accessAllowed ? 'block' : 'none';\n",
              "\n",
              "      async function convertToInteractive(key) {\n",
              "        const element = document.querySelector('#df-cb646772-878d-4e16-9c24-ccce04349b63');\n",
              "        const dataTable =\n",
              "          await google.colab.kernel.invokeFunction('convertToInteractive',\n",
              "                                                    [key], {});\n",
              "        if (!dataTable) return;\n",
              "\n",
              "        const docLinkHtml = 'Like what you see? Visit the ' +\n",
              "          '<a target=\"_blank\" href=https://colab.research.google.com/notebooks/data_table.ipynb>data table notebook</a>'\n",
              "          + ' to learn more about interactive tables.';\n",
              "        element.innerHTML = '';\n",
              "        dataTable['output_type'] = 'display_data';\n",
              "        await google.colab.output.renderOutput(dataTable, element);\n",
              "        const docLink = document.createElement('div');\n",
              "        docLink.innerHTML = docLinkHtml;\n",
              "        element.appendChild(docLink);\n",
              "      }\n",
              "    </script>\n",
              "  </div>\n",
              "\n",
              "\n",
              "<div id=\"df-cd9a36d0-cdd0-43f6-bf95-cd682b40d640\">\n",
              "  <button class=\"colab-df-quickchart\" onclick=\"quickchart('df-cd9a36d0-cdd0-43f6-bf95-cd682b40d640')\"\n",
              "            title=\"Suggest charts\"\n",
              "            style=\"display:none;\">\n",
              "\n",
              "<svg xmlns=\"http://www.w3.org/2000/svg\" height=\"24px\"viewBox=\"0 0 24 24\"\n",
              "     width=\"24px\">\n",
              "    <g>\n",
              "        <path d=\"M19 3H5c-1.1 0-2 .9-2 2v14c0 1.1.9 2 2 2h14c1.1 0 2-.9 2-2V5c0-1.1-.9-2-2-2zM9 17H7v-7h2v7zm4 0h-2V7h2v10zm4 0h-2v-4h2v4z\"/>\n",
              "    </g>\n",
              "</svg>\n",
              "  </button>\n",
              "\n",
              "<style>\n",
              "  .colab-df-quickchart {\n",
              "      --bg-color: #E8F0FE;\n",
              "      --fill-color: #1967D2;\n",
              "      --hover-bg-color: #E2EBFA;\n",
              "      --hover-fill-color: #174EA6;\n",
              "      --disabled-fill-color: #AAA;\n",
              "      --disabled-bg-color: #DDD;\n",
              "  }\n",
              "\n",
              "  [theme=dark] .colab-df-quickchart {\n",
              "      --bg-color: #3B4455;\n",
              "      --fill-color: #D2E3FC;\n",
              "      --hover-bg-color: #434B5C;\n",
              "      --hover-fill-color: #FFFFFF;\n",
              "      --disabled-bg-color: #3B4455;\n",
              "      --disabled-fill-color: #666;\n",
              "  }\n",
              "\n",
              "  .colab-df-quickchart {\n",
              "    background-color: var(--bg-color);\n",
              "    border: none;\n",
              "    border-radius: 50%;\n",
              "    cursor: pointer;\n",
              "    display: none;\n",
              "    fill: var(--fill-color);\n",
              "    height: 32px;\n",
              "    padding: 0;\n",
              "    width: 32px;\n",
              "  }\n",
              "\n",
              "  .colab-df-quickchart:hover {\n",
              "    background-color: var(--hover-bg-color);\n",
              "    box-shadow: 0 1px 2px rgba(60, 64, 67, 0.3), 0 1px 3px 1px rgba(60, 64, 67, 0.15);\n",
              "    fill: var(--button-hover-fill-color);\n",
              "  }\n",
              "\n",
              "  .colab-df-quickchart-complete:disabled,\n",
              "  .colab-df-quickchart-complete:disabled:hover {\n",
              "    background-color: var(--disabled-bg-color);\n",
              "    fill: var(--disabled-fill-color);\n",
              "    box-shadow: none;\n",
              "  }\n",
              "\n",
              "  .colab-df-spinner {\n",
              "    border: 2px solid var(--fill-color);\n",
              "    border-color: transparent;\n",
              "    border-bottom-color: var(--fill-color);\n",
              "    animation:\n",
              "      spin 1s steps(1) infinite;\n",
              "  }\n",
              "\n",
              "  @keyframes spin {\n",
              "    0% {\n",
              "      border-color: transparent;\n",
              "      border-bottom-color: var(--fill-color);\n",
              "      border-left-color: var(--fill-color);\n",
              "    }\n",
              "    20% {\n",
              "      border-color: transparent;\n",
              "      border-left-color: var(--fill-color);\n",
              "      border-top-color: var(--fill-color);\n",
              "    }\n",
              "    30% {\n",
              "      border-color: transparent;\n",
              "      border-left-color: var(--fill-color);\n",
              "      border-top-color: var(--fill-color);\n",
              "      border-right-color: var(--fill-color);\n",
              "    }\n",
              "    40% {\n",
              "      border-color: transparent;\n",
              "      border-right-color: var(--fill-color);\n",
              "      border-top-color: var(--fill-color);\n",
              "    }\n",
              "    60% {\n",
              "      border-color: transparent;\n",
              "      border-right-color: var(--fill-color);\n",
              "    }\n",
              "    80% {\n",
              "      border-color: transparent;\n",
              "      border-right-color: var(--fill-color);\n",
              "      border-bottom-color: var(--fill-color);\n",
              "    }\n",
              "    90% {\n",
              "      border-color: transparent;\n",
              "      border-bottom-color: var(--fill-color);\n",
              "    }\n",
              "  }\n",
              "</style>\n",
              "\n",
              "  <script>\n",
              "    async function quickchart(key) {\n",
              "      const quickchartButtonEl =\n",
              "        document.querySelector('#' + key + ' button');\n",
              "      quickchartButtonEl.disabled = true;  // To prevent multiple clicks.\n",
              "      quickchartButtonEl.classList.add('colab-df-spinner');\n",
              "      try {\n",
              "        const charts = await google.colab.kernel.invokeFunction(\n",
              "            'suggestCharts', [key], {});\n",
              "      } catch (error) {\n",
              "        console.error('Error during call to suggestCharts:', error);\n",
              "      }\n",
              "      quickchartButtonEl.classList.remove('colab-df-spinner');\n",
              "      quickchartButtonEl.classList.add('colab-df-quickchart-complete');\n",
              "    }\n",
              "    (() => {\n",
              "      let quickchartButtonEl =\n",
              "        document.querySelector('#df-cd9a36d0-cdd0-43f6-bf95-cd682b40d640 button');\n",
              "      quickchartButtonEl.style.display =\n",
              "        google.colab.kernel.accessAllowed ? 'block' : 'none';\n",
              "    })();\n",
              "  </script>\n",
              "</div>\n",
              "    </div>\n",
              "  </div>\n"
            ],
            "application/vnd.google.colaboratory.intrinsic+json": {
              "type": "dataframe",
              "variable_name": "df2"
            }
          },
          "metadata": {},
          "execution_count": 117
        }
      ]
    },
    {
      "cell_type": "markdown",
      "source": [
        "#### **Splitting Data**"
      ],
      "metadata": {
        "id": "qhjtWxQJM4X6"
      }
    },
    {
      "cell_type": "code",
      "source": [
        "X = df2[['Age', 'Years of Experience', 'Salary']]\n",
        "y = df2['JobCategory']\n",
        "X_train, X_test, y_train, y_test = train_test_split(X, y, test_size=0.3, random_state=42)"
      ],
      "metadata": {
        "id": "qS-ki0yEM9_T"
      },
      "execution_count": 118,
      "outputs": []
    },
    {
      "cell_type": "code",
      "source": [
        "y_train.value_counts(normalize=True)"
      ],
      "metadata": {
        "colab": {
          "base_uri": "https://localhost:8080/"
        },
        "id": "Qfs9P67KRg4A",
        "outputId": "0f59dcd9-d001-451b-9557-3d3bfa40a6fe"
      },
      "execution_count": 119,
      "outputs": [
        {
          "output_type": "execute_result",
          "data": {
            "text/plain": [
              "5    0.900763\n",
              "1    0.030534\n",
              "4    0.026718\n",
              "3    0.019084\n",
              "0    0.015267\n",
              "2    0.007634\n",
              "Name: JobCategory, dtype: float64"
            ]
          },
          "metadata": {},
          "execution_count": 119
        }
      ]
    },
    {
      "cell_type": "code",
      "source": [
        "y_test.value_counts(normalize=True)"
      ],
      "metadata": {
        "colab": {
          "base_uri": "https://localhost:8080/"
        },
        "id": "XH76V92LRoBL",
        "outputId": "ba3b05f5-125e-49d2-923d-04e8e49979f2"
      },
      "execution_count": 120,
      "outputs": [
        {
          "output_type": "execute_result",
          "data": {
            "text/plain": [
              "5    0.893805\n",
              "1    0.044248\n",
              "0    0.026549\n",
              "3    0.017699\n",
              "4    0.008850\n",
              "2    0.008850\n",
              "Name: JobCategory, dtype: float64"
            ]
          },
          "metadata": {},
          "execution_count": 120
        }
      ]
    },
    {
      "cell_type": "markdown",
      "source": [
        "Pada tahap ini, data dibagi menjadi dua subset: data latih (training data) dan data uji (testing data). Tujuan dari splitting data adalah untuk melatih model pada data latih dan menguji performanya pada data uji. Data latih digunakan untuk melatih model sehingga dapat belajar pola-pola yang terdapat dalam data. Setelah model dilatih, data uji digunakan untuk menguji seberapa baik model tersebut dapat memprediksi label atau nilai target pada data yang tidak pernah dilihat sebelumnya. Hal ini penting untuk memastikan bahwa model dapat menggeneralisasi dengan baik pada data baru yang ditemui di masa depan."
      ],
      "metadata": {
        "id": "Mtf_qqghfJnC"
      }
    },
    {
      "cell_type": "markdown",
      "source": [
        "#### **Normalizing data**"
      ],
      "metadata": {
        "id": "u6jXVzFLR47q"
      }
    },
    {
      "cell_type": "code",
      "source": [
        "scaler = MinMaxScaler()\n",
        "X_train_scaled = scaler.fit_transform(X_train)\n",
        "X_test_scaled = scaler.transform(X_test)"
      ],
      "metadata": {
        "id": "I-yhd6dvSgQ0"
      },
      "execution_count": 121,
      "outputs": []
    },
    {
      "cell_type": "markdown",
      "source": [
        "Tahap normalisasi data dilakukan untuk mengubah skala semua fitur dalam dataset sehingga memiliki rentang nilai yang seragam atau terstandarisasi. Dengan normalisasi data, kita dapat memastikan bahwa perbedaan skala antar fitur tidak memengaruhi performa model, serta mempercepat proses konvergensi dalam algoritma pembelajaran mesin yang sensitif terhadap skala."
      ],
      "metadata": {
        "id": "pFZj0p_cfaKq"
      }
    },
    {
      "cell_type": "markdown",
      "source": [
        "### **Build and Train Model**"
      ],
      "metadata": {
        "id": "OKiGnfnbTuox"
      }
    },
    {
      "cell_type": "markdown",
      "source": [
        "#### **K-Means**"
      ],
      "metadata": {
        "id": "dhQJUmxuWtLb"
      }
    },
    {
      "cell_type": "code",
      "source": [
        "imputer = SimpleImputer(strategy='mean')"
      ],
      "metadata": {
        "id": "hGMtkYE_VFHf"
      },
      "execution_count": 122,
      "outputs": []
    },
    {
      "cell_type": "code",
      "source": [
        "kmeans = KMeans(n_clusters=3, random_state=42)\n",
        "kmeans.fit(X_train_scaled)"
      ],
      "metadata": {
        "colab": {
          "base_uri": "https://localhost:8080/",
          "height": 144
        },
        "id": "elhJMEUVVK2r",
        "outputId": "5e014d47-a3a9-4c18-9390-4207369e8778"
      },
      "execution_count": 123,
      "outputs": [
        {
          "output_type": "stream",
          "name": "stderr",
          "text": [
            "/usr/local/lib/python3.10/dist-packages/sklearn/cluster/_kmeans.py:870: FutureWarning:\n",
            "\n",
            "The default value of `n_init` will change from 10 to 'auto' in 1.4. Set the value of `n_init` explicitly to suppress the warning\n",
            "\n"
          ]
        },
        {
          "output_type": "execute_result",
          "data": {
            "text/plain": [
              "KMeans(n_clusters=3, random_state=42)"
            ],
            "text/html": [
              "<style>#sk-container-id-1 {color: black;background-color: white;}#sk-container-id-1 pre{padding: 0;}#sk-container-id-1 div.sk-toggleable {background-color: white;}#sk-container-id-1 label.sk-toggleable__label {cursor: pointer;display: block;width: 100%;margin-bottom: 0;padding: 0.3em;box-sizing: border-box;text-align: center;}#sk-container-id-1 label.sk-toggleable__label-arrow:before {content: \"▸\";float: left;margin-right: 0.25em;color: #696969;}#sk-container-id-1 label.sk-toggleable__label-arrow:hover:before {color: black;}#sk-container-id-1 div.sk-estimator:hover label.sk-toggleable__label-arrow:before {color: black;}#sk-container-id-1 div.sk-toggleable__content {max-height: 0;max-width: 0;overflow: hidden;text-align: left;background-color: #f0f8ff;}#sk-container-id-1 div.sk-toggleable__content pre {margin: 0.2em;color: black;border-radius: 0.25em;background-color: #f0f8ff;}#sk-container-id-1 input.sk-toggleable__control:checked~div.sk-toggleable__content {max-height: 200px;max-width: 100%;overflow: auto;}#sk-container-id-1 input.sk-toggleable__control:checked~label.sk-toggleable__label-arrow:before {content: \"▾\";}#sk-container-id-1 div.sk-estimator input.sk-toggleable__control:checked~label.sk-toggleable__label {background-color: #d4ebff;}#sk-container-id-1 div.sk-label input.sk-toggleable__control:checked~label.sk-toggleable__label {background-color: #d4ebff;}#sk-container-id-1 input.sk-hidden--visually {border: 0;clip: rect(1px 1px 1px 1px);clip: rect(1px, 1px, 1px, 1px);height: 1px;margin: -1px;overflow: hidden;padding: 0;position: absolute;width: 1px;}#sk-container-id-1 div.sk-estimator {font-family: monospace;background-color: #f0f8ff;border: 1px dotted black;border-radius: 0.25em;box-sizing: border-box;margin-bottom: 0.5em;}#sk-container-id-1 div.sk-estimator:hover {background-color: #d4ebff;}#sk-container-id-1 div.sk-parallel-item::after {content: \"\";width: 100%;border-bottom: 1px solid gray;flex-grow: 1;}#sk-container-id-1 div.sk-label:hover label.sk-toggleable__label {background-color: #d4ebff;}#sk-container-id-1 div.sk-serial::before {content: \"\";position: absolute;border-left: 1px solid gray;box-sizing: border-box;top: 0;bottom: 0;left: 50%;z-index: 0;}#sk-container-id-1 div.sk-serial {display: flex;flex-direction: column;align-items: center;background-color: white;padding-right: 0.2em;padding-left: 0.2em;position: relative;}#sk-container-id-1 div.sk-item {position: relative;z-index: 1;}#sk-container-id-1 div.sk-parallel {display: flex;align-items: stretch;justify-content: center;background-color: white;position: relative;}#sk-container-id-1 div.sk-item::before, #sk-container-id-1 div.sk-parallel-item::before {content: \"\";position: absolute;border-left: 1px solid gray;box-sizing: border-box;top: 0;bottom: 0;left: 50%;z-index: -1;}#sk-container-id-1 div.sk-parallel-item {display: flex;flex-direction: column;z-index: 1;position: relative;background-color: white;}#sk-container-id-1 div.sk-parallel-item:first-child::after {align-self: flex-end;width: 50%;}#sk-container-id-1 div.sk-parallel-item:last-child::after {align-self: flex-start;width: 50%;}#sk-container-id-1 div.sk-parallel-item:only-child::after {width: 0;}#sk-container-id-1 div.sk-dashed-wrapped {border: 1px dashed gray;margin: 0 0.4em 0.5em 0.4em;box-sizing: border-box;padding-bottom: 0.4em;background-color: white;}#sk-container-id-1 div.sk-label label {font-family: monospace;font-weight: bold;display: inline-block;line-height: 1.2em;}#sk-container-id-1 div.sk-label-container {text-align: center;}#sk-container-id-1 div.sk-container {/* jupyter's `normalize.less` sets `[hidden] { display: none; }` but bootstrap.min.css set `[hidden] { display: none !important; }` so we also need the `!important` here to be able to override the default hidden behavior on the sphinx rendered scikit-learn.org. See: https://github.com/scikit-learn/scikit-learn/issues/21755 */display: inline-block !important;position: relative;}#sk-container-id-1 div.sk-text-repr-fallback {display: none;}</style><div id=\"sk-container-id-1\" class=\"sk-top-container\"><div class=\"sk-text-repr-fallback\"><pre>KMeans(n_clusters=3, random_state=42)</pre><b>In a Jupyter environment, please rerun this cell to show the HTML representation or trust the notebook. <br />On GitHub, the HTML representation is unable to render, please try loading this page with nbviewer.org.</b></div><div class=\"sk-container\" hidden><div class=\"sk-item\"><div class=\"sk-estimator sk-toggleable\"><input class=\"sk-toggleable__control sk-hidden--visually\" id=\"sk-estimator-id-1\" type=\"checkbox\" checked><label for=\"sk-estimator-id-1\" class=\"sk-toggleable__label sk-toggleable__label-arrow\">KMeans</label><div class=\"sk-toggleable__content\"><pre>KMeans(n_clusters=3, random_state=42)</pre></div></div></div></div></div>"
            ]
          },
          "metadata": {},
          "execution_count": 123
        }
      ]
    },
    {
      "cell_type": "markdown",
      "source": [
        "Setelah normalisasi data, kita melatih model K-Means menggunakan data latih yang telah dinormalisasi. Model ini kemudian dapat digunakan untuk mengelompokkan atau mengklasifikasikan data uji atau data baru yang memiliki fitur-fitur yang serupa ke dalam cluster yang sesuai, berdasarkan pola yang telah dipelajari selama proses pelatihan."
      ],
      "metadata": {
        "id": "V8MRsY7Gf68N"
      }
    },
    {
      "cell_type": "markdown",
      "source": [
        "#### **Hierarchical Clustering**"
      ],
      "metadata": {
        "id": "3nhZFtN5591a"
      }
    },
    {
      "cell_type": "code",
      "source": [
        "imputer = SimpleImputer(strategy='mean')\n",
        "X_train_imputed = imputer.fit_transform(X_train)\n",
        "X_test_imputed = imputer.transform(X_test)\n",
        "\n",
        "hc = AgglomerativeClustering(n_clusters=3, affinity='euclidean', linkage='ward')\n",
        "hc.fit(X_train_imputed)"
      ],
      "metadata": {
        "colab": {
          "base_uri": "https://localhost:8080/",
          "height": 144
        },
        "id": "C2YuokjC6D55",
        "outputId": "fb0680dc-9f0a-4a4a-81bb-2926f2598f08"
      },
      "execution_count": 124,
      "outputs": [
        {
          "output_type": "stream",
          "name": "stderr",
          "text": [
            "/usr/local/lib/python3.10/dist-packages/sklearn/cluster/_agglomerative.py:983: FutureWarning:\n",
            "\n",
            "Attribute `affinity` was deprecated in version 1.2 and will be removed in 1.4. Use `metric` instead\n",
            "\n"
          ]
        },
        {
          "output_type": "execute_result",
          "data": {
            "text/plain": [
              "AgglomerativeClustering(affinity='euclidean', n_clusters=3)"
            ],
            "text/html": [
              "<style>#sk-container-id-2 {color: black;background-color: white;}#sk-container-id-2 pre{padding: 0;}#sk-container-id-2 div.sk-toggleable {background-color: white;}#sk-container-id-2 label.sk-toggleable__label {cursor: pointer;display: block;width: 100%;margin-bottom: 0;padding: 0.3em;box-sizing: border-box;text-align: center;}#sk-container-id-2 label.sk-toggleable__label-arrow:before {content: \"▸\";float: left;margin-right: 0.25em;color: #696969;}#sk-container-id-2 label.sk-toggleable__label-arrow:hover:before {color: black;}#sk-container-id-2 div.sk-estimator:hover label.sk-toggleable__label-arrow:before {color: black;}#sk-container-id-2 div.sk-toggleable__content {max-height: 0;max-width: 0;overflow: hidden;text-align: left;background-color: #f0f8ff;}#sk-container-id-2 div.sk-toggleable__content pre {margin: 0.2em;color: black;border-radius: 0.25em;background-color: #f0f8ff;}#sk-container-id-2 input.sk-toggleable__control:checked~div.sk-toggleable__content {max-height: 200px;max-width: 100%;overflow: auto;}#sk-container-id-2 input.sk-toggleable__control:checked~label.sk-toggleable__label-arrow:before {content: \"▾\";}#sk-container-id-2 div.sk-estimator input.sk-toggleable__control:checked~label.sk-toggleable__label {background-color: #d4ebff;}#sk-container-id-2 div.sk-label input.sk-toggleable__control:checked~label.sk-toggleable__label {background-color: #d4ebff;}#sk-container-id-2 input.sk-hidden--visually {border: 0;clip: rect(1px 1px 1px 1px);clip: rect(1px, 1px, 1px, 1px);height: 1px;margin: -1px;overflow: hidden;padding: 0;position: absolute;width: 1px;}#sk-container-id-2 div.sk-estimator {font-family: monospace;background-color: #f0f8ff;border: 1px dotted black;border-radius: 0.25em;box-sizing: border-box;margin-bottom: 0.5em;}#sk-container-id-2 div.sk-estimator:hover {background-color: #d4ebff;}#sk-container-id-2 div.sk-parallel-item::after {content: \"\";width: 100%;border-bottom: 1px solid gray;flex-grow: 1;}#sk-container-id-2 div.sk-label:hover label.sk-toggleable__label {background-color: #d4ebff;}#sk-container-id-2 div.sk-serial::before {content: \"\";position: absolute;border-left: 1px solid gray;box-sizing: border-box;top: 0;bottom: 0;left: 50%;z-index: 0;}#sk-container-id-2 div.sk-serial {display: flex;flex-direction: column;align-items: center;background-color: white;padding-right: 0.2em;padding-left: 0.2em;position: relative;}#sk-container-id-2 div.sk-item {position: relative;z-index: 1;}#sk-container-id-2 div.sk-parallel {display: flex;align-items: stretch;justify-content: center;background-color: white;position: relative;}#sk-container-id-2 div.sk-item::before, #sk-container-id-2 div.sk-parallel-item::before {content: \"\";position: absolute;border-left: 1px solid gray;box-sizing: border-box;top: 0;bottom: 0;left: 50%;z-index: -1;}#sk-container-id-2 div.sk-parallel-item {display: flex;flex-direction: column;z-index: 1;position: relative;background-color: white;}#sk-container-id-2 div.sk-parallel-item:first-child::after {align-self: flex-end;width: 50%;}#sk-container-id-2 div.sk-parallel-item:last-child::after {align-self: flex-start;width: 50%;}#sk-container-id-2 div.sk-parallel-item:only-child::after {width: 0;}#sk-container-id-2 div.sk-dashed-wrapped {border: 1px dashed gray;margin: 0 0.4em 0.5em 0.4em;box-sizing: border-box;padding-bottom: 0.4em;background-color: white;}#sk-container-id-2 div.sk-label label {font-family: monospace;font-weight: bold;display: inline-block;line-height: 1.2em;}#sk-container-id-2 div.sk-label-container {text-align: center;}#sk-container-id-2 div.sk-container {/* jupyter's `normalize.less` sets `[hidden] { display: none; }` but bootstrap.min.css set `[hidden] { display: none !important; }` so we also need the `!important` here to be able to override the default hidden behavior on the sphinx rendered scikit-learn.org. See: https://github.com/scikit-learn/scikit-learn/issues/21755 */display: inline-block !important;position: relative;}#sk-container-id-2 div.sk-text-repr-fallback {display: none;}</style><div id=\"sk-container-id-2\" class=\"sk-top-container\"><div class=\"sk-text-repr-fallback\"><pre>AgglomerativeClustering(affinity=&#x27;euclidean&#x27;, n_clusters=3)</pre><b>In a Jupyter environment, please rerun this cell to show the HTML representation or trust the notebook. <br />On GitHub, the HTML representation is unable to render, please try loading this page with nbviewer.org.</b></div><div class=\"sk-container\" hidden><div class=\"sk-item\"><div class=\"sk-estimator sk-toggleable\"><input class=\"sk-toggleable__control sk-hidden--visually\" id=\"sk-estimator-id-2\" type=\"checkbox\" checked><label for=\"sk-estimator-id-2\" class=\"sk-toggleable__label sk-toggleable__label-arrow\">AgglomerativeClustering</label><div class=\"sk-toggleable__content\"><pre>AgglomerativeClustering(affinity=&#x27;euclidean&#x27;, n_clusters=3)</pre></div></div></div></div></div>"
            ]
          },
          "metadata": {},
          "execution_count": 124
        }
      ]
    },
    {
      "cell_type": "markdown",
      "source": [
        "Model Hierarchical Clustering akan dilatih menggunakan data latih yang telah dinormalisasi. Model ini kemudian dapat digunakan untuk mengelompokkan atau mengklasifikasikan data uji atau data baru yang memiliki fitur-fitur yang serupa ke dalam cluster yang sesuai, berdasarkan struktur hierarki yang telah dipelajari selama proses pelatihan."
      ],
      "metadata": {
        "id": "iSk3yKe9gOUh"
      }
    },
    {
      "cell_type": "markdown",
      "source": [
        "\n",
        "###**Begins and Compare Predict**"
      ],
      "metadata": {
        "id": "uUgIwQGXXrB2"
      }
    },
    {
      "cell_type": "code",
      "source": [
        "kmeans = KMeans(n_clusters=3, random_state=42)\n",
        "kmeans.fit(X_train_scaled)\n",
        "\n",
        "kmn_pred = kmeans.predict(X_test_scaled)"
      ],
      "metadata": {
        "colab": {
          "base_uri": "https://localhost:8080/"
        },
        "id": "oqyNpyCiXOM9",
        "outputId": "07dbba5d-86b6-422e-cc1f-bd3d1aa85546"
      },
      "execution_count": 125,
      "outputs": [
        {
          "output_type": "stream",
          "name": "stderr",
          "text": [
            "/usr/local/lib/python3.10/dist-packages/sklearn/cluster/_kmeans.py:870: FutureWarning:\n",
            "\n",
            "The default value of `n_init` will change from 10 to 'auto' in 1.4. Set the value of `n_init` explicitly to suppress the warning\n",
            "\n"
          ]
        }
      ]
    },
    {
      "cell_type": "code",
      "source": [
        "kmn_pred = kmeans.predict(X_test_scaled)\n",
        "\n",
        "hrc_pred = hc.fit_predict(X_test_imputed)\n",
        "\n",
        "x_test = pd.DataFrame(X_test, columns=['Age', 'Years of Experience', 'Salary'])\n",
        "\n",
        "kmn_col = pd.DataFrame(kmn_pred, columns=[\"kmeans_cluster\"])\n",
        "hrc_col = pd.DataFrame(hrc_pred, columns=[\"hierarchical_cluster\"])\n",
        "\n",
        "combined_data = pd.concat([x_test, kmn_col, hrc_col], axis=1)"
      ],
      "metadata": {
        "id": "Ci0zgqVu698v",
        "colab": {
          "base_uri": "https://localhost:8080/"
        },
        "outputId": "4d7ce370-67bd-4e9b-c9c4-e7bdb9fd99b3"
      },
      "execution_count": 126,
      "outputs": [
        {
          "output_type": "stream",
          "name": "stderr",
          "text": [
            "/usr/local/lib/python3.10/dist-packages/sklearn/cluster/_agglomerative.py:983: FutureWarning:\n",
            "\n",
            "Attribute `affinity` was deprecated in version 1.2 and will be removed in 1.4. Use `metric` instead\n",
            "\n"
          ]
        }
      ]
    },
    {
      "cell_type": "code",
      "source": [
        "x_test.reset_index(drop=True, inplace=True)\n",
        "kmn_col.reset_index(drop=True, inplace=True)\n",
        "hrc_col.reset_index(drop=True, inplace=True)\n",
        "\n",
        "combined_data = pd.concat([x_test, kmn_col, hrc_col], axis=1)\n",
        "\n",
        "combined_data.drop(columns=['index'], inplace=True, errors='ignore')\n",
        "\n",
        "print(combined_data.head())"
      ],
      "metadata": {
        "colab": {
          "base_uri": "https://localhost:8080/"
        },
        "id": "lkTYh5YbXwi9",
        "outputId": "8f635030-6796-4207-ef57-060d68dd4c8c"
      },
      "execution_count": 127,
      "outputs": [
        {
          "output_type": "stream",
          "name": "stdout",
          "text": [
            "    Age  Years of Experience    Salary  kmeans_cluster  hierarchical_cluster\n",
            "0  46.0                 18.0  150000.0               2                     0\n",
            "1  39.0                 10.0   65000.0               0                     1\n",
            "2  44.0                 16.0  125000.0               2                     0\n",
            "3  34.0                  6.0   80000.0               0                     1\n",
            "4  43.0                 17.0  140000.0               2                     0\n"
          ]
        }
      ]
    },
    {
      "cell_type": "code",
      "source": [
        "combined_data.head()"
      ],
      "metadata": {
        "colab": {
          "base_uri": "https://localhost:8080/",
          "height": 206
        },
        "id": "DsGwIreFQ1DS",
        "outputId": "b5dc0912-b599-41ce-e923-cbe543318963"
      },
      "execution_count": 128,
      "outputs": [
        {
          "output_type": "execute_result",
          "data": {
            "text/plain": [
              "    Age  Years of Experience    Salary  kmeans_cluster  hierarchical_cluster\n",
              "0  46.0                 18.0  150000.0               2                     0\n",
              "1  39.0                 10.0   65000.0               0                     1\n",
              "2  44.0                 16.0  125000.0               2                     0\n",
              "3  34.0                  6.0   80000.0               0                     1\n",
              "4  43.0                 17.0  140000.0               2                     0"
            ],
            "text/html": [
              "\n",
              "  <div id=\"df-10baaba8-11a6-4bc2-86a6-0ed03858abe5\" class=\"colab-df-container\">\n",
              "    <div>\n",
              "<style scoped>\n",
              "    .dataframe tbody tr th:only-of-type {\n",
              "        vertical-align: middle;\n",
              "    }\n",
              "\n",
              "    .dataframe tbody tr th {\n",
              "        vertical-align: top;\n",
              "    }\n",
              "\n",
              "    .dataframe thead th {\n",
              "        text-align: right;\n",
              "    }\n",
              "</style>\n",
              "<table border=\"1\" class=\"dataframe\">\n",
              "  <thead>\n",
              "    <tr style=\"text-align: right;\">\n",
              "      <th></th>\n",
              "      <th>Age</th>\n",
              "      <th>Years of Experience</th>\n",
              "      <th>Salary</th>\n",
              "      <th>kmeans_cluster</th>\n",
              "      <th>hierarchical_cluster</th>\n",
              "    </tr>\n",
              "  </thead>\n",
              "  <tbody>\n",
              "    <tr>\n",
              "      <th>0</th>\n",
              "      <td>46.0</td>\n",
              "      <td>18.0</td>\n",
              "      <td>150000.0</td>\n",
              "      <td>2</td>\n",
              "      <td>0</td>\n",
              "    </tr>\n",
              "    <tr>\n",
              "      <th>1</th>\n",
              "      <td>39.0</td>\n",
              "      <td>10.0</td>\n",
              "      <td>65000.0</td>\n",
              "      <td>0</td>\n",
              "      <td>1</td>\n",
              "    </tr>\n",
              "    <tr>\n",
              "      <th>2</th>\n",
              "      <td>44.0</td>\n",
              "      <td>16.0</td>\n",
              "      <td>125000.0</td>\n",
              "      <td>2</td>\n",
              "      <td>0</td>\n",
              "    </tr>\n",
              "    <tr>\n",
              "      <th>3</th>\n",
              "      <td>34.0</td>\n",
              "      <td>6.0</td>\n",
              "      <td>80000.0</td>\n",
              "      <td>0</td>\n",
              "      <td>1</td>\n",
              "    </tr>\n",
              "    <tr>\n",
              "      <th>4</th>\n",
              "      <td>43.0</td>\n",
              "      <td>17.0</td>\n",
              "      <td>140000.0</td>\n",
              "      <td>2</td>\n",
              "      <td>0</td>\n",
              "    </tr>\n",
              "  </tbody>\n",
              "</table>\n",
              "</div>\n",
              "    <div class=\"colab-df-buttons\">\n",
              "\n",
              "  <div class=\"colab-df-container\">\n",
              "    <button class=\"colab-df-convert\" onclick=\"convertToInteractive('df-10baaba8-11a6-4bc2-86a6-0ed03858abe5')\"\n",
              "            title=\"Convert this dataframe to an interactive table.\"\n",
              "            style=\"display:none;\">\n",
              "\n",
              "  <svg xmlns=\"http://www.w3.org/2000/svg\" height=\"24px\" viewBox=\"0 -960 960 960\">\n",
              "    <path d=\"M120-120v-720h720v720H120Zm60-500h600v-160H180v160Zm220 220h160v-160H400v160Zm0 220h160v-160H400v160ZM180-400h160v-160H180v160Zm440 0h160v-160H620v160ZM180-180h160v-160H180v160Zm440 0h160v-160H620v160Z\"/>\n",
              "  </svg>\n",
              "    </button>\n",
              "\n",
              "  <style>\n",
              "    .colab-df-container {\n",
              "      display:flex;\n",
              "      gap: 12px;\n",
              "    }\n",
              "\n",
              "    .colab-df-convert {\n",
              "      background-color: #E8F0FE;\n",
              "      border: none;\n",
              "      border-radius: 50%;\n",
              "      cursor: pointer;\n",
              "      display: none;\n",
              "      fill: #1967D2;\n",
              "      height: 32px;\n",
              "      padding: 0 0 0 0;\n",
              "      width: 32px;\n",
              "    }\n",
              "\n",
              "    .colab-df-convert:hover {\n",
              "      background-color: #E2EBFA;\n",
              "      box-shadow: 0px 1px 2px rgba(60, 64, 67, 0.3), 0px 1px 3px 1px rgba(60, 64, 67, 0.15);\n",
              "      fill: #174EA6;\n",
              "    }\n",
              "\n",
              "    .colab-df-buttons div {\n",
              "      margin-bottom: 4px;\n",
              "    }\n",
              "\n",
              "    [theme=dark] .colab-df-convert {\n",
              "      background-color: #3B4455;\n",
              "      fill: #D2E3FC;\n",
              "    }\n",
              "\n",
              "    [theme=dark] .colab-df-convert:hover {\n",
              "      background-color: #434B5C;\n",
              "      box-shadow: 0px 1px 3px 1px rgba(0, 0, 0, 0.15);\n",
              "      filter: drop-shadow(0px 1px 2px rgba(0, 0, 0, 0.3));\n",
              "      fill: #FFFFFF;\n",
              "    }\n",
              "  </style>\n",
              "\n",
              "    <script>\n",
              "      const buttonEl =\n",
              "        document.querySelector('#df-10baaba8-11a6-4bc2-86a6-0ed03858abe5 button.colab-df-convert');\n",
              "      buttonEl.style.display =\n",
              "        google.colab.kernel.accessAllowed ? 'block' : 'none';\n",
              "\n",
              "      async function convertToInteractive(key) {\n",
              "        const element = document.querySelector('#df-10baaba8-11a6-4bc2-86a6-0ed03858abe5');\n",
              "        const dataTable =\n",
              "          await google.colab.kernel.invokeFunction('convertToInteractive',\n",
              "                                                    [key], {});\n",
              "        if (!dataTable) return;\n",
              "\n",
              "        const docLinkHtml = 'Like what you see? Visit the ' +\n",
              "          '<a target=\"_blank\" href=https://colab.research.google.com/notebooks/data_table.ipynb>data table notebook</a>'\n",
              "          + ' to learn more about interactive tables.';\n",
              "        element.innerHTML = '';\n",
              "        dataTable['output_type'] = 'display_data';\n",
              "        await google.colab.output.renderOutput(dataTable, element);\n",
              "        const docLink = document.createElement('div');\n",
              "        docLink.innerHTML = docLinkHtml;\n",
              "        element.appendChild(docLink);\n",
              "      }\n",
              "    </script>\n",
              "  </div>\n",
              "\n",
              "\n",
              "<div id=\"df-683eb90d-f351-4654-af5f-fa4d63011a42\">\n",
              "  <button class=\"colab-df-quickchart\" onclick=\"quickchart('df-683eb90d-f351-4654-af5f-fa4d63011a42')\"\n",
              "            title=\"Suggest charts\"\n",
              "            style=\"display:none;\">\n",
              "\n",
              "<svg xmlns=\"http://www.w3.org/2000/svg\" height=\"24px\"viewBox=\"0 0 24 24\"\n",
              "     width=\"24px\">\n",
              "    <g>\n",
              "        <path d=\"M19 3H5c-1.1 0-2 .9-2 2v14c0 1.1.9 2 2 2h14c1.1 0 2-.9 2-2V5c0-1.1-.9-2-2-2zM9 17H7v-7h2v7zm4 0h-2V7h2v10zm4 0h-2v-4h2v4z\"/>\n",
              "    </g>\n",
              "</svg>\n",
              "  </button>\n",
              "\n",
              "<style>\n",
              "  .colab-df-quickchart {\n",
              "      --bg-color: #E8F0FE;\n",
              "      --fill-color: #1967D2;\n",
              "      --hover-bg-color: #E2EBFA;\n",
              "      --hover-fill-color: #174EA6;\n",
              "      --disabled-fill-color: #AAA;\n",
              "      --disabled-bg-color: #DDD;\n",
              "  }\n",
              "\n",
              "  [theme=dark] .colab-df-quickchart {\n",
              "      --bg-color: #3B4455;\n",
              "      --fill-color: #D2E3FC;\n",
              "      --hover-bg-color: #434B5C;\n",
              "      --hover-fill-color: #FFFFFF;\n",
              "      --disabled-bg-color: #3B4455;\n",
              "      --disabled-fill-color: #666;\n",
              "  }\n",
              "\n",
              "  .colab-df-quickchart {\n",
              "    background-color: var(--bg-color);\n",
              "    border: none;\n",
              "    border-radius: 50%;\n",
              "    cursor: pointer;\n",
              "    display: none;\n",
              "    fill: var(--fill-color);\n",
              "    height: 32px;\n",
              "    padding: 0;\n",
              "    width: 32px;\n",
              "  }\n",
              "\n",
              "  .colab-df-quickchart:hover {\n",
              "    background-color: var(--hover-bg-color);\n",
              "    box-shadow: 0 1px 2px rgba(60, 64, 67, 0.3), 0 1px 3px 1px rgba(60, 64, 67, 0.15);\n",
              "    fill: var(--button-hover-fill-color);\n",
              "  }\n",
              "\n",
              "  .colab-df-quickchart-complete:disabled,\n",
              "  .colab-df-quickchart-complete:disabled:hover {\n",
              "    background-color: var(--disabled-bg-color);\n",
              "    fill: var(--disabled-fill-color);\n",
              "    box-shadow: none;\n",
              "  }\n",
              "\n",
              "  .colab-df-spinner {\n",
              "    border: 2px solid var(--fill-color);\n",
              "    border-color: transparent;\n",
              "    border-bottom-color: var(--fill-color);\n",
              "    animation:\n",
              "      spin 1s steps(1) infinite;\n",
              "  }\n",
              "\n",
              "  @keyframes spin {\n",
              "    0% {\n",
              "      border-color: transparent;\n",
              "      border-bottom-color: var(--fill-color);\n",
              "      border-left-color: var(--fill-color);\n",
              "    }\n",
              "    20% {\n",
              "      border-color: transparent;\n",
              "      border-left-color: var(--fill-color);\n",
              "      border-top-color: var(--fill-color);\n",
              "    }\n",
              "    30% {\n",
              "      border-color: transparent;\n",
              "      border-left-color: var(--fill-color);\n",
              "      border-top-color: var(--fill-color);\n",
              "      border-right-color: var(--fill-color);\n",
              "    }\n",
              "    40% {\n",
              "      border-color: transparent;\n",
              "      border-right-color: var(--fill-color);\n",
              "      border-top-color: var(--fill-color);\n",
              "    }\n",
              "    60% {\n",
              "      border-color: transparent;\n",
              "      border-right-color: var(--fill-color);\n",
              "    }\n",
              "    80% {\n",
              "      border-color: transparent;\n",
              "      border-right-color: var(--fill-color);\n",
              "      border-bottom-color: var(--fill-color);\n",
              "    }\n",
              "    90% {\n",
              "      border-color: transparent;\n",
              "      border-bottom-color: var(--fill-color);\n",
              "    }\n",
              "  }\n",
              "</style>\n",
              "\n",
              "  <script>\n",
              "    async function quickchart(key) {\n",
              "      const quickchartButtonEl =\n",
              "        document.querySelector('#' + key + ' button');\n",
              "      quickchartButtonEl.disabled = true;  // To prevent multiple clicks.\n",
              "      quickchartButtonEl.classList.add('colab-df-spinner');\n",
              "      try {\n",
              "        const charts = await google.colab.kernel.invokeFunction(\n",
              "            'suggestCharts', [key], {});\n",
              "      } catch (error) {\n",
              "        console.error('Error during call to suggestCharts:', error);\n",
              "      }\n",
              "      quickchartButtonEl.classList.remove('colab-df-spinner');\n",
              "      quickchartButtonEl.classList.add('colab-df-quickchart-complete');\n",
              "    }\n",
              "    (() => {\n",
              "      let quickchartButtonEl =\n",
              "        document.querySelector('#df-683eb90d-f351-4654-af5f-fa4d63011a42 button');\n",
              "      quickchartButtonEl.style.display =\n",
              "        google.colab.kernel.accessAllowed ? 'block' : 'none';\n",
              "    })();\n",
              "  </script>\n",
              "</div>\n",
              "    </div>\n",
              "  </div>\n"
            ],
            "application/vnd.google.colaboratory.intrinsic+json": {
              "type": "dataframe",
              "variable_name": "combined_data",
              "summary": "{\n  \"name\": \"combined_data\",\n  \"rows\": 113,\n  \"fields\": [\n    {\n      \"column\": \"Age\",\n      \"properties\": {\n        \"dtype\": \"number\",\n        \"std\": 6.8669602993034236,\n        \"min\": 23.0,\n        \"max\": 52.0,\n        \"num_unique_values\": 30,\n        \"samples\": [\n          52.0,\n          38.0,\n          26.0\n        ],\n        \"semantic_type\": \"\",\n        \"description\": \"\"\n      }\n    },\n    {\n      \"column\": \"Years of Experience\",\n      \"properties\": {\n        \"dtype\": \"number\",\n        \"std\": 6.516661078402042,\n        \"min\": 0.0,\n        \"max\": 25.0,\n        \"num_unique_values\": 27,\n        \"samples\": [\n          9.0,\n          1.5,\n          13.0\n        ],\n        \"semantic_type\": \"\",\n        \"description\": \"\"\n      }\n    },\n    {\n      \"column\": \"Salary\",\n      \"properties\": {\n        \"dtype\": \"number\",\n        \"std\": 46387.25988167741,\n        \"min\": 30000.0,\n        \"max\": 250000.0,\n        \"num_unique_values\": 30,\n        \"samples\": [\n          30000.0,\n          70000.0,\n          250000.0\n        ],\n        \"semantic_type\": \"\",\n        \"description\": \"\"\n      }\n    },\n    {\n      \"column\": \"kmeans_cluster\",\n      \"properties\": {\n        \"dtype\": \"int32\",\n        \"num_unique_values\": 3,\n        \"samples\": [\n          2,\n          0,\n          1\n        ],\n        \"semantic_type\": \"\",\n        \"description\": \"\"\n      }\n    },\n    {\n      \"column\": \"hierarchical_cluster\",\n      \"properties\": {\n        \"dtype\": \"number\",\n        \"std\": 0,\n        \"min\": 0,\n        \"max\": 2,\n        \"num_unique_values\": 3,\n        \"samples\": [\n          0,\n          1,\n          2\n        ],\n        \"semantic_type\": \"\",\n        \"description\": \"\"\n      }\n    }\n  ]\n}"
            }
          },
          "metadata": {},
          "execution_count": 128
        }
      ]
    },
    {
      "cell_type": "code",
      "source": [
        "x_test = pd.DataFrame(x_test).reset_index(drop=True)\n",
        "\n",
        "y_test = pd.DataFrame(y_test).reset_index(drop=True)\n",
        "\n",
        "kmn_col = pd.DataFrame(kmn_pred.astype(int), columns=[\"kmn_prediction\"])\n",
        "hrc_col = pd.DataFrame(hrc_pred.astype(int), columns=[\"hrc_prediction\"])\n",
        "\n",
        "combined_data = pd.concat([x_test, y_test, kmn_col, hrc_col], axis=1)"
      ],
      "metadata": {
        "id": "oaLupW-yNxV2"
      },
      "execution_count": 129,
      "outputs": []
    },
    {
      "cell_type": "code",
      "source": [
        "combined_data.sample(10)"
      ],
      "metadata": {
        "id": "Rz7P_HByA5fh",
        "colab": {
          "base_uri": "https://localhost:8080/",
          "height": 363
        },
        "outputId": "5e1ad9ab-57c0-4e74-a2be-0f61973a5d8c"
      },
      "execution_count": 130,
      "outputs": [
        {
          "output_type": "execute_result",
          "data": {
            "text/plain": [
              "      Age  Years of Experience   Salary  JobCategory  kmn_prediction  \\\n",
              "1    39.0                 10.0  65000.0            5               0   \n",
              "76   37.0                 10.0  95000.0            1               0   \n",
              "9    37.0                  9.0  95000.0            5               0   \n",
              "63   32.0                  5.0  75000.0            5               1   \n",
              "107  35.0                  8.0  85000.0            5               0   \n",
              "66   31.0                  3.0  50000.0            5               1   \n",
              "38   26.0                  2.0  35000.0            5               1   \n",
              "90   34.0                  5.0  70000.0            5               1   \n",
              "39   31.0                  4.0  50000.0            5               1   \n",
              "44   28.0                  2.0  40000.0            4               1   \n",
              "\n",
              "     hrc_prediction  \n",
              "1                 1  \n",
              "76                1  \n",
              "9                 1  \n",
              "63                1  \n",
              "107               1  \n",
              "66                2  \n",
              "38                2  \n",
              "90                1  \n",
              "39                2  \n",
              "44                2  "
            ],
            "text/html": [
              "\n",
              "  <div id=\"df-eef52ccf-9dae-44b9-8f41-afe1d6e459d9\" class=\"colab-df-container\">\n",
              "    <div>\n",
              "<style scoped>\n",
              "    .dataframe tbody tr th:only-of-type {\n",
              "        vertical-align: middle;\n",
              "    }\n",
              "\n",
              "    .dataframe tbody tr th {\n",
              "        vertical-align: top;\n",
              "    }\n",
              "\n",
              "    .dataframe thead th {\n",
              "        text-align: right;\n",
              "    }\n",
              "</style>\n",
              "<table border=\"1\" class=\"dataframe\">\n",
              "  <thead>\n",
              "    <tr style=\"text-align: right;\">\n",
              "      <th></th>\n",
              "      <th>Age</th>\n",
              "      <th>Years of Experience</th>\n",
              "      <th>Salary</th>\n",
              "      <th>JobCategory</th>\n",
              "      <th>kmn_prediction</th>\n",
              "      <th>hrc_prediction</th>\n",
              "    </tr>\n",
              "  </thead>\n",
              "  <tbody>\n",
              "    <tr>\n",
              "      <th>1</th>\n",
              "      <td>39.0</td>\n",
              "      <td>10.0</td>\n",
              "      <td>65000.0</td>\n",
              "      <td>5</td>\n",
              "      <td>0</td>\n",
              "      <td>1</td>\n",
              "    </tr>\n",
              "    <tr>\n",
              "      <th>76</th>\n",
              "      <td>37.0</td>\n",
              "      <td>10.0</td>\n",
              "      <td>95000.0</td>\n",
              "      <td>1</td>\n",
              "      <td>0</td>\n",
              "      <td>1</td>\n",
              "    </tr>\n",
              "    <tr>\n",
              "      <th>9</th>\n",
              "      <td>37.0</td>\n",
              "      <td>9.0</td>\n",
              "      <td>95000.0</td>\n",
              "      <td>5</td>\n",
              "      <td>0</td>\n",
              "      <td>1</td>\n",
              "    </tr>\n",
              "    <tr>\n",
              "      <th>63</th>\n",
              "      <td>32.0</td>\n",
              "      <td>5.0</td>\n",
              "      <td>75000.0</td>\n",
              "      <td>5</td>\n",
              "      <td>1</td>\n",
              "      <td>1</td>\n",
              "    </tr>\n",
              "    <tr>\n",
              "      <th>107</th>\n",
              "      <td>35.0</td>\n",
              "      <td>8.0</td>\n",
              "      <td>85000.0</td>\n",
              "      <td>5</td>\n",
              "      <td>0</td>\n",
              "      <td>1</td>\n",
              "    </tr>\n",
              "    <tr>\n",
              "      <th>66</th>\n",
              "      <td>31.0</td>\n",
              "      <td>3.0</td>\n",
              "      <td>50000.0</td>\n",
              "      <td>5</td>\n",
              "      <td>1</td>\n",
              "      <td>2</td>\n",
              "    </tr>\n",
              "    <tr>\n",
              "      <th>38</th>\n",
              "      <td>26.0</td>\n",
              "      <td>2.0</td>\n",
              "      <td>35000.0</td>\n",
              "      <td>5</td>\n",
              "      <td>1</td>\n",
              "      <td>2</td>\n",
              "    </tr>\n",
              "    <tr>\n",
              "      <th>90</th>\n",
              "      <td>34.0</td>\n",
              "      <td>5.0</td>\n",
              "      <td>70000.0</td>\n",
              "      <td>5</td>\n",
              "      <td>1</td>\n",
              "      <td>1</td>\n",
              "    </tr>\n",
              "    <tr>\n",
              "      <th>39</th>\n",
              "      <td>31.0</td>\n",
              "      <td>4.0</td>\n",
              "      <td>50000.0</td>\n",
              "      <td>5</td>\n",
              "      <td>1</td>\n",
              "      <td>2</td>\n",
              "    </tr>\n",
              "    <tr>\n",
              "      <th>44</th>\n",
              "      <td>28.0</td>\n",
              "      <td>2.0</td>\n",
              "      <td>40000.0</td>\n",
              "      <td>4</td>\n",
              "      <td>1</td>\n",
              "      <td>2</td>\n",
              "    </tr>\n",
              "  </tbody>\n",
              "</table>\n",
              "</div>\n",
              "    <div class=\"colab-df-buttons\">\n",
              "\n",
              "  <div class=\"colab-df-container\">\n",
              "    <button class=\"colab-df-convert\" onclick=\"convertToInteractive('df-eef52ccf-9dae-44b9-8f41-afe1d6e459d9')\"\n",
              "            title=\"Convert this dataframe to an interactive table.\"\n",
              "            style=\"display:none;\">\n",
              "\n",
              "  <svg xmlns=\"http://www.w3.org/2000/svg\" height=\"24px\" viewBox=\"0 -960 960 960\">\n",
              "    <path d=\"M120-120v-720h720v720H120Zm60-500h600v-160H180v160Zm220 220h160v-160H400v160Zm0 220h160v-160H400v160ZM180-400h160v-160H180v160Zm440 0h160v-160H620v160ZM180-180h160v-160H180v160Zm440 0h160v-160H620v160Z\"/>\n",
              "  </svg>\n",
              "    </button>\n",
              "\n",
              "  <style>\n",
              "    .colab-df-container {\n",
              "      display:flex;\n",
              "      gap: 12px;\n",
              "    }\n",
              "\n",
              "    .colab-df-convert {\n",
              "      background-color: #E8F0FE;\n",
              "      border: none;\n",
              "      border-radius: 50%;\n",
              "      cursor: pointer;\n",
              "      display: none;\n",
              "      fill: #1967D2;\n",
              "      height: 32px;\n",
              "      padding: 0 0 0 0;\n",
              "      width: 32px;\n",
              "    }\n",
              "\n",
              "    .colab-df-convert:hover {\n",
              "      background-color: #E2EBFA;\n",
              "      box-shadow: 0px 1px 2px rgba(60, 64, 67, 0.3), 0px 1px 3px 1px rgba(60, 64, 67, 0.15);\n",
              "      fill: #174EA6;\n",
              "    }\n",
              "\n",
              "    .colab-df-buttons div {\n",
              "      margin-bottom: 4px;\n",
              "    }\n",
              "\n",
              "    [theme=dark] .colab-df-convert {\n",
              "      background-color: #3B4455;\n",
              "      fill: #D2E3FC;\n",
              "    }\n",
              "\n",
              "    [theme=dark] .colab-df-convert:hover {\n",
              "      background-color: #434B5C;\n",
              "      box-shadow: 0px 1px 3px 1px rgba(0, 0, 0, 0.15);\n",
              "      filter: drop-shadow(0px 1px 2px rgba(0, 0, 0, 0.3));\n",
              "      fill: #FFFFFF;\n",
              "    }\n",
              "  </style>\n",
              "\n",
              "    <script>\n",
              "      const buttonEl =\n",
              "        document.querySelector('#df-eef52ccf-9dae-44b9-8f41-afe1d6e459d9 button.colab-df-convert');\n",
              "      buttonEl.style.display =\n",
              "        google.colab.kernel.accessAllowed ? 'block' : 'none';\n",
              "\n",
              "      async function convertToInteractive(key) {\n",
              "        const element = document.querySelector('#df-eef52ccf-9dae-44b9-8f41-afe1d6e459d9');\n",
              "        const dataTable =\n",
              "          await google.colab.kernel.invokeFunction('convertToInteractive',\n",
              "                                                    [key], {});\n",
              "        if (!dataTable) return;\n",
              "\n",
              "        const docLinkHtml = 'Like what you see? Visit the ' +\n",
              "          '<a target=\"_blank\" href=https://colab.research.google.com/notebooks/data_table.ipynb>data table notebook</a>'\n",
              "          + ' to learn more about interactive tables.';\n",
              "        element.innerHTML = '';\n",
              "        dataTable['output_type'] = 'display_data';\n",
              "        await google.colab.output.renderOutput(dataTable, element);\n",
              "        const docLink = document.createElement('div');\n",
              "        docLink.innerHTML = docLinkHtml;\n",
              "        element.appendChild(docLink);\n",
              "      }\n",
              "    </script>\n",
              "  </div>\n",
              "\n",
              "\n",
              "<div id=\"df-5b617283-b9a6-4b7e-bff3-8111e910ade5\">\n",
              "  <button class=\"colab-df-quickchart\" onclick=\"quickchart('df-5b617283-b9a6-4b7e-bff3-8111e910ade5')\"\n",
              "            title=\"Suggest charts\"\n",
              "            style=\"display:none;\">\n",
              "\n",
              "<svg xmlns=\"http://www.w3.org/2000/svg\" height=\"24px\"viewBox=\"0 0 24 24\"\n",
              "     width=\"24px\">\n",
              "    <g>\n",
              "        <path d=\"M19 3H5c-1.1 0-2 .9-2 2v14c0 1.1.9 2 2 2h14c1.1 0 2-.9 2-2V5c0-1.1-.9-2-2-2zM9 17H7v-7h2v7zm4 0h-2V7h2v10zm4 0h-2v-4h2v4z\"/>\n",
              "    </g>\n",
              "</svg>\n",
              "  </button>\n",
              "\n",
              "<style>\n",
              "  .colab-df-quickchart {\n",
              "      --bg-color: #E8F0FE;\n",
              "      --fill-color: #1967D2;\n",
              "      --hover-bg-color: #E2EBFA;\n",
              "      --hover-fill-color: #174EA6;\n",
              "      --disabled-fill-color: #AAA;\n",
              "      --disabled-bg-color: #DDD;\n",
              "  }\n",
              "\n",
              "  [theme=dark] .colab-df-quickchart {\n",
              "      --bg-color: #3B4455;\n",
              "      --fill-color: #D2E3FC;\n",
              "      --hover-bg-color: #434B5C;\n",
              "      --hover-fill-color: #FFFFFF;\n",
              "      --disabled-bg-color: #3B4455;\n",
              "      --disabled-fill-color: #666;\n",
              "  }\n",
              "\n",
              "  .colab-df-quickchart {\n",
              "    background-color: var(--bg-color);\n",
              "    border: none;\n",
              "    border-radius: 50%;\n",
              "    cursor: pointer;\n",
              "    display: none;\n",
              "    fill: var(--fill-color);\n",
              "    height: 32px;\n",
              "    padding: 0;\n",
              "    width: 32px;\n",
              "  }\n",
              "\n",
              "  .colab-df-quickchart:hover {\n",
              "    background-color: var(--hover-bg-color);\n",
              "    box-shadow: 0 1px 2px rgba(60, 64, 67, 0.3), 0 1px 3px 1px rgba(60, 64, 67, 0.15);\n",
              "    fill: var(--button-hover-fill-color);\n",
              "  }\n",
              "\n",
              "  .colab-df-quickchart-complete:disabled,\n",
              "  .colab-df-quickchart-complete:disabled:hover {\n",
              "    background-color: var(--disabled-bg-color);\n",
              "    fill: var(--disabled-fill-color);\n",
              "    box-shadow: none;\n",
              "  }\n",
              "\n",
              "  .colab-df-spinner {\n",
              "    border: 2px solid var(--fill-color);\n",
              "    border-color: transparent;\n",
              "    border-bottom-color: var(--fill-color);\n",
              "    animation:\n",
              "      spin 1s steps(1) infinite;\n",
              "  }\n",
              "\n",
              "  @keyframes spin {\n",
              "    0% {\n",
              "      border-color: transparent;\n",
              "      border-bottom-color: var(--fill-color);\n",
              "      border-left-color: var(--fill-color);\n",
              "    }\n",
              "    20% {\n",
              "      border-color: transparent;\n",
              "      border-left-color: var(--fill-color);\n",
              "      border-top-color: var(--fill-color);\n",
              "    }\n",
              "    30% {\n",
              "      border-color: transparent;\n",
              "      border-left-color: var(--fill-color);\n",
              "      border-top-color: var(--fill-color);\n",
              "      border-right-color: var(--fill-color);\n",
              "    }\n",
              "    40% {\n",
              "      border-color: transparent;\n",
              "      border-right-color: var(--fill-color);\n",
              "      border-top-color: var(--fill-color);\n",
              "    }\n",
              "    60% {\n",
              "      border-color: transparent;\n",
              "      border-right-color: var(--fill-color);\n",
              "    }\n",
              "    80% {\n",
              "      border-color: transparent;\n",
              "      border-right-color: var(--fill-color);\n",
              "      border-bottom-color: var(--fill-color);\n",
              "    }\n",
              "    90% {\n",
              "      border-color: transparent;\n",
              "      border-bottom-color: var(--fill-color);\n",
              "    }\n",
              "  }\n",
              "</style>\n",
              "\n",
              "  <script>\n",
              "    async function quickchart(key) {\n",
              "      const quickchartButtonEl =\n",
              "        document.querySelector('#' + key + ' button');\n",
              "      quickchartButtonEl.disabled = true;  // To prevent multiple clicks.\n",
              "      quickchartButtonEl.classList.add('colab-df-spinner');\n",
              "      try {\n",
              "        const charts = await google.colab.kernel.invokeFunction(\n",
              "            'suggestCharts', [key], {});\n",
              "      } catch (error) {\n",
              "        console.error('Error during call to suggestCharts:', error);\n",
              "      }\n",
              "      quickchartButtonEl.classList.remove('colab-df-spinner');\n",
              "      quickchartButtonEl.classList.add('colab-df-quickchart-complete');\n",
              "    }\n",
              "    (() => {\n",
              "      let quickchartButtonEl =\n",
              "        document.querySelector('#df-5b617283-b9a6-4b7e-bff3-8111e910ade5 button');\n",
              "      quickchartButtonEl.style.display =\n",
              "        google.colab.kernel.accessAllowed ? 'block' : 'none';\n",
              "    })();\n",
              "  </script>\n",
              "</div>\n",
              "    </div>\n",
              "  </div>\n"
            ],
            "application/vnd.google.colaboratory.intrinsic+json": {
              "type": "dataframe",
              "summary": "{\n  \"name\": \"combined_data\",\n  \"rows\": 10,\n  \"fields\": [\n    {\n      \"column\": \"Age\",\n      \"properties\": {\n        \"dtype\": \"number\",\n        \"std\": 4.163331998932265,\n        \"min\": 26.0,\n        \"max\": 39.0,\n        \"num_unique_values\": 8,\n        \"samples\": [\n          37.0,\n          26.0,\n          39.0\n        ],\n        \"semantic_type\": \"\",\n        \"description\": \"\"\n      }\n    },\n    {\n      \"column\": \"Years of Experience\",\n      \"properties\": {\n        \"dtype\": \"number\",\n        \"std\": 3.190262963734773,\n        \"min\": 2.0,\n        \"max\": 10.0,\n        \"num_unique_values\": 7,\n        \"samples\": [\n          10.0,\n          9.0,\n          2.0\n        ],\n        \"semantic_type\": \"\",\n        \"description\": \"\"\n      }\n    },\n    {\n      \"column\": \"Salary\",\n      \"properties\": {\n        \"dtype\": \"number\",\n        \"std\": 21832.69719175042,\n        \"min\": 35000.0,\n        \"max\": 95000.0,\n        \"num_unique_values\": 8,\n        \"samples\": [\n          95000.0,\n          35000.0,\n          65000.0\n        ],\n        \"semantic_type\": \"\",\n        \"description\": \"\"\n      }\n    },\n    {\n      \"column\": \"JobCategory\",\n      \"properties\": {\n        \"dtype\": \"number\",\n        \"std\": 1,\n        \"min\": 1,\n        \"max\": 5,\n        \"num_unique_values\": 3,\n        \"samples\": [\n          5,\n          1,\n          4\n        ],\n        \"semantic_type\": \"\",\n        \"description\": \"\"\n      }\n    },\n    {\n      \"column\": \"kmn_prediction\",\n      \"properties\": {\n        \"dtype\": \"number\",\n        \"std\": 0,\n        \"min\": 0,\n        \"max\": 1,\n        \"num_unique_values\": 2,\n        \"samples\": [\n          1,\n          0\n        ],\n        \"semantic_type\": \"\",\n        \"description\": \"\"\n      }\n    },\n    {\n      \"column\": \"hrc_prediction\",\n      \"properties\": {\n        \"dtype\": \"number\",\n        \"std\": 0,\n        \"min\": 1,\n        \"max\": 2,\n        \"num_unique_values\": 2,\n        \"samples\": [\n          2,\n          1\n        ],\n        \"semantic_type\": \"\",\n        \"description\": \"\"\n      }\n    }\n  ]\n}"
            }
          },
          "metadata": {},
          "execution_count": 130
        }
      ]
    },
    {
      "cell_type": "markdown",
      "source": [
        "Dalam langkah tersebut, pertama-tama, kita mempersiapkan dataframe **x_test** yang berisi data uji dengan atribut **'Age', 'Years of Experience', dan 'Salary'**. Kemudian, kita menggunakan model K-Means dan Hierarchical Clustering yang telah dilatih sebelumnya untuk melakukan prediksi terhadap cluster dari data uji. Hasil prediksi dari model K-Means disimpan dalam kolom **'kmeans_cluster'**, sedangkan hasil prediksi dari model Hierarchical Clustering disimpan dalam kolom **'hierarchical_cluster'**. Setelah itu, kita menggabungkan hasil prediksi tersebut dengan dataframe x_test untuk membentuk dataframe combined_data, yang berisi informasi tentang data uji beserta prediksi cluster yang dihasilkan oleh kedua model clustering. Dengan demikian, kita dapat melihat hasil prediksi cluster dari kedua model clustering untuk setiap sampel data uji."
      ],
      "metadata": {
        "id": "1kf3h-WpmpK3"
      }
    },
    {
      "cell_type": "markdown",
      "source": [
        "##**Modelling Associate**"
      ],
      "metadata": {
        "id": "eaIN4ruMnkd0"
      }
    },
    {
      "cell_type": "markdown",
      "source": [
        "###**Pre-Processing**"
      ],
      "metadata": {
        "id": "0AXYLJlLnp5g"
      }
    },
    {
      "cell_type": "markdown",
      "source": [
        "#####**Adjusment**"
      ],
      "metadata": {
        "id": "gLjlDulknsMk"
      }
    },
    {
      "cell_type": "code",
      "source": [
        "x_final = df2.drop(\"JobCategory\", axis=1)"
      ],
      "metadata": {
        "id": "vxxHdDXdn1iI"
      },
      "execution_count": 131,
      "outputs": []
    },
    {
      "cell_type": "markdown",
      "source": [
        "Dalam langkah ini, kita menghapus kolom 'Salary' dari dataframe df2 dan menyimpan hasilnya ke dalam dataframe x_final. Hal ini dilakukan karena kolom 'Salary' merupakan target atau label yang akan diprediksi, sehingga perlu dihapus dari atribut-atribut yang akan digunakan dalam proses pemodelan."
      ],
      "metadata": {
        "id": "jU3AmFl1zPvA"
      }
    },
    {
      "cell_type": "markdown",
      "source": [
        "#####**Normalisasi Data**"
      ],
      "metadata": {
        "id": "nR67uu2en6O4"
      }
    },
    {
      "cell_type": "code",
      "source": [
        "numeric_columns = x_final.select_dtypes(include=['int', 'float']).columns\n",
        "\n",
        "scaler = MinMaxScaler()\n",
        "x_final_norm = scaler.fit_transform(x_final[numeric_columns])"
      ],
      "metadata": {
        "id": "mjzkMaPNn78I"
      },
      "execution_count": 132,
      "outputs": []
    },
    {
      "cell_type": "markdown",
      "source": [
        "Pada langkah ini, kita membagi dataset menjadi dua bagian: data latih (training data) dan data uji (testing data). Data latih digunakan untuk melatih model, sedangkan data uji digunakan untuk menguji performa model yang telah dilatih. Tujuan dari pembagian ini adalah untuk memastikan bahwa model dapat menggeneralisasi dengan baik pada data yang belum pernah dilihat sebelumnya, sehingga dapat diharapkan dapat melakukan prediksi yang baik pada data baru. Proses ini penting untuk menghindari overfitting, di mana model terlalu menyesuaikan diri dengan data latih dan tidak dapat melakukan prediksi yang baik pada data baru."
      ],
      "metadata": {
        "id": "Wg8SHwAGjbeQ"
      }
    },
    {
      "cell_type": "markdown",
      "source": [
        "#####**Validasi Silang**"
      ],
      "metadata": {
        "id": "WL0ox2Vrqdov"
      }
    },
    {
      "cell_type": "code",
      "source": [
        "k_range = range(2, 10)\n",
        "\n",
        "kf = KFold(n_splits=5, shuffle=True, random_state=42)\n",
        "\n",
        "mse_values = []\n",
        "\n",
        "for k in k_range:\n",
        "    fold_mse = []\n",
        "\n",
        "    for train_index, test_index in kf.split(x_final_norm):\n",
        "        X_train, X_test = x_final_norm[train_index], x_final_norm[test_index]\n",
        "\n",
        "        kmeans = KMeans(n_clusters=k, random_state=42)\n",
        "        kmeans.fit(X_train)\n",
        "\n",
        "        mse = np.mean((np.linalg.norm(X_test - kmeans.cluster_centers_[kmeans.predict(X_test)], axis=1)) ** 2)\n",
        "        fold_mse.append(mse)\n",
        "\n",
        "    mean_mse = np.mean(fold_mse)\n",
        "    mse_values.append(mean_mse)\n",
        "\n",
        "plt.plot(k_range, mse_values, marker='o')\n",
        "plt.xlabel('Number of clusters (K)')\n",
        "plt.ylabel('Mean Squared Error (MSE)')\n",
        "plt.title('Cross-Validation for Optimal K')\n",
        "plt.xticks(k_range)\n",
        "plt.show()"
      ],
      "metadata": {
        "id": "4KesrbjqqfKn",
        "colab": {
          "base_uri": "https://localhost:8080/",
          "height": 1000
        },
        "outputId": "99f181c4-81ff-4f48-e19a-d74a5dab0fa3"
      },
      "execution_count": 133,
      "outputs": [
        {
          "output_type": "stream",
          "name": "stderr",
          "text": [
            "/usr/local/lib/python3.10/dist-packages/sklearn/cluster/_kmeans.py:870: FutureWarning:\n",
            "\n",
            "The default value of `n_init` will change from 10 to 'auto' in 1.4. Set the value of `n_init` explicitly to suppress the warning\n",
            "\n",
            "/usr/local/lib/python3.10/dist-packages/sklearn/cluster/_kmeans.py:870: FutureWarning:\n",
            "\n",
            "The default value of `n_init` will change from 10 to 'auto' in 1.4. Set the value of `n_init` explicitly to suppress the warning\n",
            "\n",
            "/usr/local/lib/python3.10/dist-packages/sklearn/cluster/_kmeans.py:870: FutureWarning:\n",
            "\n",
            "The default value of `n_init` will change from 10 to 'auto' in 1.4. Set the value of `n_init` explicitly to suppress the warning\n",
            "\n",
            "/usr/local/lib/python3.10/dist-packages/sklearn/cluster/_kmeans.py:870: FutureWarning:\n",
            "\n",
            "The default value of `n_init` will change from 10 to 'auto' in 1.4. Set the value of `n_init` explicitly to suppress the warning\n",
            "\n",
            "/usr/local/lib/python3.10/dist-packages/sklearn/cluster/_kmeans.py:870: FutureWarning:\n",
            "\n",
            "The default value of `n_init` will change from 10 to 'auto' in 1.4. Set the value of `n_init` explicitly to suppress the warning\n",
            "\n",
            "/usr/local/lib/python3.10/dist-packages/sklearn/cluster/_kmeans.py:870: FutureWarning:\n",
            "\n",
            "The default value of `n_init` will change from 10 to 'auto' in 1.4. Set the value of `n_init` explicitly to suppress the warning\n",
            "\n",
            "/usr/local/lib/python3.10/dist-packages/sklearn/cluster/_kmeans.py:870: FutureWarning:\n",
            "\n",
            "The default value of `n_init` will change from 10 to 'auto' in 1.4. Set the value of `n_init` explicitly to suppress the warning\n",
            "\n",
            "/usr/local/lib/python3.10/dist-packages/sklearn/cluster/_kmeans.py:870: FutureWarning:\n",
            "\n",
            "The default value of `n_init` will change from 10 to 'auto' in 1.4. Set the value of `n_init` explicitly to suppress the warning\n",
            "\n",
            "/usr/local/lib/python3.10/dist-packages/sklearn/cluster/_kmeans.py:870: FutureWarning:\n",
            "\n",
            "The default value of `n_init` will change from 10 to 'auto' in 1.4. Set the value of `n_init` explicitly to suppress the warning\n",
            "\n",
            "/usr/local/lib/python3.10/dist-packages/sklearn/cluster/_kmeans.py:870: FutureWarning:\n",
            "\n",
            "The default value of `n_init` will change from 10 to 'auto' in 1.4. Set the value of `n_init` explicitly to suppress the warning\n",
            "\n",
            "/usr/local/lib/python3.10/dist-packages/sklearn/cluster/_kmeans.py:870: FutureWarning:\n",
            "\n",
            "The default value of `n_init` will change from 10 to 'auto' in 1.4. Set the value of `n_init` explicitly to suppress the warning\n",
            "\n",
            "/usr/local/lib/python3.10/dist-packages/sklearn/cluster/_kmeans.py:870: FutureWarning:\n",
            "\n",
            "The default value of `n_init` will change from 10 to 'auto' in 1.4. Set the value of `n_init` explicitly to suppress the warning\n",
            "\n",
            "/usr/local/lib/python3.10/dist-packages/sklearn/cluster/_kmeans.py:870: FutureWarning:\n",
            "\n",
            "The default value of `n_init` will change from 10 to 'auto' in 1.4. Set the value of `n_init` explicitly to suppress the warning\n",
            "\n",
            "/usr/local/lib/python3.10/dist-packages/sklearn/cluster/_kmeans.py:870: FutureWarning:\n",
            "\n",
            "The default value of `n_init` will change from 10 to 'auto' in 1.4. Set the value of `n_init` explicitly to suppress the warning\n",
            "\n",
            "/usr/local/lib/python3.10/dist-packages/sklearn/cluster/_kmeans.py:870: FutureWarning:\n",
            "\n",
            "The default value of `n_init` will change from 10 to 'auto' in 1.4. Set the value of `n_init` explicitly to suppress the warning\n",
            "\n",
            "/usr/local/lib/python3.10/dist-packages/sklearn/cluster/_kmeans.py:870: FutureWarning:\n",
            "\n",
            "The default value of `n_init` will change from 10 to 'auto' in 1.4. Set the value of `n_init` explicitly to suppress the warning\n",
            "\n",
            "/usr/local/lib/python3.10/dist-packages/sklearn/cluster/_kmeans.py:870: FutureWarning:\n",
            "\n",
            "The default value of `n_init` will change from 10 to 'auto' in 1.4. Set the value of `n_init` explicitly to suppress the warning\n",
            "\n",
            "/usr/local/lib/python3.10/dist-packages/sklearn/cluster/_kmeans.py:870: FutureWarning:\n",
            "\n",
            "The default value of `n_init` will change from 10 to 'auto' in 1.4. Set the value of `n_init` explicitly to suppress the warning\n",
            "\n",
            "/usr/local/lib/python3.10/dist-packages/sklearn/cluster/_kmeans.py:870: FutureWarning:\n",
            "\n",
            "The default value of `n_init` will change from 10 to 'auto' in 1.4. Set the value of `n_init` explicitly to suppress the warning\n",
            "\n",
            "/usr/local/lib/python3.10/dist-packages/sklearn/cluster/_kmeans.py:870: FutureWarning:\n",
            "\n",
            "The default value of `n_init` will change from 10 to 'auto' in 1.4. Set the value of `n_init` explicitly to suppress the warning\n",
            "\n",
            "/usr/local/lib/python3.10/dist-packages/sklearn/cluster/_kmeans.py:870: FutureWarning:\n",
            "\n",
            "The default value of `n_init` will change from 10 to 'auto' in 1.4. Set the value of `n_init` explicitly to suppress the warning\n",
            "\n",
            "/usr/local/lib/python3.10/dist-packages/sklearn/cluster/_kmeans.py:870: FutureWarning:\n",
            "\n",
            "The default value of `n_init` will change from 10 to 'auto' in 1.4. Set the value of `n_init` explicitly to suppress the warning\n",
            "\n",
            "/usr/local/lib/python3.10/dist-packages/sklearn/cluster/_kmeans.py:870: FutureWarning:\n",
            "\n",
            "The default value of `n_init` will change from 10 to 'auto' in 1.4. Set the value of `n_init` explicitly to suppress the warning\n",
            "\n",
            "/usr/local/lib/python3.10/dist-packages/sklearn/cluster/_kmeans.py:870: FutureWarning:\n",
            "\n",
            "The default value of `n_init` will change from 10 to 'auto' in 1.4. Set the value of `n_init` explicitly to suppress the warning\n",
            "\n",
            "/usr/local/lib/python3.10/dist-packages/sklearn/cluster/_kmeans.py:870: FutureWarning:\n",
            "\n",
            "The default value of `n_init` will change from 10 to 'auto' in 1.4. Set the value of `n_init` explicitly to suppress the warning\n",
            "\n",
            "/usr/local/lib/python3.10/dist-packages/sklearn/cluster/_kmeans.py:870: FutureWarning:\n",
            "\n",
            "The default value of `n_init` will change from 10 to 'auto' in 1.4. Set the value of `n_init` explicitly to suppress the warning\n",
            "\n",
            "/usr/local/lib/python3.10/dist-packages/sklearn/cluster/_kmeans.py:870: FutureWarning:\n",
            "\n",
            "The default value of `n_init` will change from 10 to 'auto' in 1.4. Set the value of `n_init` explicitly to suppress the warning\n",
            "\n",
            "/usr/local/lib/python3.10/dist-packages/sklearn/cluster/_kmeans.py:870: FutureWarning:\n",
            "\n",
            "The default value of `n_init` will change from 10 to 'auto' in 1.4. Set the value of `n_init` explicitly to suppress the warning\n",
            "\n",
            "/usr/local/lib/python3.10/dist-packages/sklearn/cluster/_kmeans.py:870: FutureWarning:\n",
            "\n",
            "The default value of `n_init` will change from 10 to 'auto' in 1.4. Set the value of `n_init` explicitly to suppress the warning\n",
            "\n",
            "/usr/local/lib/python3.10/dist-packages/sklearn/cluster/_kmeans.py:870: FutureWarning:\n",
            "\n",
            "The default value of `n_init` will change from 10 to 'auto' in 1.4. Set the value of `n_init` explicitly to suppress the warning\n",
            "\n",
            "/usr/local/lib/python3.10/dist-packages/sklearn/cluster/_kmeans.py:870: FutureWarning:\n",
            "\n",
            "The default value of `n_init` will change from 10 to 'auto' in 1.4. Set the value of `n_init` explicitly to suppress the warning\n",
            "\n",
            "/usr/local/lib/python3.10/dist-packages/sklearn/cluster/_kmeans.py:870: FutureWarning:\n",
            "\n",
            "The default value of `n_init` will change from 10 to 'auto' in 1.4. Set the value of `n_init` explicitly to suppress the warning\n",
            "\n",
            "/usr/local/lib/python3.10/dist-packages/sklearn/cluster/_kmeans.py:870: FutureWarning:\n",
            "\n",
            "The default value of `n_init` will change from 10 to 'auto' in 1.4. Set the value of `n_init` explicitly to suppress the warning\n",
            "\n",
            "/usr/local/lib/python3.10/dist-packages/sklearn/cluster/_kmeans.py:870: FutureWarning:\n",
            "\n",
            "The default value of `n_init` will change from 10 to 'auto' in 1.4. Set the value of `n_init` explicitly to suppress the warning\n",
            "\n",
            "/usr/local/lib/python3.10/dist-packages/sklearn/cluster/_kmeans.py:870: FutureWarning:\n",
            "\n",
            "The default value of `n_init` will change from 10 to 'auto' in 1.4. Set the value of `n_init` explicitly to suppress the warning\n",
            "\n",
            "/usr/local/lib/python3.10/dist-packages/sklearn/cluster/_kmeans.py:870: FutureWarning:\n",
            "\n",
            "The default value of `n_init` will change from 10 to 'auto' in 1.4. Set the value of `n_init` explicitly to suppress the warning\n",
            "\n",
            "/usr/local/lib/python3.10/dist-packages/sklearn/cluster/_kmeans.py:870: FutureWarning:\n",
            "\n",
            "The default value of `n_init` will change from 10 to 'auto' in 1.4. Set the value of `n_init` explicitly to suppress the warning\n",
            "\n",
            "/usr/local/lib/python3.10/dist-packages/sklearn/cluster/_kmeans.py:870: FutureWarning:\n",
            "\n",
            "The default value of `n_init` will change from 10 to 'auto' in 1.4. Set the value of `n_init` explicitly to suppress the warning\n",
            "\n",
            "/usr/local/lib/python3.10/dist-packages/sklearn/cluster/_kmeans.py:870: FutureWarning:\n",
            "\n",
            "The default value of `n_init` will change from 10 to 'auto' in 1.4. Set the value of `n_init` explicitly to suppress the warning\n",
            "\n",
            "/usr/local/lib/python3.10/dist-packages/sklearn/cluster/_kmeans.py:870: FutureWarning:\n",
            "\n",
            "The default value of `n_init` will change from 10 to 'auto' in 1.4. Set the value of `n_init` explicitly to suppress the warning\n",
            "\n"
          ]
        },
        {
          "output_type": "display_data",
          "data": {
            "text/plain": [
              "<Figure size 640x480 with 1 Axes>"
            ],
            "image/png": "[encoded data removed]"
          },
          "metadata": {}
        }
      ]
    },
    {
      "cell_type": "markdown",
      "source": [
        "Pada grafik di atas, hasil dari kurva elbow menunjukkan titik di mana penurunan mean squared error (MSE) berkurang secara signifikan, yang menciptakan bentuk mirip dengan siku-siku. Titik ini menunjukkan jumlah klaster yang optimal. Pada grafik tersebut, klaster 4 menunjukkan indikasi yang paling dekat dengan siku-siku, yang menandakan bahwa jumlah klaster optimal untuk dataset ini adalah 4. Semakin dekat nilai MSE ke nol, semakin baik model dalam melakukan klasterisasi data."
      ],
      "metadata": {
        "id": "14JNWlnvj4U0"
      }
    },
    {
      "cell_type": "markdown",
      "source": [
        "###**Build Model**"
      ],
      "metadata": {
        "id": "bea0xidcvhkM"
      }
    },
    {
      "cell_type": "markdown",
      "source": [
        "#### **K-Means**"
      ],
      "metadata": {
        "id": "sz-y2l4ywSN6"
      }
    },
    {
      "cell_type": "code",
      "source": [
        "kmeans = KMeans(n_clusters=4, random_state=42)\n",
        "kmeans.fit(x_final_norm)"
      ],
      "metadata": {
        "id": "V7yFJmmmwbXZ",
        "colab": {
          "base_uri": "https://localhost:8080/",
          "height": 144
        },
        "outputId": "b60cfa2a-6119-4562-c143-cd07d0a16697"
      },
      "execution_count": 134,
      "outputs": [
        {
          "output_type": "stream",
          "name": "stderr",
          "text": [
            "/usr/local/lib/python3.10/dist-packages/sklearn/cluster/_kmeans.py:870: FutureWarning:\n",
            "\n",
            "The default value of `n_init` will change from 10 to 'auto' in 1.4. Set the value of `n_init` explicitly to suppress the warning\n",
            "\n"
          ]
        },
        {
          "output_type": "execute_result",
          "data": {
            "text/plain": [
              "KMeans(n_clusters=4, random_state=42)"
            ],
            "text/html": [
              "<style>#sk-container-id-3 {color: black;background-color: white;}#sk-container-id-3 pre{padding: 0;}#sk-container-id-3 div.sk-toggleable {background-color: white;}#sk-container-id-3 label.sk-toggleable__label {cursor: pointer;display: block;width: 100%;margin-bottom: 0;padding: 0.3em;box-sizing: border-box;text-align: center;}#sk-container-id-3 label.sk-toggleable__label-arrow:before {content: \"▸\";float: left;margin-right: 0.25em;color: #696969;}#sk-container-id-3 label.sk-toggleable__label-arrow:hover:before {color: black;}#sk-container-id-3 div.sk-estimator:hover label.sk-toggleable__label-arrow:before {color: black;}#sk-container-id-3 div.sk-toggleable__content {max-height: 0;max-width: 0;overflow: hidden;text-align: left;background-color: #f0f8ff;}#sk-container-id-3 div.sk-toggleable__content pre {margin: 0.2em;color: black;border-radius: 0.25em;background-color: #f0f8ff;}#sk-container-id-3 input.sk-toggleable__control:checked~div.sk-toggleable__content {max-height: 200px;max-width: 100%;overflow: auto;}#sk-container-id-3 input.sk-toggleable__control:checked~label.sk-toggleable__label-arrow:before {content: \"▾\";}#sk-container-id-3 div.sk-estimator input.sk-toggleable__control:checked~label.sk-toggleable__label {background-color: #d4ebff;}#sk-container-id-3 div.sk-label input.sk-toggleable__control:checked~label.sk-toggleable__label {background-color: #d4ebff;}#sk-container-id-3 input.sk-hidden--visually {border: 0;clip: rect(1px 1px 1px 1px);clip: rect(1px, 1px, 1px, 1px);height: 1px;margin: -1px;overflow: hidden;padding: 0;position: absolute;width: 1px;}#sk-container-id-3 div.sk-estimator {font-family: monospace;background-color: #f0f8ff;border: 1px dotted black;border-radius: 0.25em;box-sizing: border-box;margin-bottom: 0.5em;}#sk-container-id-3 div.sk-estimator:hover {background-color: #d4ebff;}#sk-container-id-3 div.sk-parallel-item::after {content: \"\";width: 100%;border-bottom: 1px solid gray;flex-grow: 1;}#sk-container-id-3 div.sk-label:hover label.sk-toggleable__label {background-color: #d4ebff;}#sk-container-id-3 div.sk-serial::before {content: \"\";position: absolute;border-left: 1px solid gray;box-sizing: border-box;top: 0;bottom: 0;left: 50%;z-index: 0;}#sk-container-id-3 div.sk-serial {display: flex;flex-direction: column;align-items: center;background-color: white;padding-right: 0.2em;padding-left: 0.2em;position: relative;}#sk-container-id-3 div.sk-item {position: relative;z-index: 1;}#sk-container-id-3 div.sk-parallel {display: flex;align-items: stretch;justify-content: center;background-color: white;position: relative;}#sk-container-id-3 div.sk-item::before, #sk-container-id-3 div.sk-parallel-item::before {content: \"\";position: absolute;border-left: 1px solid gray;box-sizing: border-box;top: 0;bottom: 0;left: 50%;z-index: -1;}#sk-container-id-3 div.sk-parallel-item {display: flex;flex-direction: column;z-index: 1;position: relative;background-color: white;}#sk-container-id-3 div.sk-parallel-item:first-child::after {align-self: flex-end;width: 50%;}#sk-container-id-3 div.sk-parallel-item:last-child::after {align-self: flex-start;width: 50%;}#sk-container-id-3 div.sk-parallel-item:only-child::after {width: 0;}#sk-container-id-3 div.sk-dashed-wrapped {border: 1px dashed gray;margin: 0 0.4em 0.5em 0.4em;box-sizing: border-box;padding-bottom: 0.4em;background-color: white;}#sk-container-id-3 div.sk-label label {font-family: monospace;font-weight: bold;display: inline-block;line-height: 1.2em;}#sk-container-id-3 div.sk-label-container {text-align: center;}#sk-container-id-3 div.sk-container {/* jupyter's `normalize.less` sets `[hidden] { display: none; }` but bootstrap.min.css set `[hidden] { display: none !important; }` so we also need the `!important` here to be able to override the default hidden behavior on the sphinx rendered scikit-learn.org. See: https://github.com/scikit-learn/scikit-learn/issues/21755 */display: inline-block !important;position: relative;}#sk-container-id-3 div.sk-text-repr-fallback {display: none;}</style><div id=\"sk-container-id-3\" class=\"sk-top-container\"><div class=\"sk-text-repr-fallback\"><pre>KMeans(n_clusters=4, random_state=42)</pre><b>In a Jupyter environment, please rerun this cell to show the HTML representation or trust the notebook. <br />On GitHub, the HTML representation is unable to render, please try loading this page with nbviewer.org.</b></div><div class=\"sk-container\" hidden><div class=\"sk-item\"><div class=\"sk-estimator sk-toggleable\"><input class=\"sk-toggleable__control sk-hidden--visually\" id=\"sk-estimator-id-3\" type=\"checkbox\" checked><label for=\"sk-estimator-id-3\" class=\"sk-toggleable__label sk-toggleable__label-arrow\">KMeans</label><div class=\"sk-toggleable__content\"><pre>KMeans(n_clusters=4, random_state=42)</pre></div></div></div></div></div>"
            ]
          },
          "metadata": {},
          "execution_count": 134
        }
      ]
    },
    {
      "cell_type": "markdown",
      "source": [
        "Pada tahap ini, model K-Means dibangun dengan 4 klaster berdasarkan pada jumlah klaster optimal yang telah ditentukan sebelumnya dari hasil kurva elbow. Model tersebut kemudian dilatih menggunakan data yang telah dinormalisasi. Tujuan dari langkah ini adalah untuk mengelompokkan data ke dalam 4 klaster berdasarkan kedekatan atribut-atribut yang dimiliki oleh setiap titik data."
      ],
      "metadata": {
        "id": "8MJsTzpgkDVH"
      }
    },
    {
      "cell_type": "markdown",
      "source": [
        "#### **Hierarchical Clustering**"
      ],
      "metadata": {
        "id": "0aK5sO_YBkud"
      }
    },
    {
      "cell_type": "code",
      "source": [
        "hc = AgglomerativeClustering(n_clusters=4, affinity='euclidean', linkage='ward')\n",
        "hierarchy_clust = hc.fit_predict(x_final_norm)"
      ],
      "metadata": {
        "id": "7w-B5v_oBmC1",
        "colab": {
          "base_uri": "https://localhost:8080/"
        },
        "outputId": "f620d166-aed0-4f4d-80f5-eacb60f45f72"
      },
      "execution_count": 135,
      "outputs": [
        {
          "output_type": "stream",
          "name": "stderr",
          "text": [
            "/usr/local/lib/python3.10/dist-packages/sklearn/cluster/_agglomerative.py:983: FutureWarning:\n",
            "\n",
            "Attribute `affinity` was deprecated in version 1.2 and will be removed in 1.4. Use `metric` instead\n",
            "\n"
          ]
        }
      ]
    },
    {
      "cell_type": "markdown",
      "source": [
        "Pada tahap ini, kita menggunakan model Agglomerative Clustering untuk membuat 4 klaster, berdasarkan hasil grafik dari kurva elbow. Dengan menggunakan jumlah klaster yang optimal yang telah ditentukan sebelumnya."
      ],
      "metadata": {
        "id": "FWVwl7fMkUKl"
      }
    },
    {
      "cell_type": "markdown",
      "source": [
        "###**Begins and Compare Clusters**"
      ],
      "metadata": {
        "id": "o5uqomdvwVHM"
      }
    },
    {
      "cell_type": "code",
      "source": [
        "kmeans_clust = kmeans.predict(x_final_norm)\n",
        "hierarchy_clust = hc.fit_predict(x_final_norm)"
      ],
      "metadata": {
        "id": "G_WLjGaJzsuk",
        "colab": {
          "base_uri": "https://localhost:8080/"
        },
        "outputId": "be4954bb-d43d-4f6b-fc13-e832ed03a097"
      },
      "execution_count": 136,
      "outputs": [
        {
          "output_type": "stream",
          "name": "stderr",
          "text": [
            "/usr/local/lib/python3.10/dist-packages/sklearn/cluster/_agglomerative.py:983: FutureWarning:\n",
            "\n",
            "Attribute `affinity` was deprecated in version 1.2 and will be removed in 1.4. Use `metric` instead\n",
            "\n"
          ]
        }
      ]
    },
    {
      "cell_type": "code",
      "source": [
        "x_final = pd.DataFrame(x_final).reset_index(drop=True)\n",
        "\n",
        "kmeans_col = pd.DataFrame(kmeans_clust, columns=[\"kmeans_cluster\"])\n",
        "hierarchy_col = pd.DataFrame(hierarchy_clust, columns=[\"hierarchy_cluster\"])\n",
        "\n",
        "combined_data_assoc = pd.concat([x_final, kmeans_col, hierarchy_col], axis=1)"
      ],
      "metadata": {
        "id": "1U06faT39pzg"
      },
      "execution_count": 137,
      "outputs": []
    },
    {
      "cell_type": "code",
      "source": [
        "combined_data_assoc['kmeans_cluster'] = kmeans_clust\n",
        "\n",
        "combined_data_assoc['hierarchical_cluster'] = hierarchy_clust\n",
        "\n",
        "print(combined_data_assoc.head())"
      ],
      "metadata": {
        "id": "5ja16UUk9n1A",
        "colab": {
          "base_uri": "https://localhost:8080/"
        },
        "outputId": "6fe9ec7a-aa59-4687-b250-5fea20213262"
      },
      "execution_count": 138,
      "outputs": [
        {
          "output_type": "stream",
          "name": "stdout",
          "text": [
            "    Age  Years of Experience    Salary  AgeCategory  AgeCategory_1  \\\n",
            "0  32.0                  5.0   90000.0            1              1   \n",
            "1  28.0                  3.0   65000.0            1              1   \n",
            "2  45.0                 15.0  150000.0            1              1   \n",
            "3  36.0                  7.0   60000.0            1              1   \n",
            "4  52.0                 20.0  200000.0            1              1   \n",
            "\n",
            "   Gender_Female  Gender_Male  JobCategory_0  JobCategory_1  JobCategory_2  \\\n",
            "0              0            1              1              0              0   \n",
            "1              1            0              1              0              0   \n",
            "2              0            1              0              1              0   \n",
            "3              1            0              0              0              0   \n",
            "4              0            1              0              1              0   \n",
            "\n",
            "   ...  Job Title_Technical Writer  Job Title_Training Specialist  \\\n",
            "0  ...                           0                              0   \n",
            "1  ...                           0                              0   \n",
            "2  ...                           0                              0   \n",
            "3  ...                           0                              0   \n",
            "4  ...                           0                              0   \n",
            "\n",
            "   Job Title_UX Designer  Job Title_UX Researcher  Job Title_VP of Finance  \\\n",
            "0                      0                        0                        0   \n",
            "1                      0                        0                        0   \n",
            "2                      0                        0                        0   \n",
            "3                      0                        0                        0   \n",
            "4                      0                        0                        0   \n",
            "\n",
            "   Job Title_VP of Operations  Job Title_Web Developer  kmeans_cluster  \\\n",
            "0                           0                        0               1   \n",
            "1                           0                        0               3   \n",
            "2                           0                        0               0   \n",
            "3                           0                        0               2   \n",
            "4                           0                        0               0   \n",
            "\n",
            "   hierarchy_cluster  hierarchical_cluster  \n",
            "0                  3                     3  \n",
            "1                  0                     0  \n",
            "2                  3                     3  \n",
            "3                  2                     2  \n",
            "4                  3                     3  \n",
            "\n",
            "[5 rows x 195 columns]\n"
          ]
        }
      ]
    },
    {
      "cell_type": "markdown",
      "source": [
        "Pada langkah ini, dilakukan pembuatan DataFrame baru yang menggabungkan data asli dengan prediksi klaster yang dihasilkan oleh model K-Means dan Hierarchical Clustering. DataFrame ini akan digunakan untuk melakukan analisis lebih lanjut terhadap pola-pola yang terdapat dalam data, serta untuk mendapatkan wawasan yang lebih mendalam tentang kelompok-kelompok yang terbentuk berdasarkan atribut-atribut yang relevan."
      ],
      "metadata": {
        "id": "rJyohAQwkqi1"
      }
    },
    {
      "cell_type": "markdown",
      "source": [
        "### **Visualisasi**"
      ],
      "metadata": {
        "id": "Xg0yggoyky4x"
      }
    },
    {
      "cell_type": "markdown",
      "source": [
        "#### **Visualisasi Hierarchical Clustering**"
      ],
      "metadata": {
        "id": "kk_jpRckk0Zj"
      }
    },
    {
      "cell_type": "code",
      "source": [
        "scaler = StandardScaler()\n",
        "x_scaled = scaler.fit_transform(combined_data[['Salary', 'Years of Experience']])\n",
        "Z = hierarchy.linkage(x_scaled, method='ward')\n",
        "dn = hierarchy.dendrogram(Z)\n",
        "plt.title('Dendrogram Hierarchical Clustering')\n",
        "plt.xlabel('Scaled Age')\n",
        "plt.ylabel('Scaled Years of Experience')\n",
        "plt.show()"
      ],
      "metadata": {
        "id": "2RAtKKDjk2jO",
        "colab": {
          "base_uri": "https://localhost:8080/",
          "height": 471
        },
        "outputId": "dda59bf6-6eaf-4811-c188-2d7d216488e8"
      },
      "execution_count": 139,
      "outputs": [
        {
          "output_type": "display_data",
          "data": {
            "text/plain": [
              "<Figure size 640x480 with 1 Axes>"
            ],
            "image/png": "[encoded data removed]"
          },
          "metadata": {}
        }
      ]
    },
    {
      "cell_type": "markdown",
      "source": [
        "Pada grafik dendrogram di atas, dapat dilihat bahwa terdapat hubungan antara atribut \"Salary\" (Gaji) dan \"Years of Experience\" (Tahun Pengalaman). Klaster yang terbentuk menunjukkan pola yang menarik dalam distribusi data. Klaster 1 dan 2 menunjukkan bahwa gaji dan tahun pengalaman yang lebih rendah cenderung berkumpul bersama, sementara klaster 0 menunjukkan kecenderungan sebaliknya dengan gaji dan tahun pengalaman yang lebih tinggi. Hal ini menunjukkan bahwa atribut gaji dan tahun pengalaman dapat memengaruhi pembentukan klaster dalam analisis pengelompokan data ini."
      ],
      "metadata": {
        "id": "MZ2CVZ-Uk2VI"
      }
    },
    {
      "cell_type": "markdown",
      "source": [
        "#### **Visualisasi Algoritma K-Means**"
      ],
      "metadata": {
        "id": "PBLorzf5l11q"
      }
    },
    {
      "cell_type": "code",
      "source": [
        "x = combined_data_assoc['Years of Experience']\n",
        "y = combined_data_assoc['Salary']\n",
        "label = combined_data_assoc['kmeans_cluster']\n",
        "\n",
        "plt.scatter(x, y, c=label, cmap='plasma')\n",
        "plt.title('Scatter K-Means')\n",
        "plt.xlabel('Years of Experience')\n",
        "plt.ylabel('Salary')\n",
        "plt.show()"
      ],
      "metadata": {
        "id": "abCdSO_yl2aD",
        "colab": {
          "base_uri": "https://localhost:8080/",
          "height": 472
        },
        "outputId": "fa730a33-0d33-4316-a701-d3027be5d082"
      },
      "execution_count": 140,
      "outputs": [
        {
          "output_type": "display_data",
          "data": {
            "text/plain": [
              "<Figure size 640x480 with 1 Axes>"
            ],
            "image/png": "[encoded data removed]"
          },
          "metadata": {}
        }
      ]
    },
    {
      "cell_type": "code",
      "source": [
        "x = combined_data_assoc['Age']\n",
        "y = combined_data_assoc['Salary']\n",
        "label = combined_data_assoc['kmeans_cluster']\n",
        "\n",
        "plt.scatter(x, y, c=label, cmap='plasma')\n",
        "plt.title('Scatter K-Means')\n",
        "plt.xlabel('Age')\n",
        "plt.ylabel('Salary')\n",
        "plt.show()"
      ],
      "metadata": {
        "id": "hcy8xatFo718",
        "colab": {
          "base_uri": "https://localhost:8080/",
          "height": 472
        },
        "outputId": "2e8cb489-3bca-4044-9e42-3600cf3e1f26"
      },
      "execution_count": 141,
      "outputs": [
        {
          "output_type": "display_data",
          "data": {
            "text/plain": [
              "<Figure size 640x480 with 1 Axes>"
            ],
            "image/png": "[encoded data removed]"
          },
          "metadata": {}
        }
      ]
    },
    {
      "cell_type": "markdown",
      "source": [
        "Scatter plot ini menggambarkan hubungan antara 'age', 'years of experience', dan 'salary', di mana terlihat bahwa semakin tinggi usia dan pengalaman kerja seseorang, gaji yang diterima juga cenderung meningkat."
      ],
      "metadata": {
        "id": "6KYI4KfUmdGs"
      }
    },
    {
      "cell_type": "markdown",
      "source": [
        "#**EVALUATION**"
      ],
      "metadata": {
        "id": "hOPW2BXgs3TR"
      }
    },
    {
      "cell_type": "markdown",
      "source": [
        "##**Evaluate Results**"
      ],
      "metadata": {
        "id": "P0bpIIoXOaDD"
      }
    },
    {
      "cell_type": "markdown",
      "source": [
        "###**Clustering**"
      ],
      "metadata": {
        "id": "3pfEGe27SXI5"
      }
    },
    {
      "cell_type": "code",
      "source": [
        "from sklearn.metrics import confusion_matrix, ConfusionMatrixDisplay\n",
        "from sklearn.naive_bayes import GaussianNB\n",
        "from sklearn.neighbors import KNeighborsClassifier\n",
        "from sklearn.tree import DecisionTreeClassifier\n",
        "from sklearn.model_selection import train_test_split\n",
        "from sklearn.metrics import accuracy_score\n",
        "from sklearn.metrics import silhouette_score, calinski_harabasz_score, davies_bouldin_score\n",
        "from sklearn.model_selection import cross_val_score"
      ],
      "metadata": {
        "id": "p-a3myQetBVW"
      },
      "execution_count": 142,
      "outputs": []
    },
    {
      "cell_type": "code",
      "source": [
        "silhouette_avg_kmeans = silhouette_score(x_final_norm, kmeans.labels_)\n",
        "ch_score_kmeans = calinski_harabasz_score(x_final_norm, kmeans.labels_)\n",
        "db_score_kmeans = davies_bouldin_score(x_final_norm, kmeans.labels_)\n",
        "\n",
        "silhouette_avg_hc = silhouette_score(x_final_norm, hierarchy_clust)\n",
        "ch_score_hc = calinski_harabasz_score(x_final_norm, hierarchy_clust)\n",
        "db_score_hc = davies_bouldin_score(x_final_norm, hierarchy_clust)\n",
        "\n",
        "metrics = [\"Silhouette Score\", \"Calinski-Harabasz Score\", \"Davies-Bouldin Score\"]\n",
        "scores_kmeans = [silhouette_avg_kmeans, ch_score_kmeans, db_score_kmeans]\n",
        "scores_hc = [silhouette_avg_hc, ch_score_hc, db_score_hc]\n",
        "\n",
        "df_scores = pd.DataFrame({'': metrics,\n",
        "                          'KMeans Score': scores_kmeans,\n",
        "                          'Agglomerative Clustering Score': scores_hc})\n",
        "\n",
        "df_scores = df_scores.set_index('')\n",
        "df_scores = df_scores.T\n",
        "display(df_scores)"
      ],
      "metadata": {
        "colab": {
          "base_uri": "https://localhost:8080/",
          "height": 112
        },
        "id": "ERPRDbhGgu3W",
        "outputId": "0db8ba6d-7663-4279-8020-08dd24ebdf3d"
      },
      "execution_count": 143,
      "outputs": [
        {
          "output_type": "display_data",
          "data": {
            "text/plain": [
              "                                Silhouette Score  Calinski-Harabasz Score  \\\n",
              "KMeans Score                            0.234499               122.253894   \n",
              "Agglomerative Clustering Score          0.223672               117.697625   \n",
              "\n",
              "                                Davies-Bouldin Score  \n",
              "KMeans Score                                1.773610  \n",
              "Agglomerative Clustering Score              1.812308  "
            ],
            "text/html": [
              "\n",
              "  <div id=\"df-6a93323e-be16-46e4-8d08-a38c8257ddfc\" class=\"colab-df-container\">\n",
              "    <div>\n",
              "<style scoped>\n",
              "    .dataframe tbody tr th:only-of-type {\n",
              "        vertical-align: middle;\n",
              "    }\n",
              "\n",
              "    .dataframe tbody tr th {\n",
              "        vertical-align: top;\n",
              "    }\n",
              "\n",
              "    .dataframe thead th {\n",
              "        text-align: right;\n",
              "    }\n",
              "</style>\n",
              "<table border=\"1\" class=\"dataframe\">\n",
              "  <thead>\n",
              "    <tr style=\"text-align: right;\">\n",
              "      <th></th>\n",
              "      <th>Silhouette Score</th>\n",
              "      <th>Calinski-Harabasz Score</th>\n",
              "      <th>Davies-Bouldin Score</th>\n",
              "    </tr>\n",
              "  </thead>\n",
              "  <tbody>\n",
              "    <tr>\n",
              "      <th>KMeans Score</th>\n",
              "      <td>0.234499</td>\n",
              "      <td>122.253894</td>\n",
              "      <td>1.773610</td>\n",
              "    </tr>\n",
              "    <tr>\n",
              "      <th>Agglomerative Clustering Score</th>\n",
              "      <td>0.223672</td>\n",
              "      <td>117.697625</td>\n",
              "      <td>1.812308</td>\n",
              "    </tr>\n",
              "  </tbody>\n",
              "</table>\n",
              "</div>\n",
              "    <div class=\"colab-df-buttons\">\n",
              "\n",
              "  <div class=\"colab-df-container\">\n",
              "    <button class=\"colab-df-convert\" onclick=\"convertToInteractive('df-6a93323e-be16-46e4-8d08-a38c8257ddfc')\"\n",
              "            title=\"Convert this dataframe to an interactive table.\"\n",
              "            style=\"display:none;\">\n",
              "\n",
              "  <svg xmlns=\"http://www.w3.org/2000/svg\" height=\"24px\" viewBox=\"0 -960 960 960\">\n",
              "    <path d=\"M120-120v-720h720v720H120Zm60-500h600v-160H180v160Zm220 220h160v-160H400v160Zm0 220h160v-160H400v160ZM180-400h160v-160H180v160Zm440 0h160v-160H620v160ZM180-180h160v-160H180v160Zm440 0h160v-160H620v160Z\"/>\n",
              "  </svg>\n",
              "    </button>\n",
              "\n",
              "  <style>\n",
              "    .colab-df-container {\n",
              "      display:flex;\n",
              "      gap: 12px;\n",
              "    }\n",
              "\n",
              "    .colab-df-convert {\n",
              "      background-color: #E8F0FE;\n",
              "      border: none;\n",
              "      border-radius: 50%;\n",
              "      cursor: pointer;\n",
              "      display: none;\n",
              "      fill: #1967D2;\n",
              "      height: 32px;\n",
              "      padding: 0 0 0 0;\n",
              "      width: 32px;\n",
              "    }\n",
              "\n",
              "    .colab-df-convert:hover {\n",
              "      background-color: #E2EBFA;\n",
              "      box-shadow: 0px 1px 2px rgba(60, 64, 67, 0.3), 0px 1px 3px 1px rgba(60, 64, 67, 0.15);\n",
              "      fill: #174EA6;\n",
              "    }\n",
              "\n",
              "    .colab-df-buttons div {\n",
              "      margin-bottom: 4px;\n",
              "    }\n",
              "\n",
              "    [theme=dark] .colab-df-convert {\n",
              "      background-color: #3B4455;\n",
              "      fill: #D2E3FC;\n",
              "    }\n",
              "\n",
              "    [theme=dark] .colab-df-convert:hover {\n",
              "      background-color: #434B5C;\n",
              "      box-shadow: 0px 1px 3px 1px rgba(0, 0, 0, 0.15);\n",
              "      filter: drop-shadow(0px 1px 2px rgba(0, 0, 0, 0.3));\n",
              "      fill: #FFFFFF;\n",
              "    }\n",
              "  </style>\n",
              "\n",
              "    <script>\n",
              "      const buttonEl =\n",
              "        document.querySelector('#df-6a93323e-be16-46e4-8d08-a38c8257ddfc button.colab-df-convert');\n",
              "      buttonEl.style.display =\n",
              "        google.colab.kernel.accessAllowed ? 'block' : 'none';\n",
              "\n",
              "      async function convertToInteractive(key) {\n",
              "        const element = document.querySelector('#df-6a93323e-be16-46e4-8d08-a38c8257ddfc');\n",
              "        const dataTable =\n",
              "          await google.colab.kernel.invokeFunction('convertToInteractive',\n",
              "                                                    [key], {});\n",
              "        if (!dataTable) return;\n",
              "\n",
              "        const docLinkHtml = 'Like what you see? Visit the ' +\n",
              "          '<a target=\"_blank\" href=https://colab.research.google.com/notebooks/data_table.ipynb>data table notebook</a>'\n",
              "          + ' to learn more about interactive tables.';\n",
              "        element.innerHTML = '';\n",
              "        dataTable['output_type'] = 'display_data';\n",
              "        await google.colab.output.renderOutput(dataTable, element);\n",
              "        const docLink = document.createElement('div');\n",
              "        docLink.innerHTML = docLinkHtml;\n",
              "        element.appendChild(docLink);\n",
              "      }\n",
              "    </script>\n",
              "  </div>\n",
              "\n",
              "\n",
              "<div id=\"df-a8e4cb37-e5c0-46b0-8c3f-9ac1551ce55e\">\n",
              "  <button class=\"colab-df-quickchart\" onclick=\"quickchart('df-a8e4cb37-e5c0-46b0-8c3f-9ac1551ce55e')\"\n",
              "            title=\"Suggest charts\"\n",
              "            style=\"display:none;\">\n",
              "\n",
              "<svg xmlns=\"http://www.w3.org/2000/svg\" height=\"24px\"viewBox=\"0 0 24 24\"\n",
              "     width=\"24px\">\n",
              "    <g>\n",
              "        <path d=\"M19 3H5c-1.1 0-2 .9-2 2v14c0 1.1.9 2 2 2h14c1.1 0 2-.9 2-2V5c0-1.1-.9-2-2-2zM9 17H7v-7h2v7zm4 0h-2V7h2v10zm4 0h-2v-4h2v4z\"/>\n",
              "    </g>\n",
              "</svg>\n",
              "  </button>\n",
              "\n",
              "<style>\n",
              "  .colab-df-quickchart {\n",
              "      --bg-color: #E8F0FE;\n",
              "      --fill-color: #1967D2;\n",
              "      --hover-bg-color: #E2EBFA;\n",
              "      --hover-fill-color: #174EA6;\n",
              "      --disabled-fill-color: #AAA;\n",
              "      --disabled-bg-color: #DDD;\n",
              "  }\n",
              "\n",
              "  [theme=dark] .colab-df-quickchart {\n",
              "      --bg-color: #3B4455;\n",
              "      --fill-color: #D2E3FC;\n",
              "      --hover-bg-color: #434B5C;\n",
              "      --hover-fill-color: #FFFFFF;\n",
              "      --disabled-bg-color: #3B4455;\n",
              "      --disabled-fill-color: #666;\n",
              "  }\n",
              "\n",
              "  .colab-df-quickchart {\n",
              "    background-color: var(--bg-color);\n",
              "    border: none;\n",
              "    border-radius: 50%;\n",
              "    cursor: pointer;\n",
              "    display: none;\n",
              "    fill: var(--fill-color);\n",
              "    height: 32px;\n",
              "    padding: 0;\n",
              "    width: 32px;\n",
              "  }\n",
              "\n",
              "  .colab-df-quickchart:hover {\n",
              "    background-color: var(--hover-bg-color);\n",
              "    box-shadow: 0 1px 2px rgba(60, 64, 67, 0.3), 0 1px 3px 1px rgba(60, 64, 67, 0.15);\n",
              "    fill: var(--button-hover-fill-color);\n",
              "  }\n",
              "\n",
              "  .colab-df-quickchart-complete:disabled,\n",
              "  .colab-df-quickchart-complete:disabled:hover {\n",
              "    background-color: var(--disabled-bg-color);\n",
              "    fill: var(--disabled-fill-color);\n",
              "    box-shadow: none;\n",
              "  }\n",
              "\n",
              "  .colab-df-spinner {\n",
              "    border: 2px solid var(--fill-color);\n",
              "    border-color: transparent;\n",
              "    border-bottom-color: var(--fill-color);\n",
              "    animation:\n",
              "      spin 1s steps(1) infinite;\n",
              "  }\n",
              "\n",
              "  @keyframes spin {\n",
              "    0% {\n",
              "      border-color: transparent;\n",
              "      border-bottom-color: var(--fill-color);\n",
              "      border-left-color: var(--fill-color);\n",
              "    }\n",
              "    20% {\n",
              "      border-color: transparent;\n",
              "      border-left-color: var(--fill-color);\n",
              "      border-top-color: var(--fill-color);\n",
              "    }\n",
              "    30% {\n",
              "      border-color: transparent;\n",
              "      border-left-color: var(--fill-color);\n",
              "      border-top-color: var(--fill-color);\n",
              "      border-right-color: var(--fill-color);\n",
              "    }\n",
              "    40% {\n",
              "      border-color: transparent;\n",
              "      border-right-color: var(--fill-color);\n",
              "      border-top-color: var(--fill-color);\n",
              "    }\n",
              "    60% {\n",
              "      border-color: transparent;\n",
              "      border-right-color: var(--fill-color);\n",
              "    }\n",
              "    80% {\n",
              "      border-color: transparent;\n",
              "      border-right-color: var(--fill-color);\n",
              "      border-bottom-color: var(--fill-color);\n",
              "    }\n",
              "    90% {\n",
              "      border-color: transparent;\n",
              "      border-bottom-color: var(--fill-color);\n",
              "    }\n",
              "  }\n",
              "</style>\n",
              "\n",
              "  <script>\n",
              "    async function quickchart(key) {\n",
              "      const quickchartButtonEl =\n",
              "        document.querySelector('#' + key + ' button');\n",
              "      quickchartButtonEl.disabled = true;  // To prevent multiple clicks.\n",
              "      quickchartButtonEl.classList.add('colab-df-spinner');\n",
              "      try {\n",
              "        const charts = await google.colab.kernel.invokeFunction(\n",
              "            'suggestCharts', [key], {});\n",
              "      } catch (error) {\n",
              "        console.error('Error during call to suggestCharts:', error);\n",
              "      }\n",
              "      quickchartButtonEl.classList.remove('colab-df-spinner');\n",
              "      quickchartButtonEl.classList.add('colab-df-quickchart-complete');\n",
              "    }\n",
              "    (() => {\n",
              "      let quickchartButtonEl =\n",
              "        document.querySelector('#df-a8e4cb37-e5c0-46b0-8c3f-9ac1551ce55e button');\n",
              "      quickchartButtonEl.style.display =\n",
              "        google.colab.kernel.accessAllowed ? 'block' : 'none';\n",
              "    })();\n",
              "  </script>\n",
              "</div>\n",
              "    </div>\n",
              "  </div>\n"
            ],
            "application/vnd.google.colaboratory.intrinsic+json": {
              "type": "dataframe",
              "variable_name": "df_scores",
              "summary": "{\n  \"name\": \"df_scores\",\n  \"rows\": 2,\n  \"fields\": [\n    {\n      \"column\": \"Silhouette Score\",\n      \"properties\": {\n        \"dtype\": \"number\",\n        \"std\": 0.007656150566408488,\n        \"min\": 0.22367206729615755,\n        \"max\": 0.23449949926274288,\n        \"num_unique_values\": 2,\n        \"samples\": [\n          0.22367206729615755,\n          0.23449949926274288\n        ],\n        \"semantic_type\": \"\",\n        \"description\": \"\"\n      }\n    },\n    {\n      \"column\": \"Calinski-Harabasz Score\",\n      \"properties\": {\n        \"dtype\": \"number\",\n        \"std\": 3.2217686563282366,\n        \"min\": 117.69762500318025,\n        \"max\": 122.25389393178818,\n        \"num_unique_values\": 2,\n        \"samples\": [\n          117.69762500318025,\n          122.25389393178818\n        ],\n        \"semantic_type\": \"\",\n        \"description\": \"\"\n      }\n    },\n    {\n      \"column\": \"Davies-Bouldin Score\",\n      \"properties\": {\n        \"dtype\": \"number\",\n        \"std\": 0.02736366726896951,\n        \"min\": 1.7736095090378268,\n        \"max\": 1.8123075784058682,\n        \"num_unique_values\": 2,\n        \"samples\": [\n          1.8123075784058682,\n          1.7736095090378268\n        ],\n        \"semantic_type\": \"\",\n        \"description\": \"\"\n      }\n    }\n  ]\n}"
            }
          },
          "metadata": {}
        }
      ]
    },
    {
      "cell_type": "markdown",
      "source": [
        "- Silhouette Score: KMeans memiliki nilai sedikit lebih tinggi (0.234499) daripada Agglomerative Clustering (0.223672). Meskipun perbedaannya kecil, nilai Silhouette Score KMeans menunjukkan bahwa kualitas kluster secara keseluruhan sedikit lebih baik.\n",
        "\n",
        "- Calinski-Harabasz Score: Kembali, KMeans memiliki nilai yang sedikit lebih tinggi (122.253894) dibandingkan dengan Agglomerative Clustering (117.697625), menunjukkan bahwa klustering KMeans memiliki kemampuan yang sedikit lebih baik dalam memisahkan kluster secara kompak dan terpisah.\n",
        "\n",
        "- Davies-Bouldin Score: Nilai Davies-Bouldin Score untuk KMeans adalah 1.773610, sedangkan untuk Agglomerative Clustering adalah 1.812308. Dalam hal ini, nilai yang lebih rendah untuk KMeans menunjukkan bahwa klusteringnya mungkin sedikit lebih baik dalam hal rasio antara dispersi intra-kluster dan dispersi antar-kluster.\n",
        "\n",
        "Secara keseluruhan, KMeans menunjukkan performa yang sedikit lebih baik daripada Agglomerative Clustering berdasarkan evaluasi menggunakan metrik Silhouette Score, Calinski-Harabasz Score, dan Davies-Bouldin Score."
      ],
      "metadata": {
        "id": "gD3AcR7YjXxa"
      }
    },
    {
      "cell_type": "markdown",
      "source": [
        "###**Classification**"
      ],
      "metadata": {
        "id": "RFn19gh-soUK"
      }
    },
    {
      "cell_type": "code",
      "source": [
        "fig, axes = plt.subplots(nrows=1, ncols=3, figsize=(20,6))\n",
        "\n",
        "class_names = [\"rendah\", \"sedang\", \"tinggi\"]\n",
        "\n",
        "gnb_cm = confusion_matrix(y_test, gnb_pred)\n",
        "gnb_cm_display = ConfusionMatrixDisplay(gnb_cm, display_labels=class_names).plot(ax=axes[0], cmap='Blues')\n",
        "gnb_cm_display.ax_.set_title(\"Gaussian Naive Bayes\")\n",
        "gnb_cm_display.ax_.set_xlabel('Predicted Label')\n",
        "gnb_cm_display.ax_.set_ylabel('True Label')\n",
        "gnb_cm_display.ax_.invert_yaxis()\n",
        "\n",
        "knn_cm = confusion_matrix(y_test, knn_pred)\n",
        "knn_cm_display = ConfusionMatrixDisplay(knn_cm, display_labels=class_names).plot(ax=axes[1], cmap='Greens')\n",
        "knn_cm_display.ax_.set_title(\"K-Nearest Neighbors\")\n",
        "knn_cm_display.ax_.set_xlabel('Predicted Label')\n",
        "knn_cm_display.ax_.set_ylabel('True Label')\n",
        "knn_cm_display.ax_.invert_yaxis()\n",
        "\n",
        "dtc_cm = confusion_matrix(y_test, dtc_pred)\n",
        "dtc_cm_display = ConfusionMatrixDisplay(dtc_cm, display_labels=class_names).plot(ax=axes[2], cmap='Oranges')\n",
        "dtc_cm_display.ax_.set_title(\"Decision Tree Classifier\")\n",
        "dtc_cm_display.ax_.set_xlabel('Predicted Label')\n",
        "dtc_cm_display.ax_.set_ylabel('True Label')\n",
        "dtc_cm_display.ax_.invert_yaxis()\n",
        "\n",
        "plt.tight_layout()\n",
        "plt.show()"
      ],
      "metadata": {
        "id": "aHevLSqIsdw_"
      },
      "execution_count": null,
      "outputs": []
    },
    {
      "cell_type": "markdown",
      "source": [
        "##**Review Process**"
      ],
      "metadata": {
        "id": "J48FmTXBSppD"
      }
    },
    {
      "cell_type": "markdown",
      "source": [
        "###**Cross Validation**"
      ],
      "metadata": {
        "id": "K4hnEJATSswn"
      }
    },
    {
      "cell_type": "code",
      "source": [
        "X_train, X_test, y_train, y_test = train_test_split(X, y, test_size=0.3, random_state=42, stratify=y)"
      ],
      "metadata": {
        "id": "_Kvlj_LSreYN"
      },
      "execution_count": null,
      "outputs": []
    },
    {
      "cell_type": "code",
      "source": [
        "scaler = MinMaxScaler()\n",
        "x_train_norm = scaler.fit_transform(X_train)\n",
        "\n",
        "models = [kmeans]\n",
        "model_names = ['K-Means']\n",
        "\n",
        "cv_scores = []\n",
        "for model in models:\n",
        "    scores = cross_val_score(model, x_train_norm, y_train, cv=5, scoring='f1_macro')\n",
        "    cv_scores.append(scores)\n",
        "\n",
        "df_cv_scores = pd.DataFrame(cv_scores, index=model_names).T\n",
        "\n",
        "plt.figure(figsize=(10, 6))\n",
        "sns.lineplot(data=df_cv_scores, markers=True)\n",
        "plt.title('Cross-Validation Scores for Different Models')\n",
        "plt.xlabel('Fold')\n",
        "plt.ylabel('Accuracy')\n",
        "plt.grid(True)\n",
        "plt.legend(title='Model', loc='lower right')\n",
        "plt.xticks(ticks=range(5), labels=['Fold 1', 'Fold 2', 'Fold 3', 'Fold 4', 'Fold 5'])\n",
        "plt.show()"
      ],
      "metadata": {
        "id": "3grgurexSyl8"
      },
      "execution_count": null,
      "outputs": []
    },
    {
      "cell_type": "markdown",
      "source": [
        "Dari hasil validasi silang dengan metrik F1-macro, terlihat bahwa model memiliki kinerja yang cukup rendah dalam memprediksi label pada dataset uji. Nilai akurasi yang rendah menunjukkan bahwa model tidak cukup efektif dalam membedakan antara kelas-kelas yang ada dalam dataset. Hal ini bisa disebabkan oleh beberapa faktor, seperti kurangnya representasi data pada setiap fold, kompleksitas model yang tidak sesuai, atau masalah lain dalam proses pemodelan. Oleh karena itu, diperlukan evaluasi lebih lanjut dan mungkin penyesuaian pada model untuk meningkatkan kinerjanya."
      ],
      "metadata": {
        "id": "WXjdH_TmsQ4Y"
      }
    },
    {
      "cell_type": "markdown",
      "source": [
        "###**Feature Selection**"
      ],
      "metadata": {
        "id": "Gw87JaNDSusu"
      }
    },
    {
      "cell_type": "code",
      "source": [
        "from sklearn.feature_selection import SelectKBest, chi2\n",
        "import matplotlib.pyplot as plt\n",
        "\n",
        "selector = SelectKBest(score_func=chi2, k=10)\n",
        "\n",
        "selector.fit(x_train_norm, y_train)\n",
        "\n",
        "feature_ranks = selector.scores_\n",
        "\n",
        "feature_names = x_train.columns\n",
        "\n",
        "feature_ranks_df = pd.DataFrame({'Feature': feature_names, 'Rank': feature_ranks})\n",
        "\n",
        "feature_ranks_df = feature_ranks_df.sort_values(by='Rank', ascending=False)\n",
        "\n",
        "plt.figure(figsize=(10, 6))\n",
        "plt.barh(feature_ranks_df['Feature'], feature_ranks_df['Rank'], color='skyblue')\n",
        "plt.xlabel('Rank')\n",
        "plt.ylabel('Feature')\n",
        "plt.title('Feature Ranking')\n",
        "plt.gca().invert_yaxis()\n",
        "plt.show()"
      ],
      "metadata": {
        "id": "h7PFb1zdSzKv"
      },
      "execution_count": null,
      "outputs": []
    },
    {
      "cell_type": "markdown",
      "source": [
        "###**Tuning Hyperparameter**"
      ],
      "metadata": {
        "id": "JoMa-_X5SwkL"
      }
    },
    {
      "cell_type": "markdown",
      "source": [
        "K-Means"
      ],
      "metadata": {
        "id": "nGiNibdUp8jF"
      }
    },
    {
      "cell_type": "code",
      "source": [
        "from sklearn.model_selection import GridSearchCV\n",
        "\n",
        "kmeans_before_tuning = KMeans()\n",
        "y_pred_before_tuning = kmeans_before_tuning.fit_predict(x_train_norm)\n",
        "silhouette_avg_before_tuning = silhouette_score(x_train_norm, y_pred_before_tuning)\n",
        "\n",
        "param_grid = {\n",
        "    'n_clusters': [1, 2, 3]\n",
        "}\n",
        "grid_search = GridSearchCV(estimator=KMeans(), param_grid=param_grid, cv=5)\n",
        "\n",
        "grid_search.fit(x_train_norm)\n",
        "\n",
        "print(\"Parameter terbaik:\", grid_search.best_params_)\n",
        "\n",
        "best_kmeans_model = grid_search.best_estimator_\n",
        "y_pred_after_tuning = best_kmeans_model.fit_predict(x_train_norm)\n",
        "\n",
        "silhouette_avg_after_tuning = silhouette_score(x_train_norm, y_pred_after_tuning)\n",
        "\n",
        "\n",
        "print(\"KMeans sebelum tuning:\", silhouette_avg_before_tuning)\n",
        "print(\"KMeans setelah tuning:\", silhouette_avg_after_tuning)\n"
      ],
      "metadata": {
        "id": "x6krFM5QSz7Z",
        "colab": {
          "base_uri": "https://localhost:8080/"
        },
        "outputId": "2a14fc7e-a618-4027-8310-8003b371f38f"
      },
      "execution_count": 152,
      "outputs": [
        {
          "output_type": "stream",
          "name": "stderr",
          "text": [
            "/usr/local/lib/python3.10/dist-packages/sklearn/cluster/_kmeans.py:870: FutureWarning:\n",
            "\n",
            "The default value of `n_init` will change from 10 to 'auto' in 1.4. Set the value of `n_init` explicitly to suppress the warning\n",
            "\n",
            "/usr/local/lib/python3.10/dist-packages/sklearn/cluster/_kmeans.py:870: FutureWarning:\n",
            "\n",
            "The default value of `n_init` will change from 10 to 'auto' in 1.4. Set the value of `n_init` explicitly to suppress the warning\n",
            "\n",
            "/usr/local/lib/python3.10/dist-packages/sklearn/cluster/_kmeans.py:870: FutureWarning:\n",
            "\n",
            "The default value of `n_init` will change from 10 to 'auto' in 1.4. Set the value of `n_init` explicitly to suppress the warning\n",
            "\n",
            "/usr/local/lib/python3.10/dist-packages/sklearn/cluster/_kmeans.py:870: FutureWarning:\n",
            "\n",
            "The default value of `n_init` will change from 10 to 'auto' in 1.4. Set the value of `n_init` explicitly to suppress the warning\n",
            "\n",
            "/usr/local/lib/python3.10/dist-packages/sklearn/cluster/_kmeans.py:870: FutureWarning:\n",
            "\n",
            "The default value of `n_init` will change from 10 to 'auto' in 1.4. Set the value of `n_init` explicitly to suppress the warning\n",
            "\n",
            "/usr/local/lib/python3.10/dist-packages/sklearn/cluster/_kmeans.py:870: FutureWarning:\n",
            "\n",
            "The default value of `n_init` will change from 10 to 'auto' in 1.4. Set the value of `n_init` explicitly to suppress the warning\n",
            "\n",
            "/usr/local/lib/python3.10/dist-packages/sklearn/cluster/_kmeans.py:870: FutureWarning:\n",
            "\n",
            "The default value of `n_init` will change from 10 to 'auto' in 1.4. Set the value of `n_init` explicitly to suppress the warning\n",
            "\n",
            "/usr/local/lib/python3.10/dist-packages/sklearn/cluster/_kmeans.py:870: FutureWarning:\n",
            "\n",
            "The default value of `n_init` will change from 10 to 'auto' in 1.4. Set the value of `n_init` explicitly to suppress the warning\n",
            "\n",
            "/usr/local/lib/python3.10/dist-packages/sklearn/cluster/_kmeans.py:870: FutureWarning:\n",
            "\n",
            "The default value of `n_init` will change from 10 to 'auto' in 1.4. Set the value of `n_init` explicitly to suppress the warning\n",
            "\n",
            "/usr/local/lib/python3.10/dist-packages/sklearn/cluster/_kmeans.py:870: FutureWarning:\n",
            "\n",
            "The default value of `n_init` will change from 10 to 'auto' in 1.4. Set the value of `n_init` explicitly to suppress the warning\n",
            "\n",
            "/usr/local/lib/python3.10/dist-packages/sklearn/cluster/_kmeans.py:870: FutureWarning:\n",
            "\n",
            "The default value of `n_init` will change from 10 to 'auto' in 1.4. Set the value of `n_init` explicitly to suppress the warning\n",
            "\n",
            "/usr/local/lib/python3.10/dist-packages/sklearn/cluster/_kmeans.py:870: FutureWarning:\n",
            "\n",
            "The default value of `n_init` will change from 10 to 'auto' in 1.4. Set the value of `n_init` explicitly to suppress the warning\n",
            "\n",
            "/usr/local/lib/python3.10/dist-packages/sklearn/cluster/_kmeans.py:870: FutureWarning:\n",
            "\n",
            "The default value of `n_init` will change from 10 to 'auto' in 1.4. Set the value of `n_init` explicitly to suppress the warning\n",
            "\n",
            "/usr/local/lib/python3.10/dist-packages/sklearn/cluster/_kmeans.py:870: FutureWarning:\n",
            "\n",
            "The default value of `n_init` will change from 10 to 'auto' in 1.4. Set the value of `n_init` explicitly to suppress the warning\n",
            "\n",
            "/usr/local/lib/python3.10/dist-packages/sklearn/cluster/_kmeans.py:870: FutureWarning:\n",
            "\n",
            "The default value of `n_init` will change from 10 to 'auto' in 1.4. Set the value of `n_init` explicitly to suppress the warning\n",
            "\n",
            "/usr/local/lib/python3.10/dist-packages/sklearn/cluster/_kmeans.py:870: FutureWarning:\n",
            "\n",
            "The default value of `n_init` will change from 10 to 'auto' in 1.4. Set the value of `n_init` explicitly to suppress the warning\n",
            "\n",
            "/usr/local/lib/python3.10/dist-packages/sklearn/cluster/_kmeans.py:870: FutureWarning:\n",
            "\n",
            "The default value of `n_init` will change from 10 to 'auto' in 1.4. Set the value of `n_init` explicitly to suppress the warning\n",
            "\n"
          ]
        },
        {
          "output_type": "stream",
          "name": "stdout",
          "text": [
            "Parameter terbaik: {'n_clusters': 3}\n"
          ]
        },
        {
          "output_type": "stream",
          "name": "stderr",
          "text": [
            "/usr/local/lib/python3.10/dist-packages/sklearn/cluster/_kmeans.py:870: FutureWarning:\n",
            "\n",
            "The default value of `n_init` will change from 10 to 'auto' in 1.4. Set the value of `n_init` explicitly to suppress the warning\n",
            "\n"
          ]
        },
        {
          "output_type": "stream",
          "name": "stdout",
          "text": [
            "KMeans sebelum tuning: 0.2048264602050552\n",
            "KMeans setelah tuning: 0.2537173815736131\n"
          ]
        }
      ]
    },
    {
      "cell_type": "markdown",
      "source": [
        "Silhouette"
      ],
      "metadata": {
        "id": "wB09b66fp6D4"
      }
    },
    {
      "cell_type": "code",
      "source": [
        "silhouette_scores = [silhouette_avg_before_tuning, silhouette_avg_after_tuning]\n",
        "\n",
        "labels = ['Before Tuning', 'After Tuning']\n",
        "\n",
        "colors = ['blue', 'green']\n",
        "\n",
        "plt.figure(figsize=(8, 6))\n",
        "plt.bar(labels, silhouette_scores, color=colors)\n",
        "plt.title('Silhouette Score Before and After Tuning')\n",
        "plt.xlabel('Tuning')\n",
        "plt.ylabel('Silhouette Score')\n",
        "plt.ylim(0, 1)  # Atur batas y-axis dari 0 hingga 1\n",
        "plt.grid(axis='y', linestyle='--', alpha=0.7)\n",
        "plt.show()"
      ],
      "metadata": {
        "id": "U0vzE0PRpSlL"
      },
      "execution_count": null,
      "outputs": []
    },
    {
      "cell_type": "markdown",
      "source": [
        "Grafik tersebut menunjukkan skor siluet sebelum dan setelah melakukan penyetelan (tuning) pada algoritma pengelompokan data. Skor siluet adalah metrik yang digunakan untuk mengevaluasi kualitas pengelompokan. Rentangnya dari -1 hingga 1, di mana skor yang mendekati 1 menandakan bahwa pengelompokan berada pada jarak yang baik, dan skor yang mendekati -1 menandakan bahwa pengelompokan berada pada jarak yang buruk.\n",
        "\n",
        "Pada grafik tersebut, kotak biru menunjukkan skor siluet sebelum penyetelan, dan kotak hijau menunjukkan skor siluet setelah penyetelan. Fakta bahwa kotak hijau lebih tinggi dari kotak biru berarti bahwa proses penyetelan meningkatkan hasil pengelompokan.\n",
        "\n",
        "Dengan kata lain, titik-titik data dikelompokkan dengan lebih baik setelah proses penyetelan."
      ],
      "metadata": {
        "id": "0Llu6NJoqvPO"
      }
    },
    {
      "cell_type": "markdown",
      "source": [
        "###**Determine Next Step**"
      ],
      "metadata": {
        "id": "3fq7hxe5tK1T"
      }
    },
    {
      "cell_type": "markdown",
      "source": [
        "Secara keseluruhan, hasil evaluasi menunjukkan bahwa algoritma KMeans cenderung memberikan kinerja yang sedikit lebih baik daripada metode Agglomerative Clustering dalam pengelompokan data. Dilihat dari beberapa metrik evaluasi seperti Silhouette Score, Calinski-Harabasz Score, dan Davies-Bouldin Score, KMeans memiliki nilai yang sedikit lebih tinggi, menandakan bahwa kluster yang dihasilkan lebih terpisah dan lebih kompak. Selain itu, dengan melakukan penyetelan (tuning) pada algoritma KMeans, kualitas pengelompokan berhasil ditingkatkan secara signifikan, yang tercermin dari peningkatan yang signifikan dalam nilai Silhouette Score setelah proses penyetelan."
      ],
      "metadata": {
        "id": "V7bkShzjthxz"
      }
    }
  ]
}