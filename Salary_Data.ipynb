{
  "nbformat": 4,
  "nbformat_minor": 0,
  "metadata": {
    "colab": {
      "provenance": [],
      "collapsed_sections": [
        "ixNsSxwR7Qdg"
      ],
      "authorship_tag": "ABX9TyOJQX2tUo1AzdGys7W53/lH",
      "include_colab_link": true
    },
    "kernelspec": {
      "name": "python3",
      "display_name": "Python 3"
    },
    "language_info": {
      "name": "python"
    }
  },
  "cells": [
    {
      "cell_type": "markdown",
      "metadata": {
        "id": "view-in-github",
        "colab_type": "text"
      },
      "source": [
        "<a href=\"https://colab.research.google.com/github/Udinkosd/Data-Mining-2024/blob/main/Salary_Data.ipynb\" target=\"_parent\"><img src=\"https://colab.research.google.com/assets/colab-badge.svg\" alt=\"Open In Colab\"/></a>"
      ]
    },
    {
      "cell_type": "markdown",
      "source": [
        "# Prediksi Gaji Mahasiswa"
      ],
      "metadata": {
        "id": "kWmpEG1iR7Pf"
      }
    },
    {
      "cell_type": "markdown",
      "source": [
        "#**Import Library**"
      ],
      "metadata": {
        "id": "f7qy__gcADoU"
      }
    },
    {
      "cell_type": "code",
      "source": [
        "import pandas as pd\n",
        "import matplotlib.pyplot as plt\n",
        "import numpy as np\n",
        "import matplotlib.ticker as mtick\n",
        "import matplotlib.gridspec as gridspec\n",
        "import seaborn as sns\n",
        "from tabulate import tabulate\n",
        "import plotly.express as px"
      ],
      "metadata": {
        "id": "5879BOiqAGDt"
      },
      "execution_count": 141,
      "outputs": []
    },
    {
      "cell_type": "markdown",
      "source": [
        "#**BUSINESS UNDERSTANDING**"
      ],
      "metadata": {
        "id": "Qwkz7a8ZSegr"
      }
    },
    {
      "cell_type": "markdown",
      "source": [
        "##**Business Objective**"
      ],
      "metadata": {
        "id": "48Y69K1H7OpS"
      }
    },
    {
      "cell_type": "markdown",
      "source": [
        "Tujuan bisnis dari analisis dataset ini adalah untuk memperoleh wawasan tentang faktor-faktor yang memengaruhi gaji karyawan dalam perusahaan. Dengan memeriksa hubungan antara berbagai atribut seperti usia, jenis kelamin, tingkat pendidikan, jabatan pekerjaan, dan tahun pengalaman dengan gaji, perusahaan bertujuan untuk membuat keputusan yang berbasis informasi mengenai strategi kompensasi, akuisisi bakat, dan retensi karyawan."
      ],
      "metadata": {
        "id": "t9jh3dOhSmCT"
      }
    },
    {
      "cell_type": "markdown",
      "source": [
        "##**Assess Situation**"
      ],
      "metadata": {
        "id": "UZo_NZJJ7fTs"
      }
    },
    {
      "cell_type": "markdown",
      "source": [
        "Perusahaan perlu memahami faktor-faktor yang berkontribusi terhadap gaji karyawan untuk memastikan praktik kompensasi yang adil, mengidentifikasi area yang perlu ditingkatkan dalam struktur gaji, dan mengatasi potensi disparitas atau bias yang mungkin ada dalam organisasi."
      ],
      "metadata": {
        "id": "rALAMQbY7hnV"
      }
    },
    {
      "cell_type": "markdown",
      "source": [
        "##**Data Mining Goals**"
      ],
      "metadata": {
        "id": "Pkt54CSp7mMx"
      }
    },
    {
      "cell_type": "markdown",
      "source": [
        "1. Mengidentifikasi faktor-faktor kunci yang memengaruhi gaji karyawan.\n",
        "2. Menjelajahi hubungan antara berbagai atribut seperti usia, jenis kelamin, tingkat pendidikan, jabatan pekerjaan, dan tahun pengalaman dengan gaji.\n",
        "3. Mendeteksi pola atau tren dalam distribusi gaji di dalam perusahaan.\n",
        "4. Mengembangkan model prediktif untuk memperkirakan rentang gaji berdasarkan karakteristik karyawan."
      ],
      "metadata": {
        "id": "5etpYdBB7or_"
      }
    },
    {
      "cell_type": "markdown",
      "source": [
        "##**Project Plan**"
      ],
      "metadata": {
        "id": "ip3RJHJ47r0G"
      }
    },
    {
      "cell_type": "markdown",
      "source": [
        "1. Pengumpulan Data: Mengumpulkan dataset yang berisi informasi tentang gaji karyawan, termasuk usia, jenis kelamin, tingkat pendidikan, jabatan pekerjaan, tahun pengalaman, dan gaji.\n",
        "2. Pra-Pemrosesan Data: Membersihkan data dengan menangani nilai yang hilang, mengkodekan variabel kategorikal, dan menstandarisasi fitur numerik jika diperlukan.\n",
        "3. Analisis Data Eksploratif (EDA): Melakukan analisis eksploratif untuk memahami distribusi variabel, mengidentifikasi pencilan, dan memvisualisasikan hubungan antara berbagai atribut dengan gaji.\n",
        "4. Interpretasi dan Wawasan: Menginterpretasikan hasil untuk mendapatkan wawasan yang dapat diambil tentang faktor-faktor yang memengaruhi gaji karyawan dan menyampaikan temuan kepada pemangku kepentingan yang relevan untuk tujuan pengambilan keputusan."
      ],
      "metadata": {
        "id": "OkIpR8N77wwQ"
      }
    },
    {
      "cell_type": "markdown",
      "source": [
        "#**DATA UNDERSTANDING**"
      ],
      "metadata": {
        "id": "R_Zdrs6o74F_"
      }
    },
    {
      "cell_type": "markdown",
      "source": [
        "##**Collect Initial Data**"
      ],
      "metadata": {
        "id": "iS7ovZo377Nc"
      }
    },
    {
      "cell_type": "code",
      "source": [
        "url = 'https://raw.githubusercontent.com/Udinkosd/Data-Mining-2024/main/Salary%20Dataset.csv'\n",
        "df = pd.read_csv(url)"
      ],
      "metadata": {
        "id": "RRbHZ8bi9Bwx"
      },
      "execution_count": 142,
      "outputs": []
    },
    {
      "cell_type": "markdown",
      "source": [
        "Sumber data ini merupakan platform Kaggle, dapat diakses melalui tautan berikut: https://www.kaggle.com/datasets/rkiattisak/salaly-prediction-for-beginer/data"
      ],
      "metadata": {
        "id": "89aOSgDrCAkj"
      }
    },
    {
      "cell_type": "markdown",
      "source": [
        "##**Describe Data**"
      ],
      "metadata": {
        "id": "q3Up51pm796L"
      }
    },
    {
      "cell_type": "markdown",
      "source": [
        "####Informasi Dasar"
      ],
      "metadata": {
        "id": "G0qaD4xJ7_k2"
      }
    },
    {
      "cell_type": "code",
      "source": [
        "print(\"Pratinjau kumpulan data:\")\n",
        "print(tabulate(df.head(), headers='keys', tablefmt='pretty'))\n",
        "\n",
        "row_count, column_count = df.shape\n",
        "print(\"Number of rows:\", row_count)\n",
        "print(\"Number of columns:\", column_count)"
      ],
      "metadata": {
        "colab": {
          "base_uri": "https://localhost:8080/"
        },
        "id": "daJjKLSEAfi_",
        "outputId": "9f448ae4-4c53-4d0c-ade8-e5e4693d9970"
      },
      "execution_count": 143,
      "outputs": [
        {
          "output_type": "stream",
          "name": "stdout",
          "text": [
            "Pratinjau kumpulan data:\n",
            "+---+------+--------+-----------------+-------------------+---------------------+----------+\n",
            "|   | Age  | Gender | Education Level |     Job Title     | Years of Experience |  Salary  |\n",
            "+---+------+--------+-----------------+-------------------+---------------------+----------+\n",
            "| 0 | 32.0 |  Male  |   Bachelor's    | Software Engineer |         5.0         | 90000.0  |\n",
            "| 1 | 28.0 | Female |    Master's     |   Data Analyst    |         3.0         | 65000.0  |\n",
            "| 2 | 45.0 |  Male  |       PhD       |  Senior Manager   |        15.0         | 150000.0 |\n",
            "| 3 | 36.0 | Female |   Bachelor's    |  Sales Associate  |         7.0         | 60000.0  |\n",
            "| 4 | 52.0 |  Male  |    Master's     |     Director      |        20.0         | 200000.0 |\n",
            "+---+------+--------+-----------------+-------------------+---------------------+----------+\n",
            "Number of rows: 375\n",
            "Number of columns: 6\n"
          ]
        }
      ]
    },
    {
      "cell_type": "markdown",
      "source": [
        "Dataset ini menampilkan beberapa atribut seperti usia, jenis kelamin, tingkat pendidikan, judul pekerjaan, tahun pengalaman, dan gaji.\n",
        "Terdapat 375 baris data dan 6 kolom atribut."
      ],
      "metadata": {
        "id": "qPIov5rJESHA"
      }
    },
    {
      "cell_type": "markdown",
      "source": [
        "####Informasi Lanjutan"
      ],
      "metadata": {
        "id": "1YO1omps8IdN"
      }
    },
    {
      "cell_type": "code",
      "source": [
        "# Pratinjau data\n",
        "print(\"Informasi lengkap tentang dataset:\")\n",
        "print(df.info())\n",
        "print()\n",
        "\n",
        "# Tampilkan jumlah responden untuk setiap tingkat pendidikan dan gender\n",
        "gender_education_counts = df.groupby(['Gender', 'Education Level']).size()\n",
        "print(\"Jumlah responden untuk setiap tingkat pendidikan dan gender:\")\n",
        "print(gender_education_counts)\n",
        "print()\n",
        "\n",
        "# Gaji tertinggi, terendah, dan rata-rata serta umur tertua\n",
        "max_salary = df['Salary'].max()\n",
        "min_salary = df['Salary'].min()\n",
        "avg_salary = df['Salary'].mean()\n",
        "max_age = df['Age'].max()\n",
        "min_age = df['Age'].min()\n",
        "avg_age = df['Age'].mean()\n",
        "max_experience = df['Years of Experience'].max()\n",
        "min_experience = df['Years of Experience'].min()\n",
        "avg_experience = df['Years of Experience'].mean()\n",
        "\n",
        "max_salary_str = '{:,.0f}'.format(max_salary)\n",
        "min_salary_str = '{:,.0f}'.format(min_salary)\n",
        "avg_salary_str = '{:,.0f}'.format(avg_salary)\n",
        "max_age_str = int(max_age)\n",
        "min_age_str = int(min_age)\n",
        "avg_age_str = int(avg_age)\n",
        "max_experience_str = '{:,.0f}'.format(max_experience)\n",
        "min_experience_str = '{:,.0f}'.format(min_experience)\n",
        "avg_experience_str = '{:,.2f}'.format(avg_experience)\n",
        "\n",
        "print(\"Umur tertua:\", max_age_str)\n",
        "print(\"Umur termuda:\", min_age_str)\n",
        "print(\"Umur rata-rata:\", avg_age_str)\n",
        "print()\n",
        "print(\"Gaji tertinggi:\", max_salary_str)\n",
        "print(\"Gaji terendah:\", min_salary_str)\n",
        "print(\"Gaji rata-rata:\", avg_salary_str)\n",
        "print()\n",
        "print(\"Pengalaman kerja tertinggi:\", max_experience_str)\n",
        "print(\"Pengalaman kerja terendah:\", min_experience_str)\n",
        "print(\"Rata-rata pengalaman kerja:\", avg_experience_str)"
      ],
      "metadata": {
        "id": "irU4_StBEvWk",
        "colab": {
          "base_uri": "https://localhost:8080/"
        },
        "outputId": "28b72084-7d1b-41e2-ac39-c12dfda9f048"
      },
      "execution_count": 144,
      "outputs": [
        {
          "output_type": "stream",
          "name": "stdout",
          "text": [
            "Informasi lengkap tentang dataset:\n",
            "<class 'pandas.core.frame.DataFrame'>\n",
            "RangeIndex: 375 entries, 0 to 374\n",
            "Data columns (total 6 columns):\n",
            " #   Column               Non-Null Count  Dtype  \n",
            "---  ------               --------------  -----  \n",
            " 0   Age                  373 non-null    float64\n",
            " 1   Gender               373 non-null    object \n",
            " 2   Education Level      373 non-null    object \n",
            " 3   Job Title            373 non-null    object \n",
            " 4   Years of Experience  373 non-null    float64\n",
            " 5   Salary               373 non-null    float64\n",
            "dtypes: float64(3), object(3)\n",
            "memory usage: 17.7+ KB\n",
            "None\n",
            "\n",
            "Jumlah responden untuk setiap tingkat pendidikan dan gender:\n",
            "Gender  Education Level\n",
            "Female  Bachelor's         103\n",
            "        Master's            50\n",
            "        PhD                 26\n",
            "Male    Bachelor's         121\n",
            "        Master's            48\n",
            "        PhD                 25\n",
            "dtype: int64\n",
            "\n",
            "Umur tertua: 53\n",
            "Umur termuda: 23\n",
            "Umur rata-rata: 37\n",
            "\n",
            "Gaji tertinggi: 250,000\n",
            "Gaji terendah: 350\n",
            "Gaji rata-rata: 100,577\n",
            "\n",
            "Pengalaman kerja tertinggi: 25\n",
            "Pengalaman kerja terendah: 0\n",
            "Rata-rata pengalaman kerja: 10.03\n"
          ]
        }
      ]
    },
    {
      "cell_type": "markdown",
      "source": [
        "1. Age: Menunjukkan usia responden. Ada 373 nilai non-null yang berupa bilangan pecahan (float64).\n",
        "2. Gender: Menggambarkan jenis kelamin responden. Ada 373 nilai non-null yang berupa objek (string atau teks).\n",
        "3. Education Level: Merupakan tingkat pendidikan responden. Terdapat 373 nilai non-null yang berupa objek (string).\n",
        "4. Job Title: Menyatakan judul pekerjaan dari responden. Terdapat 373 nilai non-null yang berupa objek (string).\n",
        "5. Years of Experience: Menunjukkan tahun-tahun pengalaman kerja responden. Ada 373 nilai non-null yang berupa bilangan pecahan (float64).\n",
        "6. Salary: Merupakan gaji responden. Terdapat 373 nilai non-null yang berupa bilangan pecahan (float64).\n",
        "\n",
        "Terdapat dua jenis informasi dalam dataset ini. Pertama, jumlah responden untuk setiap tingkat pendidikan dan gender, yang menunjukkan distribusi jumlah responden berdasarkan tingkat pendidikan dan jenis kelamin. Misalnya, ada 103 wanita dengan gelar sarjana dan 121 pria dengan gelar sarjana.\n",
        "\n",
        "Kedua, statistik tentang umur, gaji, dan pengalaman kerja dari seluruh dataset. Umur tertua responden adalah 53 tahun dan termuda adalah 23 tahun, dengan umur rata-rata sekitar 37 tahun. Gaji tertinggi mencapai USD250,000  dan yang terendah hanya USD350, dengan rata-rata sekitar USD100,577. Pengalaman kerja tertinggi adalah 25 tahun, terendah 0 tahun atau tanpa pengalaman kerja, dan rata-ratanya adalah sekitar 10.3 tahun."
      ],
      "metadata": {
        "id": "K18zHmeDEUB0"
      }
    },
    {
      "cell_type": "markdown",
      "source": [
        "####Informasi Statistik Deskriptif"
      ],
      "metadata": {
        "id": "YYNWeBdo8KEV"
      }
    },
    {
      "cell_type": "code",
      "source": [
        "# Menampilkan statistik deskriptif dari kolom numerik\n",
        "print(df.describe())\n",
        "print()"
      ],
      "metadata": {
        "colab": {
          "base_uri": "https://localhost:8080/"
        },
        "id": "C3s_67kuFS-U",
        "outputId": "e3700578-d262-4c30-f7af-e09600050e53"
      },
      "execution_count": 145,
      "outputs": [
        {
          "output_type": "stream",
          "name": "stdout",
          "text": [
            "              Age  Years of Experience         Salary\n",
            "count  373.000000           373.000000     373.000000\n",
            "mean    37.431635            10.030831  100577.345845\n",
            "std      7.069073             6.557007   48240.013482\n",
            "min     23.000000             0.000000     350.000000\n",
            "25%     31.000000             4.000000   55000.000000\n",
            "50%     36.000000             9.000000   95000.000000\n",
            "75%     44.000000            15.000000  140000.000000\n",
            "max     53.000000            25.000000  250000.000000\n",
            "\n"
          ]
        }
      ]
    },
    {
      "cell_type": "markdown",
      "source": [
        "Statistik deskriptif ini memberikan gambaran tentang distribusi data dalam kolom-kolom numerik pada dataset. Berikut adalah penjelasan untuk setiap statistik:\n",
        "\n",
        "1. Count: Menunjukkan jumlah total data yang kita miliki untuk setiap kolom.\n",
        "2. Mean: Merupakan rata-rata usia, pengalaman kerja, dan gaji dari seluruh data.\n",
        "3. Std(Standard Deviation): Menunjukkan seberapa jauh rata-rata usia, pengalaman kerja, dan gaji berbeda dari nilai-nilai individu dalam setiap kolom.\n",
        "4. Min: Merupakan nilai minimum dari usia, pengalaman kerja, dan gaji yang ada dalam data.\n",
        "5. 25% (Q1): Menunjukkan nilai usia, pengalaman kerja, dan gaji di bawahnya terdapat 25% dari data.\n",
        "6. 50% (Q2): Merupakan median usia, pengalaman kerja, dan gaji, yang berarti 50% data berada di atasnya dan 50% di bawahnya.\n",
        "7. 75% (Q3): Menunjukkan nilai usia, pengalaman kerja, dan gaji di bawahnya terdapat 75% dari data.\n",
        "8. Max: Merupakan nilai maksimum dari usia, pengalaman kerja, dan gaji yang ada dalam data.\n",
        "\n",
        "Dari data tersebut, kita dapat melihat bahwa usia rata-rata responden adalah sekitar 37 tahun, dengan usia termuda 23 tahun dan tertua 53 tahun. Pendidikan responden bervariasi, dengan mayoritas memiliki gelar sarjana atau gelar master. Jabatan responden juga bervariasi, mulai dari Software Engineer, Data Analyst, hingga Director. Rata-rata pengalaman kerja responden adalah sekitar 10 tahun, dan rata-rata gaji adalah sekitar USD100,577, dengan sebagian besar responden memiliki gaji antara USD55,000 dan USD140,000."
      ],
      "metadata": {
        "id": "Tea4Y1ZDFcm7"
      }
    },
    {
      "cell_type": "markdown",
      "source": [
        "##**Exploratory Data Analysis**"
      ],
      "metadata": {
        "id": "U_RRcmcCJa4D"
      }
    },
    {
      "cell_type": "markdown",
      "source": [
        "####Informasi Statistik Visual Gender dalam Dataset"
      ],
      "metadata": {
        "id": "pJuu6a7TPDvT"
      }
    },
    {
      "cell_type": "code",
      "source": [
        "# Menghitung jumlah gender\n",
        "gender_counts = df['Gender'].value_counts()\n",
        "colors = ['#f89f57', '#3eb1c2']\n",
        "explode = (0.1, 0)\n",
        "plt.figure(figsize=(8, 8))\n",
        "gender_counts.plot(kind='pie', autopct='%1.1f%%', startangle=140, colors=colors, explode=explode)\n",
        "plt.title('Perbandingan Jumlah Laki-laki dan Perempuan')\n",
        "\n",
        "plt.show()"
      ],
      "metadata": {
        "colab": {
          "base_uri": "https://localhost:8080/",
          "height": 675
        },
        "id": "mlvR3R-yPH22",
        "outputId": "c6bdd9e9-c39c-49b9-c05f-69216b5e42f5"
      },
      "execution_count": 146,
      "outputs": [
        {
          "output_type": "display_data",
          "data": {
            "text/plain": [
              "<Figure size 800x800 with 1 Axes>"
            ],
            "image/png": "[encoded data removed]"
          },
          "metadata": {}
        }
      ]
    },
    {
      "cell_type": "markdown",
      "source": [
        "Dalam data tersebut, terlihat bahwa proporsi responden lulusan laki-laki dan perempuan memiliki perbedaan sekitar 4%. Persentase lulusan laki-laki sebesar 52%, sedangkan persentase lulusan perempuan sebesar 48%. Hal ini mencerminkan variasi gender dalam data, yang meliputi lulusan sarjana maupun gelar master, serta beragam tingkat pengalaman."
      ],
      "metadata": {
        "id": "8gZvpM85Lp9B"
      }
    },
    {
      "cell_type": "markdown",
      "source": [
        "####Informasi Statistik Visual Tingkat Pendidikan dalam Dataset"
      ],
      "metadata": {
        "id": "JL2xW1q-Pe4M"
      }
    },
    {
      "cell_type": "code",
      "source": [
        "# Hitung jumlah responden berdasarkan tingkat pendidikan dan gender\n",
        "gender_education_counts = df.groupby(['Education Level', 'Gender']).size().unstack()\n",
        "ax = gender_education_counts.plot(kind='bar', figsize=(10, 6), width=0.8, color=['#46b0c1', '#f5a15b'])\n",
        "\n",
        "# Atur label dan judul\n",
        "plt.title('Distribusi Gender Berdasarkan Tingkat Pendidikan', fontsize=16)\n",
        "plt.xlabel('Tingkat Pendidikan', fontsize=14)\n",
        "plt.ylabel('Jumlah Responden', fontsize=14)\n",
        "\n",
        "# Atur label sumbu x agar horizontal\n",
        "plt.xticks(rotation=0, fontsize=12)\n",
        "\n",
        "# Atur label sumbu y agar lebih jelas\n",
        "plt.yticks(np.arange(0, gender_education_counts.max().max() + 10, 10), fontsize=12)\n",
        "\n",
        "# Tambahkan legend\n",
        "plt.legend(title='Gender', fontsize=12)\n",
        "\n",
        "# Atur layout\n",
        "plt.tight_layout()\n",
        "\n",
        "# Tampilkan plot\n",
        "plt.show()"
      ],
      "metadata": {
        "colab": {
          "base_uri": "https://localhost:8080/",
          "height": 557
        },
        "id": "Plc2kX0EXgyl",
        "outputId": "23b542a1-88e9-4691-b6a7-8e03458059ae"
      },
      "execution_count": 147,
      "outputs": [
        {
          "output_type": "display_data",
          "data": {
            "text/plain": [
              "<Figure size 1000x600 with 1 Axes>"
            ],
            "image/png": "[encoded data removed]"
          },
          "metadata": {}
        }
      ]
    },
    {
      "cell_type": "markdown",
      "source": [
        "Berdasarkan visualisasi data distribusi jenis kelamin, terlihat bahwa tidak terdapat perbedaan yang signifikan antara jumlah laki-laki dan perempuan dalam dataset. Dari pie chart, terlihat bahwa sekitar 52% responden adalah laki-laki, sedangkan 48% sisanya adalah perempuan.\n",
        "\n",
        "Selanjutnya, ketika melihat distribusi berdasarkan tingkat pendidikan, terlihat bahwa mayoritas responden memiliki gelar sarjana (Bachelor's), diikuti oleh gelar master (Master's) dan gelar doktor (PhD). Meskipun demikian, terdapat perbedaan kecil antara jumlah laki-laki dan perempuan dalam setiap tingkat pendidikan. Pada tingkat pendidikan sarjana, terdapat sedikit lebih banyak laki-laki daripada perempuan, sementara pada tingkat pendidikan master dan doktor, jumlah perempuan sedikit lebih banyak daripada laki-laki."
      ],
      "metadata": {
        "id": "aATmuv28bfzO"
      }
    },
    {
      "cell_type": "markdown",
      "source": [
        "####Informasi Statistik Visual Gaji berdasarkan Jenis Kelamin dalam Dataset"
      ],
      "metadata": {
        "id": "oGqI--uUSa0v"
      }
    },
    {
      "cell_type": "code",
      "source": [
        "avg_salary = df.groupby(['Gender', 'Years of Experience'])['Salary'].mean().unstack()\n",
        "plt.figure(figsize=(12, 8))\n",
        "\n",
        "# Plot line chart untuk laki-laki\n",
        "male_data = avg_salary.loc['Male']\n",
        "male_data_filtered = male_data[male_data.index.isin(count_by_gender_experience['Male'][count_by_gender_experience['Male'] >= min_observation].index)]\n",
        "plt.plot(male_data_filtered.index, male_data_filtered, marker='o', label='Male')\n",
        "\n",
        "# Plot line chart untuk perempuan\n",
        "female_data = avg_salary.loc['Female']\n",
        "female_data_filtered = female_data[female_data.index.isin(count_by_gender_experience['Female'][count_by_gender_experience['Female'] >= min_observation].index)]\n",
        "plt.plot(female_data_filtered.index, female_data_filtered, marker='o', label='Female')\n",
        "\n",
        "plt.title('Rata-rata Gaji berdasarkan Jenis Kelamin dan Tahun Pengalaman Kerja')\n",
        "plt.xlabel('Tahun Pengalaman Kerja')\n",
        "plt.ylabel('Rata-rata Gaji ($)')\n",
        "plt.legend()\n",
        "plt.grid(True)\n",
        "plt.xticks(rotation=45)\n",
        "\n",
        "# Mengatur format sumbu Y menjadi format mata uang dolar\n",
        "plt.gca().yaxis.set_major_formatter(mtick.StrMethodFormatter('${x:,.0f}'))\n",
        "\n",
        "plt.show()"
      ],
      "metadata": {
        "colab": {
          "base_uri": "https://localhost:8080/",
          "height": 245
        },
        "id": "L9nQoyBBSZ8j",
        "outputId": "fd995645-66f6-4ad3-b97c-2b5b5003e553"
      },
      "execution_count": 148,
      "outputs": [
        {
          "output_type": "error",
          "ename": "NameError",
          "evalue": "name 'count_by_gender_experience' is not defined",
          "traceback": [
            "\u001b[0;31m---------------------------------------------------------------------------\u001b[0m",
            "\u001b[0;31mNameError\u001b[0m                                 Traceback (most recent call last)",
            "\u001b[0;32m<ipython-input-148-f3e15a3f74ef>\u001b[0m in \u001b[0;36m<cell line: 6>\u001b[0;34m()\u001b[0m\n\u001b[1;32m      4\u001b[0m \u001b[0;31m# Plot line chart untuk laki-laki\u001b[0m\u001b[0;34m\u001b[0m\u001b[0;34m\u001b[0m\u001b[0m\n\u001b[1;32m      5\u001b[0m \u001b[0mmale_data\u001b[0m \u001b[0;34m=\u001b[0m \u001b[0mavg_salary\u001b[0m\u001b[0;34m.\u001b[0m\u001b[0mloc\u001b[0m\u001b[0;34m[\u001b[0m\u001b[0;34m'Male'\u001b[0m\u001b[0;34m]\u001b[0m\u001b[0;34m\u001b[0m\u001b[0;34m\u001b[0m\u001b[0m\n\u001b[0;32m----> 6\u001b[0;31m \u001b[0mmale_data_filtered\u001b[0m \u001b[0;34m=\u001b[0m \u001b[0mmale_data\u001b[0m\u001b[0;34m[\u001b[0m\u001b[0mmale_data\u001b[0m\u001b[0;34m.\u001b[0m\u001b[0mindex\u001b[0m\u001b[0;34m.\u001b[0m\u001b[0misin\u001b[0m\u001b[0;34m(\u001b[0m\u001b[0mcount_by_gender_experience\u001b[0m\u001b[0;34m[\u001b[0m\u001b[0;34m'Male'\u001b[0m\u001b[0;34m]\u001b[0m\u001b[0;34m[\u001b[0m\u001b[0mcount_by_gender_experience\u001b[0m\u001b[0;34m[\u001b[0m\u001b[0;34m'Male'\u001b[0m\u001b[0;34m]\u001b[0m \u001b[0;34m>=\u001b[0m \u001b[0mmin_observation\u001b[0m\u001b[0;34m]\u001b[0m\u001b[0;34m.\u001b[0m\u001b[0mindex\u001b[0m\u001b[0;34m)\u001b[0m\u001b[0;34m]\u001b[0m\u001b[0;34m\u001b[0m\u001b[0;34m\u001b[0m\u001b[0m\n\u001b[0m\u001b[1;32m      7\u001b[0m \u001b[0mplt\u001b[0m\u001b[0;34m.\u001b[0m\u001b[0mplot\u001b[0m\u001b[0;34m(\u001b[0m\u001b[0mmale_data_filtered\u001b[0m\u001b[0;34m.\u001b[0m\u001b[0mindex\u001b[0m\u001b[0;34m,\u001b[0m \u001b[0mmale_data_filtered\u001b[0m\u001b[0;34m,\u001b[0m \u001b[0mmarker\u001b[0m\u001b[0;34m=\u001b[0m\u001b[0;34m'o'\u001b[0m\u001b[0;34m,\u001b[0m \u001b[0mlabel\u001b[0m\u001b[0;34m=\u001b[0m\u001b[0;34m'Male'\u001b[0m\u001b[0;34m)\u001b[0m\u001b[0;34m\u001b[0m\u001b[0;34m\u001b[0m\u001b[0m\n\u001b[1;32m      8\u001b[0m \u001b[0;34m\u001b[0m\u001b[0m\n",
            "\u001b[0;31mNameError\u001b[0m: name 'count_by_gender_experience' is not defined"
          ]
        },
        {
          "output_type": "display_data",
          "data": {
            "text/plain": [
              "<Figure size 1200x800 with 0 Axes>"
            ]
          },
          "metadata": {}
        }
      ]
    },
    {
      "cell_type": "markdown",
      "source": [
        "Pada data di atas, terlihat bahwa rata-rata gaji berdasarkan pengalaman kerja menunjukkan variasi yang signifikan. Gaji tertinggi mencapai USD250,000 pertahun, sementara yang terendah berada di bawah USD50,000 pertahun. Data ini menunjukkan bahwa semakin tinggi pengalaman kerja seseorang, semakin tinggi pula gaji yang diterima, baik untuk perempuan maupun laki-laki.\n",
        "\n",
        "Selain itu, tidak terdapat perbedaan gaji yang signifikan antara jenis kelamin dalam dataset ini. Namun, perlu diperhatikan bahwa meskipun terlihat perbedaan gaji meski memiliki pengalaman yang sama, hal itu dipengaruhi oleh perbedaan posisi yang dipegang oleh responden di perusahaan masing-masing. Sebagai contoh, dalam data tersebut, terlihat bahwa laki-laki memiliki gaji lebih tinggi dibandingkan dengan perempuan. Perbedaan ini dipengaruhi oleh faktor seperti gelar lulusan dan posisi dalam perusahaan, di mana laki-laki mungkin menduduki posisi CEO sedangkan perempuan adalah Direktur."
      ],
      "metadata": {
        "id": "jPpz9HpWW0fr"
      }
    },
    {
      "cell_type": "markdown",
      "source": [
        "####Informasi Statistik Visual Gaji berdasarkan Tingkat Pendidikan dan Pengalaman Kerja dalam Dataset"
      ],
      "metadata": {
        "id": "3foJsczkYqvG"
      }
    },
    {
      "cell_type": "code",
      "source": [
        "# Plot bar chart\n",
        "plt.figure(figsize=(12, 8))\n",
        "education_experience_salary.plot(kind='bar', stacked=False, width=0.8)\n",
        "plt.title('Gaji Berdasarkan Tingkat Pendidikan dan Pengalaman Kerja')\n",
        "plt.xlabel('Tingkat Pendidikan')\n",
        "plt.ylabel('Gaji (Annual / Pertahun)')\n",
        "plt.xticks(rotation=45)\n",
        "\n",
        "plt.gca().yaxis.set_major_formatter('${x:,.0f}')\n",
        "\n",
        "# Menambahkan legend di luar chart\n",
        "plt.legend(title='Pengalaman Kerja', loc='upper left', bbox_to_anchor=(1, 1))\n",
        "\n",
        "plt.show()"
      ],
      "metadata": {
        "id": "QgfCNvnhawtY"
      },
      "execution_count": null,
      "outputs": []
    },
    {
      "cell_type": "markdown",
      "source": [
        "Berdasarkan data tersebut, kita dapat melihat bahwa setiap tingkat gelar memiliki pengaruh terhadap peringkat gaji bagi para lulusannya. Pertama-tama, mari kita perhatikan lulusan sarjana. Dengan pengalaman kerja antara 1 hingga 5 tahun, gaji rata-rata mereka mendekati USD50,000 per tahun. Namun, bagi mereka dengan pengalaman kerja lebih dari 6 tahun, gaji rata-rata sudah mencapai sekitar USD90,000 per tahun. Gaji tertinggi untuk lulusan sarjana adalah USD170,000 per tahun.\n",
        "\n",
        "Selanjutnya, lulusan magister dan doktor memiliki gaji per tahun yang tidak terlalu berbeda secara signifikan dengan tingkat pengalaman kerja yang sama. Meskipun demikian, terdapat beberapa responden yang telah mencapai gaji USD250,000 per tahun dengan gelar doktor dan waktu pengalaman kerja yang setara dengan gelar lainnya.\n",
        "\n",
        "Selain itu, tidak terlihat bahwa ada doktor dengan pengalaman di bawah 6 tahun dan tidak ada pula lulusan yang memiliki pengalaman lebih dari 25 tahun. Adapun kesimpulannya, semakin tinggi gelar yang dimiliki, semakin tinggi pula gaji yang mereka terima, meskipun tidak terdapat perbedaan yang signifikan."
      ],
      "metadata": {
        "id": "rKs0lxxLyW0u"
      }
    },
    {
      "cell_type": "markdown",
      "source": [
        "####Informasi Statistik Visual Korelasi antara Kolom Data dalam Dataset"
      ],
      "metadata": {
        "id": "_BdK5e_SY02N"
      }
    },
    {
      "cell_type": "code",
      "source": [
        "# Membuat heatmap korelasi\n",
        "correlation_matrix = df.corr()\n",
        "plt.figure(figsize=(10, 8))\n",
        "sns.heatmap(correlation_matrix, annot=True, cmap='coolwarm', fmt=\".2f\", linewidths=0.5)\n",
        "plt.title('Korelasi antara Kolom Data')\n",
        "plt.show()"
      ],
      "metadata": {
        "id": "e29Pw79ztXwB"
      },
      "execution_count": null,
      "outputs": []
    },
    {
      "cell_type": "markdown",
      "source": [
        "Berdasarkan korelasi yang diamati dalam data tersebut, dapat disimpulkan bahwa terdapat hubungan yang kuat antara beberapa variabel utama. Pertama, terdapat korelasi yang sangat tinggi antara usia seseorang dan jumlah tahun pengalaman kerja yang dimiliki. Hal ini menunjukkan bahwa semakin tua seseorang, semakin banyak pengalaman kerja yang mereka miliki.\n",
        "\n",
        "Selanjutnya, terdapat korelasi yang kuat antara usia dan tingkat gaji yang diterima seseorang. Artinya, semakin tua seseorang, cenderung semakin tinggi pula gaji yang mereka terima. Selain itu, korelasi antara jumlah tahun pengalaman kerja dan tingkat gaji juga cukup signifikan. Semakin lama seseorang memiliki pengalaman kerja, semakin besar kemungkinan mereka mendapatkan gaji yang lebih tinggi.\n",
        "\n",
        "Dengan demikian, dari korelasi ini dapat disimpulkan bahwa usia, tahun pengalaman, dan gaji saling terkait secara positif, dimana semakin tua dan berpengalaman seseorang, cenderung mendapatkan gaji yang lebih tinggi."
      ],
      "metadata": {
        "id": "SIZRtE2H1fL2"
      }
    },
    {
      "cell_type": "markdown",
      "source": [
        "##**Verify Data Quality**"
      ],
      "metadata": {
        "id": "eRStvZN88L3h"
      }
    },
    {
      "cell_type": "markdown",
      "source": [
        "####Missing Values"
      ],
      "metadata": {
        "id": "VBFSqN4i8Z28"
      }
    },
    {
      "cell_type": "code",
      "source": [
        "# Mengecek apakah ada nilai kosong pada tiap kolom\n",
        "missing_values = df.isnull().sum()\n",
        "print(\"Kolom dengan nilai kosong:\")\n",
        "print(missing_values[missing_values > 0])"
      ],
      "metadata": {
        "id": "VvEFZm8i6Ppd",
        "colab": {
          "base_uri": "https://localhost:8080/"
        },
        "outputId": "d5c3fca7-6ef4-4124-cc0e-176ffe9689fc"
      },
      "execution_count": 149,
      "outputs": [
        {
          "output_type": "stream",
          "name": "stdout",
          "text": [
            "Kolom dengan nilai kosong:\n",
            "Age                    2\n",
            "Gender                 2\n",
            "Education Level        2\n",
            "Job Title              2\n",
            "Years of Experience    2\n",
            "Salary                 2\n",
            "dtype: int64\n"
          ]
        }
      ]
    },
    {
      "cell_type": "markdown",
      "source": [
        "Dari hasil pengecekan nilai kosong, terdapat beberapa kolom dalam dataset yang memiliki nilai kosong. Kolom-kolom tersebut meliputi usia responden, jenis kelamin, tingkat pendidikan, jabatan, tahun pengalaman kerja, gaji, dan interval pengalaman. Kehadiran nilai kosong dalam kolom-kolom ini bisa berdampak pada analisis yang bergantung pada informasi tersebut. Misalnya, ketiadaan nilai pada kolom usia atau gaji dapat memengaruhi pemahaman tentang demografi responden atau analisis kompensasi."
      ],
      "metadata": {
        "id": "jyFZVUNI7evX"
      }
    },
    {
      "cell_type": "markdown",
      "source": [
        "####Outliers Values"
      ],
      "metadata": {
        "id": "Te7DeFJ38bOy"
      }
    },
    {
      "cell_type": "code",
      "source": [
        "# Pilih kolom-kolom numerik\n",
        "numeric_columns = df.select_dtypes(include=['int', 'float']).columns\n",
        "\n",
        "# Menghitung IQR untuk setiap kolom numerik\n",
        "Q1 = df[numeric_columns].quantile(0.25)\n",
        "Q3 = df[numeric_columns].quantile(0.75)\n",
        "IQR = Q3 - Q1\n",
        "\n",
        "# Menentukan batas bawah dan atas untuk outlier values\n",
        "lower_bound = Q1 - 1.5 * IQR\n",
        "upper_bound = Q3 + 1.5 * IQR\n",
        "\n",
        "# Mencari outlier values untuk setiap kolom numerik\n",
        "outliers = (df[numeric_columns] < lower_bound) | (df[numeric_columns] > upper_bound)\n",
        "\n",
        "# Menampilkan outlier values untuk setiap kolom\n",
        "print(\"Outlier Values:\")\n",
        "print(outliers.sum())"
      ],
      "metadata": {
        "id": "4SUqgHAF8DKc",
        "colab": {
          "base_uri": "https://localhost:8080/"
        },
        "outputId": "bdfe0b1b-0c26-4eeb-e176-ace1950d8373"
      },
      "execution_count": 150,
      "outputs": [
        {
          "output_type": "stream",
          "name": "stdout",
          "text": [
            "Outlier Values:\n",
            "Age                    0\n",
            "Years of Experience    0\n",
            "Salary                 0\n",
            "dtype: int64\n"
          ]
        }
      ]
    },
    {
      "cell_type": "markdown",
      "source": [
        "Dalam dataset tersebut, tidak ditemukan outlier values dalam kolom Age, Years of Experience, dan Salary. Ini menunjukkan bahwa tidak ada nilai ekstrim atau tidak biasa dalam data untuk ketiga kolom tersebut."
      ],
      "metadata": {
        "id": "LbTUcYib8x_A"
      }
    },
    {
      "cell_type": "markdown",
      "source": [
        "####Duplicated Values"
      ],
      "metadata": {
        "id": "tUtkkGjZ8dFC"
      }
    },
    {
      "cell_type": "code",
      "source": [
        "# Mencari nilai-nilai yang diduplikasi dalam dataset\n",
        "duplicated_values = df[df.duplicated()]\n",
        "\n",
        "# Menampilkan nilai-nilai yang diduplikasi\n",
        "print(\"Duplicated Values:\")\n",
        "print(duplicated_values)"
      ],
      "metadata": {
        "id": "1vrv9_jp9LZs",
        "colab": {
          "base_uri": "https://localhost:8080/"
        },
        "outputId": "fc6796df-0a2d-453f-875a-bb7e13299fda"
      },
      "execution_count": 151,
      "outputs": [
        {
          "output_type": "stream",
          "name": "stdout",
          "text": [
            "Duplicated Values:\n",
            "      Age  Gender Education Level                              Job Title  \\\n",
            "195  28.0    Male      Bachelor's                Junior Business Analyst   \n",
            "250  30.0  Female      Bachelor's           Junior Marketing Coordinator   \n",
            "251  38.0    Male        Master's                   Senior IT Consultant   \n",
            "252  45.0  Female             PhD                Senior Product Designer   \n",
            "253  28.0    Male      Bachelor's  Junior Business Development Associate   \n",
            "254  35.0  Female      Bachelor's               Senior Marketing Analyst   \n",
            "255  44.0    Male      Bachelor's               Senior Software Engineer   \n",
            "256  34.0  Female        Master's               Senior Financial Advisor   \n",
            "257  35.0    Male      Bachelor's             Senior Project Coordinator   \n",
            "258  50.0  Female             PhD                 Director of Operations   \n",
            "260   NaN     NaN             NaN                                    NaN   \n",
            "262  46.0    Male             PhD                  Senior Data Scientist   \n",
            "281  41.0  Female      Bachelor's             Senior Project Coordinator   \n",
            "287  35.0  Female      Bachelor's               Senior Marketing Analyst   \n",
            "303  45.0    Male             PhD                   Senior Data Engineer   \n",
            "306  49.0  Female        Master's                  Director of Marketing   \n",
            "307  31.0    Male      Bachelor's              Junior Operations Analyst   \n",
            "309  47.0    Male        Master's                  Director of Marketing   \n",
            "310  29.0  Female      Bachelor's  Junior Business Development Associate   \n",
            "311  35.0    Male      Bachelor's               Senior Financial Manager   \n",
            "312  44.0  Female             PhD                Senior Product Designer   \n",
            "313  33.0    Male      Bachelor's                Junior Business Analyst   \n",
            "314  35.0  Female      Bachelor's               Senior Marketing Analyst   \n",
            "315  44.0    Male      Bachelor's               Senior Software Engineer   \n",
            "317  36.0    Male      Bachelor's            Senior Marketing Specialist   \n",
            "328  38.0  Female      Bachelor's                Senior Business Analyst   \n",
            "345  33.0    Male      Bachelor's                Junior Business Analyst   \n",
            "346  35.0  Female      Bachelor's               Senior Marketing Analyst   \n",
            "352  38.0  Female      Bachelor's                Senior Business Analyst   \n",
            "353  48.0    Male        Master's                  Director of Marketing   \n",
            "354  31.0  Female      Bachelor's  Junior Business Development Associate   \n",
            "355  40.0    Male      Bachelor's               Senior Financial Analyst   \n",
            "356  45.0  Female             PhD                     Senior UX Designer   \n",
            "357  33.0    Male      Bachelor's                 Junior Product Manager   \n",
            "358  36.0  Female      Bachelor's               Senior Marketing Manager   \n",
            "359  47.0    Male        Master's                 Director of Operations   \n",
            "360  29.0  Female      Bachelor's                 Junior Project Manager   \n",
            "361  34.0    Male      Bachelor's          Senior Operations Coordinator   \n",
            "362  44.0  Female             PhD                Senior Business Analyst   \n",
            "363  33.0    Male      Bachelor's            Junior Marketing Specialist   \n",
            "364  35.0  Female      Bachelor's               Senior Financial Manager   \n",
            "365  43.0    Male        Master's                  Director of Marketing   \n",
            "366  31.0  Female      Bachelor's               Junior Financial Analyst   \n",
            "367  41.0    Male      Bachelor's                 Senior Product Manager   \n",
            "368  44.0  Female             PhD                   Senior Data Engineer   \n",
            "369  33.0    Male      Bachelor's                Junior Business Analyst   \n",
            "370  35.0  Female      Bachelor's               Senior Marketing Analyst   \n",
            "372  29.0  Female      Bachelor's                 Junior Project Manager   \n",
            "373  34.0    Male      Bachelor's          Senior Operations Coordinator   \n",
            "374  44.0  Female             PhD                Senior Business Analyst   \n",
            "\n",
            "     Years of Experience    Salary  \n",
            "195                  2.0   40000.0  \n",
            "250                  2.0   40000.0  \n",
            "251                  9.0  110000.0  \n",
            "252                 15.0  150000.0  \n",
            "253                  2.0   40000.0  \n",
            "254                  8.0   85000.0  \n",
            "255                 14.0  130000.0  \n",
            "256                  6.0  100000.0  \n",
            "257                  9.0   95000.0  \n",
            "258                 22.0  180000.0  \n",
            "260                  NaN       NaN  \n",
            "262                 18.0  160000.0  \n",
            "281                 11.0   95000.0  \n",
            "287                  8.0   85000.0  \n",
            "303                 16.0  150000.0  \n",
            "306                 21.0  180000.0  \n",
            "307                  3.0   50000.0  \n",
            "309                 19.0  170000.0  \n",
            "310                  1.5   35000.0  \n",
            "311                  9.0  100000.0  \n",
            "312                 15.0  150000.0  \n",
            "313                  4.0   60000.0  \n",
            "314                  8.0   85000.0  \n",
            "315                 13.0  130000.0  \n",
            "317                  8.0   95000.0  \n",
            "328                 10.0  110000.0  \n",
            "345                  4.0   60000.0  \n",
            "346                  8.0   85000.0  \n",
            "352                 10.0  110000.0  \n",
            "353                 21.0  180000.0  \n",
            "354                  3.0   50000.0  \n",
            "355                 12.0  130000.0  \n",
            "356                 16.0  160000.0  \n",
            "357                  4.0   60000.0  \n",
            "358                  8.0   95000.0  \n",
            "359                 19.0  170000.0  \n",
            "360                  2.0   40000.0  \n",
            "361                  7.0   90000.0  \n",
            "362                 15.0  150000.0  \n",
            "363                  5.0   70000.0  \n",
            "364                  8.0   90000.0  \n",
            "365                 18.0  170000.0  \n",
            "366                  3.0   50000.0  \n",
            "367                 14.0  150000.0  \n",
            "368                 16.0  160000.0  \n",
            "369                  4.0   60000.0  \n",
            "370                  8.0   85000.0  \n",
            "372                  2.0   40000.0  \n",
            "373                  7.0   90000.0  \n",
            "374                 15.0  150000.0  \n"
          ]
        }
      ]
    },
    {
      "cell_type": "markdown",
      "source": [
        "Berdasarkan hasil pengecekan nilai duplikat dalam dataset, ditemukan bahwa beberapa baris memiliki nilai yang sama untuk setiap kolom, khususnya pada atribut yang berkaitan langsung dengan analisis gaji seperti 'Job Title', 'Years of Experience', dan 'Salary'. Dalam konteks dataset yang menunjukkan informasi gaji para lulusan, adanya duplikasi data seperti ini diharapkan dan tidak dianggap sebagai masalah yang mengganggu analisis."
      ],
      "metadata": {
        "id": "AO2Y3siO9Za9"
      }
    },
    {
      "cell_type": "markdown",
      "source": [
        "####Inconsistent Values / Noise (Optional)"
      ],
      "metadata": {
        "id": "hUHx-0WO8fOm"
      }
    },
    {
      "cell_type": "markdown",
      "source": [
        "#**DATA CLEANING**"
      ],
      "metadata": {
        "id": "6Amqn7kwzIrA"
      }
    },
    {
      "cell_type": "markdown",
      "source": [
        "###**Penanganan Missing Values**"
      ],
      "metadata": {
        "id": "6YTG1zJ2z7WY"
      }
    },
    {
      "cell_type": "markdown",
      "source": [
        "#####**Pengecekkan Missing Values**"
      ],
      "metadata": {
        "id": "sJmdqDAf0B-5"
      }
    },
    {
      "cell_type": "code",
      "source": [
        "print((df.isna().sum() / len(df)) * 100)"
      ],
      "metadata": {
        "id": "vPKtjUAw0KjH",
        "colab": {
          "base_uri": "https://localhost:8080/"
        },
        "outputId": "4ea03d3c-8da4-4c42-d5e3-585a76e69445"
      },
      "execution_count": 152,
      "outputs": [
        {
          "output_type": "stream",
          "name": "stdout",
          "text": [
            "Age                    0.533333\n",
            "Gender                 0.533333\n",
            "Education Level        0.533333\n",
            "Job Title              0.533333\n",
            "Years of Experience    0.533333\n",
            "Salary                 0.533333\n",
            "dtype: float64\n"
          ]
        }
      ]
    },
    {
      "cell_type": "markdown",
      "source": [
        "Dalam pengecekan tersebut, ditemukan missing value sebesar 53.33% atau kurang dari 70%, maka langkah yang diambil adalah melakukan imputasi terhadap missing value tersebut. Adapun langkahnya adalah sebagai berikut ini."
      ],
      "metadata": {
        "id": "J2KwweKsAtrP"
      }
    },
    {
      "cell_type": "code",
      "source": [
        "df[df['Age'].isnull()]\n",
        "df[df['Gender'].isnull()]\n",
        "df[df['Education Level'].isnull()]"
      ],
      "metadata": {
        "colab": {
          "base_uri": "https://localhost:8080/",
          "height": 408
        },
        "id": "Cs1lCpoO16qb",
        "outputId": "f5736bfa-1e32-4993-ff25-e21ea447f1d0"
      },
      "execution_count": 201,
      "outputs": [
        {
          "output_type": "error",
          "ename": "KeyError",
          "evalue": "'Gender'",
          "traceback": [
            "\u001b[0;31m---------------------------------------------------------------------------\u001b[0m",
            "\u001b[0;31mKeyError\u001b[0m                                  Traceback (most recent call last)",
            "\u001b[0;32m/usr/local/lib/python3.10/dist-packages/pandas/core/indexes/base.py\u001b[0m in \u001b[0;36mget_loc\u001b[0;34m(self, key, method, tolerance)\u001b[0m\n\u001b[1;32m   3801\u001b[0m             \u001b[0;32mtry\u001b[0m\u001b[0;34m:\u001b[0m\u001b[0;34m\u001b[0m\u001b[0;34m\u001b[0m\u001b[0m\n\u001b[0;32m-> 3802\u001b[0;31m                 \u001b[0;32mreturn\u001b[0m \u001b[0mself\u001b[0m\u001b[0;34m.\u001b[0m\u001b[0m_engine\u001b[0m\u001b[0;34m.\u001b[0m\u001b[0mget_loc\u001b[0m\u001b[0;34m(\u001b[0m\u001b[0mcasted_key\u001b[0m\u001b[0;34m)\u001b[0m\u001b[0;34m\u001b[0m\u001b[0;34m\u001b[0m\u001b[0m\n\u001b[0m\u001b[1;32m   3803\u001b[0m             \u001b[0;32mexcept\u001b[0m \u001b[0mKeyError\u001b[0m \u001b[0;32mas\u001b[0m \u001b[0merr\u001b[0m\u001b[0;34m:\u001b[0m\u001b[0;34m\u001b[0m\u001b[0;34m\u001b[0m\u001b[0m\n",
            "\u001b[0;32m/usr/local/lib/python3.10/dist-packages/pandas/_libs/index.pyx\u001b[0m in \u001b[0;36mpandas._libs.index.IndexEngine.get_loc\u001b[0;34m()\u001b[0m\n",
            "\u001b[0;32m/usr/local/lib/python3.10/dist-packages/pandas/_libs/index.pyx\u001b[0m in \u001b[0;36mpandas._libs.index.IndexEngine.get_loc\u001b[0;34m()\u001b[0m\n",
            "\u001b[0;32m/usr/local/lib/python3.10/dist-packages/pandas/_libs/index.pyx\u001b[0m in \u001b[0;36mpandas._libs.index.IndexEngine._get_loc_duplicates\u001b[0;34m()\u001b[0m\n",
            "\u001b[0;32m/usr/local/lib/python3.10/dist-packages/pandas/_libs/index.pyx\u001b[0m in \u001b[0;36mpandas._libs.index.IndexEngine._maybe_get_bool_indexer\u001b[0;34m()\u001b[0m\n",
            "\u001b[0;32m/usr/local/lib/python3.10/dist-packages/pandas/_libs/index.pyx\u001b[0m in \u001b[0;36mpandas._libs.index._unpack_bool_indexer\u001b[0;34m()\u001b[0m\n",
            "\u001b[0;31mKeyError\u001b[0m: 'Gender'",
            "\nThe above exception was the direct cause of the following exception:\n",
            "\u001b[0;31mKeyError\u001b[0m                                  Traceback (most recent call last)",
            "\u001b[0;32m<ipython-input-201-146adf655408>\u001b[0m in \u001b[0;36m<cell line: 2>\u001b[0;34m()\u001b[0m\n\u001b[1;32m      1\u001b[0m \u001b[0mdf\u001b[0m\u001b[0;34m[\u001b[0m\u001b[0mdf\u001b[0m\u001b[0;34m[\u001b[0m\u001b[0;34m'Age'\u001b[0m\u001b[0;34m]\u001b[0m\u001b[0;34m.\u001b[0m\u001b[0misnull\u001b[0m\u001b[0;34m(\u001b[0m\u001b[0;34m)\u001b[0m\u001b[0;34m]\u001b[0m\u001b[0;34m\u001b[0m\u001b[0;34m\u001b[0m\u001b[0m\n\u001b[0;32m----> 2\u001b[0;31m \u001b[0mdf\u001b[0m\u001b[0;34m[\u001b[0m\u001b[0mdf\u001b[0m\u001b[0;34m[\u001b[0m\u001b[0;34m'Gender'\u001b[0m\u001b[0;34m]\u001b[0m\u001b[0;34m.\u001b[0m\u001b[0misnull\u001b[0m\u001b[0;34m(\u001b[0m\u001b[0;34m)\u001b[0m\u001b[0;34m]\u001b[0m\u001b[0;34m\u001b[0m\u001b[0;34m\u001b[0m\u001b[0m\n\u001b[0m\u001b[1;32m      3\u001b[0m \u001b[0mdf\u001b[0m\u001b[0;34m[\u001b[0m\u001b[0mdf\u001b[0m\u001b[0;34m[\u001b[0m\u001b[0;34m'Education Level'\u001b[0m\u001b[0;34m]\u001b[0m\u001b[0;34m.\u001b[0m\u001b[0misnull\u001b[0m\u001b[0;34m(\u001b[0m\u001b[0;34m)\u001b[0m\u001b[0;34m]\u001b[0m\u001b[0;34m\u001b[0m\u001b[0;34m\u001b[0m\u001b[0m\n",
            "\u001b[0;32m/usr/local/lib/python3.10/dist-packages/pandas/core/frame.py\u001b[0m in \u001b[0;36m__getitem__\u001b[0;34m(self, key)\u001b[0m\n\u001b[1;32m   3805\u001b[0m             \u001b[0;32mif\u001b[0m \u001b[0mself\u001b[0m\u001b[0;34m.\u001b[0m\u001b[0mcolumns\u001b[0m\u001b[0;34m.\u001b[0m\u001b[0mnlevels\u001b[0m \u001b[0;34m>\u001b[0m \u001b[0;36m1\u001b[0m\u001b[0;34m:\u001b[0m\u001b[0;34m\u001b[0m\u001b[0;34m\u001b[0m\u001b[0m\n\u001b[1;32m   3806\u001b[0m                 \u001b[0;32mreturn\u001b[0m \u001b[0mself\u001b[0m\u001b[0;34m.\u001b[0m\u001b[0m_getitem_multilevel\u001b[0m\u001b[0;34m(\u001b[0m\u001b[0mkey\u001b[0m\u001b[0;34m)\u001b[0m\u001b[0;34m\u001b[0m\u001b[0;34m\u001b[0m\u001b[0m\n\u001b[0;32m-> 3807\u001b[0;31m             \u001b[0mindexer\u001b[0m \u001b[0;34m=\u001b[0m \u001b[0mself\u001b[0m\u001b[0;34m.\u001b[0m\u001b[0mcolumns\u001b[0m\u001b[0;34m.\u001b[0m\u001b[0mget_loc\u001b[0m\u001b[0;34m(\u001b[0m\u001b[0mkey\u001b[0m\u001b[0;34m)\u001b[0m\u001b[0;34m\u001b[0m\u001b[0;34m\u001b[0m\u001b[0m\n\u001b[0m\u001b[1;32m   3808\u001b[0m             \u001b[0;32mif\u001b[0m \u001b[0mis_integer\u001b[0m\u001b[0;34m(\u001b[0m\u001b[0mindexer\u001b[0m\u001b[0;34m)\u001b[0m\u001b[0;34m:\u001b[0m\u001b[0;34m\u001b[0m\u001b[0;34m\u001b[0m\u001b[0m\n\u001b[1;32m   3809\u001b[0m                 \u001b[0mindexer\u001b[0m \u001b[0;34m=\u001b[0m \u001b[0;34m[\u001b[0m\u001b[0mindexer\u001b[0m\u001b[0;34m]\u001b[0m\u001b[0;34m\u001b[0m\u001b[0;34m\u001b[0m\u001b[0m\n",
            "\u001b[0;32m/usr/local/lib/python3.10/dist-packages/pandas/core/indexes/base.py\u001b[0m in \u001b[0;36mget_loc\u001b[0;34m(self, key, method, tolerance)\u001b[0m\n\u001b[1;32m   3802\u001b[0m                 \u001b[0;32mreturn\u001b[0m \u001b[0mself\u001b[0m\u001b[0;34m.\u001b[0m\u001b[0m_engine\u001b[0m\u001b[0;34m.\u001b[0m\u001b[0mget_loc\u001b[0m\u001b[0;34m(\u001b[0m\u001b[0mcasted_key\u001b[0m\u001b[0;34m)\u001b[0m\u001b[0;34m\u001b[0m\u001b[0;34m\u001b[0m\u001b[0m\n\u001b[1;32m   3803\u001b[0m             \u001b[0;32mexcept\u001b[0m \u001b[0mKeyError\u001b[0m \u001b[0;32mas\u001b[0m \u001b[0merr\u001b[0m\u001b[0;34m:\u001b[0m\u001b[0;34m\u001b[0m\u001b[0;34m\u001b[0m\u001b[0m\n\u001b[0;32m-> 3804\u001b[0;31m                 \u001b[0;32mraise\u001b[0m \u001b[0mKeyError\u001b[0m\u001b[0;34m(\u001b[0m\u001b[0mkey\u001b[0m\u001b[0;34m)\u001b[0m \u001b[0;32mfrom\u001b[0m \u001b[0merr\u001b[0m\u001b[0;34m\u001b[0m\u001b[0;34m\u001b[0m\u001b[0m\n\u001b[0m\u001b[1;32m   3805\u001b[0m             \u001b[0;32mexcept\u001b[0m \u001b[0mTypeError\u001b[0m\u001b[0;34m:\u001b[0m\u001b[0;34m\u001b[0m\u001b[0;34m\u001b[0m\u001b[0m\n\u001b[1;32m   3806\u001b[0m                 \u001b[0;31m# If we have a listlike key, _check_indexing_error will raise\u001b[0m\u001b[0;34m\u001b[0m\u001b[0;34m\u001b[0m\u001b[0m\n",
            "\u001b[0;31mKeyError\u001b[0m: 'Gender'"
          ]
        }
      ]
    },
    {
      "cell_type": "markdown",
      "source": [
        "#####**Imputasi Missing Values**"
      ],
      "metadata": {
        "id": "q5hGWQv32-7e"
      }
    },
    {
      "cell_type": "code",
      "source": [
        "mode_education = df['Education Level'].mode()[0]\n",
        "df['Education Level'].fillna(mode_education, inplace=True)"
      ],
      "metadata": {
        "id": "PRhY20xO3Bcy"
      },
      "execution_count": 154,
      "outputs": []
    },
    {
      "cell_type": "code",
      "source": [
        "mean_age = df['Age'].mean()\n",
        "df['Age'].fillna(mean_age, inplace=True)\n",
        "\n",
        "mean_experience = df['Years of Experience'].mean()\n",
        "df['Years of Experience'].fillna(mean_experience, inplace=True)\n",
        "\n",
        "mean_salary = df['Salary'].mean()\n",
        "df['Salary'].fillna(mean_salary, inplace=True)"
      ],
      "metadata": {
        "id": "G7GK2psN316N"
      },
      "execution_count": 155,
      "outputs": []
    },
    {
      "cell_type": "markdown",
      "source": [
        "Disini kita akan melakukan imputasi missing value dengan menggunakan mean / nilai rata-rata, yaitu:\n",
        "\n",
        "Mode (Modus) untuk 'Education Level': Digunakan untuk mengisi nilai yang hilang dalam kolom 'Education Level'. Yaitu dengan mencari nilai modus pada kolom Education Level.\n",
        "\n",
        "Mean (Rata-rata) untuk 'Age', 'Years of Experience', dan 'Salary': Digunakan untuk mengisi nilai yang hilang dalam kolom 'Age', 'Years of Experience', dan 'Salary'. Rata-rata adalah jumlah dari semua nilai dalam suatu kolom dibagi dengan jumlah total nilai. Cara ini adalah pendekatan umum untuk mengisi nilai yang hilang ketika data terdistribusi secara normal."
      ],
      "metadata": {
        "id": "lUiXrTKpBM0i"
      }
    },
    {
      "cell_type": "markdown",
      "source": [
        "#####**Pengecekkan Ulang**"
      ],
      "metadata": {
        "id": "RHI4J21Z4CER"
      }
    },
    {
      "cell_type": "code",
      "source": [
        "pd.DataFrame(df.isna().sum() / len(df) * 100, columns=['Null Ratio %'])"
      ],
      "metadata": {
        "colab": {
          "base_uri": "https://localhost:8080/",
          "height": 238
        },
        "id": "-vHMtxK44Bs6",
        "outputId": "deba8c15-7f44-4e23-9a76-9e1b3221b74d"
      },
      "execution_count": 166,
      "outputs": [
        {
          "output_type": "execute_result",
          "data": {
            "text/plain": [
              "                     Null Ratio %\n",
              "Age                      0.000000\n",
              "Gender                   0.533333\n",
              "Education Level          0.000000\n",
              "Job Title                0.533333\n",
              "Years of Experience      0.000000\n",
              "Salary                   0.000000"
            ],
            "text/html": [
              "\n",
              "  <div id=\"df-45286e3e-7b8d-4372-91b8-9764d3ae5f14\" class=\"colab-df-container\">\n",
              "    <div>\n",
              "<style scoped>\n",
              "    .dataframe tbody tr th:only-of-type {\n",
              "        vertical-align: middle;\n",
              "    }\n",
              "\n",
              "    .dataframe tbody tr th {\n",
              "        vertical-align: top;\n",
              "    }\n",
              "\n",
              "    .dataframe thead th {\n",
              "        text-align: right;\n",
              "    }\n",
              "</style>\n",
              "<table border=\"1\" class=\"dataframe\">\n",
              "  <thead>\n",
              "    <tr style=\"text-align: right;\">\n",
              "      <th></th>\n",
              "      <th>Null Ratio %</th>\n",
              "    </tr>\n",
              "  </thead>\n",
              "  <tbody>\n",
              "    <tr>\n",
              "      <th>Age</th>\n",
              "      <td>0.000000</td>\n",
              "    </tr>\n",
              "    <tr>\n",
              "      <th>Gender</th>\n",
              "      <td>0.533333</td>\n",
              "    </tr>\n",
              "    <tr>\n",
              "      <th>Education Level</th>\n",
              "      <td>0.000000</td>\n",
              "    </tr>\n",
              "    <tr>\n",
              "      <th>Job Title</th>\n",
              "      <td>0.533333</td>\n",
              "    </tr>\n",
              "    <tr>\n",
              "      <th>Years of Experience</th>\n",
              "      <td>0.000000</td>\n",
              "    </tr>\n",
              "    <tr>\n",
              "      <th>Salary</th>\n",
              "      <td>0.000000</td>\n",
              "    </tr>\n",
              "  </tbody>\n",
              "</table>\n",
              "</div>\n",
              "    <div class=\"colab-df-buttons\">\n",
              "\n",
              "  <div class=\"colab-df-container\">\n",
              "    <button class=\"colab-df-convert\" onclick=\"convertToInteractive('df-45286e3e-7b8d-4372-91b8-9764d3ae5f14')\"\n",
              "            title=\"Convert this dataframe to an interactive table.\"\n",
              "            style=\"display:none;\">\n",
              "\n",
              "  <svg xmlns=\"http://www.w3.org/2000/svg\" height=\"24px\" viewBox=\"0 -960 960 960\">\n",
              "    <path d=\"M120-120v-720h720v720H120Zm60-500h600v-160H180v160Zm220 220h160v-160H400v160Zm0 220h160v-160H400v160ZM180-400h160v-160H180v160Zm440 0h160v-160H620v160ZM180-180h160v-160H180v160Zm440 0h160v-160H620v160Z\"/>\n",
              "  </svg>\n",
              "    </button>\n",
              "\n",
              "  <style>\n",
              "    .colab-df-container {\n",
              "      display:flex;\n",
              "      gap: 12px;\n",
              "    }\n",
              "\n",
              "    .colab-df-convert {\n",
              "      background-color: #E8F0FE;\n",
              "      border: none;\n",
              "      border-radius: 50%;\n",
              "      cursor: pointer;\n",
              "      display: none;\n",
              "      fill: #1967D2;\n",
              "      height: 32px;\n",
              "      padding: 0 0 0 0;\n",
              "      width: 32px;\n",
              "    }\n",
              "\n",
              "    .colab-df-convert:hover {\n",
              "      background-color: #E2EBFA;\n",
              "      box-shadow: 0px 1px 2px rgba(60, 64, 67, 0.3), 0px 1px 3px 1px rgba(60, 64, 67, 0.15);\n",
              "      fill: #174EA6;\n",
              "    }\n",
              "\n",
              "    .colab-df-buttons div {\n",
              "      margin-bottom: 4px;\n",
              "    }\n",
              "\n",
              "    [theme=dark] .colab-df-convert {\n",
              "      background-color: #3B4455;\n",
              "      fill: #D2E3FC;\n",
              "    }\n",
              "\n",
              "    [theme=dark] .colab-df-convert:hover {\n",
              "      background-color: #434B5C;\n",
              "      box-shadow: 0px 1px 3px 1px rgba(0, 0, 0, 0.15);\n",
              "      filter: drop-shadow(0px 1px 2px rgba(0, 0, 0, 0.3));\n",
              "      fill: #FFFFFF;\n",
              "    }\n",
              "  </style>\n",
              "\n",
              "    <script>\n",
              "      const buttonEl =\n",
              "        document.querySelector('#df-45286e3e-7b8d-4372-91b8-9764d3ae5f14 button.colab-df-convert');\n",
              "      buttonEl.style.display =\n",
              "        google.colab.kernel.accessAllowed ? 'block' : 'none';\n",
              "\n",
              "      async function convertToInteractive(key) {\n",
              "        const element = document.querySelector('#df-45286e3e-7b8d-4372-91b8-9764d3ae5f14');\n",
              "        const dataTable =\n",
              "          await google.colab.kernel.invokeFunction('convertToInteractive',\n",
              "                                                    [key], {});\n",
              "        if (!dataTable) return;\n",
              "\n",
              "        const docLinkHtml = 'Like what you see? Visit the ' +\n",
              "          '<a target=\"_blank\" href=https://colab.research.google.com/notebooks/data_table.ipynb>data table notebook</a>'\n",
              "          + ' to learn more about interactive tables.';\n",
              "        element.innerHTML = '';\n",
              "        dataTable['output_type'] = 'display_data';\n",
              "        await google.colab.output.renderOutput(dataTable, element);\n",
              "        const docLink = document.createElement('div');\n",
              "        docLink.innerHTML = docLinkHtml;\n",
              "        element.appendChild(docLink);\n",
              "      }\n",
              "    </script>\n",
              "  </div>\n",
              "\n",
              "\n",
              "<div id=\"df-df80ca85-8868-4fca-8503-a6cc968b57df\">\n",
              "  <button class=\"colab-df-quickchart\" onclick=\"quickchart('df-df80ca85-8868-4fca-8503-a6cc968b57df')\"\n",
              "            title=\"Suggest charts\"\n",
              "            style=\"display:none;\">\n",
              "\n",
              "<svg xmlns=\"http://www.w3.org/2000/svg\" height=\"24px\"viewBox=\"0 0 24 24\"\n",
              "     width=\"24px\">\n",
              "    <g>\n",
              "        <path d=\"M19 3H5c-1.1 0-2 .9-2 2v14c0 1.1.9 2 2 2h14c1.1 0 2-.9 2-2V5c0-1.1-.9-2-2-2zM9 17H7v-7h2v7zm4 0h-2V7h2v10zm4 0h-2v-4h2v4z\"/>\n",
              "    </g>\n",
              "</svg>\n",
              "  </button>\n",
              "\n",
              "<style>\n",
              "  .colab-df-quickchart {\n",
              "      --bg-color: #E8F0FE;\n",
              "      --fill-color: #1967D2;\n",
              "      --hover-bg-color: #E2EBFA;\n",
              "      --hover-fill-color: #174EA6;\n",
              "      --disabled-fill-color: #AAA;\n",
              "      --disabled-bg-color: #DDD;\n",
              "  }\n",
              "\n",
              "  [theme=dark] .colab-df-quickchart {\n",
              "      --bg-color: #3B4455;\n",
              "      --fill-color: #D2E3FC;\n",
              "      --hover-bg-color: #434B5C;\n",
              "      --hover-fill-color: #FFFFFF;\n",
              "      --disabled-bg-color: #3B4455;\n",
              "      --disabled-fill-color: #666;\n",
              "  }\n",
              "\n",
              "  .colab-df-quickchart {\n",
              "    background-color: var(--bg-color);\n",
              "    border: none;\n",
              "    border-radius: 50%;\n",
              "    cursor: pointer;\n",
              "    display: none;\n",
              "    fill: var(--fill-color);\n",
              "    height: 32px;\n",
              "    padding: 0;\n",
              "    width: 32px;\n",
              "  }\n",
              "\n",
              "  .colab-df-quickchart:hover {\n",
              "    background-color: var(--hover-bg-color);\n",
              "    box-shadow: 0 1px 2px rgba(60, 64, 67, 0.3), 0 1px 3px 1px rgba(60, 64, 67, 0.15);\n",
              "    fill: var(--button-hover-fill-color);\n",
              "  }\n",
              "\n",
              "  .colab-df-quickchart-complete:disabled,\n",
              "  .colab-df-quickchart-complete:disabled:hover {\n",
              "    background-color: var(--disabled-bg-color);\n",
              "    fill: var(--disabled-fill-color);\n",
              "    box-shadow: none;\n",
              "  }\n",
              "\n",
              "  .colab-df-spinner {\n",
              "    border: 2px solid var(--fill-color);\n",
              "    border-color: transparent;\n",
              "    border-bottom-color: var(--fill-color);\n",
              "    animation:\n",
              "      spin 1s steps(1) infinite;\n",
              "  }\n",
              "\n",
              "  @keyframes spin {\n",
              "    0% {\n",
              "      border-color: transparent;\n",
              "      border-bottom-color: var(--fill-color);\n",
              "      border-left-color: var(--fill-color);\n",
              "    }\n",
              "    20% {\n",
              "      border-color: transparent;\n",
              "      border-left-color: var(--fill-color);\n",
              "      border-top-color: var(--fill-color);\n",
              "    }\n",
              "    30% {\n",
              "      border-color: transparent;\n",
              "      border-left-color: var(--fill-color);\n",
              "      border-top-color: var(--fill-color);\n",
              "      border-right-color: var(--fill-color);\n",
              "    }\n",
              "    40% {\n",
              "      border-color: transparent;\n",
              "      border-right-color: var(--fill-color);\n",
              "      border-top-color: var(--fill-color);\n",
              "    }\n",
              "    60% {\n",
              "      border-color: transparent;\n",
              "      border-right-color: var(--fill-color);\n",
              "    }\n",
              "    80% {\n",
              "      border-color: transparent;\n",
              "      border-right-color: var(--fill-color);\n",
              "      border-bottom-color: var(--fill-color);\n",
              "    }\n",
              "    90% {\n",
              "      border-color: transparent;\n",
              "      border-bottom-color: var(--fill-color);\n",
              "    }\n",
              "  }\n",
              "</style>\n",
              "\n",
              "  <script>\n",
              "    async function quickchart(key) {\n",
              "      const quickchartButtonEl =\n",
              "        document.querySelector('#' + key + ' button');\n",
              "      quickchartButtonEl.disabled = true;  // To prevent multiple clicks.\n",
              "      quickchartButtonEl.classList.add('colab-df-spinner');\n",
              "      try {\n",
              "        const charts = await google.colab.kernel.invokeFunction(\n",
              "            'suggestCharts', [key], {});\n",
              "      } catch (error) {\n",
              "        console.error('Error during call to suggestCharts:', error);\n",
              "      }\n",
              "      quickchartButtonEl.classList.remove('colab-df-spinner');\n",
              "      quickchartButtonEl.classList.add('colab-df-quickchart-complete');\n",
              "    }\n",
              "    (() => {\n",
              "      let quickchartButtonEl =\n",
              "        document.querySelector('#df-df80ca85-8868-4fca-8503-a6cc968b57df button');\n",
              "      quickchartButtonEl.style.display =\n",
              "        google.colab.kernel.accessAllowed ? 'block' : 'none';\n",
              "    })();\n",
              "  </script>\n",
              "</div>\n",
              "    </div>\n",
              "  </div>\n"
            ],
            "application/vnd.google.colaboratory.intrinsic+json": {
              "type": "dataframe",
              "summary": "{\n  \"name\": \"pd\",\n  \"rows\": 6,\n  \"fields\": [\n    {\n      \"column\": \"Null Ratio %\",\n      \"properties\": {\n        \"dtype\": \"number\",\n        \"std\": 0.27541214906363853,\n        \"min\": 0.0,\n        \"max\": 0.5333333333333333,\n        \"num_unique_values\": 2,\n        \"samples\": [\n          0.5333333333333333,\n          0.0\n        ],\n        \"semantic_type\": \"\",\n        \"description\": \"\"\n      }\n    }\n  ]\n}"
            }
          },
          "metadata": {},
          "execution_count": 166
        }
      ]
    },
    {
      "cell_type": "markdown",
      "source": [
        "Output tersebut menunjukkan persentase nilai yang hilang (missing values) dalam setiap kolom DataFrame, diukur sebagai persentase dari total jumlah baris DataFrame.\n",
        "\n",
        "Age: Tidak ada nilai yang hilang (0.0000%)\n",
        "Gender dan Job Title: Masing-masing memiliki 0.5333% nilai yang hilang.\n",
        "Education Level, Years of Experience, dan Salary: Tidak ada nilai yang hilang (0.0000%).\n",
        "\n",
        "secara umum, persentase nilai yang hilang sekitar 0.5333% masih dapat diterima. Meskipun keputusan akhir kembali kepada tujuan penelitian data."
      ],
      "metadata": {
        "id": "mE3UopkIDRLS"
      }
    },
    {
      "cell_type": "markdown",
      "source": [
        "###**Penanganan Duplicated Values**"
      ],
      "metadata": {
        "id": "VNMz6JBO4YC_"
      }
    },
    {
      "cell_type": "markdown",
      "source": [
        "#####**Pengecekkan Nilai Duplikat**"
      ],
      "metadata": {
        "id": "-N1z5Cu_4bNy"
      }
    },
    {
      "cell_type": "code",
      "source": [
        "duplicate_rows = df[df.duplicated()]\n",
        "print(\"Duplicate Rows except first occurrence based on all columns:\")\n",
        "print(duplicate_rows)"
      ],
      "metadata": {
        "colab": {
          "base_uri": "https://localhost:8080/"
        },
        "id": "Du-s7TmE4dRB",
        "outputId": "3a282e4e-fe73-417c-e6b0-eaef87bdc38b"
      },
      "execution_count": 161,
      "outputs": [
        {
          "output_type": "stream",
          "name": "stdout",
          "text": [
            "Duplicate Rows except first occurrence based on all columns:\n",
            "           Age  Gender Education Level                              Job Title  \\\n",
            "195  28.000000    Male      Bachelor's                Junior Business Analyst   \n",
            "250  30.000000  Female      Bachelor's           Junior Marketing Coordinator   \n",
            "251  38.000000    Male        Master's                   Senior IT Consultant   \n",
            "252  45.000000  Female             PhD                Senior Product Designer   \n",
            "253  28.000000    Male      Bachelor's  Junior Business Development Associate   \n",
            "254  35.000000  Female      Bachelor's               Senior Marketing Analyst   \n",
            "255  44.000000    Male      Bachelor's               Senior Software Engineer   \n",
            "256  34.000000  Female        Master's               Senior Financial Advisor   \n",
            "257  35.000000    Male      Bachelor's             Senior Project Coordinator   \n",
            "258  50.000000  Female             PhD                 Director of Operations   \n",
            "260  37.431635     NaN      Bachelor's                                    NaN   \n",
            "262  46.000000    Male             PhD                  Senior Data Scientist   \n",
            "281  41.000000  Female      Bachelor's             Senior Project Coordinator   \n",
            "287  35.000000  Female      Bachelor's               Senior Marketing Analyst   \n",
            "303  45.000000    Male             PhD                   Senior Data Engineer   \n",
            "306  49.000000  Female        Master's                  Director of Marketing   \n",
            "307  31.000000    Male      Bachelor's              Junior Operations Analyst   \n",
            "309  47.000000    Male        Master's                  Director of Marketing   \n",
            "310  29.000000  Female      Bachelor's  Junior Business Development Associate   \n",
            "311  35.000000    Male      Bachelor's               Senior Financial Manager   \n",
            "312  44.000000  Female             PhD                Senior Product Designer   \n",
            "313  33.000000    Male      Bachelor's                Junior Business Analyst   \n",
            "314  35.000000  Female      Bachelor's               Senior Marketing Analyst   \n",
            "315  44.000000    Male      Bachelor's               Senior Software Engineer   \n",
            "317  36.000000    Male      Bachelor's            Senior Marketing Specialist   \n",
            "328  38.000000  Female      Bachelor's                Senior Business Analyst   \n",
            "345  33.000000    Male      Bachelor's                Junior Business Analyst   \n",
            "346  35.000000  Female      Bachelor's               Senior Marketing Analyst   \n",
            "352  38.000000  Female      Bachelor's                Senior Business Analyst   \n",
            "353  48.000000    Male        Master's                  Director of Marketing   \n",
            "354  31.000000  Female      Bachelor's  Junior Business Development Associate   \n",
            "355  40.000000    Male      Bachelor's               Senior Financial Analyst   \n",
            "356  45.000000  Female             PhD                     Senior UX Designer   \n",
            "357  33.000000    Male      Bachelor's                 Junior Product Manager   \n",
            "358  36.000000  Female      Bachelor's               Senior Marketing Manager   \n",
            "359  47.000000    Male        Master's                 Director of Operations   \n",
            "360  29.000000  Female      Bachelor's                 Junior Project Manager   \n",
            "361  34.000000    Male      Bachelor's          Senior Operations Coordinator   \n",
            "362  44.000000  Female             PhD                Senior Business Analyst   \n",
            "363  33.000000    Male      Bachelor's            Junior Marketing Specialist   \n",
            "364  35.000000  Female      Bachelor's               Senior Financial Manager   \n",
            "365  43.000000    Male        Master's                  Director of Marketing   \n",
            "366  31.000000  Female      Bachelor's               Junior Financial Analyst   \n",
            "367  41.000000    Male      Bachelor's                 Senior Product Manager   \n",
            "368  44.000000  Female             PhD                   Senior Data Engineer   \n",
            "369  33.000000    Male      Bachelor's                Junior Business Analyst   \n",
            "370  35.000000  Female      Bachelor's               Senior Marketing Analyst   \n",
            "372  29.000000  Female      Bachelor's                 Junior Project Manager   \n",
            "373  34.000000    Male      Bachelor's          Senior Operations Coordinator   \n",
            "374  44.000000  Female             PhD                Senior Business Analyst   \n",
            "\n",
            "     Years of Experience         Salary  \n",
            "195             2.000000   40000.000000  \n",
            "250             2.000000   40000.000000  \n",
            "251             9.000000  110000.000000  \n",
            "252            15.000000  150000.000000  \n",
            "253             2.000000   40000.000000  \n",
            "254             8.000000   85000.000000  \n",
            "255            14.000000  130000.000000  \n",
            "256             6.000000  100000.000000  \n",
            "257             9.000000   95000.000000  \n",
            "258            22.000000  180000.000000  \n",
            "260            10.030831  100577.345845  \n",
            "262            18.000000  160000.000000  \n",
            "281            11.000000   95000.000000  \n",
            "287             8.000000   85000.000000  \n",
            "303            16.000000  150000.000000  \n",
            "306            21.000000  180000.000000  \n",
            "307             3.000000   50000.000000  \n",
            "309            19.000000  170000.000000  \n",
            "310             1.500000   35000.000000  \n",
            "311             9.000000  100000.000000  \n",
            "312            15.000000  150000.000000  \n",
            "313             4.000000   60000.000000  \n",
            "314             8.000000   85000.000000  \n",
            "315            13.000000  130000.000000  \n",
            "317             8.000000   95000.000000  \n",
            "328            10.000000  110000.000000  \n",
            "345             4.000000   60000.000000  \n",
            "346             8.000000   85000.000000  \n",
            "352            10.000000  110000.000000  \n",
            "353            21.000000  180000.000000  \n",
            "354             3.000000   50000.000000  \n",
            "355            12.000000  130000.000000  \n",
            "356            16.000000  160000.000000  \n",
            "357             4.000000   60000.000000  \n",
            "358             8.000000   95000.000000  \n",
            "359            19.000000  170000.000000  \n",
            "360             2.000000   40000.000000  \n",
            "361             7.000000   90000.000000  \n",
            "362            15.000000  150000.000000  \n",
            "363             5.000000   70000.000000  \n",
            "364             8.000000   90000.000000  \n",
            "365            18.000000  170000.000000  \n",
            "366             3.000000   50000.000000  \n",
            "367            14.000000  150000.000000  \n",
            "368            16.000000  160000.000000  \n",
            "369             4.000000   60000.000000  \n",
            "370             8.000000   85000.000000  \n",
            "372             2.000000   40000.000000  \n",
            "373             7.000000   90000.000000  \n",
            "374            15.000000  150000.000000  \n"
          ]
        }
      ]
    },
    {
      "cell_type": "markdown",
      "source": [
        "Berdasarkan hasil pengecekan nilai duplikat dalam dataset, ditemukan bahwa beberapa baris memiliki nilai yang sama untuk setiap kolom, khususnya pada atribut yang berkaitan langsung dengan analisis gaji seperti 'Job Title', 'Years of Experience', dan 'Salary'. Dalam konteks dataset yang menunjukkan informasi gaji para lulusan, adanya duplikasi data seperti ini diharapkan dan tidak dianggap sebagai masalah yang mengganggu analisis. Sehingga langkah ini dapat dilewati."
      ],
      "metadata": {
        "id": "WH97z7tg-8Mz"
      }
    },
    {
      "cell_type": "markdown",
      "source": [
        "###**Penanganan Outliers**"
      ],
      "metadata": {
        "id": "6IjpatDO5GIw"
      }
    },
    {
      "cell_type": "markdown",
      "source": [
        "#####**Pengecekkan Outliers**"
      ],
      "metadata": {
        "id": "pvKbkPIX5HtG"
      }
    },
    {
      "cell_type": "code",
      "source": [
        "results = []\n",
        "\n",
        "cols = df.select_dtypes(include=['float64', 'int64'])\n",
        "\n",
        "for col in cols:\n",
        "  q1 = df[col].quantile(0.25)\n",
        "  q3 = df[col].quantile(0.75)\n",
        "  iqr = q3 - q1\n",
        "  lower_bound = q1 - 1.5*iqr\n",
        "  upper_bound = q3 + 1.5*iqr\n",
        "  outliers = df[(df[col] < lower_bound) | (df[col] > upper_bound)]\n",
        "  percent_outliers = (len(outliers)/len(df))*100\n",
        "  results.append({'Kolom': col, 'Persentase Outliers': percent_outliers})\n",
        "\n",
        "# Dataframe dari list hasil\n",
        "results_df = pd.DataFrame(results)\n",
        "results_df.set_index('Kolom', inplace=True)\n",
        "results_df = results_df.rename_axis(None, axis=0).rename_axis('Kolom', axis=1)\n",
        "\n",
        "# Tampilkan dataframe\n",
        "display(results_df)"
      ],
      "metadata": {
        "colab": {
          "base_uri": "https://localhost:8080/",
          "height": 175
        },
        "id": "KghMW8qV5PJ8",
        "outputId": "0a80999c-bbf4-4376-eb71-8c21d5f518c0"
      },
      "execution_count": 202,
      "outputs": [
        {
          "output_type": "display_data",
          "data": {
            "text/plain": [
              "Kolom                Persentase Outliers\n",
              "Age                                  0.0\n",
              "Years of Experience                  0.0\n",
              "Salary                               0.0\n",
              "AgeCategory                          0.0"
            ],
            "text/html": [
              "\n",
              "  <div id=\"df-dece3476-e8d6-44f0-b2c1-815bac40e31a\" class=\"colab-df-container\">\n",
              "    <div>\n",
              "<style scoped>\n",
              "    .dataframe tbody tr th:only-of-type {\n",
              "        vertical-align: middle;\n",
              "    }\n",
              "\n",
              "    .dataframe tbody tr th {\n",
              "        vertical-align: top;\n",
              "    }\n",
              "\n",
              "    .dataframe thead th {\n",
              "        text-align: right;\n",
              "    }\n",
              "</style>\n",
              "<table border=\"1\" class=\"dataframe\">\n",
              "  <thead>\n",
              "    <tr style=\"text-align: right;\">\n",
              "      <th>Kolom</th>\n",
              "      <th>Persentase Outliers</th>\n",
              "    </tr>\n",
              "  </thead>\n",
              "  <tbody>\n",
              "    <tr>\n",
              "      <th>Age</th>\n",
              "      <td>0.0</td>\n",
              "    </tr>\n",
              "    <tr>\n",
              "      <th>Years of Experience</th>\n",
              "      <td>0.0</td>\n",
              "    </tr>\n",
              "    <tr>\n",
              "      <th>Salary</th>\n",
              "      <td>0.0</td>\n",
              "    </tr>\n",
              "    <tr>\n",
              "      <th>AgeCategory</th>\n",
              "      <td>0.0</td>\n",
              "    </tr>\n",
              "  </tbody>\n",
              "</table>\n",
              "</div>\n",
              "    <div class=\"colab-df-buttons\">\n",
              "\n",
              "  <div class=\"colab-df-container\">\n",
              "    <button class=\"colab-df-convert\" onclick=\"convertToInteractive('df-dece3476-e8d6-44f0-b2c1-815bac40e31a')\"\n",
              "            title=\"Convert this dataframe to an interactive table.\"\n",
              "            style=\"display:none;\">\n",
              "\n",
              "  <svg xmlns=\"http://www.w3.org/2000/svg\" height=\"24px\" viewBox=\"0 -960 960 960\">\n",
              "    <path d=\"M120-120v-720h720v720H120Zm60-500h600v-160H180v160Zm220 220h160v-160H400v160Zm0 220h160v-160H400v160ZM180-400h160v-160H180v160Zm440 0h160v-160H620v160ZM180-180h160v-160H180v160Zm440 0h160v-160H620v160Z\"/>\n",
              "  </svg>\n",
              "    </button>\n",
              "\n",
              "  <style>\n",
              "    .colab-df-container {\n",
              "      display:flex;\n",
              "      gap: 12px;\n",
              "    }\n",
              "\n",
              "    .colab-df-convert {\n",
              "      background-color: #E8F0FE;\n",
              "      border: none;\n",
              "      border-radius: 50%;\n",
              "      cursor: pointer;\n",
              "      display: none;\n",
              "      fill: #1967D2;\n",
              "      height: 32px;\n",
              "      padding: 0 0 0 0;\n",
              "      width: 32px;\n",
              "    }\n",
              "\n",
              "    .colab-df-convert:hover {\n",
              "      background-color: #E2EBFA;\n",
              "      box-shadow: 0px 1px 2px rgba(60, 64, 67, 0.3), 0px 1px 3px 1px rgba(60, 64, 67, 0.15);\n",
              "      fill: #174EA6;\n",
              "    }\n",
              "\n",
              "    .colab-df-buttons div {\n",
              "      margin-bottom: 4px;\n",
              "    }\n",
              "\n",
              "    [theme=dark] .colab-df-convert {\n",
              "      background-color: #3B4455;\n",
              "      fill: #D2E3FC;\n",
              "    }\n",
              "\n",
              "    [theme=dark] .colab-df-convert:hover {\n",
              "      background-color: #434B5C;\n",
              "      box-shadow: 0px 1px 3px 1px rgba(0, 0, 0, 0.15);\n",
              "      filter: drop-shadow(0px 1px 2px rgba(0, 0, 0, 0.3));\n",
              "      fill: #FFFFFF;\n",
              "    }\n",
              "  </style>\n",
              "\n",
              "    <script>\n",
              "      const buttonEl =\n",
              "        document.querySelector('#df-dece3476-e8d6-44f0-b2c1-815bac40e31a button.colab-df-convert');\n",
              "      buttonEl.style.display =\n",
              "        google.colab.kernel.accessAllowed ? 'block' : 'none';\n",
              "\n",
              "      async function convertToInteractive(key) {\n",
              "        const element = document.querySelector('#df-dece3476-e8d6-44f0-b2c1-815bac40e31a');\n",
              "        const dataTable =\n",
              "          await google.colab.kernel.invokeFunction('convertToInteractive',\n",
              "                                                    [key], {});\n",
              "        if (!dataTable) return;\n",
              "\n",
              "        const docLinkHtml = 'Like what you see? Visit the ' +\n",
              "          '<a target=\"_blank\" href=https://colab.research.google.com/notebooks/data_table.ipynb>data table notebook</a>'\n",
              "          + ' to learn more about interactive tables.';\n",
              "        element.innerHTML = '';\n",
              "        dataTable['output_type'] = 'display_data';\n",
              "        await google.colab.output.renderOutput(dataTable, element);\n",
              "        const docLink = document.createElement('div');\n",
              "        docLink.innerHTML = docLinkHtml;\n",
              "        element.appendChild(docLink);\n",
              "      }\n",
              "    </script>\n",
              "  </div>\n",
              "\n",
              "\n",
              "<div id=\"df-3290d452-1613-45db-b5d5-0ae15e6661f7\">\n",
              "  <button class=\"colab-df-quickchart\" onclick=\"quickchart('df-3290d452-1613-45db-b5d5-0ae15e6661f7')\"\n",
              "            title=\"Suggest charts\"\n",
              "            style=\"display:none;\">\n",
              "\n",
              "<svg xmlns=\"http://www.w3.org/2000/svg\" height=\"24px\"viewBox=\"0 0 24 24\"\n",
              "     width=\"24px\">\n",
              "    <g>\n",
              "        <path d=\"M19 3H5c-1.1 0-2 .9-2 2v14c0 1.1.9 2 2 2h14c1.1 0 2-.9 2-2V5c0-1.1-.9-2-2-2zM9 17H7v-7h2v7zm4 0h-2V7h2v10zm4 0h-2v-4h2v4z\"/>\n",
              "    </g>\n",
              "</svg>\n",
              "  </button>\n",
              "\n",
              "<style>\n",
              "  .colab-df-quickchart {\n",
              "      --bg-color: #E8F0FE;\n",
              "      --fill-color: #1967D2;\n",
              "      --hover-bg-color: #E2EBFA;\n",
              "      --hover-fill-color: #174EA6;\n",
              "      --disabled-fill-color: #AAA;\n",
              "      --disabled-bg-color: #DDD;\n",
              "  }\n",
              "\n",
              "  [theme=dark] .colab-df-quickchart {\n",
              "      --bg-color: #3B4455;\n",
              "      --fill-color: #D2E3FC;\n",
              "      --hover-bg-color: #434B5C;\n",
              "      --hover-fill-color: #FFFFFF;\n",
              "      --disabled-bg-color: #3B4455;\n",
              "      --disabled-fill-color: #666;\n",
              "  }\n",
              "\n",
              "  .colab-df-quickchart {\n",
              "    background-color: var(--bg-color);\n",
              "    border: none;\n",
              "    border-radius: 50%;\n",
              "    cursor: pointer;\n",
              "    display: none;\n",
              "    fill: var(--fill-color);\n",
              "    height: 32px;\n",
              "    padding: 0;\n",
              "    width: 32px;\n",
              "  }\n",
              "\n",
              "  .colab-df-quickchart:hover {\n",
              "    background-color: var(--hover-bg-color);\n",
              "    box-shadow: 0 1px 2px rgba(60, 64, 67, 0.3), 0 1px 3px 1px rgba(60, 64, 67, 0.15);\n",
              "    fill: var(--button-hover-fill-color);\n",
              "  }\n",
              "\n",
              "  .colab-df-quickchart-complete:disabled,\n",
              "  .colab-df-quickchart-complete:disabled:hover {\n",
              "    background-color: var(--disabled-bg-color);\n",
              "    fill: var(--disabled-fill-color);\n",
              "    box-shadow: none;\n",
              "  }\n",
              "\n",
              "  .colab-df-spinner {\n",
              "    border: 2px solid var(--fill-color);\n",
              "    border-color: transparent;\n",
              "    border-bottom-color: var(--fill-color);\n",
              "    animation:\n",
              "      spin 1s steps(1) infinite;\n",
              "  }\n",
              "\n",
              "  @keyframes spin {\n",
              "    0% {\n",
              "      border-color: transparent;\n",
              "      border-bottom-color: var(--fill-color);\n",
              "      border-left-color: var(--fill-color);\n",
              "    }\n",
              "    20% {\n",
              "      border-color: transparent;\n",
              "      border-left-color: var(--fill-color);\n",
              "      border-top-color: var(--fill-color);\n",
              "    }\n",
              "    30% {\n",
              "      border-color: transparent;\n",
              "      border-left-color: var(--fill-color);\n",
              "      border-top-color: var(--fill-color);\n",
              "      border-right-color: var(--fill-color);\n",
              "    }\n",
              "    40% {\n",
              "      border-color: transparent;\n",
              "      border-right-color: var(--fill-color);\n",
              "      border-top-color: var(--fill-color);\n",
              "    }\n",
              "    60% {\n",
              "      border-color: transparent;\n",
              "      border-right-color: var(--fill-color);\n",
              "    }\n",
              "    80% {\n",
              "      border-color: transparent;\n",
              "      border-right-color: var(--fill-color);\n",
              "      border-bottom-color: var(--fill-color);\n",
              "    }\n",
              "    90% {\n",
              "      border-color: transparent;\n",
              "      border-bottom-color: var(--fill-color);\n",
              "    }\n",
              "  }\n",
              "</style>\n",
              "\n",
              "  <script>\n",
              "    async function quickchart(key) {\n",
              "      const quickchartButtonEl =\n",
              "        document.querySelector('#' + key + ' button');\n",
              "      quickchartButtonEl.disabled = true;  // To prevent multiple clicks.\n",
              "      quickchartButtonEl.classList.add('colab-df-spinner');\n",
              "      try {\n",
              "        const charts = await google.colab.kernel.invokeFunction(\n",
              "            'suggestCharts', [key], {});\n",
              "      } catch (error) {\n",
              "        console.error('Error during call to suggestCharts:', error);\n",
              "      }\n",
              "      quickchartButtonEl.classList.remove('colab-df-spinner');\n",
              "      quickchartButtonEl.classList.add('colab-df-quickchart-complete');\n",
              "    }\n",
              "    (() => {\n",
              "      let quickchartButtonEl =\n",
              "        document.querySelector('#df-3290d452-1613-45db-b5d5-0ae15e6661f7 button');\n",
              "      quickchartButtonEl.style.display =\n",
              "        google.colab.kernel.accessAllowed ? 'block' : 'none';\n",
              "    })();\n",
              "  </script>\n",
              "</div>\n",
              "    </div>\n",
              "  </div>\n"
            ],
            "application/vnd.google.colaboratory.intrinsic+json": {
              "type": "dataframe",
              "variable_name": "results_df",
              "summary": "{\n  \"name\": \"results_df\",\n  \"rows\": 4,\n  \"fields\": [\n    {\n      \"column\": \"Persentase Outliers\",\n      \"properties\": {\n        \"dtype\": \"number\",\n        \"std\": 0.0,\n        \"min\": 0.0,\n        \"max\": 0.0,\n        \"num_unique_values\": 1,\n        \"samples\": [\n          0.0\n        ],\n        \"semantic_type\": \"\",\n        \"description\": \"\"\n      }\n    }\n  ]\n}"
            }
          },
          "metadata": {}
        }
      ]
    },
    {
      "cell_type": "markdown",
      "source": [
        "Dalam dataset tersebut, tidak ditemukan outlier values dalam kolom Age, Years of Experience, dan Salary. Ini menunjukkan bahwa tidak ada nilai ekstrim atau tidak biasa dalam data untuk ketiga kolom tersebut. Sehingga langkah ini dapat dilewati."
      ],
      "metadata": {
        "id": "-pXzTF8yEPpU"
      }
    },
    {
      "cell_type": "markdown",
      "source": [
        "#**CONSTRUCT DATA**"
      ],
      "metadata": {
        "id": "3jtXTUqG5r8I"
      }
    },
    {
      "cell_type": "markdown",
      "source": [
        "###**Melakukan Rekayasa Fitur (Feature Engineering)**"
      ],
      "metadata": {
        "id": "3w2Kz5gb5zg-"
      }
    },
    {
      "cell_type": "code",
      "source": [
        "df.head()"
      ],
      "metadata": {
        "colab": {
          "base_uri": "https://localhost:8080/",
          "height": 244
        },
        "id": "7mkuPggZKSCj",
        "outputId": "5ec773df-95e4-4f5f-d0a4-b91bf85a9e95"
      },
      "execution_count": 203,
      "outputs": [
        {
          "output_type": "execute_result",
          "data": {
            "text/plain": [
              "    Age  Years of Experience    Salary  AgeCategory  AgeCategory_1  \\\n",
              "0  32.0                  5.0   90000.0            1              1   \n",
              "1  28.0                  3.0   65000.0            1              1   \n",
              "2  45.0                 15.0  150000.0            1              1   \n",
              "3  36.0                  7.0   60000.0            1              1   \n",
              "4  52.0                 20.0  200000.0            1              1   \n",
              "\n",
              "   AgeCategory_1  AgeCategory_1  Gender_Female  Gender_Male  Gender_Female  \\\n",
              "0              1              1              0            1              0   \n",
              "1              1              1              1            0              1   \n",
              "2              1              1              0            1              0   \n",
              "3              1              1              1            0              1   \n",
              "4              1              1              0            1              0   \n",
              "\n",
              "   Gender_Male  Education Level_Bachelor's  Education Level_Master's  \\\n",
              "0            1                           1                         0   \n",
              "1            0                           0                         1   \n",
              "2            1                           0                         0   \n",
              "3            0                           1                         0   \n",
              "4            1                           0                         1   \n",
              "\n",
              "   Education Level_PhD  \n",
              "0                    0  \n",
              "1                    0  \n",
              "2                    1  \n",
              "3                    0  \n",
              "4                    0  "
            ],
            "text/html": [
              "\n",
              "  <div id=\"df-591be044-e41d-46e1-9825-2cb68a7f5373\" class=\"colab-df-container\">\n",
              "    <div>\n",
              "<style scoped>\n",
              "    .dataframe tbody tr th:only-of-type {\n",
              "        vertical-align: middle;\n",
              "    }\n",
              "\n",
              "    .dataframe tbody tr th {\n",
              "        vertical-align: top;\n",
              "    }\n",
              "\n",
              "    .dataframe thead th {\n",
              "        text-align: right;\n",
              "    }\n",
              "</style>\n",
              "<table border=\"1\" class=\"dataframe\">\n",
              "  <thead>\n",
              "    <tr style=\"text-align: right;\">\n",
              "      <th></th>\n",
              "      <th>Age</th>\n",
              "      <th>Years of Experience</th>\n",
              "      <th>Salary</th>\n",
              "      <th>AgeCategory</th>\n",
              "      <th>AgeCategory_1</th>\n",
              "      <th>AgeCategory_1</th>\n",
              "      <th>AgeCategory_1</th>\n",
              "      <th>Gender_Female</th>\n",
              "      <th>Gender_Male</th>\n",
              "      <th>Gender_Female</th>\n",
              "      <th>Gender_Male</th>\n",
              "      <th>Education Level_Bachelor's</th>\n",
              "      <th>Education Level_Master's</th>\n",
              "      <th>Education Level_PhD</th>\n",
              "    </tr>\n",
              "  </thead>\n",
              "  <tbody>\n",
              "    <tr>\n",
              "      <th>0</th>\n",
              "      <td>32.0</td>\n",
              "      <td>5.0</td>\n",
              "      <td>90000.0</td>\n",
              "      <td>1</td>\n",
              "      <td>1</td>\n",
              "      <td>1</td>\n",
              "      <td>1</td>\n",
              "      <td>0</td>\n",
              "      <td>1</td>\n",
              "      <td>0</td>\n",
              "      <td>1</td>\n",
              "      <td>1</td>\n",
              "      <td>0</td>\n",
              "      <td>0</td>\n",
              "    </tr>\n",
              "    <tr>\n",
              "      <th>1</th>\n",
              "      <td>28.0</td>\n",
              "      <td>3.0</td>\n",
              "      <td>65000.0</td>\n",
              "      <td>1</td>\n",
              "      <td>1</td>\n",
              "      <td>1</td>\n",
              "      <td>1</td>\n",
              "      <td>1</td>\n",
              "      <td>0</td>\n",
              "      <td>1</td>\n",
              "      <td>0</td>\n",
              "      <td>0</td>\n",
              "      <td>1</td>\n",
              "      <td>0</td>\n",
              "    </tr>\n",
              "    <tr>\n",
              "      <th>2</th>\n",
              "      <td>45.0</td>\n",
              "      <td>15.0</td>\n",
              "      <td>150000.0</td>\n",
              "      <td>1</td>\n",
              "      <td>1</td>\n",
              "      <td>1</td>\n",
              "      <td>1</td>\n",
              "      <td>0</td>\n",
              "      <td>1</td>\n",
              "      <td>0</td>\n",
              "      <td>1</td>\n",
              "      <td>0</td>\n",
              "      <td>0</td>\n",
              "      <td>1</td>\n",
              "    </tr>\n",
              "    <tr>\n",
              "      <th>3</th>\n",
              "      <td>36.0</td>\n",
              "      <td>7.0</td>\n",
              "      <td>60000.0</td>\n",
              "      <td>1</td>\n",
              "      <td>1</td>\n",
              "      <td>1</td>\n",
              "      <td>1</td>\n",
              "      <td>1</td>\n",
              "      <td>0</td>\n",
              "      <td>1</td>\n",
              "      <td>0</td>\n",
              "      <td>1</td>\n",
              "      <td>0</td>\n",
              "      <td>0</td>\n",
              "    </tr>\n",
              "    <tr>\n",
              "      <th>4</th>\n",
              "      <td>52.0</td>\n",
              "      <td>20.0</td>\n",
              "      <td>200000.0</td>\n",
              "      <td>1</td>\n",
              "      <td>1</td>\n",
              "      <td>1</td>\n",
              "      <td>1</td>\n",
              "      <td>0</td>\n",
              "      <td>1</td>\n",
              "      <td>0</td>\n",
              "      <td>1</td>\n",
              "      <td>0</td>\n",
              "      <td>1</td>\n",
              "      <td>0</td>\n",
              "    </tr>\n",
              "  </tbody>\n",
              "</table>\n",
              "</div>\n",
              "    <div class=\"colab-df-buttons\">\n",
              "\n",
              "  <div class=\"colab-df-container\">\n",
              "    <button class=\"colab-df-convert\" onclick=\"convertToInteractive('df-591be044-e41d-46e1-9825-2cb68a7f5373')\"\n",
              "            title=\"Convert this dataframe to an interactive table.\"\n",
              "            style=\"display:none;\">\n",
              "\n",
              "  <svg xmlns=\"http://www.w3.org/2000/svg\" height=\"24px\" viewBox=\"0 -960 960 960\">\n",
              "    <path d=\"M120-120v-720h720v720H120Zm60-500h600v-160H180v160Zm220 220h160v-160H400v160Zm0 220h160v-160H400v160ZM180-400h160v-160H180v160Zm440 0h160v-160H620v160ZM180-180h160v-160H180v160Zm440 0h160v-160H620v160Z\"/>\n",
              "  </svg>\n",
              "    </button>\n",
              "\n",
              "  <style>\n",
              "    .colab-df-container {\n",
              "      display:flex;\n",
              "      gap: 12px;\n",
              "    }\n",
              "\n",
              "    .colab-df-convert {\n",
              "      background-color: #E8F0FE;\n",
              "      border: none;\n",
              "      border-radius: 50%;\n",
              "      cursor: pointer;\n",
              "      display: none;\n",
              "      fill: #1967D2;\n",
              "      height: 32px;\n",
              "      padding: 0 0 0 0;\n",
              "      width: 32px;\n",
              "    }\n",
              "\n",
              "    .colab-df-convert:hover {\n",
              "      background-color: #E2EBFA;\n",
              "      box-shadow: 0px 1px 2px rgba(60, 64, 67, 0.3), 0px 1px 3px 1px rgba(60, 64, 67, 0.15);\n",
              "      fill: #174EA6;\n",
              "    }\n",
              "\n",
              "    .colab-df-buttons div {\n",
              "      margin-bottom: 4px;\n",
              "    }\n",
              "\n",
              "    [theme=dark] .colab-df-convert {\n",
              "      background-color: #3B4455;\n",
              "      fill: #D2E3FC;\n",
              "    }\n",
              "\n",
              "    [theme=dark] .colab-df-convert:hover {\n",
              "      background-color: #434B5C;\n",
              "      box-shadow: 0px 1px 3px 1px rgba(0, 0, 0, 0.15);\n",
              "      filter: drop-shadow(0px 1px 2px rgba(0, 0, 0, 0.3));\n",
              "      fill: #FFFFFF;\n",
              "    }\n",
              "  </style>\n",
              "\n",
              "    <script>\n",
              "      const buttonEl =\n",
              "        document.querySelector('#df-591be044-e41d-46e1-9825-2cb68a7f5373 button.colab-df-convert');\n",
              "      buttonEl.style.display =\n",
              "        google.colab.kernel.accessAllowed ? 'block' : 'none';\n",
              "\n",
              "      async function convertToInteractive(key) {\n",
              "        const element = document.querySelector('#df-591be044-e41d-46e1-9825-2cb68a7f5373');\n",
              "        const dataTable =\n",
              "          await google.colab.kernel.invokeFunction('convertToInteractive',\n",
              "                                                    [key], {});\n",
              "        if (!dataTable) return;\n",
              "\n",
              "        const docLinkHtml = 'Like what you see? Visit the ' +\n",
              "          '<a target=\"_blank\" href=https://colab.research.google.com/notebooks/data_table.ipynb>data table notebook</a>'\n",
              "          + ' to learn more about interactive tables.';\n",
              "        element.innerHTML = '';\n",
              "        dataTable['output_type'] = 'display_data';\n",
              "        await google.colab.output.renderOutput(dataTable, element);\n",
              "        const docLink = document.createElement('div');\n",
              "        docLink.innerHTML = docLinkHtml;\n",
              "        element.appendChild(docLink);\n",
              "      }\n",
              "    </script>\n",
              "  </div>\n",
              "\n",
              "\n",
              "<div id=\"df-0b7ae12a-50f2-419d-b53d-0d4ad683f75c\">\n",
              "  <button class=\"colab-df-quickchart\" onclick=\"quickchart('df-0b7ae12a-50f2-419d-b53d-0d4ad683f75c')\"\n",
              "            title=\"Suggest charts\"\n",
              "            style=\"display:none;\">\n",
              "\n",
              "<svg xmlns=\"http://www.w3.org/2000/svg\" height=\"24px\"viewBox=\"0 0 24 24\"\n",
              "     width=\"24px\">\n",
              "    <g>\n",
              "        <path d=\"M19 3H5c-1.1 0-2 .9-2 2v14c0 1.1.9 2 2 2h14c1.1 0 2-.9 2-2V5c0-1.1-.9-2-2-2zM9 17H7v-7h2v7zm4 0h-2V7h2v10zm4 0h-2v-4h2v4z\"/>\n",
              "    </g>\n",
              "</svg>\n",
              "  </button>\n",
              "\n",
              "<style>\n",
              "  .colab-df-quickchart {\n",
              "      --bg-color: #E8F0FE;\n",
              "      --fill-color: #1967D2;\n",
              "      --hover-bg-color: #E2EBFA;\n",
              "      --hover-fill-color: #174EA6;\n",
              "      --disabled-fill-color: #AAA;\n",
              "      --disabled-bg-color: #DDD;\n",
              "  }\n",
              "\n",
              "  [theme=dark] .colab-df-quickchart {\n",
              "      --bg-color: #3B4455;\n",
              "      --fill-color: #D2E3FC;\n",
              "      --hover-bg-color: #434B5C;\n",
              "      --hover-fill-color: #FFFFFF;\n",
              "      --disabled-bg-color: #3B4455;\n",
              "      --disabled-fill-color: #666;\n",
              "  }\n",
              "\n",
              "  .colab-df-quickchart {\n",
              "    background-color: var(--bg-color);\n",
              "    border: none;\n",
              "    border-radius: 50%;\n",
              "    cursor: pointer;\n",
              "    display: none;\n",
              "    fill: var(--fill-color);\n",
              "    height: 32px;\n",
              "    padding: 0;\n",
              "    width: 32px;\n",
              "  }\n",
              "\n",
              "  .colab-df-quickchart:hover {\n",
              "    background-color: var(--hover-bg-color);\n",
              "    box-shadow: 0 1px 2px rgba(60, 64, 67, 0.3), 0 1px 3px 1px rgba(60, 64, 67, 0.15);\n",
              "    fill: var(--button-hover-fill-color);\n",
              "  }\n",
              "\n",
              "  .colab-df-quickchart-complete:disabled,\n",
              "  .colab-df-quickchart-complete:disabled:hover {\n",
              "    background-color: var(--disabled-bg-color);\n",
              "    fill: var(--disabled-fill-color);\n",
              "    box-shadow: none;\n",
              "  }\n",
              "\n",
              "  .colab-df-spinner {\n",
              "    border: 2px solid var(--fill-color);\n",
              "    border-color: transparent;\n",
              "    border-bottom-color: var(--fill-color);\n",
              "    animation:\n",
              "      spin 1s steps(1) infinite;\n",
              "  }\n",
              "\n",
              "  @keyframes spin {\n",
              "    0% {\n",
              "      border-color: transparent;\n",
              "      border-bottom-color: var(--fill-color);\n",
              "      border-left-color: var(--fill-color);\n",
              "    }\n",
              "    20% {\n",
              "      border-color: transparent;\n",
              "      border-left-color: var(--fill-color);\n",
              "      border-top-color: var(--fill-color);\n",
              "    }\n",
              "    30% {\n",
              "      border-color: transparent;\n",
              "      border-left-color: var(--fill-color);\n",
              "      border-top-color: var(--fill-color);\n",
              "      border-right-color: var(--fill-color);\n",
              "    }\n",
              "    40% {\n",
              "      border-color: transparent;\n",
              "      border-right-color: var(--fill-color);\n",
              "      border-top-color: var(--fill-color);\n",
              "    }\n",
              "    60% {\n",
              "      border-color: transparent;\n",
              "      border-right-color: var(--fill-color);\n",
              "    }\n",
              "    80% {\n",
              "      border-color: transparent;\n",
              "      border-right-color: var(--fill-color);\n",
              "      border-bottom-color: var(--fill-color);\n",
              "    }\n",
              "    90% {\n",
              "      border-color: transparent;\n",
              "      border-bottom-color: var(--fill-color);\n",
              "    }\n",
              "  }\n",
              "</style>\n",
              "\n",
              "  <script>\n",
              "    async function quickchart(key) {\n",
              "      const quickchartButtonEl =\n",
              "        document.querySelector('#' + key + ' button');\n",
              "      quickchartButtonEl.disabled = true;  // To prevent multiple clicks.\n",
              "      quickchartButtonEl.classList.add('colab-df-spinner');\n",
              "      try {\n",
              "        const charts = await google.colab.kernel.invokeFunction(\n",
              "            'suggestCharts', [key], {});\n",
              "      } catch (error) {\n",
              "        console.error('Error during call to suggestCharts:', error);\n",
              "      }\n",
              "      quickchartButtonEl.classList.remove('colab-df-spinner');\n",
              "      quickchartButtonEl.classList.add('colab-df-quickchart-complete');\n",
              "    }\n",
              "    (() => {\n",
              "      let quickchartButtonEl =\n",
              "        document.querySelector('#df-0b7ae12a-50f2-419d-b53d-0d4ad683f75c button');\n",
              "      quickchartButtonEl.style.display =\n",
              "        google.colab.kernel.accessAllowed ? 'block' : 'none';\n",
              "    })();\n",
              "  </script>\n",
              "</div>\n",
              "    </div>\n",
              "  </div>\n"
            ],
            "application/vnd.google.colaboratory.intrinsic+json": {
              "type": "dataframe",
              "variable_name": "df",
              "summary": "{\n  \"name\": \"df\",\n  \"rows\": 375,\n  \"fields\": [\n    {\n      \"column\": \"Age\",\n      \"properties\": {\n        \"dtype\": \"number\",\n        \"std\": 7.050146337164603,\n        \"min\": 23.0,\n        \"max\": 53.0,\n        \"num_unique_values\": 32,\n        \"samples\": [\n          23.0,\n          33.0,\n          24.0\n        ],\n        \"semantic_type\": \"\",\n        \"description\": \"\"\n      }\n    },\n    {\n      \"column\": \"Years of Experience\",\n      \"properties\": {\n        \"dtype\": \"number\",\n        \"std\": 6.539451530248433,\n        \"min\": 0.0,\n        \"max\": 25.0,\n        \"num_unique_values\": 29,\n        \"samples\": [\n          1.5,\n          19.0,\n          14.0\n        ],\n        \"semantic_type\": \"\",\n        \"description\": \"\"\n      }\n    },\n    {\n      \"column\": \"Salary\",\n      \"properties\": {\n        \"dtype\": \"number\",\n        \"std\": 48110.85658750964,\n        \"min\": 350.0,\n        \"max\": 250000.0,\n        \"num_unique_values\": 37,\n        \"samples\": [\n          180000.0,\n          40000.0,\n          200000.0\n        ],\n        \"semantic_type\": \"\",\n        \"description\": \"\"\n      }\n    },\n    {\n      \"column\": \"AgeCategory\",\n      \"properties\": {\n        \"dtype\": \"number\",\n        \"std\": 0,\n        \"min\": 1,\n        \"max\": 1,\n        \"num_unique_values\": 1,\n        \"samples\": [\n          1\n        ],\n        \"semantic_type\": \"\",\n        \"description\": \"\"\n      }\n    },\n    {\n      \"column\": \"AgeCategory_1\",\n      \"properties\": {\n        \"dtype\": \"uint8\",\n        \"num_unique_values\": 1,\n        \"samples\": [\n          1\n        ],\n        \"semantic_type\": \"\",\n        \"description\": \"\"\n      }\n    },\n    {\n      \"column\": \"AgeCategory_1\",\n      \"properties\": {\n        \"dtype\": \"uint8\",\n        \"num_unique_values\": 1,\n        \"samples\": [\n          1\n        ],\n        \"semantic_type\": \"\",\n        \"description\": \"\"\n      }\n    },\n    {\n      \"column\": \"AgeCategory_1\",\n      \"properties\": {\n        \"dtype\": \"uint8\",\n        \"num_unique_values\": 1,\n        \"samples\": [\n          1\n        ],\n        \"semantic_type\": \"\",\n        \"description\": \"\"\n      }\n    },\n    {\n      \"column\": \"Gender_Female\",\n      \"properties\": {\n        \"dtype\": \"uint8\",\n        \"num_unique_values\": 2,\n        \"samples\": [\n          1\n        ],\n        \"semantic_type\": \"\",\n        \"description\": \"\"\n      }\n    },\n    {\n      \"column\": \"Gender_Male\",\n      \"properties\": {\n        \"dtype\": \"uint8\",\n        \"num_unique_values\": 2,\n        \"samples\": [\n          0\n        ],\n        \"semantic_type\": \"\",\n        \"description\": \"\"\n      }\n    },\n    {\n      \"column\": \"Gender_Female\",\n      \"properties\": {\n        \"dtype\": \"uint8\",\n        \"num_unique_values\": 2,\n        \"samples\": [\n          1\n        ],\n        \"semantic_type\": \"\",\n        \"description\": \"\"\n      }\n    },\n    {\n      \"column\": \"Gender_Male\",\n      \"properties\": {\n        \"dtype\": \"uint8\",\n        \"num_unique_values\": 2,\n        \"samples\": [\n          0\n        ],\n        \"semantic_type\": \"\",\n        \"description\": \"\"\n      }\n    },\n    {\n      \"column\": \"Education Level_Bachelor's\",\n      \"properties\": {\n        \"dtype\": \"uint8\",\n        \"num_unique_values\": 2,\n        \"samples\": [\n          0\n        ],\n        \"semantic_type\": \"\",\n        \"description\": \"\"\n      }\n    },\n    {\n      \"column\": \"Education Level_Master's\",\n      \"properties\": {\n        \"dtype\": \"uint8\",\n        \"num_unique_values\": 2,\n        \"samples\": [\n          1\n        ],\n        \"semantic_type\": \"\",\n        \"description\": \"\"\n      }\n    },\n    {\n      \"column\": \"Education Level_PhD\",\n      \"properties\": {\n        \"dtype\": \"uint8\",\n        \"num_unique_values\": 2,\n        \"samples\": [\n          1\n        ],\n        \"semantic_type\": \"\",\n        \"description\": \"\"\n      }\n    }\n  ]\n}"
            }
          },
          "metadata": {},
          "execution_count": 203
        }
      ]
    },
    {
      "cell_type": "code",
      "source": [
        "def categorize_age(age):\n",
        "    if age < 18:\n",
        "        return 'Child'\n",
        "    elif 18 <= age < 60:\n",
        "        return 'Adult'\n",
        "    else:\n",
        "        return 'Elderly'\n",
        "\n",
        "df['AgeCategory'] = df['Age'].apply(categorize_age)"
      ],
      "metadata": {
        "id": "Q0D0NAto50-_"
      },
      "execution_count": 175,
      "outputs": []
    },
    {
      "cell_type": "markdown",
      "source": [
        "Pada tahap ini, kita akan melakukan pengkategorian usia ke dalam tiga kategori: 'Child', 'Adult', dan 'Elderly'. Karena dataset ini memiliki banyak data, pembagian usia ini akan membantu dalam analisis lebih lanjut."
      ],
      "metadata": {
        "id": "43Wob0QNKdlg"
      }
    },
    {
      "cell_type": "markdown",
      "source": [
        "###**Pengecekkan Hasil**"
      ],
      "metadata": {
        "id": "VXUI3Ejm6ApZ"
      }
    },
    {
      "cell_type": "code",
      "source": [
        "df.head()"
      ],
      "metadata": {
        "id": "VBQG84rT6AcT"
      },
      "execution_count": null,
      "outputs": []
    },
    {
      "cell_type": "code",
      "source": [
        "df['AgeCategory'].value_counts()"
      ],
      "metadata": {
        "id": "QnCNXYwsMKD7"
      },
      "execution_count": null,
      "outputs": []
    },
    {
      "cell_type": "markdown",
      "source": [
        "Hasil ini menunjukkan bahwa tidak terdapat kategori selain 'Adult' yang artinya pada dataset tersebut, rata-rata usianya hanya 18 hingga 60 tahun."
      ],
      "metadata": {
        "id": "EIgBSCkbMPaY"
      }
    },
    {
      "cell_type": "markdown",
      "source": [
        "#**DATA REDUCTION**"
      ],
      "metadata": {
        "id": "XxP4LBeS6Uhn"
      }
    },
    {
      "cell_type": "markdown",
      "source": [
        "###**Mengurangi Fitur - Fitur Yang Kurang Relevan**"
      ],
      "metadata": {
        "id": "TAaF5WZW6XHP"
      }
    },
    {
      "cell_type": "code",
      "source": [
        "df_corr = df.corr(numeric_only=True)\n",
        "px.imshow(df_corr)"
      ],
      "metadata": {
        "colab": {
          "base_uri": "https://localhost:8080/",
          "height": 542
        },
        "id": "34qJiehQ6ciH",
        "outputId": "264e9eb1-197c-43b7-fc02-94ec6e85d23a"
      },
      "execution_count": 179,
      "outputs": [
        {
          "output_type": "display_data",
          "data": {
            "text/html": [
              "<html>\n",
              "<head><meta charset=\"utf-8\" /></head>\n",
              "<body>\n",
              "    <div>            <script src=\"https://cdnjs.cloudflare.com/ajax/libs/mathjax/2.7.5/MathJax.js?config=TeX-AMS-MML_SVG\"></script><script type=\"text/javascript\">if (window.MathJax && window.MathJax.Hub && window.MathJax.Hub.Config) {window.MathJax.Hub.Config({SVG: {font: \"STIX-Web\"}});}</script>                <script type=\"text/javascript\">window.PlotlyConfig = {MathJaxConfig: 'local'};</script>\n",
              "        <script charset=\"utf-8\" src=\"https://cdn.plot.ly/plotly-2.24.1.min.js\"></script>                <div id=\"f28987ce-41b2-483f-b6c5-25ab3210adce\" class=\"plotly-graph-div\" style=\"height:525px; width:100%;\"></div>            <script type=\"text/javascript\">                                    window.PLOTLYENV=window.PLOTLYENV || {};                                    if (document.getElementById(\"f28987ce-41b2-483f-b6c5-25ab3210adce\")) {                    Plotly.newPlot(                        \"f28987ce-41b2-483f-b6c5-25ab3210adce\",                        [{\"coloraxis\":\"coloraxis\",\"name\":\"0\",\"x\":[\"Age\",\"Years of Experience\",\"Salary\"],\"y\":[\"Age\",\"Years of Experience\",\"Salary\"],\"z\":[[1.0,0.9791280503527505,0.9223352439166438],[0.9791280503527505,1.0,0.9303377227618355],[0.9223352439166438,0.9303377227618355,1.0]],\"type\":\"heatmap\",\"xaxis\":\"x\",\"yaxis\":\"y\",\"hovertemplate\":\"x: %{x}\\u003cbr\\u003ey: %{y}\\u003cbr\\u003ecolor: %{z}\\u003cextra\\u003e\\u003c\\u002fextra\\u003e\"}],                        {\"template\":{\"data\":{\"histogram2dcontour\":[{\"type\":\"histogram2dcontour\",\"colorbar\":{\"outlinewidth\":0,\"ticks\":\"\"},\"colorscale\":[[0.0,\"#0d0887\"],[0.1111111111111111,\"#46039f\"],[0.2222222222222222,\"#7201a8\"],[0.3333333333333333,\"#9c179e\"],[0.4444444444444444,\"#bd3786\"],[0.5555555555555556,\"#d8576b\"],[0.6666666666666666,\"#ed7953\"],[0.7777777777777778,\"#fb9f3a\"],[0.8888888888888888,\"#fdca26\"],[1.0,\"#f0f921\"]]}],\"choropleth\":[{\"type\":\"choropleth\",\"colorbar\":{\"outlinewidth\":0,\"ticks\":\"\"}}],\"histogram2d\":[{\"type\":\"histogram2d\",\"colorbar\":{\"outlinewidth\":0,\"ticks\":\"\"},\"colorscale\":[[0.0,\"#0d0887\"],[0.1111111111111111,\"#46039f\"],[0.2222222222222222,\"#7201a8\"],[0.3333333333333333,\"#9c179e\"],[0.4444444444444444,\"#bd3786\"],[0.5555555555555556,\"#d8576b\"],[0.6666666666666666,\"#ed7953\"],[0.7777777777777778,\"#fb9f3a\"],[0.8888888888888888,\"#fdca26\"],[1.0,\"#f0f921\"]]}],\"heatmap\":[{\"type\":\"heatmap\",\"colorbar\":{\"outlinewidth\":0,\"ticks\":\"\"},\"colorscale\":[[0.0,\"#0d0887\"],[0.1111111111111111,\"#46039f\"],[0.2222222222222222,\"#7201a8\"],[0.3333333333333333,\"#9c179e\"],[0.4444444444444444,\"#bd3786\"],[0.5555555555555556,\"#d8576b\"],[0.6666666666666666,\"#ed7953\"],[0.7777777777777778,\"#fb9f3a\"],[0.8888888888888888,\"#fdca26\"],[1.0,\"#f0f921\"]]}],\"heatmapgl\":[{\"type\":\"heatmapgl\",\"colorbar\":{\"outlinewidth\":0,\"ticks\":\"\"},\"colorscale\":[[0.0,\"#0d0887\"],[0.1111111111111111,\"#46039f\"],[0.2222222222222222,\"#7201a8\"],[0.3333333333333333,\"#9c179e\"],[0.4444444444444444,\"#bd3786\"],[0.5555555555555556,\"#d8576b\"],[0.6666666666666666,\"#ed7953\"],[0.7777777777777778,\"#fb9f3a\"],[0.8888888888888888,\"#fdca26\"],[1.0,\"#f0f921\"]]}],\"contourcarpet\":[{\"type\":\"contourcarpet\",\"colorbar\":{\"outlinewidth\":0,\"ticks\":\"\"}}],\"contour\":[{\"type\":\"contour\",\"colorbar\":{\"outlinewidth\":0,\"ticks\":\"\"},\"colorscale\":[[0.0,\"#0d0887\"],[0.1111111111111111,\"#46039f\"],[0.2222222222222222,\"#7201a8\"],[0.3333333333333333,\"#9c179e\"],[0.4444444444444444,\"#bd3786\"],[0.5555555555555556,\"#d8576b\"],[0.6666666666666666,\"#ed7953\"],[0.7777777777777778,\"#fb9f3a\"],[0.8888888888888888,\"#fdca26\"],[1.0,\"#f0f921\"]]}],\"surface\":[{\"type\":\"surface\",\"colorbar\":{\"outlinewidth\":0,\"ticks\":\"\"},\"colorscale\":[[0.0,\"#0d0887\"],[0.1111111111111111,\"#46039f\"],[0.2222222222222222,\"#7201a8\"],[0.3333333333333333,\"#9c179e\"],[0.4444444444444444,\"#bd3786\"],[0.5555555555555556,\"#d8576b\"],[0.6666666666666666,\"#ed7953\"],[0.7777777777777778,\"#fb9f3a\"],[0.8888888888888888,\"#fdca26\"],[1.0,\"#f0f921\"]]}],\"mesh3d\":[{\"type\":\"mesh3d\",\"colorbar\":{\"outlinewidth\":0,\"ticks\":\"\"}}],\"scatter\":[{\"fillpattern\":{\"fillmode\":\"overlay\",\"size\":10,\"solidity\":0.2},\"type\":\"scatter\"}],\"parcoords\":[{\"type\":\"parcoords\",\"line\":{\"colorbar\":{\"outlinewidth\":0,\"ticks\":\"\"}}}],\"scatterpolargl\":[{\"type\":\"scatterpolargl\",\"marker\":{\"colorbar\":{\"outlinewidth\":0,\"ticks\":\"\"}}}],\"bar\":[{\"error_x\":{\"color\":\"#2a3f5f\"},\"error_y\":{\"color\":\"#2a3f5f\"},\"marker\":{\"line\":{\"color\":\"#E5ECF6\",\"width\":0.5},\"pattern\":{\"fillmode\":\"overlay\",\"size\":10,\"solidity\":0.2}},\"type\":\"bar\"}],\"scattergeo\":[{\"type\":\"scattergeo\",\"marker\":{\"colorbar\":{\"outlinewidth\":0,\"ticks\":\"\"}}}],\"scatterpolar\":[{\"type\":\"scatterpolar\",\"marker\":{\"colorbar\":{\"outlinewidth\":0,\"ticks\":\"\"}}}],\"histogram\":[{\"marker\":{\"pattern\":{\"fillmode\":\"overlay\",\"size\":10,\"solidity\":0.2}},\"type\":\"histogram\"}],\"scattergl\":[{\"type\":\"scattergl\",\"marker\":{\"colorbar\":{\"outlinewidth\":0,\"ticks\":\"\"}}}],\"scatter3d\":[{\"type\":\"scatter3d\",\"line\":{\"colorbar\":{\"outlinewidth\":0,\"ticks\":\"\"}},\"marker\":{\"colorbar\":{\"outlinewidth\":0,\"ticks\":\"\"}}}],\"scattermapbox\":[{\"type\":\"scattermapbox\",\"marker\":{\"colorbar\":{\"outlinewidth\":0,\"ticks\":\"\"}}}],\"scatterternary\":[{\"type\":\"scatterternary\",\"marker\":{\"colorbar\":{\"outlinewidth\":0,\"ticks\":\"\"}}}],\"scattercarpet\":[{\"type\":\"scattercarpet\",\"marker\":{\"colorbar\":{\"outlinewidth\":0,\"ticks\":\"\"}}}],\"carpet\":[{\"aaxis\":{\"endlinecolor\":\"#2a3f5f\",\"gridcolor\":\"white\",\"linecolor\":\"white\",\"minorgridcolor\":\"white\",\"startlinecolor\":\"#2a3f5f\"},\"baxis\":{\"endlinecolor\":\"#2a3f5f\",\"gridcolor\":\"white\",\"linecolor\":\"white\",\"minorgridcolor\":\"white\",\"startlinecolor\":\"#2a3f5f\"},\"type\":\"carpet\"}],\"table\":[{\"cells\":{\"fill\":{\"color\":\"#EBF0F8\"},\"line\":{\"color\":\"white\"}},\"header\":{\"fill\":{\"color\":\"#C8D4E3\"},\"line\":{\"color\":\"white\"}},\"type\":\"table\"}],\"barpolar\":[{\"marker\":{\"line\":{\"color\":\"#E5ECF6\",\"width\":0.5},\"pattern\":{\"fillmode\":\"overlay\",\"size\":10,\"solidity\":0.2}},\"type\":\"barpolar\"}],\"pie\":[{\"automargin\":true,\"type\":\"pie\"}]},\"layout\":{\"autotypenumbers\":\"strict\",\"colorway\":[\"#636efa\",\"#EF553B\",\"#00cc96\",\"#ab63fa\",\"#FFA15A\",\"#19d3f3\",\"#FF6692\",\"#B6E880\",\"#FF97FF\",\"#FECB52\"],\"font\":{\"color\":\"#2a3f5f\"},\"hovermode\":\"closest\",\"hoverlabel\":{\"align\":\"left\"},\"paper_bgcolor\":\"white\",\"plot_bgcolor\":\"#E5ECF6\",\"polar\":{\"bgcolor\":\"#E5ECF6\",\"angularaxis\":{\"gridcolor\":\"white\",\"linecolor\":\"white\",\"ticks\":\"\"},\"radialaxis\":{\"gridcolor\":\"white\",\"linecolor\":\"white\",\"ticks\":\"\"}},\"ternary\":{\"bgcolor\":\"#E5ECF6\",\"aaxis\":{\"gridcolor\":\"white\",\"linecolor\":\"white\",\"ticks\":\"\"},\"baxis\":{\"gridcolor\":\"white\",\"linecolor\":\"white\",\"ticks\":\"\"},\"caxis\":{\"gridcolor\":\"white\",\"linecolor\":\"white\",\"ticks\":\"\"}},\"coloraxis\":{\"colorbar\":{\"outlinewidth\":0,\"ticks\":\"\"}},\"colorscale\":{\"sequential\":[[0.0,\"#0d0887\"],[0.1111111111111111,\"#46039f\"],[0.2222222222222222,\"#7201a8\"],[0.3333333333333333,\"#9c179e\"],[0.4444444444444444,\"#bd3786\"],[0.5555555555555556,\"#d8576b\"],[0.6666666666666666,\"#ed7953\"],[0.7777777777777778,\"#fb9f3a\"],[0.8888888888888888,\"#fdca26\"],[1.0,\"#f0f921\"]],\"sequentialminus\":[[0.0,\"#0d0887\"],[0.1111111111111111,\"#46039f\"],[0.2222222222222222,\"#7201a8\"],[0.3333333333333333,\"#9c179e\"],[0.4444444444444444,\"#bd3786\"],[0.5555555555555556,\"#d8576b\"],[0.6666666666666666,\"#ed7953\"],[0.7777777777777778,\"#fb9f3a\"],[0.8888888888888888,\"#fdca26\"],[1.0,\"#f0f921\"]],\"diverging\":[[0,\"#8e0152\"],[0.1,\"#c51b7d\"],[0.2,\"#de77ae\"],[0.3,\"#f1b6da\"],[0.4,\"#fde0ef\"],[0.5,\"#f7f7f7\"],[0.6,\"#e6f5d0\"],[0.7,\"#b8e186\"],[0.8,\"#7fbc41\"],[0.9,\"#4d9221\"],[1,\"#276419\"]]},\"xaxis\":{\"gridcolor\":\"white\",\"linecolor\":\"white\",\"ticks\":\"\",\"title\":{\"standoff\":15},\"zerolinecolor\":\"white\",\"automargin\":true,\"zerolinewidth\":2},\"yaxis\":{\"gridcolor\":\"white\",\"linecolor\":\"white\",\"ticks\":\"\",\"title\":{\"standoff\":15},\"zerolinecolor\":\"white\",\"automargin\":true,\"zerolinewidth\":2},\"scene\":{\"xaxis\":{\"backgroundcolor\":\"#E5ECF6\",\"gridcolor\":\"white\",\"linecolor\":\"white\",\"showbackground\":true,\"ticks\":\"\",\"zerolinecolor\":\"white\",\"gridwidth\":2},\"yaxis\":{\"backgroundcolor\":\"#E5ECF6\",\"gridcolor\":\"white\",\"linecolor\":\"white\",\"showbackground\":true,\"ticks\":\"\",\"zerolinecolor\":\"white\",\"gridwidth\":2},\"zaxis\":{\"backgroundcolor\":\"#E5ECF6\",\"gridcolor\":\"white\",\"linecolor\":\"white\",\"showbackground\":true,\"ticks\":\"\",\"zerolinecolor\":\"white\",\"gridwidth\":2}},\"shapedefaults\":{\"line\":{\"color\":\"#2a3f5f\"}},\"annotationdefaults\":{\"arrowcolor\":\"#2a3f5f\",\"arrowhead\":0,\"arrowwidth\":1},\"geo\":{\"bgcolor\":\"white\",\"landcolor\":\"#E5ECF6\",\"subunitcolor\":\"white\",\"showland\":true,\"showlakes\":true,\"lakecolor\":\"white\"},\"title\":{\"x\":0.05},\"mapbox\":{\"style\":\"light\"}}},\"xaxis\":{\"anchor\":\"y\",\"domain\":[0.0,1.0],\"scaleanchor\":\"y\",\"constrain\":\"domain\"},\"yaxis\":{\"anchor\":\"x\",\"domain\":[0.0,1.0],\"autorange\":\"reversed\",\"constrain\":\"domain\"},\"coloraxis\":{\"colorscale\":[[0.0,\"#0d0887\"],[0.1111111111111111,\"#46039f\"],[0.2222222222222222,\"#7201a8\"],[0.3333333333333333,\"#9c179e\"],[0.4444444444444444,\"#bd3786\"],[0.5555555555555556,\"#d8576b\"],[0.6666666666666666,\"#ed7953\"],[0.7777777777777778,\"#fb9f3a\"],[0.8888888888888888,\"#fdca26\"],[1.0,\"#f0f921\"]]},\"margin\":{\"t\":60}},                        {\"responsive\": true}                    ).then(function(){\n",
              "                            \n",
              "var gd = document.getElementById('f28987ce-41b2-483f-b6c5-25ab3210adce');\n",
              "var x = new MutationObserver(function (mutations, observer) {{\n",
              "        var display = window.getComputedStyle(gd).display;\n",
              "        if (!display || display === 'none') {{\n",
              "            console.log([gd, 'removed!']);\n",
              "            Plotly.purge(gd);\n",
              "            observer.disconnect();\n",
              "        }}\n",
              "}});\n",
              "\n",
              "// Listen for the removal of the full notebook cells\n",
              "var notebookContainer = gd.closest('#notebook-container');\n",
              "if (notebookContainer) {{\n",
              "    x.observe(notebookContainer, {childList: true});\n",
              "}}\n",
              "\n",
              "// Listen for the clearing of the current output cell\n",
              "var outputEl = gd.closest('.output');\n",
              "if (outputEl) {{\n",
              "    x.observe(outputEl, {childList: true});\n",
              "}}\n",
              "\n",
              "                        })                };                            </script>        </div>\n",
              "</body>\n",
              "</html>"
            ]
          },
          "metadata": {}
        }
      ]
    },
    {
      "cell_type": "code",
      "source": [
        "df = df.drop(['Job Title'], axis=1)"
      ],
      "metadata": {
        "id": "aGS-IZIZGzTE"
      },
      "execution_count": 185,
      "outputs": []
    },
    {
      "cell_type": "markdown",
      "source": [
        "Pada tahap pengurangan fitur ini, kita dapat melewatinya karena tidak ada fitur yang dianggap tidak relevan. Semua fitur, mulai dari Age, Gender, Education, Job Title, Years of Experience, hingga Salary, dianggap penting dan relevan untuk analisis. Oleh karena itu, tidak perlu melakukan pengurangan fitur. Semua informasi yang tersedia dapat dimanfaatkan sepenuhnya dalam pemodelan atau analisis yang akan dilakukan. Selanjutnya, kita dapat melanjutkan ke tahap berikutnya dalam proses analisis data."
      ],
      "metadata": {
        "id": "iYU9J68UH8lO"
      }
    },
    {
      "cell_type": "markdown",
      "source": [
        "###**Mapping**"
      ],
      "metadata": {
        "id": "ixNsSxwR7Qdg"
      }
    },
    {
      "cell_type": "code",
      "source": [
        "df['AgeCategory'] = df['AgeCategory'].map({'Child': 0, 'Adult': 1, 'Elder': 2}).fillna(1).astype(int)"
      ],
      "metadata": {
        "id": "sWWbTcDe7TI7"
      },
      "execution_count": 206,
      "outputs": []
    },
    {
      "cell_type": "code",
      "source": [
        "df.head()"
      ],
      "metadata": {
        "id": "3W9byxXa7o8-"
      },
      "execution_count": null,
      "outputs": []
    },
    {
      "cell_type": "markdown",
      "source": [
        "Ini adalah penambahan kolom baru dalam dataframe yang menunjukkan kategori usia berdasarkan nilai 'Child', 'Adult', dan 'Elder' pada kolom 'AgeCategory'.\n",
        "\n",
        "Selanjutnya, kolom tersebut dipecah menjadi beberapa kolom biner untuk setiap kategori usia, misalnya 'AgeCategory_1' untuk kategori 'Child', 'AgeCategory_2' untuk kategori 'Adult', dan 'AgeCategory_3' untuk kategori 'Elder'. Kolom-kolom biner ini menunjukkan apakah suatu data berada dalam kategori usia tertentu atau tidak.\n",
        "\n",
        "Selain itu, juga terdapat kolom 'Gender_Female' dan 'Gender_Male' yang menunjukkan jenis kelamin. Kemudian, terdapat kolom untuk tingkat pendidikan, di mana 'Education Level_Bachelor's', 'Education Level_Master's', dan 'Education Level_PhD' menunjukkan tingkat pendidikan yang dimiliki oleh responden.\n",
        "\n",
        "Kolom-kolom biner ini dapat membantu dalam analisis data dengan mempermudah pemrosesan dan pemodelan data, terutama ketika menggunakan algoritma pembelajaran mesin yang memerlukan fitur-fitur dalam bentuk biner."
      ],
      "metadata": {
        "id": "ZQB1TwUqM4tx"
      }
    },
    {
      "cell_type": "markdown",
      "source": [
        "#**DATA TRANSFORMATION**"
      ],
      "metadata": {
        "id": "8yAaoYZyIQXQ"
      }
    },
    {
      "cell_type": "markdown",
      "source": [
        "###**Mapping**"
      ],
      "metadata": {
        "id": "Fd1_z5haIUAf"
      }
    },
    {
      "cell_type": "code",
      "source": [
        "# Melakukan one-hot encoding pada kolom 'Age'\n",
        "df = pd.concat([df, pd.get_dummies(df['AgeCategory'], prefix='AgeCategory')], axis=1)"
      ],
      "metadata": {
        "id": "Ky5akktwIZwZ"
      },
      "execution_count": 193,
      "outputs": []
    },
    {
      "cell_type": "code",
      "source": [
        "# Melakukan one-hot encoding pada kolom 'Gender'\n",
        "df = pd.concat([df, pd.get_dummies(df['Gender'], prefix='Gender')], axis=1)\n"
      ],
      "metadata": {
        "id": "yHFUCXdJJR0r"
      },
      "execution_count": 194,
      "outputs": []
    },
    {
      "cell_type": "code",
      "source": [
        "df"
      ],
      "metadata": {
        "colab": {
          "base_uri": "https://localhost:8080/",
          "height": 461
        },
        "id": "LVakpJteI-av",
        "outputId": "0c49fad8-8623-4c24-c5fe-665a7b2deaca"
      },
      "execution_count": 195,
      "outputs": [
        {
          "output_type": "execute_result",
          "data": {
            "text/plain": [
              "      Age  Gender Education Level  Years of Experience    Salary  AgeCategory  \\\n",
              "0    32.0    Male      Bachelor's                  5.0   90000.0            1   \n",
              "1    28.0  Female        Master's                  3.0   65000.0            1   \n",
              "2    45.0    Male             PhD                 15.0  150000.0            1   \n",
              "3    36.0  Female      Bachelor's                  7.0   60000.0            1   \n",
              "4    52.0    Male        Master's                 20.0  200000.0            1   \n",
              "..    ...     ...             ...                  ...       ...          ...   \n",
              "370  35.0  Female      Bachelor's                  8.0   85000.0            1   \n",
              "371  43.0    Male        Master's                 19.0  170000.0            1   \n",
              "372  29.0  Female      Bachelor's                  2.0   40000.0            1   \n",
              "373  34.0    Male      Bachelor's                  7.0   90000.0            1   \n",
              "374  44.0  Female             PhD                 15.0  150000.0            1   \n",
              "\n",
              "     AgeCategory_1  AgeCategory_1  AgeCategory_1  Gender_Female  Gender_Male  \n",
              "0                1              1              1              0            1  \n",
              "1                1              1              1              1            0  \n",
              "2                1              1              1              0            1  \n",
              "3                1              1              1              1            0  \n",
              "4                1              1              1              0            1  \n",
              "..             ...            ...            ...            ...          ...  \n",
              "370              1              1              1              1            0  \n",
              "371              1              1              1              0            1  \n",
              "372              1              1              1              1            0  \n",
              "373              1              1              1              0            1  \n",
              "374              1              1              1              1            0  \n",
              "\n",
              "[375 rows x 11 columns]"
            ],
            "text/html": [
              "\n",
              "  <div id=\"df-8811bad0-6215-428a-a015-d33c4e915d04\" class=\"colab-df-container\">\n",
              "    <div>\n",
              "<style scoped>\n",
              "    .dataframe tbody tr th:only-of-type {\n",
              "        vertical-align: middle;\n",
              "    }\n",
              "\n",
              "    .dataframe tbody tr th {\n",
              "        vertical-align: top;\n",
              "    }\n",
              "\n",
              "    .dataframe thead th {\n",
              "        text-align: right;\n",
              "    }\n",
              "</style>\n",
              "<table border=\"1\" class=\"dataframe\">\n",
              "  <thead>\n",
              "    <tr style=\"text-align: right;\">\n",
              "      <th></th>\n",
              "      <th>Age</th>\n",
              "      <th>Gender</th>\n",
              "      <th>Education Level</th>\n",
              "      <th>Years of Experience</th>\n",
              "      <th>Salary</th>\n",
              "      <th>AgeCategory</th>\n",
              "      <th>AgeCategory_1</th>\n",
              "      <th>AgeCategory_1</th>\n",
              "      <th>AgeCategory_1</th>\n",
              "      <th>Gender_Female</th>\n",
              "      <th>Gender_Male</th>\n",
              "    </tr>\n",
              "  </thead>\n",
              "  <tbody>\n",
              "    <tr>\n",
              "      <th>0</th>\n",
              "      <td>32.0</td>\n",
              "      <td>Male</td>\n",
              "      <td>Bachelor's</td>\n",
              "      <td>5.0</td>\n",
              "      <td>90000.0</td>\n",
              "      <td>1</td>\n",
              "      <td>1</td>\n",
              "      <td>1</td>\n",
              "      <td>1</td>\n",
              "      <td>0</td>\n",
              "      <td>1</td>\n",
              "    </tr>\n",
              "    <tr>\n",
              "      <th>1</th>\n",
              "      <td>28.0</td>\n",
              "      <td>Female</td>\n",
              "      <td>Master's</td>\n",
              "      <td>3.0</td>\n",
              "      <td>65000.0</td>\n",
              "      <td>1</td>\n",
              "      <td>1</td>\n",
              "      <td>1</td>\n",
              "      <td>1</td>\n",
              "      <td>1</td>\n",
              "      <td>0</td>\n",
              "    </tr>\n",
              "    <tr>\n",
              "      <th>2</th>\n",
              "      <td>45.0</td>\n",
              "      <td>Male</td>\n",
              "      <td>PhD</td>\n",
              "      <td>15.0</td>\n",
              "      <td>150000.0</td>\n",
              "      <td>1</td>\n",
              "      <td>1</td>\n",
              "      <td>1</td>\n",
              "      <td>1</td>\n",
              "      <td>0</td>\n",
              "      <td>1</td>\n",
              "    </tr>\n",
              "    <tr>\n",
              "      <th>3</th>\n",
              "      <td>36.0</td>\n",
              "      <td>Female</td>\n",
              "      <td>Bachelor's</td>\n",
              "      <td>7.0</td>\n",
              "      <td>60000.0</td>\n",
              "      <td>1</td>\n",
              "      <td>1</td>\n",
              "      <td>1</td>\n",
              "      <td>1</td>\n",
              "      <td>1</td>\n",
              "      <td>0</td>\n",
              "    </tr>\n",
              "    <tr>\n",
              "      <th>4</th>\n",
              "      <td>52.0</td>\n",
              "      <td>Male</td>\n",
              "      <td>Master's</td>\n",
              "      <td>20.0</td>\n",
              "      <td>200000.0</td>\n",
              "      <td>1</td>\n",
              "      <td>1</td>\n",
              "      <td>1</td>\n",
              "      <td>1</td>\n",
              "      <td>0</td>\n",
              "      <td>1</td>\n",
              "    </tr>\n",
              "    <tr>\n",
              "      <th>...</th>\n",
              "      <td>...</td>\n",
              "      <td>...</td>\n",
              "      <td>...</td>\n",
              "      <td>...</td>\n",
              "      <td>...</td>\n",
              "      <td>...</td>\n",
              "      <td>...</td>\n",
              "      <td>...</td>\n",
              "      <td>...</td>\n",
              "      <td>...</td>\n",
              "      <td>...</td>\n",
              "    </tr>\n",
              "    <tr>\n",
              "      <th>370</th>\n",
              "      <td>35.0</td>\n",
              "      <td>Female</td>\n",
              "      <td>Bachelor's</td>\n",
              "      <td>8.0</td>\n",
              "      <td>85000.0</td>\n",
              "      <td>1</td>\n",
              "      <td>1</td>\n",
              "      <td>1</td>\n",
              "      <td>1</td>\n",
              "      <td>1</td>\n",
              "      <td>0</td>\n",
              "    </tr>\n",
              "    <tr>\n",
              "      <th>371</th>\n",
              "      <td>43.0</td>\n",
              "      <td>Male</td>\n",
              "      <td>Master's</td>\n",
              "      <td>19.0</td>\n",
              "      <td>170000.0</td>\n",
              "      <td>1</td>\n",
              "      <td>1</td>\n",
              "      <td>1</td>\n",
              "      <td>1</td>\n",
              "      <td>0</td>\n",
              "      <td>1</td>\n",
              "    </tr>\n",
              "    <tr>\n",
              "      <th>372</th>\n",
              "      <td>29.0</td>\n",
              "      <td>Female</td>\n",
              "      <td>Bachelor's</td>\n",
              "      <td>2.0</td>\n",
              "      <td>40000.0</td>\n",
              "      <td>1</td>\n",
              "      <td>1</td>\n",
              "      <td>1</td>\n",
              "      <td>1</td>\n",
              "      <td>1</td>\n",
              "      <td>0</td>\n",
              "    </tr>\n",
              "    <tr>\n",
              "      <th>373</th>\n",
              "      <td>34.0</td>\n",
              "      <td>Male</td>\n",
              "      <td>Bachelor's</td>\n",
              "      <td>7.0</td>\n",
              "      <td>90000.0</td>\n",
              "      <td>1</td>\n",
              "      <td>1</td>\n",
              "      <td>1</td>\n",
              "      <td>1</td>\n",
              "      <td>0</td>\n",
              "      <td>1</td>\n",
              "    </tr>\n",
              "    <tr>\n",
              "      <th>374</th>\n",
              "      <td>44.0</td>\n",
              "      <td>Female</td>\n",
              "      <td>PhD</td>\n",
              "      <td>15.0</td>\n",
              "      <td>150000.0</td>\n",
              "      <td>1</td>\n",
              "      <td>1</td>\n",
              "      <td>1</td>\n",
              "      <td>1</td>\n",
              "      <td>1</td>\n",
              "      <td>0</td>\n",
              "    </tr>\n",
              "  </tbody>\n",
              "</table>\n",
              "<p>375 rows × 11 columns</p>\n",
              "</div>\n",
              "    <div class=\"colab-df-buttons\">\n",
              "\n",
              "  <div class=\"colab-df-container\">\n",
              "    <button class=\"colab-df-convert\" onclick=\"convertToInteractive('df-8811bad0-6215-428a-a015-d33c4e915d04')\"\n",
              "            title=\"Convert this dataframe to an interactive table.\"\n",
              "            style=\"display:none;\">\n",
              "\n",
              "  <svg xmlns=\"http://www.w3.org/2000/svg\" height=\"24px\" viewBox=\"0 -960 960 960\">\n",
              "    <path d=\"M120-120v-720h720v720H120Zm60-500h600v-160H180v160Zm220 220h160v-160H400v160Zm0 220h160v-160H400v160ZM180-400h160v-160H180v160Zm440 0h160v-160H620v160ZM180-180h160v-160H180v160Zm440 0h160v-160H620v160Z\"/>\n",
              "  </svg>\n",
              "    </button>\n",
              "\n",
              "  <style>\n",
              "    .colab-df-container {\n",
              "      display:flex;\n",
              "      gap: 12px;\n",
              "    }\n",
              "\n",
              "    .colab-df-convert {\n",
              "      background-color: #E8F0FE;\n",
              "      border: none;\n",
              "      border-radius: 50%;\n",
              "      cursor: pointer;\n",
              "      display: none;\n",
              "      fill: #1967D2;\n",
              "      height: 32px;\n",
              "      padding: 0 0 0 0;\n",
              "      width: 32px;\n",
              "    }\n",
              "\n",
              "    .colab-df-convert:hover {\n",
              "      background-color: #E2EBFA;\n",
              "      box-shadow: 0px 1px 2px rgba(60, 64, 67, 0.3), 0px 1px 3px 1px rgba(60, 64, 67, 0.15);\n",
              "      fill: #174EA6;\n",
              "    }\n",
              "\n",
              "    .colab-df-buttons div {\n",
              "      margin-bottom: 4px;\n",
              "    }\n",
              "\n",
              "    [theme=dark] .colab-df-convert {\n",
              "      background-color: #3B4455;\n",
              "      fill: #D2E3FC;\n",
              "    }\n",
              "\n",
              "    [theme=dark] .colab-df-convert:hover {\n",
              "      background-color: #434B5C;\n",
              "      box-shadow: 0px 1px 3px 1px rgba(0, 0, 0, 0.15);\n",
              "      filter: drop-shadow(0px 1px 2px rgba(0, 0, 0, 0.3));\n",
              "      fill: #FFFFFF;\n",
              "    }\n",
              "  </style>\n",
              "\n",
              "    <script>\n",
              "      const buttonEl =\n",
              "        document.querySelector('#df-8811bad0-6215-428a-a015-d33c4e915d04 button.colab-df-convert');\n",
              "      buttonEl.style.display =\n",
              "        google.colab.kernel.accessAllowed ? 'block' : 'none';\n",
              "\n",
              "      async function convertToInteractive(key) {\n",
              "        const element = document.querySelector('#df-8811bad0-6215-428a-a015-d33c4e915d04');\n",
              "        const dataTable =\n",
              "          await google.colab.kernel.invokeFunction('convertToInteractive',\n",
              "                                                    [key], {});\n",
              "        if (!dataTable) return;\n",
              "\n",
              "        const docLinkHtml = 'Like what you see? Visit the ' +\n",
              "          '<a target=\"_blank\" href=https://colab.research.google.com/notebooks/data_table.ipynb>data table notebook</a>'\n",
              "          + ' to learn more about interactive tables.';\n",
              "        element.innerHTML = '';\n",
              "        dataTable['output_type'] = 'display_data';\n",
              "        await google.colab.output.renderOutput(dataTable, element);\n",
              "        const docLink = document.createElement('div');\n",
              "        docLink.innerHTML = docLinkHtml;\n",
              "        element.appendChild(docLink);\n",
              "      }\n",
              "    </script>\n",
              "  </div>\n",
              "\n",
              "\n",
              "<div id=\"df-efdaf775-7ae9-4ce8-b8dd-6df391de457f\">\n",
              "  <button class=\"colab-df-quickchart\" onclick=\"quickchart('df-efdaf775-7ae9-4ce8-b8dd-6df391de457f')\"\n",
              "            title=\"Suggest charts\"\n",
              "            style=\"display:none;\">\n",
              "\n",
              "<svg xmlns=\"http://www.w3.org/2000/svg\" height=\"24px\"viewBox=\"0 0 24 24\"\n",
              "     width=\"24px\">\n",
              "    <g>\n",
              "        <path d=\"M19 3H5c-1.1 0-2 .9-2 2v14c0 1.1.9 2 2 2h14c1.1 0 2-.9 2-2V5c0-1.1-.9-2-2-2zM9 17H7v-7h2v7zm4 0h-2V7h2v10zm4 0h-2v-4h2v4z\"/>\n",
              "    </g>\n",
              "</svg>\n",
              "  </button>\n",
              "\n",
              "<style>\n",
              "  .colab-df-quickchart {\n",
              "      --bg-color: #E8F0FE;\n",
              "      --fill-color: #1967D2;\n",
              "      --hover-bg-color: #E2EBFA;\n",
              "      --hover-fill-color: #174EA6;\n",
              "      --disabled-fill-color: #AAA;\n",
              "      --disabled-bg-color: #DDD;\n",
              "  }\n",
              "\n",
              "  [theme=dark] .colab-df-quickchart {\n",
              "      --bg-color: #3B4455;\n",
              "      --fill-color: #D2E3FC;\n",
              "      --hover-bg-color: #434B5C;\n",
              "      --hover-fill-color: #FFFFFF;\n",
              "      --disabled-bg-color: #3B4455;\n",
              "      --disabled-fill-color: #666;\n",
              "  }\n",
              "\n",
              "  .colab-df-quickchart {\n",
              "    background-color: var(--bg-color);\n",
              "    border: none;\n",
              "    border-radius: 50%;\n",
              "    cursor: pointer;\n",
              "    display: none;\n",
              "    fill: var(--fill-color);\n",
              "    height: 32px;\n",
              "    padding: 0;\n",
              "    width: 32px;\n",
              "  }\n",
              "\n",
              "  .colab-df-quickchart:hover {\n",
              "    background-color: var(--hover-bg-color);\n",
              "    box-shadow: 0 1px 2px rgba(60, 64, 67, 0.3), 0 1px 3px 1px rgba(60, 64, 67, 0.15);\n",
              "    fill: var(--button-hover-fill-color);\n",
              "  }\n",
              "\n",
              "  .colab-df-quickchart-complete:disabled,\n",
              "  .colab-df-quickchart-complete:disabled:hover {\n",
              "    background-color: var(--disabled-bg-color);\n",
              "    fill: var(--disabled-fill-color);\n",
              "    box-shadow: none;\n",
              "  }\n",
              "\n",
              "  .colab-df-spinner {\n",
              "    border: 2px solid var(--fill-color);\n",
              "    border-color: transparent;\n",
              "    border-bottom-color: var(--fill-color);\n",
              "    animation:\n",
              "      spin 1s steps(1) infinite;\n",
              "  }\n",
              "\n",
              "  @keyframes spin {\n",
              "    0% {\n",
              "      border-color: transparent;\n",
              "      border-bottom-color: var(--fill-color);\n",
              "      border-left-color: var(--fill-color);\n",
              "    }\n",
              "    20% {\n",
              "      border-color: transparent;\n",
              "      border-left-color: var(--fill-color);\n",
              "      border-top-color: var(--fill-color);\n",
              "    }\n",
              "    30% {\n",
              "      border-color: transparent;\n",
              "      border-left-color: var(--fill-color);\n",
              "      border-top-color: var(--fill-color);\n",
              "      border-right-color: var(--fill-color);\n",
              "    }\n",
              "    40% {\n",
              "      border-color: transparent;\n",
              "      border-right-color: var(--fill-color);\n",
              "      border-top-color: var(--fill-color);\n",
              "    }\n",
              "    60% {\n",
              "      border-color: transparent;\n",
              "      border-right-color: var(--fill-color);\n",
              "    }\n",
              "    80% {\n",
              "      border-color: transparent;\n",
              "      border-right-color: var(--fill-color);\n",
              "      border-bottom-color: var(--fill-color);\n",
              "    }\n",
              "    90% {\n",
              "      border-color: transparent;\n",
              "      border-bottom-color: var(--fill-color);\n",
              "    }\n",
              "  }\n",
              "</style>\n",
              "\n",
              "  <script>\n",
              "    async function quickchart(key) {\n",
              "      const quickchartButtonEl =\n",
              "        document.querySelector('#' + key + ' button');\n",
              "      quickchartButtonEl.disabled = true;  // To prevent multiple clicks.\n",
              "      quickchartButtonEl.classList.add('colab-df-spinner');\n",
              "      try {\n",
              "        const charts = await google.colab.kernel.invokeFunction(\n",
              "            'suggestCharts', [key], {});\n",
              "      } catch (error) {\n",
              "        console.error('Error during call to suggestCharts:', error);\n",
              "      }\n",
              "      quickchartButtonEl.classList.remove('colab-df-spinner');\n",
              "      quickchartButtonEl.classList.add('colab-df-quickchart-complete');\n",
              "    }\n",
              "    (() => {\n",
              "      let quickchartButtonEl =\n",
              "        document.querySelector('#df-efdaf775-7ae9-4ce8-b8dd-6df391de457f button');\n",
              "      quickchartButtonEl.style.display =\n",
              "        google.colab.kernel.accessAllowed ? 'block' : 'none';\n",
              "    })();\n",
              "  </script>\n",
              "</div>\n",
              "    </div>\n",
              "  </div>\n"
            ],
            "application/vnd.google.colaboratory.intrinsic+json": {
              "type": "dataframe",
              "variable_name": "df",
              "summary": "{\n  \"name\": \"df\",\n  \"rows\": 375,\n  \"fields\": [\n    {\n      \"column\": \"Age\",\n      \"properties\": {\n        \"dtype\": \"number\",\n        \"std\": 7.050146337164603,\n        \"min\": 23.0,\n        \"max\": 53.0,\n        \"num_unique_values\": 32,\n        \"samples\": [\n          23.0,\n          33.0,\n          24.0\n        ],\n        \"semantic_type\": \"\",\n        \"description\": \"\"\n      }\n    },\n    {\n      \"column\": \"Gender\",\n      \"properties\": {\n        \"dtype\": \"category\",\n        \"num_unique_values\": 2,\n        \"samples\": [\n          \"Female\",\n          \"Male\"\n        ],\n        \"semantic_type\": \"\",\n        \"description\": \"\"\n      }\n    },\n    {\n      \"column\": \"Education Level\",\n      \"properties\": {\n        \"dtype\": \"category\",\n        \"num_unique_values\": 3,\n        \"samples\": [\n          \"Bachelor's\",\n          \"Master's\"\n        ],\n        \"semantic_type\": \"\",\n        \"description\": \"\"\n      }\n    },\n    {\n      \"column\": \"Years of Experience\",\n      \"properties\": {\n        \"dtype\": \"number\",\n        \"std\": 6.539451530248433,\n        \"min\": 0.0,\n        \"max\": 25.0,\n        \"num_unique_values\": 29,\n        \"samples\": [\n          1.5,\n          19.0\n        ],\n        \"semantic_type\": \"\",\n        \"description\": \"\"\n      }\n    },\n    {\n      \"column\": \"Salary\",\n      \"properties\": {\n        \"dtype\": \"number\",\n        \"std\": 48110.85658750964,\n        \"min\": 350.0,\n        \"max\": 250000.0,\n        \"num_unique_values\": 37,\n        \"samples\": [\n          180000.0,\n          40000.0\n        ],\n        \"semantic_type\": \"\",\n        \"description\": \"\"\n      }\n    },\n    {\n      \"column\": \"AgeCategory\",\n      \"properties\": {\n        \"dtype\": \"number\",\n        \"std\": 0,\n        \"min\": 1,\n        \"max\": 1,\n        \"num_unique_values\": 1,\n        \"samples\": [\n          1\n        ],\n        \"semantic_type\": \"\",\n        \"description\": \"\"\n      }\n    },\n    {\n      \"column\": \"AgeCategory_1\",\n      \"properties\": {\n        \"dtype\": \"uint8\",\n        \"num_unique_values\": 1,\n        \"samples\": [\n          1\n        ],\n        \"semantic_type\": \"\",\n        \"description\": \"\"\n      }\n    },\n    {\n      \"column\": \"AgeCategory_1\",\n      \"properties\": {\n        \"dtype\": \"uint8\",\n        \"num_unique_values\": 1,\n        \"samples\": [\n          1\n        ],\n        \"semantic_type\": \"\",\n        \"description\": \"\"\n      }\n    },\n    {\n      \"column\": \"AgeCategory_1\",\n      \"properties\": {\n        \"dtype\": \"uint8\",\n        \"num_unique_values\": 1,\n        \"samples\": [\n          1\n        ],\n        \"semantic_type\": \"\",\n        \"description\": \"\"\n      }\n    },\n    {\n      \"column\": \"Gender_Female\",\n      \"properties\": {\n        \"dtype\": \"uint8\",\n        \"num_unique_values\": 2,\n        \"samples\": [\n          1\n        ],\n        \"semantic_type\": \"\",\n        \"description\": \"\"\n      }\n    },\n    {\n      \"column\": \"Gender_Male\",\n      \"properties\": {\n        \"dtype\": \"uint8\",\n        \"num_unique_values\": 2,\n        \"samples\": [\n          0\n        ],\n        \"semantic_type\": \"\",\n        \"description\": \"\"\n      }\n    }\n  ]\n}"
            }
          },
          "metadata": {},
          "execution_count": 195
        }
      ]
    },
    {
      "cell_type": "markdown",
      "source": [
        "Pada tahap ini, dilakukan proses transformasi data menggunakan one-hot encoding untuk dua kolom, yaitu 'AgeCategory' dan 'Gender'.\n",
        "\n",
        "One-hot encoding pada kolom 'AgeCategory':\n",
        "\n",
        "Dengan menggunakan pd.get_dummies, kolom 'AgeCategory' yang berisi kategori usia (misalnya 'Child', 'Adult', 'Elder') diubah menjadi kolom-kolom baru dengan nilai biner (0 atau 1) yang menunjukkan keanggotaan suatu data dalam setiap kategori usia.\n",
        "Prefix 'AgeCategory_' digunakan untuk memberi nama pada kolom baru yang dihasilkan dari one-hot encoding.\n",
        "\n",
        "Sama seperti pada kolom 'AgeCategory', kolom 'Gender' yang berisi jenis kelamin ('Male' atau 'Female') diubah menjadi kolom-kolom baru dengan nilai biner yang menunjukkan jenis kelamin responden.\n",
        "Prefix 'Gender_' digunakan untuk memberi nama pada kolom baru yang dihasilkan dari one-hot encoding."
      ],
      "metadata": {
        "id": "uhD78ji8NnjE"
      }
    },
    {
      "cell_type": "markdown",
      "source": [
        "###**Encoding**"
      ],
      "metadata": {
        "id": "1DEls9f-868k"
      }
    },
    {
      "cell_type": "code",
      "source": [
        "df = pd.get_dummies(df)"
      ],
      "metadata": {
        "id": "tWyb5cmx88qm"
      },
      "execution_count": 199,
      "outputs": []
    },
    {
      "cell_type": "markdown",
      "source": [
        "###**Pengecekkan Hasil**"
      ],
      "metadata": {
        "id": "zjeXtSoR9C-p"
      }
    },
    {
      "cell_type": "code",
      "source": [
        "df.head()"
      ],
      "metadata": {
        "colab": {
          "base_uri": "https://localhost:8080/",
          "height": 244
        },
        "id": "F2QPHZ2B9Dth",
        "outputId": "9b7d6613-d957-4f16-8e8b-6762a73a15e7"
      },
      "execution_count": 198,
      "outputs": [
        {
          "output_type": "execute_result",
          "data": {
            "text/plain": [
              "    Age  Years of Experience    Salary  AgeCategory  AgeCategory_1  \\\n",
              "0  32.0                  5.0   90000.0            1              1   \n",
              "1  28.0                  3.0   65000.0            1              1   \n",
              "2  45.0                 15.0  150000.0            1              1   \n",
              "3  36.0                  7.0   60000.0            1              1   \n",
              "4  52.0                 20.0  200000.0            1              1   \n",
              "\n",
              "   AgeCategory_1  AgeCategory_1  Gender_Female  Gender_Male  Gender_Female  \\\n",
              "0              1              1              0            1              0   \n",
              "1              1              1              1            0              1   \n",
              "2              1              1              0            1              0   \n",
              "3              1              1              1            0              1   \n",
              "4              1              1              0            1              0   \n",
              "\n",
              "   Gender_Male  Education Level_Bachelor's  Education Level_Master's  \\\n",
              "0            1                           1                         0   \n",
              "1            0                           0                         1   \n",
              "2            1                           0                         0   \n",
              "3            0                           1                         0   \n",
              "4            1                           0                         1   \n",
              "\n",
              "   Education Level_PhD  \n",
              "0                    0  \n",
              "1                    0  \n",
              "2                    1  \n",
              "3                    0  \n",
              "4                    0  "
            ],
            "text/html": [
              "\n",
              "  <div id=\"df-a0618aa4-e0fd-4f43-96bf-f37c100282da\" class=\"colab-df-container\">\n",
              "    <div>\n",
              "<style scoped>\n",
              "    .dataframe tbody tr th:only-of-type {\n",
              "        vertical-align: middle;\n",
              "    }\n",
              "\n",
              "    .dataframe tbody tr th {\n",
              "        vertical-align: top;\n",
              "    }\n",
              "\n",
              "    .dataframe thead th {\n",
              "        text-align: right;\n",
              "    }\n",
              "</style>\n",
              "<table border=\"1\" class=\"dataframe\">\n",
              "  <thead>\n",
              "    <tr style=\"text-align: right;\">\n",
              "      <th></th>\n",
              "      <th>Age</th>\n",
              "      <th>Years of Experience</th>\n",
              "      <th>Salary</th>\n",
              "      <th>AgeCategory</th>\n",
              "      <th>AgeCategory_1</th>\n",
              "      <th>AgeCategory_1</th>\n",
              "      <th>AgeCategory_1</th>\n",
              "      <th>Gender_Female</th>\n",
              "      <th>Gender_Male</th>\n",
              "      <th>Gender_Female</th>\n",
              "      <th>Gender_Male</th>\n",
              "      <th>Education Level_Bachelor's</th>\n",
              "      <th>Education Level_Master's</th>\n",
              "      <th>Education Level_PhD</th>\n",
              "    </tr>\n",
              "  </thead>\n",
              "  <tbody>\n",
              "    <tr>\n",
              "      <th>0</th>\n",
              "      <td>32.0</td>\n",
              "      <td>5.0</td>\n",
              "      <td>90000.0</td>\n",
              "      <td>1</td>\n",
              "      <td>1</td>\n",
              "      <td>1</td>\n",
              "      <td>1</td>\n",
              "      <td>0</td>\n",
              "      <td>1</td>\n",
              "      <td>0</td>\n",
              "      <td>1</td>\n",
              "      <td>1</td>\n",
              "      <td>0</td>\n",
              "      <td>0</td>\n",
              "    </tr>\n",
              "    <tr>\n",
              "      <th>1</th>\n",
              "      <td>28.0</td>\n",
              "      <td>3.0</td>\n",
              "      <td>65000.0</td>\n",
              "      <td>1</td>\n",
              "      <td>1</td>\n",
              "      <td>1</td>\n",
              "      <td>1</td>\n",
              "      <td>1</td>\n",
              "      <td>0</td>\n",
              "      <td>1</td>\n",
              "      <td>0</td>\n",
              "      <td>0</td>\n",
              "      <td>1</td>\n",
              "      <td>0</td>\n",
              "    </tr>\n",
              "    <tr>\n",
              "      <th>2</th>\n",
              "      <td>45.0</td>\n",
              "      <td>15.0</td>\n",
              "      <td>150000.0</td>\n",
              "      <td>1</td>\n",
              "      <td>1</td>\n",
              "      <td>1</td>\n",
              "      <td>1</td>\n",
              "      <td>0</td>\n",
              "      <td>1</td>\n",
              "      <td>0</td>\n",
              "      <td>1</td>\n",
              "      <td>0</td>\n",
              "      <td>0</td>\n",
              "      <td>1</td>\n",
              "    </tr>\n",
              "    <tr>\n",
              "      <th>3</th>\n",
              "      <td>36.0</td>\n",
              "      <td>7.0</td>\n",
              "      <td>60000.0</td>\n",
              "      <td>1</td>\n",
              "      <td>1</td>\n",
              "      <td>1</td>\n",
              "      <td>1</td>\n",
              "      <td>1</td>\n",
              "      <td>0</td>\n",
              "      <td>1</td>\n",
              "      <td>0</td>\n",
              "      <td>1</td>\n",
              "      <td>0</td>\n",
              "      <td>0</td>\n",
              "    </tr>\n",
              "    <tr>\n",
              "      <th>4</th>\n",
              "      <td>52.0</td>\n",
              "      <td>20.0</td>\n",
              "      <td>200000.0</td>\n",
              "      <td>1</td>\n",
              "      <td>1</td>\n",
              "      <td>1</td>\n",
              "      <td>1</td>\n",
              "      <td>0</td>\n",
              "      <td>1</td>\n",
              "      <td>0</td>\n",
              "      <td>1</td>\n",
              "      <td>0</td>\n",
              "      <td>1</td>\n",
              "      <td>0</td>\n",
              "    </tr>\n",
              "  </tbody>\n",
              "</table>\n",
              "</div>\n",
              "    <div class=\"colab-df-buttons\">\n",
              "\n",
              "  <div class=\"colab-df-container\">\n",
              "    <button class=\"colab-df-convert\" onclick=\"convertToInteractive('df-a0618aa4-e0fd-4f43-96bf-f37c100282da')\"\n",
              "            title=\"Convert this dataframe to an interactive table.\"\n",
              "            style=\"display:none;\">\n",
              "\n",
              "  <svg xmlns=\"http://www.w3.org/2000/svg\" height=\"24px\" viewBox=\"0 -960 960 960\">\n",
              "    <path d=\"M120-120v-720h720v720H120Zm60-500h600v-160H180v160Zm220 220h160v-160H400v160Zm0 220h160v-160H400v160ZM180-400h160v-160H180v160Zm440 0h160v-160H620v160ZM180-180h160v-160H180v160Zm440 0h160v-160H620v160Z\"/>\n",
              "  </svg>\n",
              "    </button>\n",
              "\n",
              "  <style>\n",
              "    .colab-df-container {\n",
              "      display:flex;\n",
              "      gap: 12px;\n",
              "    }\n",
              "\n",
              "    .colab-df-convert {\n",
              "      background-color: #E8F0FE;\n",
              "      border: none;\n",
              "      border-radius: 50%;\n",
              "      cursor: pointer;\n",
              "      display: none;\n",
              "      fill: #1967D2;\n",
              "      height: 32px;\n",
              "      padding: 0 0 0 0;\n",
              "      width: 32px;\n",
              "    }\n",
              "\n",
              "    .colab-df-convert:hover {\n",
              "      background-color: #E2EBFA;\n",
              "      box-shadow: 0px 1px 2px rgba(60, 64, 67, 0.3), 0px 1px 3px 1px rgba(60, 64, 67, 0.15);\n",
              "      fill: #174EA6;\n",
              "    }\n",
              "\n",
              "    .colab-df-buttons div {\n",
              "      margin-bottom: 4px;\n",
              "    }\n",
              "\n",
              "    [theme=dark] .colab-df-convert {\n",
              "      background-color: #3B4455;\n",
              "      fill: #D2E3FC;\n",
              "    }\n",
              "\n",
              "    [theme=dark] .colab-df-convert:hover {\n",
              "      background-color: #434B5C;\n",
              "      box-shadow: 0px 1px 3px 1px rgba(0, 0, 0, 0.15);\n",
              "      filter: drop-shadow(0px 1px 2px rgba(0, 0, 0, 0.3));\n",
              "      fill: #FFFFFF;\n",
              "    }\n",
              "  </style>\n",
              "\n",
              "    <script>\n",
              "      const buttonEl =\n",
              "        document.querySelector('#df-a0618aa4-e0fd-4f43-96bf-f37c100282da button.colab-df-convert');\n",
              "      buttonEl.style.display =\n",
              "        google.colab.kernel.accessAllowed ? 'block' : 'none';\n",
              "\n",
              "      async function convertToInteractive(key) {\n",
              "        const element = document.querySelector('#df-a0618aa4-e0fd-4f43-96bf-f37c100282da');\n",
              "        const dataTable =\n",
              "          await google.colab.kernel.invokeFunction('convertToInteractive',\n",
              "                                                    [key], {});\n",
              "        if (!dataTable) return;\n",
              "\n",
              "        const docLinkHtml = 'Like what you see? Visit the ' +\n",
              "          '<a target=\"_blank\" href=https://colab.research.google.com/notebooks/data_table.ipynb>data table notebook</a>'\n",
              "          + ' to learn more about interactive tables.';\n",
              "        element.innerHTML = '';\n",
              "        dataTable['output_type'] = 'display_data';\n",
              "        await google.colab.output.renderOutput(dataTable, element);\n",
              "        const docLink = document.createElement('div');\n",
              "        docLink.innerHTML = docLinkHtml;\n",
              "        element.appendChild(docLink);\n",
              "      }\n",
              "    </script>\n",
              "  </div>\n",
              "\n",
              "\n",
              "<div id=\"df-60b21981-b861-4bb8-9081-4eec32752b7e\">\n",
              "  <button class=\"colab-df-quickchart\" onclick=\"quickchart('df-60b21981-b861-4bb8-9081-4eec32752b7e')\"\n",
              "            title=\"Suggest charts\"\n",
              "            style=\"display:none;\">\n",
              "\n",
              "<svg xmlns=\"http://www.w3.org/2000/svg\" height=\"24px\"viewBox=\"0 0 24 24\"\n",
              "     width=\"24px\">\n",
              "    <g>\n",
              "        <path d=\"M19 3H5c-1.1 0-2 .9-2 2v14c0 1.1.9 2 2 2h14c1.1 0 2-.9 2-2V5c0-1.1-.9-2-2-2zM9 17H7v-7h2v7zm4 0h-2V7h2v10zm4 0h-2v-4h2v4z\"/>\n",
              "    </g>\n",
              "</svg>\n",
              "  </button>\n",
              "\n",
              "<style>\n",
              "  .colab-df-quickchart {\n",
              "      --bg-color: #E8F0FE;\n",
              "      --fill-color: #1967D2;\n",
              "      --hover-bg-color: #E2EBFA;\n",
              "      --hover-fill-color: #174EA6;\n",
              "      --disabled-fill-color: #AAA;\n",
              "      --disabled-bg-color: #DDD;\n",
              "  }\n",
              "\n",
              "  [theme=dark] .colab-df-quickchart {\n",
              "      --bg-color: #3B4455;\n",
              "      --fill-color: #D2E3FC;\n",
              "      --hover-bg-color: #434B5C;\n",
              "      --hover-fill-color: #FFFFFF;\n",
              "      --disabled-bg-color: #3B4455;\n",
              "      --disabled-fill-color: #666;\n",
              "  }\n",
              "\n",
              "  .colab-df-quickchart {\n",
              "    background-color: var(--bg-color);\n",
              "    border: none;\n",
              "    border-radius: 50%;\n",
              "    cursor: pointer;\n",
              "    display: none;\n",
              "    fill: var(--fill-color);\n",
              "    height: 32px;\n",
              "    padding: 0;\n",
              "    width: 32px;\n",
              "  }\n",
              "\n",
              "  .colab-df-quickchart:hover {\n",
              "    background-color: var(--hover-bg-color);\n",
              "    box-shadow: 0 1px 2px rgba(60, 64, 67, 0.3), 0 1px 3px 1px rgba(60, 64, 67, 0.15);\n",
              "    fill: var(--button-hover-fill-color);\n",
              "  }\n",
              "\n",
              "  .colab-df-quickchart-complete:disabled,\n",
              "  .colab-df-quickchart-complete:disabled:hover {\n",
              "    background-color: var(--disabled-bg-color);\n",
              "    fill: var(--disabled-fill-color);\n",
              "    box-shadow: none;\n",
              "  }\n",
              "\n",
              "  .colab-df-spinner {\n",
              "    border: 2px solid var(--fill-color);\n",
              "    border-color: transparent;\n",
              "    border-bottom-color: var(--fill-color);\n",
              "    animation:\n",
              "      spin 1s steps(1) infinite;\n",
              "  }\n",
              "\n",
              "  @keyframes spin {\n",
              "    0% {\n",
              "      border-color: transparent;\n",
              "      border-bottom-color: var(--fill-color);\n",
              "      border-left-color: var(--fill-color);\n",
              "    }\n",
              "    20% {\n",
              "      border-color: transparent;\n",
              "      border-left-color: var(--fill-color);\n",
              "      border-top-color: var(--fill-color);\n",
              "    }\n",
              "    30% {\n",
              "      border-color: transparent;\n",
              "      border-left-color: var(--fill-color);\n",
              "      border-top-color: var(--fill-color);\n",
              "      border-right-color: var(--fill-color);\n",
              "    }\n",
              "    40% {\n",
              "      border-color: transparent;\n",
              "      border-right-color: var(--fill-color);\n",
              "      border-top-color: var(--fill-color);\n",
              "    }\n",
              "    60% {\n",
              "      border-color: transparent;\n",
              "      border-right-color: var(--fill-color);\n",
              "    }\n",
              "    80% {\n",
              "      border-color: transparent;\n",
              "      border-right-color: var(--fill-color);\n",
              "      border-bottom-color: var(--fill-color);\n",
              "    }\n",
              "    90% {\n",
              "      border-color: transparent;\n",
              "      border-bottom-color: var(--fill-color);\n",
              "    }\n",
              "  }\n",
              "</style>\n",
              "\n",
              "  <script>\n",
              "    async function quickchart(key) {\n",
              "      const quickchartButtonEl =\n",
              "        document.querySelector('#' + key + ' button');\n",
              "      quickchartButtonEl.disabled = true;  // To prevent multiple clicks.\n",
              "      quickchartButtonEl.classList.add('colab-df-spinner');\n",
              "      try {\n",
              "        const charts = await google.colab.kernel.invokeFunction(\n",
              "            'suggestCharts', [key], {});\n",
              "      } catch (error) {\n",
              "        console.error('Error during call to suggestCharts:', error);\n",
              "      }\n",
              "      quickchartButtonEl.classList.remove('colab-df-spinner');\n",
              "      quickchartButtonEl.classList.add('colab-df-quickchart-complete');\n",
              "    }\n",
              "    (() => {\n",
              "      let quickchartButtonEl =\n",
              "        document.querySelector('#df-60b21981-b861-4bb8-9081-4eec32752b7e button');\n",
              "      quickchartButtonEl.style.display =\n",
              "        google.colab.kernel.accessAllowed ? 'block' : 'none';\n",
              "    })();\n",
              "  </script>\n",
              "</div>\n",
              "    </div>\n",
              "  </div>\n"
            ],
            "application/vnd.google.colaboratory.intrinsic+json": {
              "type": "dataframe",
              "variable_name": "df",
              "summary": "{\n  \"name\": \"df\",\n  \"rows\": 375,\n  \"fields\": [\n    {\n      \"column\": \"Age\",\n      \"properties\": {\n        \"dtype\": \"number\",\n        \"std\": 7.050146337164603,\n        \"min\": 23.0,\n        \"max\": 53.0,\n        \"num_unique_values\": 32,\n        \"samples\": [\n          23.0,\n          33.0,\n          24.0\n        ],\n        \"semantic_type\": \"\",\n        \"description\": \"\"\n      }\n    },\n    {\n      \"column\": \"Years of Experience\",\n      \"properties\": {\n        \"dtype\": \"number\",\n        \"std\": 6.539451530248433,\n        \"min\": 0.0,\n        \"max\": 25.0,\n        \"num_unique_values\": 29,\n        \"samples\": [\n          1.5,\n          19.0,\n          14.0\n        ],\n        \"semantic_type\": \"\",\n        \"description\": \"\"\n      }\n    },\n    {\n      \"column\": \"Salary\",\n      \"properties\": {\n        \"dtype\": \"number\",\n        \"std\": 48110.85658750964,\n        \"min\": 350.0,\n        \"max\": 250000.0,\n        \"num_unique_values\": 37,\n        \"samples\": [\n          180000.0,\n          40000.0,\n          200000.0\n        ],\n        \"semantic_type\": \"\",\n        \"description\": \"\"\n      }\n    },\n    {\n      \"column\": \"AgeCategory\",\n      \"properties\": {\n        \"dtype\": \"number\",\n        \"std\": 0,\n        \"min\": 1,\n        \"max\": 1,\n        \"num_unique_values\": 1,\n        \"samples\": [\n          1\n        ],\n        \"semantic_type\": \"\",\n        \"description\": \"\"\n      }\n    },\n    {\n      \"column\": \"AgeCategory_1\",\n      \"properties\": {\n        \"dtype\": \"uint8\",\n        \"num_unique_values\": 1,\n        \"samples\": [\n          1\n        ],\n        \"semantic_type\": \"\",\n        \"description\": \"\"\n      }\n    },\n    {\n      \"column\": \"AgeCategory_1\",\n      \"properties\": {\n        \"dtype\": \"uint8\",\n        \"num_unique_values\": 1,\n        \"samples\": [\n          1\n        ],\n        \"semantic_type\": \"\",\n        \"description\": \"\"\n      }\n    },\n    {\n      \"column\": \"AgeCategory_1\",\n      \"properties\": {\n        \"dtype\": \"uint8\",\n        \"num_unique_values\": 1,\n        \"samples\": [\n          1\n        ],\n        \"semantic_type\": \"\",\n        \"description\": \"\"\n      }\n    },\n    {\n      \"column\": \"Gender_Female\",\n      \"properties\": {\n        \"dtype\": \"uint8\",\n        \"num_unique_values\": 2,\n        \"samples\": [\n          1\n        ],\n        \"semantic_type\": \"\",\n        \"description\": \"\"\n      }\n    },\n    {\n      \"column\": \"Gender_Male\",\n      \"properties\": {\n        \"dtype\": \"uint8\",\n        \"num_unique_values\": 2,\n        \"samples\": [\n          0\n        ],\n        \"semantic_type\": \"\",\n        \"description\": \"\"\n      }\n    },\n    {\n      \"column\": \"Gender_Female\",\n      \"properties\": {\n        \"dtype\": \"uint8\",\n        \"num_unique_values\": 2,\n        \"samples\": [\n          1\n        ],\n        \"semantic_type\": \"\",\n        \"description\": \"\"\n      }\n    },\n    {\n      \"column\": \"Gender_Male\",\n      \"properties\": {\n        \"dtype\": \"uint8\",\n        \"num_unique_values\": 2,\n        \"samples\": [\n          0\n        ],\n        \"semantic_type\": \"\",\n        \"description\": \"\"\n      }\n    },\n    {\n      \"column\": \"Education Level_Bachelor's\",\n      \"properties\": {\n        \"dtype\": \"uint8\",\n        \"num_unique_values\": 2,\n        \"samples\": [\n          0\n        ],\n        \"semantic_type\": \"\",\n        \"description\": \"\"\n      }\n    },\n    {\n      \"column\": \"Education Level_Master's\",\n      \"properties\": {\n        \"dtype\": \"uint8\",\n        \"num_unique_values\": 2,\n        \"samples\": [\n          1\n        ],\n        \"semantic_type\": \"\",\n        \"description\": \"\"\n      }\n    },\n    {\n      \"column\": \"Education Level_PhD\",\n      \"properties\": {\n        \"dtype\": \"uint8\",\n        \"num_unique_values\": 2,\n        \"samples\": [\n          1\n        ],\n        \"semantic_type\": \"\",\n        \"description\": \"\"\n      }\n    }\n  ]\n}"
            }
          },
          "metadata": {},
          "execution_count": 198
        }
      ]
    },
    {
      "cell_type": "markdown",
      "source": [
        "Setelah kedua kolom tersebut di-transformasikan menggunakan one-hot encoding, hasilnya adalah dataframe baru dengan tambahan kolom-kolom biner yang merepresentasikan kategori usia dan jenis kelamin dari setiap responden. Hal ini mempermudah analisis dan pemodelan data, terutama ketika menggunakan algoritma pembelajaran mesin yang memerlukan fitur-fitur dalam bentuk biner."
      ],
      "metadata": {
        "id": "BXMALKl7N57H"
      }
    },
    {
      "cell_type": "code",
      "source": [
        "from google.colab import drive\n",
        "drive.mount('/content/drive')\n",
        "\n",
        "# Simpan DataFrame sebagai file CSV\n",
        "df.to_csv('/content/drive/My Drive/Data Cleaned.csv', index=False)"
      ],
      "metadata": {
        "colab": {
          "base_uri": "https://localhost:8080/"
        },
        "id": "vnuStOyQOZkL",
        "outputId": "77b34415-537c-4041-e2eb-b15b236c1261"
      },
      "execution_count": 209,
      "outputs": [
        {
          "output_type": "stream",
          "name": "stdout",
          "text": [
            "Mounted at /content/drive\n"
          ]
        }
      ]
    }
  ]
}