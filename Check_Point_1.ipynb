{
  "nbformat": 4,
  "nbformat_minor": 0,
  "metadata": {
    "colab": {
      "provenance": [],
      "collapsed_sections": [
        "Qwkz7a8ZSegr",
        "ip3RJHJ47r0G",
        "R_Zdrs6o74F_",
        "iS7ovZo377Nc",
        "q3Up51pm796L",
        "U_RRcmcCJa4D",
        "eRStvZN88L3h",
        "6Amqn7kwzIrA",
        "sJmdqDAf0B-5",
        "q5hGWQv32-7e",
        "RHI4J21Z4CER",
        "VNMz6JBO4YC_",
        "-N1z5Cu_4bNy"
      ],
      "mount_file_id": "1tBLqGpc5Ys8XD8UFAXW5mK1ghalohMsK",
      "authorship_tag": "ABX9TyOznekmX5U4q6xvikeOYMzg",
      "include_colab_link": true
    },
    "kernelspec": {
      "name": "python3",
      "display_name": "Python 3"
    },
    "language_info": {
      "name": "python"
    }
  },
  "cells": [
    {
      "cell_type": "markdown",
      "metadata": {
        "id": "view-in-github",
        "colab_type": "text"
      },
      "source": [
        "<a href=\"https://colab.research.google.com/github/Udinkosd/Data-Mining-2024/blob/main/Check_Point_1.ipynb\" target=\"_parent\"><img src=\"https://colab.research.google.com/assets/colab-badge.svg\" alt=\"Open In Colab\"/></a>"
      ]
    },
    {
      "cell_type": "markdown",
      "source": [
        "# Prediksi Gaji Mahasiswa"
      ],
      "metadata": {
        "id": "kWmpEG1iR7Pf"
      }
    },
    {
      "cell_type": "markdown",
      "source": [
        "#**BUSINESS UNDERSTANDING**"
      ],
      "metadata": {
        "id": "Qwkz7a8ZSegr"
      }
    },
    {
      "cell_type": "markdown",
      "source": [
        "##**Business Objective**"
      ],
      "metadata": {
        "id": "48Y69K1H7OpS"
      }
    },
    {
      "cell_type": "markdown",
      "source": [
        "Tujuan bisnis dari analisis dataset ini adalah untuk memperoleh wawasan tentang faktor-faktor yang memengaruhi gaji karyawan dalam perusahaan. Dengan memeriksa hubungan antara berbagai atribut seperti usia, jenis kelamin, tingkat pendidikan, jabatan pekerjaan, dan tahun pengalaman dengan gaji, perusahaan bertujuan untuk membuat keputusan yang berbasis informasi mengenai strategi kompensasi, akuisisi bakat, dan retensi karyawan."
      ],
      "metadata": {
        "id": "t9jh3dOhSmCT"
      }
    },
    {
      "cell_type": "markdown",
      "source": [
        "##**Assess Situation**"
      ],
      "metadata": {
        "id": "UZo_NZJJ7fTs"
      }
    },
    {
      "cell_type": "markdown",
      "source": [
        "Perusahaan perlu memahami faktor-faktor yang berkontribusi terhadap gaji karyawan untuk memastikan praktik kompensasi yang adil, mengidentifikasi area yang perlu ditingkatkan dalam struktur gaji, dan mengatasi potensi disparitas atau bias yang mungkin ada dalam organisasi."
      ],
      "metadata": {
        "id": "rALAMQbY7hnV"
      }
    },
    {
      "cell_type": "markdown",
      "source": [
        "##**Data Mining Goals**"
      ],
      "metadata": {
        "id": "Pkt54CSp7mMx"
      }
    },
    {
      "cell_type": "markdown",
      "source": [
        "1. Mengidentifikasi faktor-faktor kunci yang memengaruhi gaji karyawan.\n",
        "2. Menjelajahi hubungan antara berbagai atribut seperti usia, jenis kelamin, tingkat pendidikan, jabatan pekerjaan, dan tahun pengalaman dengan gaji.\n",
        "3. Mendeteksi pola atau tren dalam distribusi gaji di dalam perusahaan.\n",
        "4. Mengembangkan model prediktif untuk memperkirakan rentang gaji berdasarkan karakteristik karyawan."
      ],
      "metadata": {
        "id": "5etpYdBB7or_"
      }
    },
    {
      "cell_type": "markdown",
      "source": [
        "##**Project Plan**"
      ],
      "metadata": {
        "id": "ip3RJHJ47r0G"
      }
    },
    {
      "cell_type": "markdown",
      "source": [
        "1. Pengumpulan Data: Mengumpulkan dataset yang berisi informasi tentang gaji karyawan, termasuk usia, jenis kelamin, tingkat pendidikan, jabatan pekerjaan, tahun pengalaman, dan gaji.\n",
        "2. Pra-Pemrosesan Data: Membersihkan data dengan menangani nilai yang hilang, mengkodekan variabel kategorikal, dan menstandarisasi fitur numerik jika diperlukan.\n",
        "3. Analisis Data Eksploratif (EDA): Melakukan analisis eksploratif untuk memahami distribusi variabel, mengidentifikasi pencilan, dan memvisualisasikan hubungan antara berbagai atribut dengan gaji.\n",
        "4. Interpretasi dan Wawasan: Menginterpretasikan hasil untuk mendapatkan wawasan yang dapat diambil tentang faktor-faktor yang memengaruhi gaji karyawan dan menyampaikan temuan kepada pemangku kepentingan yang relevan untuk tujuan pengambilan keputusan."
      ],
      "metadata": {
        "id": "OkIpR8N77wwQ"
      }
    }
  ]
}